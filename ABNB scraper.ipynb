{
 "cells": [
  {
   "cell_type": "markdown",
   "metadata": {},
   "source": [
    "<img src='Abnb_logo.jpg'>"
   ]
  },
  {
   "cell_type": "code",
   "execution_count": 46,
   "metadata": {},
   "outputs": [],
   "source": [
    "import requests\n",
    "from bs4 import BeautifulSoup\n",
    "import time"
   ]
  },
  {
   "cell_type": "code",
   "execution_count": 3,
   "metadata": {},
   "outputs": [],
   "source": [
    "url = \"https://www.airbnb.com.pe/s/Paris/homes?tab_id=home_tab&refinement_paths%5B%5D=%2Fhomes&flexible_trip_lengths%5B%5D=one_week&price_filter_input_type=0&price_filter_num_nights=5&query=Par%C3%ADs%2C%20Francia&place_id=ChIJD7fiBh9u5kcRYJSMaMOCCwQ&date_picker_type=calendar&checkin=2023-04-19&checkout=2023-04-22&adults=1&source=structured_search_input_header&search_type=autocomplete_click\"\n",
    "\n",
    "r = requests.get(url)\n",
    "\n",
    "r.status_code\n",
    "\n",
    "s = BeautifulSoup(r.text,'lxml')\n",
    "\n",
    "\n",
    "from selenium import webdriver\n",
    "from selenium.webdriver import Keys\n",
    "from selenium.webdriver.support.ui import Select\n",
    "from selenium.webdriver.common.by import By"
   ]
  },
  {
   "cell_type": "code",
   "execution_count": 4,
   "metadata": {},
   "outputs": [
    {
     "name": "stderr",
     "output_type": "stream",
     "text": [
      "<ipython-input-4-1fd30b10088d>:4: DeprecationWarning: executable_path has been deprecated, please pass in a Service object\n",
      "  driver = webdriver.Chrome(executable_path=r\"F:\\\\Chrome driver\\\\chromedriver.exe\", options = options)\n"
     ]
    }
   ],
   "source": [
    "options = webdriver.ChromeOptions()\n",
    "options.add_argument(\"--incognito\")\n",
    "\n",
    "driver = webdriver.Chrome(executable_path=r\"F:\\\\Chrome driver\\\\chromedriver.exe\", options = options)\n",
    "\n",
    "driver.get(url)"
   ]
  },
  {
   "cell_type": "code",
   "execution_count": 194,
   "metadata": {},
   "outputs": [
    {
     "ename": "SyntaxError",
     "evalue": "unexpected EOF while parsing (<ipython-input-194-5d8a6e416021>, line 33)",
     "output_type": "error",
     "traceback": [
      "\u001b[1;36m  File \u001b[1;32m\"<ipython-input-194-5d8a6e416021>\"\u001b[1;36m, line \u001b[1;32m33\u001b[0m\n\u001b[1;33m    \u001b[0m\n\u001b[1;37m    ^\u001b[0m\n\u001b[1;31mSyntaxError\u001b[0m\u001b[1;31m:\u001b[0m unexpected EOF while parsing\n"
     ]
    }
   ],
   "source": [
    "def obtener_info():\n",
    "    \"\"\"\n",
    "    funchon que retorna lista de dicc con info de escalas p\n",
    "    \"\"\"\n",
    "    titles = []\n",
    "    precios = []\n",
    "    precios_noche = []\n",
    "    camas = []\n",
    "    hallazgos = []\n",
    "    \n",
    "    rates = []\n",
    "    cantidad_rates_airbnb = []\n",
    "    \n",
    "    ### Este es el bloque dond se sencuentra tiulo, precio, camas rate etc\n",
    "    bloques = driver.find_elements(By.XPATH, \"//div[@class='g1qv1ctd cb4nyux dir dir-ltr']\")\n",
    "    bloques = bloques[:4]\n",
    "    \n",
    "    ### Este es e bloque dodne se enecuntra HALLAGOS\n",
    "    bloques_hallazgo = driver.find_elements(By.XPATH, \"//div[@class='c14dgvke dir dir-ltr']\")\n",
    "    bloques_hallazgo = bloques_hallazgo[:4]\n",
    "    \n",
    "    \n",
    "    ## para bloque en bloquese encontramos titulo, rpecio, etc\n",
    "    for x in bloques:   \n",
    "        time.sleep(1)\n",
    "        precio_total = x.find_element(By.XPATH, \".//div[@class='_tt122m']\")\n",
    "        precio_total = precio_total.find_element(By.XPATH, \".//span[@aria-hidden='true']\")\n",
    "        precio_total = precio_total.text\n",
    "        \n",
    "        precio_total = precio_total.split()\n",
    "        vaina_1 = precio_total[0]\n",
    "        vaina_2 = vaina_1[2:]\n",
    "\n",
    "        # Tienes que eliminar las comas de los precios \n",
    "\n",
    "        coma=[\",\",\"S\",\"$\",\"U\",\"/\"]\n",
    "        res=[j for i,j in enumerate(vaina_2) if j not in coma]\n",
    "        price = \"\".join(res)\n",
    "        price = int(price)\n",
    "        \n",
    "        time.sleep(1.6)\n",
    "                \n",
    "        \n",
    "        \n",
    "                ### precio x noche, ya que este a veces no se encuentra usamos un TRY\n",
    "        try: \n",
    "            precio_noche = x.find_element(By.XPATH, \".//span[@class='_tyxjp1']\")\n",
    "            time.sleep(0.6)\n",
    "            precio_noche = precio_noche.text\n",
    "            precio_noche = precio_noche.split()\n",
    "            vaina_1_n = precio_noche[0]\n",
    "        except:\n",
    "            precio_noche = x.find_element(By.XPATH, \".//span[@class='_1y74zjx']\")\n",
    "            time.sleep(0.6)\n",
    "            precio_noche = precio_noche.text\n",
    "            precio_noche = precio_noche.split()\n",
    "            vaina_1_n = precio_noche[0]\n",
    "        \n",
    "        #### OJO todo depende de la moneda en la que esté la vaina esta, si está en euro o sol peude que sea diferente\n",
    "        vaina_2_n = vaina_1_n[2:]\n",
    "\n",
    "        # Tienes que eliminar las comas de los precios \n",
    "\n",
    "        coma=[\",\",\"S\",\"$\",\"U\",\"/\"]\n",
    "        res=[j for i,j in enumerate(vaina_2) if j not in coma]\n",
    "        price_n = \"\".join(res)\n",
    "        price_n = int(price_n)\n",
    "        \n",
    "        time.sleep(1)\n",
    "        \n",
    "        cama = x.find_element(By.XPATH, \".//div[@class='f15liw5s s1cjsi4j dir dir-ltr'][2]\")\n",
    "        cama = cama.find_element(By.XPATH, \".//span[@class=' dir dir-ltr']\")\n",
    "        cama = cama.text\n",
    "        cama = cama.split()\n",
    "        cama = cama[0]\n",
    "        time.sleep(1)\n",
    "\n",
    "        title = x.find_element(By.XPATH, \".//div[@data-testid='listing-card-title']\")\n",
    "        title = title.text\n",
    "        time.sleep(1)\n",
    "        \n",
    "        ## como algunos son neuvos no tienen rates\n",
    "        try: \n",
    "            rate = x.find_element(By.XPATH, \".//span[@class='r1dxllyb dir dir-ltr']\")\n",
    "            rate = rate.text\n",
    "            rate = rate.split()\n",
    "            rate_1 = rate[0]\n",
    "            rate_1 = float(rate_1)\n",
    "            cantidad_rates = rate[1]\n",
    "            \n",
    "            coma=[\",\",\"(\",\")\",\"U\",\"/\"]\n",
    "            res=[j for i,j in enumerate(cantidad_rates) if j not in coma]\n",
    "            cantidad_rates = \"\".join(res)\n",
    "            cantidad_rates = int(cantidad_rates)\n",
    "            \n",
    "            cantidad_rates_airbnb.append(cantidad_rates)\n",
    "            time.sleep(0.6)\n",
    "            rates.append(rate_1)\n",
    "            time.sleep(0.6)\n",
    "            \n",
    "        except:\n",
    "            cantidad_rates_airbnb.append(\"Nuevo\")\n",
    "            time.sleep(0.6)\n",
    "            rates.append(\"Nuevo\")\n",
    "            time.sleep(0.6)\n",
    "                \n",
    "        titles.append(title)\n",
    "        time.sleep(0.6)\n",
    "        \n",
    "        precios.append(price)        \n",
    "        time.sleep(0.6)\n",
    "        \n",
    "        precios_noche.append(price_n)        \n",
    "        time.sleep(0.6)\n",
    "        \n",
    "        camas.append(cama)        \n",
    "        time.sleep(0.6)\n",
    "        \n",
    "\n",
    "        ## como los hallazgos estna en otor loque uso ese bloque\n",
    "    for z in bloques_hallazgo:\n",
    "        time.sleep(0.6)\n",
    "        try:\n",
    "            time.sleep(0.6)\n",
    "            hallazgo_a = z.find_element(By.XPATH, \".//div[@class='t1mwk1n0 dir dir-ltr']\")\n",
    "            time.sleep(0.7)\n",
    "            hallazgo_a = hallazgo_a.text\n",
    "            time.sleep(0.7)\n",
    "            hallazgos.append(hallazgo_a)\n",
    "            \n",
    "        except: \n",
    "            time.sleep(0.6)\n",
    "            hallazgos.append(None)\n",
    "            time.sleep(0.6)\n",
    "            pass\n",
    "            "
   ]
  },
  {
   "cell_type": "code",
   "execution_count": 37,
   "metadata": {
    "scrolled": true
   },
   "outputs": [],
   "source": [
    "bloques = driver.find_elements(By.XPATH, \"//div[@class='g1qv1ctd cb4nyux dir dir-ltr']\")"
   ]
  },
  {
   "cell_type": "code",
   "execution_count": 38,
   "metadata": {},
   "outputs": [
    {
     "data": {
      "text/plain": [
       "18"
      ]
     },
     "execution_count": 38,
     "metadata": {},
     "output_type": "execute_result"
    }
   ],
   "source": [
    "len(bloques)"
   ]
  },
  {
   "cell_type": "code",
   "execution_count": 54,
   "metadata": {},
   "outputs": [],
   "source": [
    "for x in bloques:   \n",
    "    precio_total = x.find_element(By.XPATH, \"//div[@class='_tt122m']\")\n",
    "    precio_total = precio_total.find_element(By.XPATH, \".//span[@aria-hidden='true']\")\n",
    "    precio_noche = x.find_element(By.XPATH, \"//span[@class='_tyxjp1']\")"
   ]
  },
  {
   "cell_type": "code",
   "execution_count": 55,
   "metadata": {},
   "outputs": [
    {
     "data": {
      "text/plain": [
       "'S/654 en total'"
      ]
     },
     "execution_count": 55,
     "metadata": {},
     "output_type": "execute_result"
    }
   ],
   "source": [
    "precio_total.text"
   ]
  },
  {
   "cell_type": "code",
   "execution_count": 56,
   "metadata": {},
   "outputs": [
    {
     "data": {
      "text/plain": [
       "'S/192 '"
      ]
     },
     "execution_count": 56,
     "metadata": {},
     "output_type": "execute_result"
    }
   ],
   "source": [
    "precio_noche.text"
   ]
  },
  {
   "cell_type": "code",
   "execution_count": 59,
   "metadata": {},
   "outputs": [],
   "source": [
    "for x in bloques:   \n",
    "    cama = x.find_element(By.XPATH, \"//div[@class='f15liw5s s1cjsi4j dir dir-ltr'][2]\")\n",
    "    cama = cama.find_element(By.XPATH, \".//span[@class=' dir dir-ltr']\")"
   ]
  },
  {
   "cell_type": "code",
   "execution_count": 60,
   "metadata": {},
   "outputs": [
    {
     "data": {
      "text/plain": [
       "'1 cama individual'"
      ]
     },
     "execution_count": 60,
     "metadata": {},
     "output_type": "execute_result"
    }
   ],
   "source": [
    "cama.text"
   ]
  },
  {
   "cell_type": "code",
   "execution_count": 62,
   "metadata": {},
   "outputs": [],
   "source": [
    "bloque_scrapear = bloques[1]"
   ]
  },
  {
   "cell_type": "code",
   "execution_count": 73,
   "metadata": {},
   "outputs": [],
   "source": [
    "title = bloque_scrapear.find_element(By.XPATH, \".//div[@data-testid='listing-card-title']\")"
   ]
  },
  {
   "cell_type": "code",
   "execution_count": 74,
   "metadata": {},
   "outputs": [
    {
     "data": {
      "text/plain": [
       "'Habitación privada en París'"
      ]
     },
     "execution_count": 74,
     "metadata": {},
     "output_type": "execute_result"
    }
   ],
   "source": [
    "title.text"
   ]
  },
  {
   "cell_type": "code",
   "execution_count": 75,
   "metadata": {},
   "outputs": [],
   "source": [
    "rate = bloque_scrapear.find_element(By.XPATH, \".//span[@class='r1dxllyb dir dir-ltr']\")\n"
   ]
  },
  {
   "cell_type": "code",
   "execution_count": 76,
   "metadata": {},
   "outputs": [
    {
     "data": {
      "text/plain": [
       "'4.67 (111)'"
      ]
     },
     "execution_count": 76,
     "metadata": {},
     "output_type": "execute_result"
    }
   ],
   "source": [
    "rate.text"
   ]
  },
  {
   "cell_type": "code",
   "execution_count": 71,
   "metadata": {
    "collapsed": true
   },
   "outputs": [
    {
     "ename": "NoSuchElementException",
     "evalue": "Message: no such element: Unable to locate element: {\"method\":\"xpath\",\"selector\":\".//div[@class='t1mwk1n0 dir dir-ltr']\"}\n  (Session info: chrome=105.0.5195.102)\nStacktrace:\nBacktrace:\n\tOrdinal0 [0x0114DF13+2219795]\n\tOrdinal0 [0x010E2841+1779777]\n\tOrdinal0 [0x00FF423D+803389]\n\tOrdinal0 [0x01023025+995365]\n\tOrdinal0 [0x010231EB+995819]\n\tOrdinal0 [0x01019531+955697]\n\tOrdinal0 [0x0103E844+1108036]\n\tOrdinal0 [0x010194B4+955572]\n\tOrdinal0 [0x0103EA14+1108500]\n\tOrdinal0 [0x0104F192+1175954]\n\tOrdinal0 [0x0103E616+1107478]\n\tOrdinal0 [0x01017F89+950153]\n\tOrdinal0 [0x01018F56+954198]\n\tGetHandleVerifier [0x01442CB2+3040210]\n\tGetHandleVerifier [0x01432BB4+2974420]\n\tGetHandleVerifier [0x011E6A0A+565546]\n\tGetHandleVerifier [0x011E5680+560544]\n\tOrdinal0 [0x010E9A5C+1808988]\n\tOrdinal0 [0x010EE3A8+1827752]\n\tOrdinal0 [0x010EE495+1827989]\n\tOrdinal0 [0x010F80A4+1867940]\n\tBaseThreadInitThunk [0x765A00F9+25]\n\tRtlGetAppContainerNamedObjectPath [0x777D7BBE+286]\n\tRtlGetAppContainerNamedObjectPath [0x777D7B8E+238]\n",
     "output_type": "error",
     "traceback": [
      "\u001b[1;31m---------------------------------------------------------------------------\u001b[0m",
      "\u001b[1;31mNoSuchElementException\u001b[0m                    Traceback (most recent call last)",
      "\u001b[1;32m<ipython-input-71-320478b237e4>\u001b[0m in \u001b[0;36m<module>\u001b[1;34m\u001b[0m\n\u001b[1;32m----> 1\u001b[1;33m \u001b[0mhallazgo_\u001b[0m \u001b[1;33m=\u001b[0m \u001b[0mbloque_scrapear\u001b[0m\u001b[1;33m.\u001b[0m\u001b[0mfind_element\u001b[0m\u001b[1;33m(\u001b[0m\u001b[0mBy\u001b[0m\u001b[1;33m.\u001b[0m\u001b[0mXPATH\u001b[0m\u001b[1;33m,\u001b[0m \u001b[1;34m\".//div[@class='t1mwk1n0 dir dir-ltr']\"\u001b[0m\u001b[1;33m)\u001b[0m\u001b[1;33m\u001b[0m\u001b[1;33m\u001b[0m\u001b[0m\n\u001b[0m",
      "\u001b[1;32m~\\anaconda3\\lib\\site-packages\\selenium\\webdriver\\remote\\webelement.py\u001b[0m in \u001b[0;36mfind_element\u001b[1;34m(self, by, value)\u001b[0m\n\u001b[0;32m    417\u001b[0m             \u001b[0mvalue\u001b[0m \u001b[1;33m=\u001b[0m \u001b[1;34m'[name=\"%s\"]'\u001b[0m \u001b[1;33m%\u001b[0m \u001b[0mvalue\u001b[0m\u001b[1;33m\u001b[0m\u001b[1;33m\u001b[0m\u001b[0m\n\u001b[0;32m    418\u001b[0m \u001b[1;33m\u001b[0m\u001b[0m\n\u001b[1;32m--> 419\u001b[1;33m         return self._execute(Command.FIND_CHILD_ELEMENT,\n\u001b[0m\u001b[0;32m    420\u001b[0m                              {\"using\": by, \"value\": value})['value']\n\u001b[0;32m    421\u001b[0m \u001b[1;33m\u001b[0m\u001b[0m\n",
      "\u001b[1;32m~\\anaconda3\\lib\\site-packages\\selenium\\webdriver\\remote\\webelement.py\u001b[0m in \u001b[0;36m_execute\u001b[1;34m(self, command, params)\u001b[0m\n\u001b[0;32m    394\u001b[0m             \u001b[0mparams\u001b[0m \u001b[1;33m=\u001b[0m \u001b[1;33m{\u001b[0m\u001b[1;33m}\u001b[0m\u001b[1;33m\u001b[0m\u001b[1;33m\u001b[0m\u001b[0m\n\u001b[0;32m    395\u001b[0m         \u001b[0mparams\u001b[0m\u001b[1;33m[\u001b[0m\u001b[1;34m'id'\u001b[0m\u001b[1;33m]\u001b[0m \u001b[1;33m=\u001b[0m \u001b[0mself\u001b[0m\u001b[1;33m.\u001b[0m\u001b[0m_id\u001b[0m\u001b[1;33m\u001b[0m\u001b[1;33m\u001b[0m\u001b[0m\n\u001b[1;32m--> 396\u001b[1;33m         \u001b[1;32mreturn\u001b[0m \u001b[0mself\u001b[0m\u001b[1;33m.\u001b[0m\u001b[0m_parent\u001b[0m\u001b[1;33m.\u001b[0m\u001b[0mexecute\u001b[0m\u001b[1;33m(\u001b[0m\u001b[0mcommand\u001b[0m\u001b[1;33m,\u001b[0m \u001b[0mparams\u001b[0m\u001b[1;33m)\u001b[0m\u001b[1;33m\u001b[0m\u001b[1;33m\u001b[0m\u001b[0m\n\u001b[0m\u001b[0;32m    397\u001b[0m \u001b[1;33m\u001b[0m\u001b[0m\n\u001b[0;32m    398\u001b[0m     \u001b[1;32mdef\u001b[0m \u001b[0mfind_element\u001b[0m\u001b[1;33m(\u001b[0m\u001b[0mself\u001b[0m\u001b[1;33m,\u001b[0m \u001b[0mby\u001b[0m\u001b[1;33m=\u001b[0m\u001b[0mBy\u001b[0m\u001b[1;33m.\u001b[0m\u001b[0mID\u001b[0m\u001b[1;33m,\u001b[0m \u001b[0mvalue\u001b[0m\u001b[1;33m=\u001b[0m\u001b[1;32mNone\u001b[0m\u001b[1;33m)\u001b[0m \u001b[1;33m->\u001b[0m \u001b[0mWebElement\u001b[0m\u001b[1;33m:\u001b[0m\u001b[1;33m\u001b[0m\u001b[1;33m\u001b[0m\u001b[0m\n",
      "\u001b[1;32m~\\anaconda3\\lib\\site-packages\\selenium\\webdriver\\remote\\webdriver.py\u001b[0m in \u001b[0;36mexecute\u001b[1;34m(self, driver_command, params)\u001b[0m\n\u001b[0;32m    426\u001b[0m         \u001b[0mresponse\u001b[0m \u001b[1;33m=\u001b[0m \u001b[0mself\u001b[0m\u001b[1;33m.\u001b[0m\u001b[0mcommand_executor\u001b[0m\u001b[1;33m.\u001b[0m\u001b[0mexecute\u001b[0m\u001b[1;33m(\u001b[0m\u001b[0mdriver_command\u001b[0m\u001b[1;33m,\u001b[0m \u001b[0mparams\u001b[0m\u001b[1;33m)\u001b[0m\u001b[1;33m\u001b[0m\u001b[1;33m\u001b[0m\u001b[0m\n\u001b[0;32m    427\u001b[0m         \u001b[1;32mif\u001b[0m \u001b[0mresponse\u001b[0m\u001b[1;33m:\u001b[0m\u001b[1;33m\u001b[0m\u001b[1;33m\u001b[0m\u001b[0m\n\u001b[1;32m--> 428\u001b[1;33m             \u001b[0mself\u001b[0m\u001b[1;33m.\u001b[0m\u001b[0merror_handler\u001b[0m\u001b[1;33m.\u001b[0m\u001b[0mcheck_response\u001b[0m\u001b[1;33m(\u001b[0m\u001b[0mresponse\u001b[0m\u001b[1;33m)\u001b[0m\u001b[1;33m\u001b[0m\u001b[1;33m\u001b[0m\u001b[0m\n\u001b[0m\u001b[0;32m    429\u001b[0m             response['value'] = self._unwrap_value(\n\u001b[0;32m    430\u001b[0m                 response.get('value', None))\n",
      "\u001b[1;32m~\\anaconda3\\lib\\site-packages\\selenium\\webdriver\\remote\\errorhandler.py\u001b[0m in \u001b[0;36mcheck_response\u001b[1;34m(self, response)\u001b[0m\n\u001b[0;32m    241\u001b[0m                 \u001b[0malert_text\u001b[0m \u001b[1;33m=\u001b[0m \u001b[0mvalue\u001b[0m\u001b[1;33m[\u001b[0m\u001b[1;34m'alert'\u001b[0m\u001b[1;33m]\u001b[0m\u001b[1;33m.\u001b[0m\u001b[0mget\u001b[0m\u001b[1;33m(\u001b[0m\u001b[1;34m'text'\u001b[0m\u001b[1;33m)\u001b[0m\u001b[1;33m\u001b[0m\u001b[1;33m\u001b[0m\u001b[0m\n\u001b[0;32m    242\u001b[0m             \u001b[1;32mraise\u001b[0m \u001b[0mexception_class\u001b[0m\u001b[1;33m(\u001b[0m\u001b[0mmessage\u001b[0m\u001b[1;33m,\u001b[0m \u001b[0mscreen\u001b[0m\u001b[1;33m,\u001b[0m \u001b[0mstacktrace\u001b[0m\u001b[1;33m,\u001b[0m \u001b[0malert_text\u001b[0m\u001b[1;33m)\u001b[0m  \u001b[1;31m# type: ignore[call-arg]  # mypy is not smart enough here\u001b[0m\u001b[1;33m\u001b[0m\u001b[1;33m\u001b[0m\u001b[0m\n\u001b[1;32m--> 243\u001b[1;33m         \u001b[1;32mraise\u001b[0m \u001b[0mexception_class\u001b[0m\u001b[1;33m(\u001b[0m\u001b[0mmessage\u001b[0m\u001b[1;33m,\u001b[0m \u001b[0mscreen\u001b[0m\u001b[1;33m,\u001b[0m \u001b[0mstacktrace\u001b[0m\u001b[1;33m)\u001b[0m\u001b[1;33m\u001b[0m\u001b[1;33m\u001b[0m\u001b[0m\n\u001b[0m",
      "\u001b[1;31mNoSuchElementException\u001b[0m: Message: no such element: Unable to locate element: {\"method\":\"xpath\",\"selector\":\".//div[@class='t1mwk1n0 dir dir-ltr']\"}\n  (Session info: chrome=105.0.5195.102)\nStacktrace:\nBacktrace:\n\tOrdinal0 [0x0114DF13+2219795]\n\tOrdinal0 [0x010E2841+1779777]\n\tOrdinal0 [0x00FF423D+803389]\n\tOrdinal0 [0x01023025+995365]\n\tOrdinal0 [0x010231EB+995819]\n\tOrdinal0 [0x01019531+955697]\n\tOrdinal0 [0x0103E844+1108036]\n\tOrdinal0 [0x010194B4+955572]\n\tOrdinal0 [0x0103EA14+1108500]\n\tOrdinal0 [0x0104F192+1175954]\n\tOrdinal0 [0x0103E616+1107478]\n\tOrdinal0 [0x01017F89+950153]\n\tOrdinal0 [0x01018F56+954198]\n\tGetHandleVerifier [0x01442CB2+3040210]\n\tGetHandleVerifier [0x01432BB4+2974420]\n\tGetHandleVerifier [0x011E6A0A+565546]\n\tGetHandleVerifier [0x011E5680+560544]\n\tOrdinal0 [0x010E9A5C+1808988]\n\tOrdinal0 [0x010EE3A8+1827752]\n\tOrdinal0 [0x010EE495+1827989]\n\tOrdinal0 [0x010F80A4+1867940]\n\tBaseThreadInitThunk [0x765A00F9+25]\n\tRtlGetAppContainerNamedObjectPath [0x777D7BBE+286]\n\tRtlGetAppContainerNamedObjectPath [0x777D7B8E+238]\n"
     ]
    }
   ],
   "source": [
    "# para SUPERANFITRION O HALLAZGO EXCEPT       PON UN TRYYYYY\n",
    "hallazgo_ = bloque_scrapear.find_element(By.XPATH, \".//div[@class='t1mwk1n0 dir dir-ltr']\")"
   ]
  },
  {
   "cell_type": "code",
   "execution_count": 72,
   "metadata": {},
   "outputs": [
    {
     "data": {
      "text/plain": [
       "'Superanfitrión'"
      ]
     },
     "execution_count": 72,
     "metadata": {},
     "output_type": "execute_result"
    }
   ],
   "source": [
    "hallazgo_.text"
   ]
  },
  {
   "cell_type": "code",
   "execution_count": 112,
   "metadata": {},
   "outputs": [],
   "source": [
    "bloques_img = driver.find_elements(By.XPATH,\".//img[@class='_6tbg2q'][1]\")"
   ]
  },
  {
   "cell_type": "code",
   "execution_count": 113,
   "metadata": {},
   "outputs": [
    {
     "data": {
      "text/plain": [
       "18"
      ]
     },
     "execution_count": 113,
     "metadata": {},
     "output_type": "execute_result"
    }
   ],
   "source": [
    "len(bloques_img)"
   ]
  },
  {
   "cell_type": "code",
   "execution_count": 115,
   "metadata": {
    "scrolled": true
   },
   "outputs": [],
   "source": [
    "#image = bloques_img[0].find_element(By.XPATH,\".//img[@class='_6tbg2q']\")\n",
    "img_src = bloques_img[1].get_attribute(\"src\")"
   ]
  },
  {
   "cell_type": "code",
   "execution_count": 116,
   "metadata": {},
   "outputs": [
    {
     "data": {
      "text/plain": [
       "'https://a0.muscache.com/im/pictures/7b0d2248-9bb9-455f-a4e8-5be5bdc3b247.jpg?im_w=720'"
      ]
     },
     "execution_count": 116,
     "metadata": {},
     "output_type": "execute_result"
    }
   ],
   "source": [
    "img_src"
   ]
  },
  {
   "cell_type": "code",
   "execution_count": 117,
   "metadata": {},
   "outputs": [
    {
     "data": {
      "image/jpeg": "[encoded data removed]",
      "text/plain": [
       "<IPython.core.display.Image object>"
      ]
     },
     "metadata": {},
     "output_type": "display_data"
    }
   ],
   "source": [
    "from IPython.display import Image\n",
    "\n",
    "img_req = requests.get(img_src)\n",
    "\n",
    "display(Image(img_req.content))"
   ]
  },
  {
   "cell_type": "code",
   "execution_count": 110,
   "metadata": {
    "scrolled": true
   },
   "outputs": [],
   "source": [
    "from selenium.webdriver.support.ui import WebDriverWait\n",
    "from selenium.webdriver.common.by import By\n",
    "from selenium.webdriver.support import expected_conditions as EC\n",
    "\n",
    "#print(WebDriverWait(driver, 20).until(EC.visibility_of_element_located((By.XPATH, \"//div[@class='cjv59qb dir dir-ltr']/span[@class='_1h6n1zu']/img[@class='_6tbg2q']\"))).get_attribute(\"src\"))"
   ]
  },
  {
   "cell_type": "code",
   "execution_count": null,
   "metadata": {},
   "outputs": [],
   "source": []
  },
  {
   "cell_type": "code",
   "execution_count": 69,
   "metadata": {},
   "outputs": [],
   "source": [
    "def partes_llegas(lugar_partida):\n",
    "    \n",
    "    donde_partes = driver.find_element(By.XPATH, \"//div[@class='f1xx50dm dir dir-ltr']\")\n",
    "    donde_partes.click()\n",
    "    ## Le das a click en el boton donde dice \"en cualqueir lguar del mundo\" osea donde buscas el lugar donde vas a estar p\n",
    "    \n",
    "    time.sleep(0.7)\n",
    "    #ivycze5 dir dir-ltr\n",
    "    ### clcikeas en donde vas a escribir Just in case\n",
    "    escribe_donde = driver.find_element(By.XPATH, \"//input[@class='ivycze5 dir dir-ltr']\")\n",
    "    escribe_donde.click()\n",
    "    \n",
    "    lugars = lugar_partida\n",
    "    \n",
    "    ## Envias el nombre del lguar letra por letra\n",
    "    for character in lugars:\n",
    "        escribe_donde.send_keys(character)\n",
    "        time.sleep(0.3)\n",
    "    \n",
    "    # clcikeas la primera opción, también puedes hacer un match del lugar exacto \n",
    "    clickea_el_primero = driver.find_element(By.XPATH, \"//div[@class='_r1t6ga']\")\n",
    "    clickea_el_primero.click()\n"
   ]
  },
  {
   "cell_type": "code",
   "execution_count": 59,
   "metadata": {},
   "outputs": [],
   "source": [
    "def repetir_mes_llegada(mes,dia):\n",
    "    \n",
    "    # clcik  en el button FECHA llegada a la ciudad o lugar\n",
    "    # directamente se clickea, asi que aca no es necesario\n",
    "    \n",
    "    #departure_click = driver.find_element(By.XPATH, \"//input[@id='departureDate']\")\n",
    "    #departure_click.click()\n",
    "    #time.sleep(2)\n",
    "    \n",
    "    ## encotramos el boton par avanzar mes SIGUIENTE, este caos es el segundo, tambien est el arie-label  : Haz clic en la flecha de la derecha para cambiar al mes siguiente.\n",
    "    bloque_button = driver.find_element(By.XPATH, \"//div[@class='_qz9x4fc']\")\n",
    "    boton = bloque_button.find_element(By.XPATH, \".//button[@type='button']\")\n",
    "    ### mandamos el mes a LWOER\n",
    "    mes = str(mes.lower())\n",
    "    \n",
    "    ## Cogemos los meses que aparecen en la webpage una vez hacemos click en fechas, en desktop son 2 mese sque aparecen \n",
    "\n",
    "    meses_llegada = driver.find_elements(By.XPATH, \"//h2[@class='_14i3z6h']\")\n",
    "    time.sleep(1)\n",
    "    meses_llegada = meses_llegada[1:3]\n",
    "    meses_llegada_1 = []\n",
    "\n",
    "    ## para cada mes en la lista de meses sacada arriba de la pagina, lo spliteamos, madnamos a lower y lo emtemos a una nueva lista\n",
    "    for x in meses_llegada:\n",
    "        texto = x.text\n",
    "        time.sleep(1)\n",
    "        texto = texto.split(\" \")\n",
    "        texto = texto[0].lower()\n",
    "        meses_llegada_1.append(texto)\n",
    "        time.sleep(1)\n",
    "\n",
    "    ## en caso el mes enviado en la DEF está en la lista se le manda el día y se cliclea el día\n",
    "    if mes in meses_llegada_1: \n",
    "        # el blqieu serían los calendarios de los 3 meses \n",
    "        bloque  = driver.find_elements(By.XPATH, \"//table[@class='_cvkwaj']\")\n",
    "        time.sleep(1)\n",
    "        # hay dos loques extras fantamsas por lo tanto solo nos quedamos con los necesarios\n",
    "        bloque = bloque[1:3]\n",
    "        time.sleep(1)\n",
    "        ## BUSCAS POR \"NAME\" EN EL INDEX, osea busco por MES, dodne se posiciona para hacer el match\n",
    "        indice = meses_llegada_1.index(mes)\n",
    "        time.sleep(1)\n",
    "        bloque = bloque[indice]\n",
    "        time.sleep(1)\n",
    "        llegada = bloque.find_elements(By.XPATH, \".//td[@role='button']\")\n",
    "        x = dia\n",
    "        x = x-1    # te coje día +1 entonce sque sea *-1   esto por q tabaja con lista p y el indice comienza desde el 0 webas\n",
    "        time.sleep(1)\n",
    "        ## haces un amthc de dia igual que antes\n",
    "        fecha_que_quiero = llegada[x]\n",
    "        fecha_que_quiero.click()\n",
    "        \n",
    "        # si el mes enviado en el DEF NO ESTA en la lista, se clickea el boton \"SIGUEITNE MES\" hasta encontrarlo\n",
    "    else:\n",
    "        boton.click()\n",
    "        time.sleep(1)\n",
    "        boton.click()\n",
    "        time.sleep(1)\n",
    "        repetir_mes(mes,dia)\n",
    "    \n",
    "    "
   ]
  },
  {
   "cell_type": "code",
   "execution_count": 60,
   "metadata": {},
   "outputs": [],
   "source": [
    " def repetir_mes_salida(mes,dia):\n",
    "    \n",
    "    # clcik  en el button FECHA llegada a la ciudad o lugar\n",
    "    # directamente se clickea, asi que aca no es necesario\n",
    "    \n",
    "    #departure_click = driver.find_element(By.XPATH, \"//input[@id='departureDate']\")\n",
    "    #departure_click.click()\n",
    "    #time.sleep(2)\n",
    "    \n",
    "    ## encotramos el boton par avanzar mes SIGUIENTE, este caos es el segundo, tambien est el arie-label  : Haz clic en la flecha de la derecha para cambiar al mes siguiente.\n",
    "    bloque_button = driver.find_element(By.XPATH, \"//div[@class='_qz9x4fc']\")\n",
    "    boton = bloque_button.find_element(By.XPATH, \".//button[@type='button']\")\n",
    "    ### mandamos el mes a LWOER\n",
    "    mes = str(mes.lower())\n",
    "    \n",
    "    ## Cogemos los meses que aparecen en la webpage una vez hacemos click en fechas, en desktop son 2 mese sque aparecen \n",
    "\n",
    "    meses_llegada = driver.find_elements(By.XPATH, \"//h2[@class='_14i3z6h']\")\n",
    "    time.sleep(1)\n",
    "    meses_llegada = meses_llegada[1:3]\n",
    "    meses_llegada_1 = []\n",
    "\n",
    "    ## para cada mes en la lista de meses sacada arriba de la pagina, lo spliteamos, madnamos a lower y lo emtemos a una nueva lista\n",
    "    for x in meses_llegada:\n",
    "        texto = x.text\n",
    "        time.sleep(1)\n",
    "        texto = texto.split(\" \")\n",
    "        texto = texto[0].lower()\n",
    "        meses_llegada_1.append(texto)\n",
    "        time.sleep(1)\n",
    "\n",
    "    ## en caso el mes enviado en la DEF está en la lista se le manda el día y se cliclea el día\n",
    "    if mes in meses_llegada_1: \n",
    "        # el blqieu serían los calendarios de los 3 meses \n",
    "        bloque  = driver.find_elements(By.XPATH, \"//table[@class='_cvkwaj']\")\n",
    "        time.sleep(1)\n",
    "        # hay dos loques extras fantamsas por lo tanto solo nos quedamos con los necesarios\n",
    "        bloque = bloque[1:3]\n",
    "        time.sleep(1)\n",
    "        ## BUSCAS POR \"NAME\" EN EL INDEX, osea busco por MES, dodne se posiciona para hacer el match\n",
    "        indice = meses_llegada_1.index(mes)\n",
    "        time.sleep(1)\n",
    "        bloque = bloque[indice]\n",
    "        time.sleep(1)\n",
    "        llegada = bloque.find_elements(By.XPATH, \".//td[@role='button']\")\n",
    "        x = dia\n",
    "        x = x-1    # te coje día +1 entonce sque sea *-1   esto por q tabaja con lista p y el indice comienza desde el 0 webas\n",
    "        time.sleep(1)\n",
    "        ## haces un amthc de dia igual que antes\n",
    "        fecha_que_quiero = llegada[x]\n",
    "        fecha_que_quiero.click()\n",
    "        \n",
    "        # si el mes enviado en el DEF NO ESTA en la lista, se clickea el boton \"SIGUEITNE MES\" hasta encontrarlo\n",
    "    else:\n",
    "        boton.click()\n",
    "        time.sleep(1)\n",
    "        boton.click()\n",
    "        time.sleep(1)\n",
    "        repetir_mes(mes,dia)\n",
    "    "
   ]
  },
  {
   "cell_type": "code",
   "execution_count": 169,
   "metadata": {},
   "outputs": [],
   "source": [
    "def cuantos_pajeros(adultos=None,ninos=None,bebes=None,perros=None):\n",
    "    \n",
    "    if adultos == 0:\n",
    "        print(\"eres IDOTA?\")\n",
    "        return\n",
    "    \n",
    "    click_cuantos = driver.find_element(By.XPATH, \"//div[@class='p1kudodg dir dir-ltr']\")\n",
    "    click_cuantos.click()\n",
    "    time.sleep(1)\n",
    "           \n",
    "\n",
    "    boomers = driver.find_element(By.XPATH, \"//div[@id='stepper-adults']\")\n",
    "    boomers_boton = boomers.find_element(By.XPATH, \".//button[@class='_ul9u8c'][2]\")\n",
    "    time.sleep(1)\n",
    "    \n",
    "    n = 0\n",
    "    if adultos is None or adultos == 1:\n",
    "        pass\n",
    "    else:\n",
    "        while n < adultos:\n",
    "                n += 1\n",
    "                time.sleep(0.3)\n",
    "                boomers_boton.click()\n",
    "    \n",
    "    \n",
    "    mocosos = driver.find_element(By.XPATH, \".//div[@id='stepper-children']\")\n",
    "    mocosos_boton = mocosos.find_element(By.XPATH, \".//button[@class='_ul9u8c'][2]\")\n",
    "    time.sleep(1)\n",
    "    n = 0\n",
    "    if ninos == 0 or ninos == None:\n",
    "        pass\n",
    "    else:\n",
    "        while n < ninos:\n",
    "            n += 1\n",
    "            time.sleep(0.4)\n",
    "            mocosos_boton.click()\n",
    "\n",
    "    time.sleep(1.7)\n",
    "       \n",
    "    wawas = driver.find_element(By.XPATH, \".//div[@id='stepper-infants']\")\n",
    "    wawas_boton = wawas.find_element(By.XPATH, \".//button[@class='_ul9u8c'][2]\")\n",
    "    time.sleep(1)\n",
    "    n = 0\n",
    "    if bebes == 0 or bebes == None:\n",
    "        pass\n",
    "    else:\n",
    "        while n < bebes:\n",
    "            n += 1\n",
    "            time.sleep(0.6)\n",
    "            wawas_boton.click()\n",
    "            \n",
    "    time.sleep(1.7)\n",
    " \n",
    "\n",
    "    mascotas = driver.find_element(By.XPATH, \".//div[@id='stepper-pets']\")\n",
    "    mascotas_boton = mascotas.find_element(By.XPATH, \".//button[@class='_ul9u8c'][2]\")\n",
    "    time.sleep(1)\n",
    "    n = 0\n",
    "    if perros == 0 or perros == None:\n",
    "        pass\n",
    "    else:\n",
    "        while n < perros:\n",
    "            n += 1\n",
    "            time.sleep(0.6)\n",
    "            mascotas_boton.click()\n",
    "            \n",
    "    time.sleep(1.7)\n",
    "\n",
    "    ### esto lo hago para salir del lguar donde nos encontramos \n",
    "    #action = webdriver.ActionChains(driver)\n",
    "   # action.move_by_offset(10,10).click().perform()\n",
    "\n",
    "    #time.sleep(0.7)\n"
   ]
  },
  {
   "cell_type": "code",
   "execution_count": 176,
   "metadata": {},
   "outputs": [],
   "source": [
    "def click_buscar():\n",
    "    \n",
    "    buscaras = driver.find_element(By.XPATH, \"//span[@class='t1l18xbv dir dir-ltr']\")\n",
    "    buscaras.click()"
   ]
  },
  {
   "cell_type": "code",
   "execution_count": 172,
   "metadata": {},
   "outputs": [],
   "source": [
    "partes_llegas(\"Paris\")"
   ]
  },
  {
   "cell_type": "code",
   "execution_count": 173,
   "metadata": {},
   "outputs": [],
   "source": [
    "repetir_mes_llegada(\"abril\",25)"
   ]
  },
  {
   "cell_type": "code",
   "execution_count": 174,
   "metadata": {},
   "outputs": [],
   "source": [
    "repetir_mes_salida(\"abril\",29)"
   ]
  },
  {
   "cell_type": "code",
   "execution_count": 175,
   "metadata": {},
   "outputs": [],
   "source": [
    "cuantos_pajeros(2,1,1,1)"
   ]
  },
  {
   "cell_type": "code",
   "execution_count": 177,
   "metadata": {},
   "outputs": [],
   "source": [
    "click_buscar()\n",
    "## IATAAAA IATAAAAA YOOOOOOOOOO"
   ]
  },
  {
   "cell_type": "code",
   "execution_count": 50,
   "metadata": {},
   "outputs": [],
   "source": [
    "buscaras = driver.find_element(By.XPATH, \"//div[@class='c8th90 dir dir-ltr']\")"
   ]
  },
  {
   "cell_type": "code",
   "execution_count": null,
   "metadata": {},
   "outputs": [],
   "source": []
  },
  {
   "cell_type": "code",
   "execution_count": 131,
   "metadata": {},
   "outputs": [],
   "source": [
    "    boomers = driver.find_element(By.XPATH, \"//div[@id='stepper-adults']\")\n",
    "    boomers = boomers.find_element(By.XPATH, \".//button[@type='button']\")\n",
    "    time.sleep(1)\n",
    "    \n",
    "    adultos = 2\n",
    "    \n",
    "    n = 0\n",
    "    if adultos is None or adultos == 1:\n",
    "        pass\n",
    "    else:\n",
    "        while n < adultos-1:\n",
    "                n += 1\n",
    "                time.sleep(0.3)\n",
    "                boomers.click()"
   ]
  },
  {
   "cell_type": "code",
   "execution_count": 90,
   "metadata": {},
   "outputs": [
    {
     "data": {
      "text/plain": [
       "<selenium.webdriver.remote.webelement.WebElement (session=\"eb6ed9ebaa5086cb178fba3aaf735041\", element=\"816a0398-7446-4883-8201-dd3701e2ba71\")>"
      ]
     },
     "execution_count": 90,
     "metadata": {},
     "output_type": "execute_result"
    }
   ],
   "source": [
    "boomers"
   ]
  },
  {
   "cell_type": "code",
   "execution_count": 132,
   "metadata": {},
   "outputs": [],
   "source": [
    "    boomers = driver.find_element(By.XPATH, \"//div[@id='stepper-adults']\")\n",
    "    #boomers = boomers.find_element(By.XPATH, \".//button[@data-testid='stepper-adults-increase-button']\")\n",
    "    boomers = boomers.find_element(By.XPATH, \".//button[@type='button'][2]\")\n"
   ]
  },
  {
   "cell_type": "code",
   "execution_count": 133,
   "metadata": {},
   "outputs": [
    {
     "data": {
      "text/plain": [
       "<selenium.webdriver.remote.webelement.WebElement (session=\"eb6ed9ebaa5086cb178fba3aaf735041\", element=\"eaa017b6-06f2-4c2d-9400-84136ad91ee3\")>"
      ]
     },
     "execution_count": 133,
     "metadata": {},
     "output_type": "execute_result"
    }
   ],
   "source": [
    "boomers"
   ]
  },
  {
   "cell_type": "code",
   "execution_count": 136,
   "metadata": {},
   "outputs": [],
   "source": [
    "boomers.click()"
   ]
  },
  {
   "cell_type": "code",
   "execution_count": 1,
   "metadata": {},
   "outputs": [],
   "source": [
    "obtener_info()"
   ]
  },
  {
   "cell_type": "code",
   "execution_count": 279,
   "metadata": {},
   "outputs": [],
   "source": [
    "    titles = []\n",
    "    precios = []\n",
    "    precios_noche = []\n",
    "    camas = []\n",
    "    hallazgos = []\n",
    "    rates = []\n",
    "    cantidad_rates_airbnb = []\n",
    "    \n",
    "    ### Este es el bloque dond se sencuentra tiulo, precio, camas rate etc\n",
    "    bloques = driver.find_elements(By.XPATH, \"//div[@class='g1qv1ctd cb4nyux dir dir-ltr']\")\n",
    "    bloques = bloques[:4]\n",
    "    \n",
    "    ### Este es e bloque dodne se enecuntra HALLAGOS\n",
    "    bloques_hallazgo = driver.find_elements(By.XPATH, \"//div[@class='c14dgvke dir dir-ltr']\")\n",
    "    bloques_hallazgo = bloques_hallazgo[:4]\n",
    "    \n",
    "    \n",
    "    ## para bloque en bloquese encontramos titulo, rpecio, etc\n",
    "    for x in bloques:   \n",
    "        time.sleep(1)\n",
    "        precio_total = x.find_element(By.XPATH, \".//div[@class='_tt122m']\")\n",
    "        precio_total = precio_total.find_element(By.XPATH, \".//span[@aria-hidden='true']\")\n",
    "        precio_total = precio_total.text\n",
    "        \n",
    "        precio_total = precio_total.split()\n",
    "        vaina_1 = precio_total[0]\n",
    "        vaina_2 = vaina_1[2:]\n",
    "\n",
    "        # Tienes que eliminar las comas de los precios \n",
    "\n",
    "        coma=[\",\",\"S\",\"$\",\"U\",\"/\"]\n",
    "        res=[j for i,j in enumerate(vaina_2) if j not in coma]\n",
    "        price = \"\".join(res)\n",
    "        price = int(price)\n",
    "        \n",
    "        time.sleep(1.6)\n",
    "                \n",
    "        \n",
    "        \n",
    "                ### precio x noche, ya que este a veces no se encuentra usamos un TRY\n",
    "        try: \n",
    "            precio_noche = x.find_element(By.XPATH, \".//span[@class='_tyxjp1']\")\n",
    "            time.sleep(0.6)\n",
    "            precio_noche = precio_noche.text\n",
    "            precio_noche = precio_noche.split()\n",
    "            vaina_1_n = precio_noche[0]\n",
    "        except:\n",
    "            precio_noche = x.find_element(By.XPATH, \".//span[@class='_1y74zjx']\")\n",
    "            time.sleep(0.6)\n",
    "            precio_noche = precio_noche.text\n",
    "            precio_noche = precio_noche.split()\n",
    "            vaina_1_n = precio_noche[0]\n",
    "        \n",
    "        #### OJO todo depende de la moneda en la que esté la vaina esta, si está en euro o sol peude que sea diferente\n",
    "        vaina_2_n = vaina_1_n[2:]\n",
    "\n",
    "        # Tienes que eliminar las comas de los precios \n",
    "\n",
    "        coma=[\",\",\"S\",\"$\",\"U\",\"/\"]\n",
    "        res=[j for i,j in enumerate(vaina_2) if j not in coma]\n",
    "        price_n = \"\".join(res)\n",
    "        price_n = int(price_n)\n",
    "        \n",
    "        time.sleep(1)\n",
    "        \n",
    "        cama = x.find_element(By.XPATH, \".//div[@class='f15liw5s s1cjsi4j dir dir-ltr'][2]\")\n",
    "        cama = cama.find_element(By.XPATH, \".//span[@class=' dir dir-ltr']\")\n",
    "        cama = cama.text\n",
    "        cama = cama.split()\n",
    "        cama = cama[0]\n",
    "        time.sleep(1)\n",
    "\n",
    "        title = x.find_element(By.XPATH, \".//div[@data-testid='listing-card-title']\")\n",
    "        title = title.text\n",
    "        time.sleep(1)\n",
    "        \n",
    "        ## como algunos son neuvos no tienen rates\n",
    "        try: \n",
    "            rate = x.find_element(By.XPATH, \".//span[@class='r1dxllyb dir dir-ltr']\")\n",
    "            rate = rate.text\n",
    "            rate = rate.split()\n",
    "            rate_1 = rate[0]\n",
    "            rate_1 = float(rate_1)\n",
    "            cantidad_rates = rate[1]\n",
    "            \n",
    "            coma=[\",\",\"(\",\")\",\"U\",\"/\"]\n",
    "            res=[j for i,j in enumerate(cantidad_rates) if j not in coma]\n",
    "            cantidad_rates = \"\".join(res)\n",
    "            cantidad_rates = int(cantidad_rates)\n",
    "            \n",
    "            cantidad_rates_airbnb.append(cantidad_rates)\n",
    "            time.sleep(0.6)\n",
    "            rates.append(rate_1)\n",
    "            time.sleep(0.6)\n",
    "            \n",
    "        except:\n",
    "            cantidad_rates_airbnb.append(\"Nuevo\")\n",
    "            time.sleep(0.6)\n",
    "            rates.append(\"Nuevo\")\n",
    "            time.sleep(0.6)\n",
    "                \n",
    "        titles.append(title)\n",
    "        time.sleep(0.6)\n",
    "        \n",
    "        precios.append(price)        \n",
    "        time.sleep(0.6)\n",
    "        \n",
    "        precios_noche.append(price_n)        \n",
    "        time.sleep(0.6)\n",
    "        \n",
    "        camas.append(cama)        \n",
    "        time.sleep(0.6)\n",
    "        \n",
    "\n",
    "        ## como los hallazgos estna en otor loque uso ese bloque\n",
    "    for z in bloques_hallazgo:\n",
    "        time.sleep(0.6)\n",
    "        try:\n",
    "            time.sleep(0.6)\n",
    "            hallazgo_a = z.find_element(By.XPATH, \".//div[@class='t1mwk1n0 dir dir-ltr']\")\n",
    "            time.sleep(0.7)\n",
    "            hallazgo_a = hallazgo_a.text\n",
    "            time.sleep(0.7)\n",
    "            hallazgos.append(hallazgo_a)\n",
    "            \n",
    "        except: \n",
    "            time.sleep(0.6)\n",
    "            hallazgos.append(None)\n",
    "            time.sleep(0.6)\n",
    "            pass\n",
    "            "
   ]
  },
  {
   "cell_type": "code",
   "execution_count": 280,
   "metadata": {},
   "outputs": [
    {
     "data": {
      "text/plain": [
       "['Apartamento en Clichy',\n",
       " 'Habitación de hotel en París',\n",
       " 'Apartamento en París',\n",
       " 'Apartamento en París']"
      ]
     },
     "execution_count": 280,
     "metadata": {},
     "output_type": "execute_result"
    }
   ],
   "source": [
    "titles"
   ]
  },
  {
   "cell_type": "code",
   "execution_count": 281,
   "metadata": {},
   "outputs": [
    {
     "data": {
      "text/plain": [
       "[1715, 5499, 3561, 2512]"
      ]
     },
     "execution_count": 281,
     "metadata": {},
     "output_type": "execute_result"
    }
   ],
   "source": [
    "precios"
   ]
  },
  {
   "cell_type": "code",
   "execution_count": 282,
   "metadata": {},
   "outputs": [
    {
     "data": {
      "text/plain": [
       "[1715, 5499, 3561, 2512]"
      ]
     },
     "execution_count": 282,
     "metadata": {},
     "output_type": "execute_result"
    }
   ],
   "source": [
    "precios_noche"
   ]
  },
  {
   "cell_type": "code",
   "execution_count": 283,
   "metadata": {},
   "outputs": [
    {
     "data": {
      "text/plain": [
       "['2', '2', '2', '1']"
      ]
     },
     "execution_count": 283,
     "metadata": {},
     "output_type": "execute_result"
    }
   ],
   "source": [
    "camas"
   ]
  },
  {
   "cell_type": "code",
   "execution_count": 284,
   "metadata": {},
   "outputs": [
    {
     "data": {
      "text/plain": [
       "['Un hallazgo excepcional', None, None, 'Un hallazgo excepcional']"
      ]
     },
     "execution_count": 284,
     "metadata": {},
     "output_type": "execute_result"
    }
   ],
   "source": [
    "hallazgos"
   ]
  },
  {
   "cell_type": "code",
   "execution_count": 285,
   "metadata": {},
   "outputs": [
    {
     "data": {
      "text/plain": [
       "[['4.48', '(115)'], ['4.92', '(145)'], 'Nuevo', ['4.78', '(32)']]"
      ]
     },
     "execution_count": 285,
     "metadata": {},
     "output_type": "execute_result"
    }
   ],
   "source": [
    "rates"
   ]
  },
  {
   "cell_type": "code",
   "execution_count": 286,
   "metadata": {},
   "outputs": [
    {
     "data": {
      "text/plain": [
       "['(115)', '(145)', 'Nuevo', '(32)']"
      ]
     },
     "execution_count": 286,
     "metadata": {},
     "output_type": "execute_result"
    }
   ],
   "source": [
    "cantidad_rates_airbnb"
   ]
  },
  {
   "cell_type": "code",
   "execution_count": null,
   "metadata": {},
   "outputs": [],
   "source": []
  },
  {
   "cell_type": "code",
   "execution_count": 213,
   "metadata": {},
   "outputs": [],
   "source": [
    "vaina = 'S/5,499 en total'"
   ]
  },
  {
   "cell_type": "code",
   "execution_count": 214,
   "metadata": {},
   "outputs": [],
   "source": [
    "vaina_1 = vaina.split()"
   ]
  },
  {
   "cell_type": "code",
   "execution_count": 215,
   "metadata": {},
   "outputs": [
    {
     "data": {
      "text/plain": [
       "['S/5,499', 'en', 'total']"
      ]
     },
     "execution_count": 215,
     "metadata": {},
     "output_type": "execute_result"
    }
   ],
   "source": [
    "vaina_1"
   ]
  },
  {
   "cell_type": "code",
   "execution_count": 216,
   "metadata": {},
   "outputs": [],
   "source": [
    "vaina2 = vaina_1[0]"
   ]
  },
  {
   "cell_type": "code",
   "execution_count": 217,
   "metadata": {},
   "outputs": [
    {
     "data": {
      "text/plain": [
       "'S/5,499'"
      ]
     },
     "execution_count": 217,
     "metadata": {},
     "output_type": "execute_result"
    }
   ],
   "source": [
    "vaina2"
   ]
  },
  {
   "cell_type": "code",
   "execution_count": 219,
   "metadata": {},
   "outputs": [],
   "source": [
    "vaina3 = vaina2[2:]"
   ]
  },
  {
   "cell_type": "code",
   "execution_count": 220,
   "metadata": {},
   "outputs": [
    {
     "data": {
      "text/plain": [
       "'5,499'"
      ]
     },
     "execution_count": 220,
     "metadata": {},
     "output_type": "execute_result"
    }
   ],
   "source": [
    "vaina3"
   ]
  },
  {
   "cell_type": "code",
   "execution_count": 222,
   "metadata": {},
   "outputs": [
    {
     "ename": "ValueError",
     "evalue": "could not convert string to float: '5,499'",
     "output_type": "error",
     "traceback": [
      "\u001b[1;31m---------------------------------------------------------------------------\u001b[0m",
      "\u001b[1;31mValueError\u001b[0m                                Traceback (most recent call last)",
      "\u001b[1;32m<ipython-input-222-6d9c84334ccb>\u001b[0m in \u001b[0;36m<module>\u001b[1;34m\u001b[0m\n\u001b[1;32m----> 1\u001b[1;33m \u001b[0mfloat\u001b[0m\u001b[1;33m(\u001b[0m\u001b[0mvaina3\u001b[0m\u001b[1;33m)\u001b[0m\u001b[1;33m\u001b[0m\u001b[1;33m\u001b[0m\u001b[0m\n\u001b[0m",
      "\u001b[1;31mValueError\u001b[0m: could not convert string to float: '5,499'"
     ]
    }
   ],
   "source": [
    "float(vaina3)"
   ]
  },
  {
   "cell_type": "code",
   "execution_count": 223,
   "metadata": {},
   "outputs": [],
   "source": [
    "vaina_1 = vaina.split()\n",
    "vaina2 = vaina_1[0]\n",
    "vaina3 = vaina2[2:]\n",
    "\n",
    "\n",
    "# Tienes que eliminar las comas de los precios que tengan mas o igual de 1000 xq hay una COMA\n",
    "\n",
    "coma=[\",\",\"S\",\"$\",\"U\",/]\n",
    "res=[j for i,j in enumerate(price) if j not in coma]\n",
    "price = \"\".join(res)"
   ]
  },
  {
   "cell_type": "code",
   "execution_count": 225,
   "metadata": {},
   "outputs": [
    {
     "data": {
      "text/plain": [
       "'5499'"
      ]
     },
     "execution_count": 225,
     "metadata": {},
     "output_type": "execute_result"
    }
   ],
   "source": [
    "price"
   ]
  },
  {
   "cell_type": "code",
   "execution_count": 226,
   "metadata": {},
   "outputs": [
    {
     "data": {
      "text/plain": [
       "5499"
      ]
     },
     "execution_count": 226,
     "metadata": {},
     "output_type": "execute_result"
    }
   ],
   "source": [
    "int(price)"
   ]
  },
  {
   "cell_type": "code",
   "execution_count": 277,
   "metadata": {},
   "outputs": [],
   "source": [
    "hallazgos = []\n",
    "\n",
    "bloques_hallazgo = driver.find_elements(By.XPATH, \"//div[@class='c14dgvke dir dir-ltr']\")\n",
    "bloques_hallazgo = bloques_hallazgo[0:4]\n",
    "\n",
    "#hallazgo_a = bloques[0].find_element(By.XPATH, \".//div[@class='t1mwk1n0 dir dir-ltr']\")\n",
    "for z in bloques_hallazgo:\n",
    "        time.sleep(0.6)\n",
    "        try:\n",
    "            time.sleep(0.6)\n",
    "            hallazgo_a = z.find_element(By.XPATH, \".//div[@class='t1mwk1n0 dir dir-ltr']\")\n",
    "            time.sleep(0.7)\n",
    "            hallazgo_a = hallazgo_a.text\n",
    "            time.sleep(0.7)\n",
    "            hallazgos.append(hallazgo_a)\n",
    "            \n",
    "        except: \n",
    "            time.sleep(0.6)\n",
    "            hallazgos.append(None)\n",
    "            time.sleep(0.6)\n",
    "            pass\n"
   ]
  },
  {
   "cell_type": "code",
   "execution_count": 278,
   "metadata": {},
   "outputs": [
    {
     "data": {
      "text/plain": [
       "[None, None, None, None]"
      ]
     },
     "execution_count": 278,
     "metadata": {},
     "output_type": "execute_result"
    }
   ],
   "source": [
    "hallazgos"
   ]
  },
  {
   "cell_type": "code",
   "execution_count": null,
   "metadata": {},
   "outputs": [],
   "source": [
    "bloques_hallazgo = driver.find_elements(By.XPATH, \"//div[@class='c14dgvke dir dir-ltr']\")"
   ]
  },
  {
   "cell_type": "code",
   "execution_count": 266,
   "metadata": {},
   "outputs": [],
   "source": [
    "bloques = driver.find_elements(By.XPATH, \"//div[@class='g1qv1ctd cb4nyux dir dir-ltr']\")\n",
    "bloques = bloques[:4]        \n",
    "        \n",
    "rate = bloques[0].find_element(By.XPATH, \".//span[@class='r1dxllyb dir dir-ltr']\")\n",
    "rate = rate.text\n",
    "rate = rate.split()\n",
    "rate_1 = rate[0]\n",
    "cantidad_rates = rate[1]\n",
    "\n",
    "\n"
   ]
  },
  {
   "cell_type": "code",
   "execution_count": 267,
   "metadata": {},
   "outputs": [
    {
     "data": {
      "text/plain": [
       "'4.48'"
      ]
     },
     "execution_count": 267,
     "metadata": {},
     "output_type": "execute_result"
    }
   ],
   "source": [
    "rate_1"
   ]
  },
  {
   "cell_type": "code",
   "execution_count": 268,
   "metadata": {},
   "outputs": [
    {
     "data": {
      "text/plain": [
       "'(115)'"
      ]
     },
     "execution_count": 268,
     "metadata": {},
     "output_type": "execute_result"
    }
   ],
   "source": [
    "cantidad_rates"
   ]
  },
  {
   "cell_type": "code",
   "execution_count": 291,
   "metadata": {},
   "outputs": [],
   "source": [
    "k = \"4.48\""
   ]
  },
  {
   "cell_type": "code",
   "execution_count": 293,
   "metadata": {},
   "outputs": [
    {
     "data": {
      "text/plain": [
       "4.48"
      ]
     },
     "execution_count": 293,
     "metadata": {},
     "output_type": "execute_result"
    }
   ],
   "source": [
    "float(k)"
   ]
  },
  {
   "cell_type": "markdown",
   "metadata": {},
   "source": [
    "## SACAR INFO DE CADA AIRBNB,\n",
    "##### haciendo click en cada airbnb y scrapear sus vainas"
   ]
  },
  {
   "cell_type": "code",
   "execution_count": 5,
   "metadata": {},
   "outputs": [],
   "source": [
    "import requests\n",
    "from bs4 import BeautifulSoup\n",
    "import time"
   ]
  },
  {
   "cell_type": "code",
   "execution_count": 62,
   "metadata": {},
   "outputs": [],
   "source": [
    "#url = \"https://www.airbnb.com.pe/s/Paris/homes?tab_id=home_tab&refinement_paths%5B%5D=%2Fhomes&flexible_trip_lengths%5B%5D=one_week&price_filter_input_type=0&price_filter_num_nights=5&query=Par%C3%ADs%2C%20Francia&place_id=ChIJD7fiBh9u5kcRYJSMaMOCCwQ&date_picker_type=calendar&checkin=2023-04-19&checkout=2023-04-22&adults=1&source=structured_search_input_header&search_type=autocomplete_click\"\n",
    "url= \"https://www.airbnb.com.pe/rooms/710789383048240528?adults=1&check_in=2023-04-19&check_out=2023-04-22&federated_search_id=46fe1005-a6b6-4c5c-9f9d-8f4f2b66e20c&source_impression_id=p3_1676838689_a%2BpLM6Ws3w9IR4x5\"\n",
    "r = requests.get(url)\n",
    "\n",
    "r.status_code\n",
    "\n",
    "s = BeautifulSoup(r.text,'lxml')\n",
    "\n",
    "\n",
    "from selenium import webdriver\n",
    "from selenium.webdriver import Keys\n",
    "from selenium.webdriver.support.ui import Select\n",
    "from selenium.webdriver.common.by import By"
   ]
  },
  {
   "cell_type": "code",
   "execution_count": 63,
   "metadata": {},
   "outputs": [
    {
     "name": "stderr",
     "output_type": "stream",
     "text": [
      "<ipython-input-63-1fd30b10088d>:4: DeprecationWarning: executable_path has been deprecated, please pass in a Service object\n",
      "  driver = webdriver.Chrome(executable_path=r\"F:\\\\Chrome driver\\\\chromedriver.exe\", options = options)\n"
     ]
    }
   ],
   "source": [
    "options = webdriver.ChromeOptions()\n",
    "options.add_argument(\"--incognito\")\n",
    "\n",
    "driver = webdriver.Chrome(executable_path=r\"F:\\\\Chrome driver\\\\chromedriver.exe\", options = options)\n",
    "\n",
    "driver.get(url)"
   ]
  },
  {
   "cell_type": "code",
   "execution_count": null,
   "metadata": {},
   "outputs": [],
   "source": []
  },
  {
   "cell_type": "code",
   "execution_count": 8,
   "metadata": {},
   "outputs": [
    {
     "name": "stdout",
     "output_type": "stream",
     "text": [
      "https://www.airbnb.com.pe/s/Paris/homes?tab_id=home_tab&refinement_paths%5B%5D=%2Fhomes&flexible_trip_lengths%5B%5D=one_week&price_filter_input_type=0&price_filter_num_nights=3&query=Par%C3%ADs%2C%20Francia&place_id=ChIJD7fiBh9u5kcRYJSMaMOCCwQ&date_picker_type=calendar&checkin=2023-04-19&checkout=2023-04-22&adults=1&source=structured_search_input_header&search_type=user_map_move&ne_lat=48.90330313088239&ne_lng=2.439322564085387&sw_lat=48.77631170928487&sw_lng=2.2464717359146107&zoom=12&search_by_map=true\n",
      "https://www.airbnb.com.pe/s/Paris/homes?tab_id=home_tab&refinement_paths%5B%5D=%2Fhomes&flexible_trip_lengths%5B%5D=one_week&price_filter_input_type=0&price_filter_num_nights=3&query=Par%C3%ADs%2C%20Francia&place_id=ChIJD7fiBh9u5kcRYJSMaMOCCwQ&date_picker_type=calendar&checkin=2023-04-19&checkout=2023-04-22&adults=1&source=structured_search_input_header&search_type=user_map_move&ne_lat=48.90330313088239&ne_lng=2.439322564085387&sw_lat=48.77631170928487&sw_lng=2.2464717359146107&zoom=12&search_by_map=true\n"
     ]
    }
   ],
   "source": [
    "    ### Estas listas serían demasiado??? \n",
    "    huespedes = []\n",
    "    banos = []\n",
    "    verificados = []\n",
    "    \n",
    "    limpieza_rate = []\n",
    "    comunicacion_rate = []\n",
    "    llegada_rate = []\n",
    "    fiabilidad_rate = []\n",
    "    ubicacion_rate = []\n",
    "    precio_rate = []\n",
    "    \n",
    "    reviews_lista=[]\n",
    "    que_suerte = []\n",
    "    \n",
    "    aircover = []\n",
    "    \n",
    "    ### Este es el bloque dond se sencuentra tiulo, precio, camas rate etc\n",
    "    bloques = driver.find_elements(By.XPATH, \"//div[@class='g1qv1ctd cb4nyux dir dir-ltr']\")\n",
    "    bloques = bloques[:2]\n",
    "    \n",
    "    ### Este es e bloque dodne se enecuntra HALLAGOS o la IMAGEN de cada abnb esa cosa\n",
    "    bloques_hallazgo = driver.find_elements(By.XPATH, \"//div[@class='c14dgvke dir dir-ltr']\")\n",
    "    bloques_hallazgo = bloques_hallazgo[:2]\n",
    "    \n",
    "    \n",
    "    ## para bloque en bloques encontramos titulo, rpecio, etc\n",
    "    for x in bloques_hallazgo:   \n",
    "        time.sleep(0.6)\n",
    "        x.click()\n",
    "        \n",
    "        print(driver.current_url)\n",
    "        \n",
    "        driver.switch_to.window(driver.window_handles[1])\n",
    "        \n",
    "        try:\n",
    "            cerrar_pop_up = driver.find_elements(By.XPATH, \"//path[@d='m6 6 20 20']\")\n",
    "            cerrar_pop_up.click()\n",
    "            \n",
    "        except:\n",
    "            pass\n",
    "    \n",
    "        bloque_basicos = driver.find_element(By.XPATH, \"//ol[@class='lgx66tx dir dir-ltr']\")\n",
    "        bloque_basicos = bloque_basicos.find_elements(By.XPATH, \"//li[@class='l7n4lsf dir dir-ltr']\")\n",
    "\n",
    "        huespedes_ = bloque_basicos[0].text\n",
    "        huespedes.append(huespedes_)\n",
    "\n",
    "        banos_ = bloque_basicos[3].text\n",
    "        banos.append(banos_)\n",
    "\n",
    "        try:\n",
    "            verificado = driver.find_element(By.XPATH, \"//div[@class='l1dfad8f dir dir-ltr']\")\n",
    "            verificado = verificado.text\n",
    "            verificados.append(verificado)\n",
    "        except:\n",
    "            pass\n",
    "\n",
    "\n",
    "        ## sacnado rates\n",
    "        rates_limpieza_eso = driver.find_element(By.XPATH, \"//ol[@class='ciubx2o dir dir-ltr']\")       \n",
    "        rates_limpieza_eso = rates_limpieza_eso.find_elements(By.XPATH, \".//span[@class='_4oybiu']\") \n",
    "\n",
    "        limpieza_rate.append(rates_limpieza_eso[0].text)\n",
    "        fiabilidad_rate.append(rates_limpieza_eso[1].text)\n",
    "        comunicacion_rate.append(rates_limpieza_eso[2].text)\n",
    "        ubicacion_rate.append(rates_limpieza_eso[3].text)\n",
    "        llegada_rate.append(rates_limpieza_eso[4].text)\n",
    "        precio_rate.append(rates_limpieza_eso[5].text)\n",
    "\n",
    "\n",
    "        ##  sacando las reviews\n",
    "        boton_revs = driver.find_element(By.XPATH, \"//button[@data-testid='pdp-show-all-reviews-button']\")\n",
    "        boton_revs.click()\n",
    "\n",
    "        bloque_pop = driver.find_element(By.XPATH, \"//div[@class='_14vzertx']\")\n",
    "\n",
    "         ## scrolleamos para que carguen todas resenas\n",
    "        scroll = 0\n",
    "        while scroll < 3:\n",
    "            time.sleep(0.7)\n",
    "            popup_reviews = driver.find_elements(By.CSS_SELECTOR, 'div[role=dialog] div[data-review-id]')\n",
    "            driver.execute_script('arguments[0].scrollIntoView({block: \"center\", behavior: \"smooth\"});', popup_reviews[-1])\n",
    "            time.sleep(0.7)\n",
    "            scroll+=1\n",
    "\n",
    "\n",
    "        bloque_revs = driver.find_element(By.XPATH, \"//div[@class='_lao3nn']\")    \n",
    "        bloque_revs = bloque_revs.find_elements(By.XPATH, \"//div[@class='r1are2x1 dir dir-ltr']\") \n",
    "\n",
    "        ## ya que hay coemntarios del ANFITRION, tneemos q evitarlos por lo tanto coegmeos el mini boloque (donde se\n",
    "        ## encuentra los comentarios y de vez en cuando la respsta del anfitrion <3), y dentro del minibloque\n",
    "        ## escogemos solo el primer coment [1], que sería el del usuario que alquiló ese abnb\n",
    "        \n",
    "        lista_revs = []\n",
    "        for u in bloque_revs:\n",
    "            revs_usuarios = u.find_element(By.XPATH, \".//span[@class='ll4r2nl dir dir-ltr'][1]\")\n",
    "            time.sleep(0.7)\n",
    "            texto = revs_usuarios.text\n",
    "            lista_revs.append(texto)\n",
    "            reviews_lista.append(lista_revs)\n",
    "        \n",
    "        ## vemos si \"EL ALOJAMIENTO SUELE ESTAR RESERVADO\"\n",
    "        try:\n",
    "            suerte = driver.find_element(By.XPATH, \"//h2[@class='_mtn6h9x']\")\n",
    "            suerte_text = suerte.text\n",
    "\n",
    "            que_suerte.append(suerte_text)\n",
    "        except:\n",
    "            pass\n",
    "        \n",
    "        ## Caso tenga AIRCOVER\n",
    "        try:\n",
    "            aircover_tiene = driver.find_element(By.XPATH, \"//img[@class='l1li2ovm dir dir-ltr']\")\n",
    "            aircover.append(\"si\")\n",
    "\n",
    "        except:\n",
    "            pass\n",
    "        \n",
    " "
   ]
  },
  {
   "cell_type": "code",
   "execution_count": 6,
   "metadata": {},
   "outputs": [],
   "source": [
    "    reviews_lista = []\n",
    "    boton_revs = driver.find_element(By.XPATH, \"//button[@data-testid='pdp-show-all-reviews-button']\")\n",
    "    boton_revs.click()\n",
    "    \n",
    "    bloque_pop = driver.find_element(By.XPATH, \"//div[@class='_14vzertx']\")\n",
    "\"\"\"    for i in range(5):\n",
    "        #driver.execute_script(\"arguments[0].scrollTop = arguments[0].scrollHeight\", bloque_pop)\n",
    "        driver.execute_script(\"window.scrollTo(0,document.body.scrollHeight)\", bloque_pop)\n",
    "        time.sleep(1.5)\"\"\"\n",
    "    \n",
    "    scroll = 0\n",
    "\"\"\"    while scroll < 5: # scroll 5 times\n",
    "        driver.execute_script('arguments[0].scrollTop = arguments[0].scrollTop + arguments[0].offsetHeight;', bloque_pop)\n",
    "        time.sleep(1)\n",
    "        scroll += 1\"\"\"\n",
    "\n",
    "    popup_reviews = driver.find_elements(By.CSS_SELECTOR, 'div[role=dialog] div[data-review-id]')\n",
    "    driver.execute_script('arguments[0].scrollIntoView({block: \"center\", behavior: \"smooth\"});', popup_reviews[-1])\n",
    "\n",
    "    \n",
    "    ## scrolleamos para que carguen todas resenas\n",
    "    #driver.execute_script(\"window.scrollTo(0,document.body.scrollHeight)\")\n",
    "\n",
    "    bloque_revs = driver.find_element(By.XPATH, \"//div[@class='_lao3nn']\")    \n",
    "    bloque_revs = bloque_revs.find_elements(By.XPATH, \"//div[@class='r1are2x1 dir dir-ltr']\") \n",
    "    #revs_usuarios = bloque_revs.find_elements(By.XPATH, \".//span[@class='ll4r2nl dir dir-ltr'][1]\")\n",
    "    \n",
    "    ## ya que hay coemntarios del ANFITRION, tneemos q evitarlos por lo tantoi coegmeos el mini boloque, y dentro del minibloque\n",
    "    ## escogemos solo el primer coment [1]\n",
    "    \n",
    "    for u in bloque_revs:\n",
    "        revs_usuarios = u.find_element(By.XPATH, \".//span[@class='ll4r2nl dir dir-ltr'][1]\")\n",
    "        time.sleep(1)\n",
    "        texto = revs_usuarios.text\n",
    "        reviews_lista.append(texto)\n",
    "                    \n",
    "   # respuesta_anfitrion = bloque_revs.find_elements(By.XPATH, \".//div[@class='rco2uhc dir dir-ltr']\")   "
   ]
  },
  {
   "cell_type": "code",
   "execution_count": 44,
   "metadata": {},
   "outputs": [],
   "source": [
    "### Est efunciona, pero tienes que darle varias veces para que aparezcan todas las reviews (stackoverflow)\n",
    "\n",
    "popup_reviews = driver.find_elements(By.CSS_SELECTOR, 'div[role=dialog] div[data-review-id]')\n",
    "driver.execute_script('arguments[0].scrollIntoView({block: \"center\", behavior: \"smooth\"});', popup_reviews[-1])"
   ]
  },
  {
   "cell_type": "code",
   "execution_count": 9,
   "metadata": {},
   "outputs": [],
   "source": [
    "### Est efunciona, pero tienes que darle varias veces para que aparezcan todas las reviews. Madre miaaaaa\n",
    "bloque_pop = driver.find_elements(By.XPATH, \"//div[@class='_14vzertx']\")\n",
    "#driver.execute_script('arguments[0].scrollTop = arguments[0].scrollTop + arguments[0].offsetHeight;', bloque_pop)\n",
    "#driver.execute_script(\"window.scrollTo(0,document.body.scrollHeight)\", bloque_pop)\n",
    "#driver.execute_script(\"arguments[0].scrollTop = arguments[0].scrollHeight\", bloque_pop)\n",
    "driver.execute_script('arguments[0].scrollTop = arguments[0].scrollTop + arguments[0].offsetHeight;', bloque_pop)"
   ]
  },
  {
   "cell_type": "code",
   "execution_count": 12,
   "metadata": {},
   "outputs": [],
   "source": [
    "reviews_lista = []\n",
    "\n",
    "boton_revs = driver.find_element(By.XPATH, \"//button[@data-testid='pdp-show-all-reviews-button']\")\n",
    "boton_revs.click()\n",
    "\n",
    "bloque_pop = driver.find_element(By.XPATH, \"//div[@class='_14vzertx']\")\n",
    "\n",
    "scroll = 0\n",
    "while scroll < 3:\n",
    "    time.sleep(0.7)\n",
    "    popup_reviews = driver.find_elements(By.CSS_SELECTOR, 'div[role=dialog] div[data-review-id]')\n",
    "    driver.execute_script('arguments[0].scrollIntoView({block: \"center\", behavior: \"smooth\"});', popup_reviews[-1])\n",
    "    time.sleep(0.7)\n",
    "    scroll+=1\n",
    "\n",
    "## scrolleamos para que carguen todas resenas\n",
    "\n",
    "bloque_revs = driver.find_element(By.XPATH, \"//div[@class='_lao3nn']\")    \n",
    "bloque_revs = bloque_revs.find_elements(By.XPATH, \"//div[@class='r1are2x1 dir dir-ltr']\") \n",
    "\n",
    "## ya que hay coemntarios del ANFITRION, tneemos q evitarlos por lo tantoi coegmeos el mini boloque, y dentro del minibloque\n",
    "## escogemos solo el primer coment [1]\n",
    "\n",
    "for u in bloque_revs:\n",
    "    revs_usuarios = u.find_element(By.XPATH, \".//span[@class='ll4r2nl dir dir-ltr'][1]\")\n",
    "    time.sleep(0.7)\n",
    "    texto = revs_usuarios.text\n",
    "    reviews_lista.append(texto)"
   ]
  },
  {
   "cell_type": "code",
   "execution_count": 45,
   "metadata": {},
   "outputs": [],
   "source": []
  },
  {
   "cell_type": "code",
   "execution_count": 13,
   "metadata": {},
   "outputs": [
    {
     "data": {
      "text/plain": [
       "['Muy cómodo, sector tranquilo y cercano del metro.',\n",
       " 'Excelente ubicación y excelente trato por el personal. Un lugar muy tranquilo y demasiado cerca del metro',\n",
       " 'El lugar tal como se describe en el anuncio, muy limpio, el wifi no es súper rápido pero funciona bien, todas las áreas correctas, los anfitriones amables, a pesar de no hablar mucho inglés, buscaban la forma de entender',\n",
       " 'Un excelente lugar para pasar la noche, alojarse y conocer Paris. ¡Que genial haber encontrado este lugar!',\n",
       " 'muy bien , volveré seguro , mercado, metro, todo cerca ... me ayudó mucho porque no hablaba francés ni inglés... gracias amigo Oss',\n",
       " 'Pasé varias noches en casa de Guoxi y aprecié tener un dormitorio solo;)\\nEl baño es funcional y la cocina es amplia pero no muy climatizada...\\nAgradezco al anfitrión que me haya permitido aparcar la bicicleta dentro, porque viajaba a París todas las mañanas.',\n",
       " '¡Un alojamiento fantástico! ¡Guoxi es muy agradable y servicial! ¡No se puede pedir más!',\n",
       " 'El anfitrión es una persona sumamente amable y servicial. La casa está lejos a pie del centro, pero la parada de metro está muy cerca. Estaba extremadamente satisfecho, lo recomiendo encarecidamente si estás buscando alojamiento en París.',\n",
       " '¡Perfecto!',\n",
       " '¡Me encantó el anfitrión y me ayudó mucho!',\n",
       " 'Todo estuvo excelente, no hay nada de que quejarse',\n",
       " 'Todo bien',\n",
       " 'Alojamiento sencillo pero estupendo en París.\\nEl alojamiento está a 5 minutos a pie del metro, lo que hace que sea fácil llegar al centro de la ciudad.\\nEl hostal se limpia a menudo, lo que lo hace sentir limpio y ordenado',\n",
       " 'Una de las mejores opciones para viajes económicos en París.\\nLos compañeros de piso limpios, acogedores y amables, y la ubicación es fantástica.',\n",
       " 'Todo lo mejor, el anfitrión realmente se esforzó por hacer que mi estancia fuera buena berirer de idioma. Pequeño albergue familiar con todas las cosas básicas en una buena ubicación.',\n",
       " 'Alojamiento muy útil para unos cuantos viajeros solitarios que llevan unos días en París. Limpio y cerca del metro. Buen barrio',\n",
       " 'Gracias Guoxi !!!',\n",
       " 'Hola,\\n\\ntodo fue en el buen sentido, recuerdos encantadores. Un gran detalle ayudando en todo. No muy lejos del metro. Gran lugar para alojarse con un presupuesto asequible.',\n",
       " 'Fue una estancia muy agradable, un lugar genial y gente amable... El metro está justo al final de la manzana, fácil acceso a la ciudad',\n",
       " 'Lo conozco muy bien']"
      ]
     },
     "execution_count": 13,
     "metadata": {},
     "output_type": "execute_result"
    }
   ],
   "source": [
    "reviews_lista"
   ]
  },
  {
   "cell_type": "code",
   "execution_count": 31,
   "metadata": {},
   "outputs": [],
   "source": [
    "suertes = []\n",
    "\n",
    "suerte = driver.find_element(By.XPATH, \"//h2[@class='_mtn6h9x']\")\n",
    "suerte_text = suerte.text\n",
    "\n",
    "suertes.append(suerte_text)\n",
    "que_suerte.append(suertes)"
   ]
  },
  {
   "cell_type": "code",
   "execution_count": 32,
   "metadata": {},
   "outputs": [
    {
     "data": {
      "text/plain": [
       "['¡Qué suerte!', ['¡Qué suerte!'], ['¡Qué suerte!']]"
      ]
     },
     "execution_count": 32,
     "metadata": {},
     "output_type": "execute_result"
    }
   ],
   "source": [
    "que_suerte"
   ]
  },
  {
   "cell_type": "code",
   "execution_count": 33,
   "metadata": {},
   "outputs": [
    {
     "data": {
      "text/plain": [
       "['¡Qué suerte!']"
      ]
     },
     "execution_count": 33,
     "metadata": {},
     "output_type": "execute_result"
    }
   ],
   "source": [
    "suertes"
   ]
  },
  {
   "cell_type": "markdown",
   "metadata": {},
   "source": [
    "# te falt ahacer ersotototoottoto\n",
    "\n",
    "identidad verif  /\n",
    "promotor   /\n",
    "idiomas ladra /\n",
    "cancelacion /\n",
    "Zonas de trabajos esas (3) webndas /\n",
    "Cuando se registro el anfitrion  /\n",
    "Costos HORMIGA  /\n",
    "Servicios\n",
    "LO QUE DEBES SBAER  \n",
    "nombre del perro /\n",
    "Dscto x estadia mensual /"
   ]
  },
  {
   "cell_type": "code",
   "execution_count": 55,
   "metadata": {},
   "outputs": [
    {
     "data": {
      "text/plain": [
       "[]"
      ]
     },
     "execution_count": 55,
     "metadata": {},
     "output_type": "execute_result"
    }
   ],
   "source": [
    "idver"
   ]
  },
  {
   "cell_type": "code",
   "execution_count": null,
   "metadata": {},
   "outputs": [],
   "source": []
  },
  {
   "cell_type": "code",
   "execution_count": 53,
   "metadata": {},
   "outputs": [],
   "source": []
  },
  {
   "cell_type": "code",
   "execution_count": 23,
   "metadata": {},
   "outputs": [],
   "source": [
    "textos_identidad = [\"identidad\",\"verified\"]\n",
    "t3 = \"identidad verificada\""
   ]
  },
  {
   "cell_type": "code",
   "execution_count": 30,
   "metadata": {},
   "outputs": [],
   "source": [
    "#res = [j for i,j in enumerate(t3) if j not in textos_identidad]\n",
    "#res\n",
    "def words_in_string(word_list, a_string):\n",
    "    \n",
    "    z = set(word_list).intersection(a_string.split())\n",
    "    "
   ]
  },
  {
   "cell_type": "code",
   "execution_count": 31,
   "metadata": {},
   "outputs": [
    {
     "data": {
      "text/plain": [
       "{'identidad'}"
      ]
     },
     "execution_count": 31,
     "metadata": {},
     "output_type": "execute_result"
    }
   ],
   "source": [
    "words_in_string(textos_identidad, t3)"
   ]
  },
  {
   "cell_type": "code",
   "execution_count": 44,
   "metadata": {},
   "outputs": [
    {
     "name": "stdout",
     "output_type": "stream",
     "text": [
      "15\n"
     ]
    }
   ],
   "source": [
    "string = \"yamete kudasai.otaku kun\"\n",
    "lista = [\"otaku\"]\n",
    "for x in lista:\n",
    "    print(string.find(x))"
   ]
  },
  {
   "cell_type": "code",
   "execution_count": 34,
   "metadata": {},
   "outputs": [
    {
     "name": "stdout",
     "output_type": "stream",
     "text": [
      "-1\n",
      "-1\n"
     ]
    }
   ],
   "source": [
    "s = \"kachame bien riko\"\n",
    "for x in lista:\n",
    "    print(s.find(x))"
   ]
  },
  {
   "cell_type": "code",
   "execution_count": 42,
   "metadata": {},
   "outputs": [
    {
     "name": "stdout",
     "output_type": "stream",
     "text": [
      "yamete kudasai otaku kun\n"
     ]
    }
   ],
   "source": [
    "if any(ext in string for ext in lista):\n",
    "    print(string)"
   ]
  },
  {
   "cell_type": "code",
   "execution_count": null,
   "metadata": {},
   "outputs": [],
   "source": [
    "textos_identidad = [\"identidad\",\"verified\"]\n",
    "t3 = \"identidad verificada\""
   ]
  },
  {
   "cell_type": "code",
   "execution_count": 43,
   "metadata": {},
   "outputs": [
    {
     "name": "stdout",
     "output_type": "stream",
     "text": [
      "si\n"
     ]
    }
   ],
   "source": [
    "if any(ext in t3 for ext in textos_identidad):\n",
    "    #idver.append(t3)\n",
    "    print(\"si\")"
   ]
  },
  {
   "cell_type": "code",
   "execution_count": 44,
   "metadata": {},
   "outputs": [],
   "source": [
    "import requests\n",
    "from bs4 import BeautifulSoup\n",
    "import time\n",
    "\n",
    "\n",
    "#url2 = \"https://www.airbnb.com.pe/rooms/38619376?adults=1&check_in=2023-04-08&check_out=2023-05-12&federated_search_id=577580e6-f39e-41a2-843d-0bafb9d566c4&source_impression_id=p3_1677295501_IWlq95rF2GWC6%2FzP\"\n",
    "url2 = \"https://www.airbnb.com.pe/rooms/28713559?adults=1&check_in=2023-03-10&check_out=2023-03-18&federated_search_id=12409202-a6d8-4454-8d96-4de230b55ad7&source_impression_id=p3_1677383531_HYUq2EgrS3FrMov8\"\n",
    "r = requests.get(url2)\n",
    "\n",
    "r.status_code\n",
    "\n",
    "s = BeautifulSoup(r.text,'lxml')\n",
    "\n",
    "\n",
    "from selenium import webdriver\n",
    "from selenium.webdriver import Keys\n",
    "from selenium.webdriver.support.ui import Select\n",
    "from selenium.webdriver.common.by import By"
   ]
  },
  {
   "cell_type": "code",
   "execution_count": 45,
   "metadata": {},
   "outputs": [
    {
     "name": "stderr",
     "output_type": "stream",
     "text": [
      "<ipython-input-45-1e3b6eee0013>:4: DeprecationWarning: executable_path has been deprecated, please pass in a Service object\n",
      "  driver = webdriver.Chrome(executable_path=r\"F:\\\\Chrome driver\\\\chromedriver.exe\", options = options)\n"
     ]
    }
   ],
   "source": [
    "options = webdriver.ChromeOptions()\n",
    "options.add_argument(\"--incognito\")\n",
    "\n",
    "driver = webdriver.Chrome(executable_path=r\"F:\\\\Chrome driver\\\\chromedriver.exe\", options = options)\n",
    "\n",
    "driver.get(url2)"
   ]
  },
  {
   "cell_type": "code",
   "execution_count": 91,
   "metadata": {},
   "outputs": [],
   "source": [
    "idver = []\n",
    "superanfitrion = []\n",
    "Promotor_abnb = []\n",
    "try:\n",
    "    ## Buscmas que es el huevas si es anfition, identidad verificada o si es promotor de abnb\n",
    "    ## La vaina es que hay varios con esa clase (gracias airbnb programmers hsdlagranputa) y pueden ir de 0 a 4 webds con la misma clase\n",
    "    ## entre ellos anfitrion, promotor, id_verificad, reseñas y quizá por ahi haya todavia alguna webda mas, ya se jode quien se lo chante\n",
    "    ## entonces iniciamos un bucle para hacer un match entre los textos extraidos de cada \"elemento\" (solo sirven ENG y ESP)\n",
    "    raa = driver.find_elements(By.XPATH, \"//span[@class='l1dfad8f dir dir-ltr']\")\n",
    "    \n",
    "    textos_identidad = [\"identidad\",\"verified\"]\n",
    "    super_huevon = [\"superanfitrión\", \"superhost\"]\n",
    "    airbnb_promotor = [\"airbnb.org\", \"promotor\"]\n",
    "    \n",
    "    ## hacemos un match de cada \"raa\" que serían las vainas esas idver,super,promotor para ver si esos sapos feos\n",
    "    for r in raa:\n",
    "        r = (r.text).lower()    \n",
    "        \n",
    "        if any(ext in r for ext in textos_identidad):\n",
    "            idver.append(r)\n",
    "\n",
    "        elif any(ext in r for ext in super_huevon):\n",
    "            superanfitrion.append(r)\n",
    "\n",
    "        elif any(ext in r for ext in airbnb_promotor):\n",
    "            Promotor_abnb.append(r) \n",
    "                            \n",
    "        else:\n",
    "            pass\n",
    "except:\n",
    "    pass"
   ]
  },
  {
   "cell_type": "code",
   "execution_count": 17,
   "metadata": {},
   "outputs": [],
   "source": [
    "name_anfitiron = []\n",
    "fecha_registro = []\n",
    "\n",
    "try:\n",
    "    ## Buscmas que idioma ladra roof\n",
    "    ## Como hay varios con esa clase, entonce sbuscamos el bloque y leugo dentro del bloque buscamos la clase.\n",
    "    \n",
    "    time.sleep(0.3)\n",
    "    block = driver.find_element(By.XPATH, \"//div[@class='tehcqxo dir dir-ltr']\")\n",
    "    name = block.find_element(By.XPATH, \".//h2[@class='hnwb2pb dir dir-ltr']\")\n",
    "    fecha_re = block.find_element(By.XPATH, \".//li[@class='l7n4lsf dir dir-ltr']\")\n",
    "    \n",
    "    time.sleep(0.6)\n",
    "    \n",
    "    fecha_re = fecha_re.text\n",
    "    fecha_re = fecha_re.lower()\n",
    "    \n",
    "    name = name.text\n",
    "    name = name.lower()\n",
    "    \n",
    "    ##Split texto para que quede solo el name  \"Anfitrion: Jorge\"\n",
    "    time.sleep(0.3)\n",
    "    nemu = name.split(\":\")\n",
    "    nemu = nemu[1]   ### Nos quedamos solo con el name de la vaina spltieada\n",
    "    nemu = nemu[1:]  ### Quitamos el primer space\n",
    "    time.sleep(0.3)\n",
    "    name_anfitiron.append(nemu)\n",
    "    \n",
    "    ## Split texto de fehca inscripcion para que solo quede el año\n",
    "    time.sleep(0.3)\n",
    "    fecha_re = fecha_re.split(\" \")\n",
    "    fecha_registro.append(fecha_re[-1])\n",
    "    time.sleep(0.3)\n",
    "    \n",
    "except:\n",
    "    pass"
   ]
  },
  {
   "cell_type": "code",
   "execution_count": 18,
   "metadata": {},
   "outputs": [
    {
     "data": {
      "text/plain": [
       "[' gomes de oliveira']"
      ]
     },
     "execution_count": 18,
     "metadata": {},
     "output_type": "execute_result"
    }
   ],
   "source": [
    "zona_de_trabajo = []\n",
    "acceso_sin_hr_restriccion = []\n",
    "cancelacion_gratis = []\n",
    "\n",
    "try:\n",
    "    ## Buscmas que idioma ladra roof\n",
    "    ## Como hay varios con esa clase, entonce sbuscamos el bloque y leugo dentro del bloque buscamos la clase.\n",
    "\n",
    "    bloques_minis = driver.find_elements(By.XPATH, \"//div[@class='_1qsawv5']\")\n",
    "    time.sleep(0.6)\n",
    "    \n",
    "    zonas = [\"zona\",\"workspace\"]\n",
    "    accessso = [\"acceso\", \"check-in\"]\n",
    "    gratuita_cance = [\"gratuita\", \"cancellation\"]\n",
    "    \n",
    "    for b in bloques_minis:\n",
    "        b = b.text\n",
    "        b = b.lower()\n",
    "        \n",
    "        time.sleep(0.4)\n",
    "        \n",
    "        if any(ext in b for ext in zonas):\n",
    "            si = \"si\"\n",
    "            zona_de_trabajo.append(si)\n",
    "\n",
    "        elif any(ext in r for ext in accessso):\n",
    "            si = \"si\"\n",
    "            acceso_sin_hr_restriccion.append(si)\n",
    "\n",
    "        elif any(ext in r for ext in gratuita_cance):\n",
    "            ### Aca ya tienes que hacer data cleaning o ver pa que te serviria\n",
    "            cancelacion_gratis.append(b)\n",
    "            \n",
    "        time.sleep(0.5)\n",
    "                            \n",
    "        else:\n",
    "            pass\n",
    "\n",
    "except:\n",
    "    pass"
   ]
  },
  {
   "cell_type": "code",
   "execution_count": 73,
   "metadata": {},
   "outputs": [],
   "source": [
    "dscto_mensual = []\n",
    "dscto_semanal = []\n",
    "tarifa_service = []\n",
    "tarifa_cleaning = []\n",
    "\n",
    "try:\n",
    "    ## Buscmas que idioma ladra roof\n",
    "    ## Como hay varios con esa clase, entonce sbuscamos el bloque y leugo dentro del bloque buscamos la clase.\n",
    "    \n",
    "    bloque_grande = driver.find_elements(By.XPATH, \"//div[@class='_1fpuhdl']\")\n",
    "    \n",
    "    \n",
    "    time.sleep(0.4)\n",
    "    \n",
    "    limpia = [\"limpieza\",\"cleaning\"]\n",
    "    servicio = [\"servicio\", \"service\"]\n",
    "    dscto = [\"descuento\", \"discount\"]\n",
    "    \n",
    "    coma=[\",\",\"S\",\"$\",\"U\",\"-\",\"/\"]\n",
    "    \n",
    "    for bloque in bloque_grande:\n",
    "        bloques_minis = bloque.find_elements(By.XPATH, \".//div[@class='_m6lwl6']\")\n",
    "        bloques_minis_dscto = bloque.find_elements(By.XPATH, \".//span[@class='_18x3iiu']\")\n",
    "        time.sleep(0.4)\n",
    "        \n",
    "        for b,c in zip(bloques_minis,bloques_minis_dscto):\n",
    "            be = b.text\n",
    "            be = be.lower()       ### be es del blqoue limpieza,service, s ehace mas facil con ese bloque:minis xq no hay \"/n\"\n",
    "            \n",
    "            time.sleep(0.4)\n",
    "            \n",
    "            ce = c.text         #### ce es del bloque de DESCUENTO xq los otros dos no son iguales a este\n",
    "            ce = ce.lower()\n",
    "\n",
    "            time.sleep(0.4)\n",
    "\n",
    "            if any(ext in be for ext in servicio):\n",
    "                si = bloque.find_element(By.XPATH, \".//span[@class='_1k4xcdh']\")\n",
    "                si = si.text\n",
    "                \n",
    "                time.sleep(0.4)\n",
    "\n",
    "                res=[j for i,j in enumerate(si) if j not in coma]\n",
    "                price = \"\".join(res)\n",
    "                price = int(price)\n",
    "\n",
    "                tarifa_service.append(price)\n",
    "\n",
    "                time.sleep(0.5)\n",
    "\n",
    "            elif any(ext in be for ext in limpia):\n",
    "                si = bloque.find_element(By.XPATH, \".//span[@class='_1k4xcdh']\")\n",
    "                si = si.text\n",
    "                \n",
    "                time.sleep(0.4)\n",
    "\n",
    "                res=[j for i,j in enumerate(si) if j not in coma]\n",
    "                price = \"\".join(res)\n",
    "                price = int(price)\n",
    "                \n",
    "                time.sleep(0.4)\n",
    "\n",
    "                tarifa_cleaning.append(price)\n",
    "\n",
    "                time.sleep(0.3)\n",
    "                \n",
    "            ## ya que hay descuentos semanasl, mensuales ttenemos que dividirlos en dos columnas diferentes\n",
    "            ## primero \"fitlramos\" si el webelement texto tiene la palabra DESCUENTO, y leugo sacamos si es sem o mens\n",
    "            elif any(ext in ce for ext in dscto):\n",
    "                dscto_mes = [\"monthly\", \"mensual\"]\n",
    "                dscto_sem = [\"weekly\", \"semanal\"]\n",
    "                \n",
    "                if any(ext in ce for ext in dscto_mes):\n",
    "                    \n",
    "                    si = bloque.find_element(By.XPATH, \".//span[@class='_1rc8xn5']\")\n",
    "                    si = si.text\n",
    "                \n",
    "                    time.sleep(0.4)\n",
    "                    ### ya que tiene simbolo de $ S/. etc y negativos (-) etc, tneemos que hace run cleaning previo para eso p\n",
    "                    ### \n",
    "                    res=[j for i,j in enumerate(si) if j not in coma]\n",
    "                    price = \"\".join(res)\n",
    "                    price = int(price)\n",
    "\n",
    "                    dscto_mensual.append(price)\n",
    "\n",
    "                    time.sleep(0.5)\n",
    "                    \n",
    "                elif any(ext in ce for ext in dscto_sem):\n",
    "                    \n",
    "                    si = bloque.find_element(By.XPATH, \".//span[@class='_1rc8xn5']\")\n",
    "                    si = si.text\n",
    "                \n",
    "                    time.sleep(0.4)\n",
    "                    ### ya que tiene simbolo de $ S/. etc y negativos (-) etc, tneemos que hace run cleaning previo para eso p\n",
    "                    ### \n",
    "                    res=[j for i,j in enumerate(si) if j not in coma]\n",
    "                    price = \"\".join(res)\n",
    "                    price = int(price)\n",
    "\n",
    "                    dscto_semanal.append(price)\n",
    "\n",
    "                    time.sleep(0.5)\n",
    "                    \n",
    "                else:\n",
    "                    pass\n",
    "\n",
    "            else:\n",
    "                pass\n",
    "\n",
    "except:\n",
    "    pass"
   ]
  },
  {
   "cell_type": "code",
   "execution_count": 75,
   "metadata": {},
   "outputs": [
    {
     "data": {
      "text/plain": [
       "[141]"
      ]
     },
     "execution_count": 75,
     "metadata": {},
     "output_type": "execute_result"
    }
   ],
   "source": [
    "tarifa_service"
   ]
  },
  {
   "cell_type": "code",
   "execution_count": 155,
   "metadata": {},
   "outputs": [],
   "source": [
    "idiomas = []\n",
    "resposne_rate = []\n",
    "response_time = []\n",
    "try:\n",
    "    ## Buscmas que idioma ladra roof, el indice de rpsta y el tiempo de rspsta\n",
    "    ## Como hay varios con esas 3 clases, entonce sbuscamos el bloque y leugo dentro del bloque buscamos las pre-clases \n",
    "    ## que serviran para hacer un match de subitulo con el contendio I.E: \"Tiempo de respuesta: en menos de una hora\".\n",
    "    ## con ese match hecho entonces buscamos la clase donde se encuentra el contenido par aextraerlo, solo si se encuentra ese match.\n",
    "    \n",
    "    bloque = driver.find_element(By.XPATH, \"//div[@class='_1k8vduze']\")\n",
    "    raa = bloque.find_elements(By.XPATH, \".//li[@class='f19phm7j dir dir-ltr']\")\n",
    "           \n",
    "    lenguaje = [\"idiomas\",\"languages\"]\n",
    "    response_rate = [\"índice\", \"rate\"]\n",
    "    resp_time = [\"time\", \"tiempo\"]\n",
    "    \n",
    "    ## hacemos un match de cada \"raa\"\n",
    "    for r in raa:\n",
    "        re = (r.text).lower()    \n",
    "        \n",
    "        if any(ext in re for ext in lenguaje):\n",
    "            ## caso exista el match entonces dentro de ese RAA que sería \"r\" se busca el contendio\n",
    "            languages = r.find_element(By.XPATH, \".//span[@class='ll4r2nl dir dir-ltr']\")\n",
    "            languages = languages.text\n",
    "            languages = languages.lower()\n",
    "            \n",
    "            coma = [\",\"]\n",
    "            ## Ya que algunos solo hablan un idioma tenemos que bsucar una forma de ahcer el append sin splitear:    \n",
    "            if any(ext in languages for ext in coma):\n",
    "            ##spliteamos los idiomas si se peude para tenerlo en una lista y simplificar el proceso de Data Explor o creacion d Algorit\n",
    "                l = languages.split(\",\")\n",
    "                idiomas.append(l)\n",
    "            else:\n",
    "                idiomas.append(languages)\n",
    "                    \n",
    "        elif any(ext in re for ext in response_rate):\n",
    "            languages = r.find_element(By.XPATH, \".//span[@class='ll4r2nl dir dir-ltr']\")\n",
    "            languages = languages.text\n",
    "            languages = languages.lower()\n",
    "            resposne_rate.append(languages)\n",
    "\n",
    "        elif any(ext in re for ext in resp_time):\n",
    "            languages = r.find_element(By.XPATH, \".//span[@class='ll4r2nl dir dir-ltr']\")\n",
    "            languages = languages.text\n",
    "            languages = languages.lower()\n",
    "            response_time.append(languages)\n",
    "        \n",
    "        else:\n",
    "            pass\n",
    "\n",
    "except:\n",
    "    pass"
   ]
  },
  {
   "cell_type": "code",
   "execution_count": 95,
   "metadata": {},
   "outputs": [],
   "source": [
    "servicios_solos = []\n",
    "\n",
    "bano_servicios = []\n",
    "dormitorio_lavadero = []\n",
    "entretenimiento = []\n",
    "\n",
    "familia = []\n",
    "calefaccion_refrigeracion = []\n",
    "seguridad_hogar = []\n",
    "\n",
    "internet_oficina = []\n",
    "utensilios_vajilla = []\n",
    "estacionamiento_instalaciones = []\n",
    "\n",
    "ubicacion_servicios = []\n",
    "exterior_servicios = []\n",
    "servicios_servicios = []\n",
    "\n",
    "\n",
    "\n",
    "no_incluidos = []\n",
    "    \n",
    "try:\n",
    "    ## Buscmas que idioma ladra roof, el indice de rpsta y el tiempo de rspsta\n",
    "    ## Como hay varios con esas 3 clases, entonce sbuscamos el bloque y leugo dentro del bloque buscamos las pre-clases \n",
    "    ## que serviran para hacer un match de subitulo con el contendio I.E: \"Tiempo de respuesta: en menos de una hora\".\n",
    "    ## con ese match hecho entonces buscamos la clase donde se encuentra el contenido par aextraerlo, solo si se encuentra ese match.\n",
    "    \n",
    "    boton_services = driver.find_element(By.XPATH, \"//button[@class='l1j9v1wn b65jmrv v7aged4 dir dir-ltr'][1]\")\n",
    "    boton_services.click()\n",
    "    \n",
    "    \n",
    "    #me posiciono en el pop up\n",
    "    bloque_pop = driver.find_element(By.XPATH, \"//div[@class='_1seuw5go']\")\n",
    "    ## COJO LOS H3 PARA PODER AHCE RUN BUCLE PA CADA UNO\n",
    "    ## cada h3 es un tipo_servicio que se brinda\n",
    "    ## y en cada tipo_servicio se da varios elementos IE cocina: Cocina, paltos, ollas, cubeirtos, extractor\n",
    "    los_h3 = bloque_pop.find_element(By.XPATH, \".//h3\")\n",
    "    \n",
    "    ### las listas par ahacer los matches:\n",
    "    bano_servicios_matc = [\"baño\", \"bathroom\"]\n",
    "    dormitorio_lavadero_matc = [\"dormitorio\", \"bedroom\"]\n",
    "    entretenimiento_matc = [\"entretenimiento\",\"entertainment\"]\n",
    "\n",
    "    familia_matc = [\"familia\",\"family\"]\n",
    "    calefaccion_refrigeracion_matc = [\"calefacción\",\"heating\"]\n",
    "    seguridad_hogar_matc = [\"seguridad\", \"safety\"]\n",
    "\n",
    "    internet_oficina_matc = [\"internet\"]\n",
    "    utensilios_vajilla_matc = [\"kitchen\",\"vajilla\"]\n",
    "    estacionamiento_instalaciones_matc = [\"estacionamiento\",\"parking\"]\n",
    "\n",
    "    ubicacion_servicios_matc = [\"ubicación\",\"location\"]\n",
    "    exterior_servicios_matc = [\"exterior\",\"outdoor\"]\n",
    "    servicios_servicios_matc = [\"servicios\",\"services\"]\n",
    "\n",
    "    no_incluidos_matc = [\"incluido\",\"included\"]\n",
    "    ### las listas par ahacer los matches DONE\n",
    "    \n",
    "    for x in los_h3:\n",
    "        h3_tipo_servicio = x.text.lower()\n",
    "        \n",
    "        servicio = x.find_element(By.XPATH, \".//div[@class='_gfomxi']\")\n",
    "        texto = servicio.text.lower()\n",
    "        \n",
    "    ## hacemos un match de cada \"raa\"\n",
    "        if any(ext in re for ext in lenguaje):\n",
    "            ## caso exista el match entonces dentro de ese RAA que sería \"r\" se busca el contendio\n",
    "            languages = r.find_element(By.XPATH, \".//span[@class='ll4r2nl dir dir-ltr']\")\n",
    "            languages = languages.text\n",
    "            languages = languages.lower()\n",
    "\n",
    "            coma = [\",\"]\n",
    "            ## Ya que algunos solo hablan un idioma tenemos que bsucar una forma de ahcer el append sin splitear:    \n",
    "            if any(ext in languages for ext in coma):\n",
    "            ##spliteamos los idiomas si se peude para tenerlo en una lista y simplificar el proceso de Data Explor o creacion d Algorit\n",
    "                l = languages.split(\",\")\n",
    "                idiomas.append(l)\n",
    "            else:\n",
    "                idiomas.append(languages)\n",
    "\n",
    "        elif any(ext in re for ext in response_rate):\n",
    "            languages = r.find_element(By.XPATH, \".//span[@class='ll4r2nl dir dir-ltr']\")\n",
    "            languages = languages.text\n",
    "            languages = languages.lower()\n",
    "            resposne_rate.append(languages)\n",
    "\n",
    "        elif any(ext in re for ext in resp_time):\n",
    "            languages = r.find_element(By.XPATH, \".//span[@class='ll4r2nl dir dir-ltr']\")\n",
    "            languages = languages.text\n",
    "            languages = languages.lower()\n",
    "            response_time.append(languages)\n",
    "\n",
    "        else:\n",
    "            pass\n",
    "\n",
    "except:\n",
    "    \n",
    "    bloque_servicios = driver.find_element(By.XPATH, \"//div[@class='_1byskwn']\")\n",
    "    raa = bloque_servicios.find_elements(By.XPATH, \".//div[@class='iikjzje i10xc1ab dir dir-ltr']\")\n",
    "    \n",
    "    for x in raa:\n",
    "        texto = x.text\n",
    "        texto = texto.lower()     \n",
    "        servicios_solos.append(texto)\n",
    "        \n",
    "    "
   ]
  },
  {
   "cell_type": "code",
   "execution_count": 158,
   "metadata": {},
   "outputs": [
    {
     "data": {
      "text/plain": [
       "['100%']"
      ]
     },
     "execution_count": 158,
     "metadata": {},
     "output_type": "execute_result"
    }
   ],
   "source": [
    "resposne_rate"
   ]
  },
  {
   "cell_type": "code",
   "execution_count": 156,
   "metadata": {},
   "outputs": [
    {
     "data": {
      "text/plain": [
       "['en menos de una hora']"
      ]
     },
     "execution_count": 156,
     "metadata": {},
     "output_type": "execute_result"
    }
   ],
   "source": [
    "response_time"
   ]
  },
  {
   "cell_type": "code",
   "execution_count": 31,
   "metadata": {},
   "outputs": [],
   "source": [
    "    block = driver.find_element(By.XPATH, \"//div[@class='_1fpuhdl'][2]\")\n",
    "    #languages = block.find_element(By.XPATH, \".//span[@class='ll4r2nl dir dir-ltr']\")\n",
    "    languages = block.text"
   ]
  },
  {
   "cell_type": "code",
   "execution_count": 32,
   "metadata": {},
   "outputs": [
    {
     "data": {
      "text/plain": [
       "'Tarifa de limpieza\\nMuestra el desglose del precio\\nS/20'"
      ]
     },
     "execution_count": 32,
     "metadata": {},
     "output_type": "execute_result"
    }
   ],
   "source": [
    "languages"
   ]
  },
  {
   "cell_type": "code",
   "execution_count": 95,
   "metadata": {},
   "outputs": [],
   "source": [
    "    \n",
    "    import datetime\n",
    "    \n",
    "    today = datetime.date.today()\n",
    "    \n",
    "    \n",
    "    ## Guardamos en un DF, puedes crear uno antes con un HEADER como el declarado abajo.\n",
    "    import csv     \n",
    "    \n",
    "    header = ['promotor', 'superanfitrion','idver','Date']\n",
    "    data = [Promotor_abnb, superanfitrion, idver , today]\n",
    "\n",
    "    with open('abnb.csv', 'a+', newline='', encoding='UTF8') as f:\n",
    "        writer = csv.writer(f)\n",
    "        writer.writerow(data)"
   ]
  },
  {
   "cell_type": "code",
   "execution_count": 96,
   "metadata": {},
   "outputs": [],
   "source": [
    "import pandas as pd\n",
    "daf = pd.read_csv(\"abnb.csv\")"
   ]
  },
  {
   "cell_type": "markdown",
   "metadata": {},
   "source": [
    "# Creo que una vez creas la lista, si no hay records, aparece como NULL cuando haces el append al DF, haz la prueba con justo este de arriba"
   ]
  },
  {
   "cell_type": "code",
   "execution_count": 97,
   "metadata": {},
   "outputs": [
    {
     "data": {
      "text/html": [
       "<div>\n",
       "<style scoped>\n",
       "    .dataframe tbody tr th:only-of-type {\n",
       "        vertical-align: middle;\n",
       "    }\n",
       "\n",
       "    .dataframe tbody tr th {\n",
       "        vertical-align: top;\n",
       "    }\n",
       "\n",
       "    .dataframe thead th {\n",
       "        text-align: right;\n",
       "    }\n",
       "</style>\n",
       "<table border=\"1\" class=\"dataframe\">\n",
       "  <thead>\n",
       "    <tr style=\"text-align: right;\">\n",
       "      <th></th>\n",
       "      <th>['promotor de airbnb.org']</th>\n",
       "      <th>['superanfitrión']</th>\n",
       "      <th>['identidad verificada']</th>\n",
       "      <th>2023-02-25</th>\n",
       "    </tr>\n",
       "  </thead>\n",
       "  <tbody>\n",
       "    <tr>\n",
       "      <th>0</th>\n",
       "      <td>['promotor de airbnb.org']</td>\n",
       "      <td>['superanfitrión']</td>\n",
       "      <td>['identidad verificada']</td>\n",
       "      <td>2023-02-25</td>\n",
       "    </tr>\n",
       "    <tr>\n",
       "      <th>1</th>\n",
       "      <td>[]</td>\n",
       "      <td>[]</td>\n",
       "      <td>['identidad verificada']</td>\n",
       "      <td>2023-02-25</td>\n",
       "    </tr>\n",
       "  </tbody>\n",
       "</table>\n",
       "</div>"
      ],
      "text/plain": [
       "   ['promotor de airbnb.org']  ['superanfitrión']  ['identidad verificada']  \\\n",
       "0  ['promotor de airbnb.org']  ['superanfitrión']  ['identidad verificada']   \n",
       "1                          []                  []  ['identidad verificada']   \n",
       "\n",
       "   2023-02-25  \n",
       "0  2023-02-25  \n",
       "1  2023-02-25  "
      ]
     },
     "execution_count": 97,
     "metadata": {},
     "output_type": "execute_result"
    }
   ],
   "source": [
    "daf"
   ]
  },
  {
   "cell_type": "code",
   "execution_count": 58,
   "metadata": {},
   "outputs": [
    {
     "data": {
      "text/plain": [
       "['Null']"
      ]
     },
     "execution_count": 58,
     "metadata": {},
     "output_type": "execute_result"
    }
   ],
   "source": []
  },
  {
   "cell_type": "code",
   "execution_count": 68,
   "metadata": {},
   "outputs": [],
   "source": [
    "url2 = \"https://www.airbnb.com.pe/rooms/38619376?adults=1&check_in=2023-04-08&check_out=2023-05-12&federated_search_id=577580e6-f39e-41a2-843d-0bafb9d566c4&source_impression_id=p3_1677295501_IWlq95rF2GWC6%2FzP\""
   ]
  },
  {
   "cell_type": "code",
   "execution_count": 60,
   "metadata": {},
   "outputs": [
    {
     "data": {
      "text/plain": [
       "['Null']"
      ]
     },
     "execution_count": 60,
     "metadata": {},
     "output_type": "execute_result"
    }
   ],
   "source": []
  },
  {
   "cell_type": "code",
   "execution_count": 159,
   "metadata": {},
   "outputs": [
    {
     "ename": "WebDriverException",
     "evalue": "Message: chrome not reachable\n  (Session info: chrome=105.0.5195.102)\nStacktrace:\nBacktrace:\n\tOrdinal0 [0x0083DF13+2219795]\n\tOrdinal0 [0x007D2841+1779777]\n\tOrdinal0 [0x006E4100+803072]\n\tOrdinal0 [0x006D9BF2+760818]\n\tOrdinal0 [0x006CC220+705056]\n\tOrdinal0 [0x00734F05+1134341]\n\tOrdinal0 [0x0072E7C3+1107907]\n\tOrdinal0 [0x00707F89+950153]\n\tOrdinal0 [0x00708F56+954198]\n\tGetHandleVerifier [0x00B32CB2+3040210]\n\tGetHandleVerifier [0x00B22BB4+2974420]\n\tGetHandleVerifier [0x008D6A0A+565546]\n\tGetHandleVerifier [0x008D5680+560544]\n\tOrdinal0 [0x007D9A5C+1808988]\n\tOrdinal0 [0x007DE3A8+1827752]\n\tOrdinal0 [0x007DE495+1827989]\n\tOrdinal0 [0x007E80A4+1867940]\n\tBaseThreadInitThunk [0x768C00F9+25]\n\tRtlGetAppContainerNamedObjectPath [0x77087BBE+286]\n\tRtlGetAppContainerNamedObjectPath [0x77087B8E+238]\n",
     "output_type": "error",
     "traceback": [
      "\u001b[1;31m---------------------------------------------------------------------------\u001b[0m",
      "\u001b[1;31mWebDriverException\u001b[0m                        Traceback (most recent call last)",
      "\u001b[1;32m<ipython-input-159-ad0c9a213c39>\u001b[0m in \u001b[0;36m<module>\u001b[1;34m\u001b[0m\n\u001b[1;32m----> 1\u001b[1;33m \u001b[0mdriver\u001b[0m\u001b[1;33m.\u001b[0m\u001b[0mclose\u001b[0m\u001b[1;33m(\u001b[0m\u001b[1;33m)\u001b[0m\u001b[1;33m\u001b[0m\u001b[1;33m\u001b[0m\u001b[0m\n\u001b[0m",
      "\u001b[1;32m~\\anaconda3\\lib\\site-packages\\selenium\\webdriver\\remote\\webdriver.py\u001b[0m in \u001b[0;36mclose\u001b[1;34m(self)\u001b[0m\n\u001b[0;32m    548\u001b[0m                 \u001b[0mdriver\u001b[0m\u001b[1;33m.\u001b[0m\u001b[0mclose\u001b[0m\u001b[1;33m(\u001b[0m\u001b[1;33m)\u001b[0m\u001b[1;33m\u001b[0m\u001b[1;33m\u001b[0m\u001b[0m\n\u001b[0;32m    549\u001b[0m         \"\"\"\n\u001b[1;32m--> 550\u001b[1;33m         \u001b[0mself\u001b[0m\u001b[1;33m.\u001b[0m\u001b[0mexecute\u001b[0m\u001b[1;33m(\u001b[0m\u001b[0mCommand\u001b[0m\u001b[1;33m.\u001b[0m\u001b[0mCLOSE\u001b[0m\u001b[1;33m)\u001b[0m\u001b[1;33m\u001b[0m\u001b[1;33m\u001b[0m\u001b[0m\n\u001b[0m\u001b[0;32m    551\u001b[0m \u001b[1;33m\u001b[0m\u001b[0m\n\u001b[0;32m    552\u001b[0m     \u001b[1;32mdef\u001b[0m \u001b[0mquit\u001b[0m\u001b[1;33m(\u001b[0m\u001b[0mself\u001b[0m\u001b[1;33m)\u001b[0m \u001b[1;33m->\u001b[0m \u001b[1;32mNone\u001b[0m\u001b[1;33m:\u001b[0m\u001b[1;33m\u001b[0m\u001b[1;33m\u001b[0m\u001b[0m\n",
      "\u001b[1;32m~\\anaconda3\\lib\\site-packages\\selenium\\webdriver\\remote\\webdriver.py\u001b[0m in \u001b[0;36mexecute\u001b[1;34m(self, driver_command, params)\u001b[0m\n\u001b[0;32m    426\u001b[0m         \u001b[0mresponse\u001b[0m \u001b[1;33m=\u001b[0m \u001b[0mself\u001b[0m\u001b[1;33m.\u001b[0m\u001b[0mcommand_executor\u001b[0m\u001b[1;33m.\u001b[0m\u001b[0mexecute\u001b[0m\u001b[1;33m(\u001b[0m\u001b[0mdriver_command\u001b[0m\u001b[1;33m,\u001b[0m \u001b[0mparams\u001b[0m\u001b[1;33m)\u001b[0m\u001b[1;33m\u001b[0m\u001b[1;33m\u001b[0m\u001b[0m\n\u001b[0;32m    427\u001b[0m         \u001b[1;32mif\u001b[0m \u001b[0mresponse\u001b[0m\u001b[1;33m:\u001b[0m\u001b[1;33m\u001b[0m\u001b[1;33m\u001b[0m\u001b[0m\n\u001b[1;32m--> 428\u001b[1;33m             \u001b[0mself\u001b[0m\u001b[1;33m.\u001b[0m\u001b[0merror_handler\u001b[0m\u001b[1;33m.\u001b[0m\u001b[0mcheck_response\u001b[0m\u001b[1;33m(\u001b[0m\u001b[0mresponse\u001b[0m\u001b[1;33m)\u001b[0m\u001b[1;33m\u001b[0m\u001b[1;33m\u001b[0m\u001b[0m\n\u001b[0m\u001b[0;32m    429\u001b[0m             response['value'] = self._unwrap_value(\n\u001b[0;32m    430\u001b[0m                 response.get('value', None))\n",
      "\u001b[1;32m~\\anaconda3\\lib\\site-packages\\selenium\\webdriver\\remote\\errorhandler.py\u001b[0m in \u001b[0;36mcheck_response\u001b[1;34m(self, response)\u001b[0m\n\u001b[0;32m    241\u001b[0m                 \u001b[0malert_text\u001b[0m \u001b[1;33m=\u001b[0m \u001b[0mvalue\u001b[0m\u001b[1;33m[\u001b[0m\u001b[1;34m'alert'\u001b[0m\u001b[1;33m]\u001b[0m\u001b[1;33m.\u001b[0m\u001b[0mget\u001b[0m\u001b[1;33m(\u001b[0m\u001b[1;34m'text'\u001b[0m\u001b[1;33m)\u001b[0m\u001b[1;33m\u001b[0m\u001b[1;33m\u001b[0m\u001b[0m\n\u001b[0;32m    242\u001b[0m             \u001b[1;32mraise\u001b[0m \u001b[0mexception_class\u001b[0m\u001b[1;33m(\u001b[0m\u001b[0mmessage\u001b[0m\u001b[1;33m,\u001b[0m \u001b[0mscreen\u001b[0m\u001b[1;33m,\u001b[0m \u001b[0mstacktrace\u001b[0m\u001b[1;33m,\u001b[0m \u001b[0malert_text\u001b[0m\u001b[1;33m)\u001b[0m  \u001b[1;31m# type: ignore[call-arg]  # mypy is not smart enough here\u001b[0m\u001b[1;33m\u001b[0m\u001b[1;33m\u001b[0m\u001b[0m\n\u001b[1;32m--> 243\u001b[1;33m         \u001b[1;32mraise\u001b[0m \u001b[0mexception_class\u001b[0m\u001b[1;33m(\u001b[0m\u001b[0mmessage\u001b[0m\u001b[1;33m,\u001b[0m \u001b[0mscreen\u001b[0m\u001b[1;33m,\u001b[0m \u001b[0mstacktrace\u001b[0m\u001b[1;33m)\u001b[0m\u001b[1;33m\u001b[0m\u001b[1;33m\u001b[0m\u001b[0m\n\u001b[0m",
      "\u001b[1;31mWebDriverException\u001b[0m: Message: chrome not reachable\n  (Session info: chrome=105.0.5195.102)\nStacktrace:\nBacktrace:\n\tOrdinal0 [0x0083DF13+2219795]\n\tOrdinal0 [0x007D2841+1779777]\n\tOrdinal0 [0x006E4100+803072]\n\tOrdinal0 [0x006D9BF2+760818]\n\tOrdinal0 [0x006CC220+705056]\n\tOrdinal0 [0x00734F05+1134341]\n\tOrdinal0 [0x0072E7C3+1107907]\n\tOrdinal0 [0x00707F89+950153]\n\tOrdinal0 [0x00708F56+954198]\n\tGetHandleVerifier [0x00B32CB2+3040210]\n\tGetHandleVerifier [0x00B22BB4+2974420]\n\tGetHandleVerifier [0x008D6A0A+565546]\n\tGetHandleVerifier [0x008D5680+560544]\n\tOrdinal0 [0x007D9A5C+1808988]\n\tOrdinal0 [0x007DE3A8+1827752]\n\tOrdinal0 [0x007DE495+1827989]\n\tOrdinal0 [0x007E80A4+1867940]\n\tBaseThreadInitThunk [0x768C00F9+25]\n\tRtlGetAppContainerNamedObjectPath [0x77087BBE+286]\n\tRtlGetAppContainerNamedObjectPath [0x77087B8E+238]\n"
     ]
    }
   ],
   "source": [
    "driver.close()"
   ]
  },
  {
   "cell_type": "code",
   "execution_count": 93,
   "metadata": {},
   "outputs": [
    {
     "name": "stdout",
     "output_type": "stream",
     "text": [
      "baño\n",
      "dormitorio y lavadero\n",
      "entretenimiento\n",
      "calefacción y refrigeración\n",
      "seguridad en el hogar\n",
      "internet y oficina\n",
      "utensilios y vajilla\n",
      "exterior\n",
      "estacionamiento e instalaciones\n",
      "servicios\n",
      "no incluidos\n"
     ]
    }
   ],
   "source": [
    "    \n",
    "    for x in los_h3:\n",
    "        h3_tipo_servicio = x.text.lower()\n",
    "        \n",
    "        print(h3_tipo_servicio)"
   ]
  },
  {
   "cell_type": "code",
   "execution_count": 90,
   "metadata": {},
   "outputs": [],
   "source": [
    "    bloque_pop = driver.find_element(By.XPATH, \"//div[@class='_1seuw5go']\")\n",
    "    \n",
    "    los_h3 = bloque_pop.find_elements(By.XPATH, \".//h3\")"
   ]
  },
  {
   "cell_type": "code",
   "execution_count": 91,
   "metadata": {},
   "outputs": [
    {
     "data": {
      "text/plain": [
       "11"
      ]
     },
     "execution_count": 91,
     "metadata": {},
     "output_type": "execute_result"
    }
   ],
   "source": [
    "len(los_h3)"
   ]
  },
  {
   "cell_type": "code",
   "execution_count": null,
   "metadata": {},
   "outputs": [],
   "source": [
    "driver.close()"
   ]
  }
 ],
 "metadata": {
  "kernelspec": {
   "display_name": "Python 3",
   "language": "python",
   "name": "python3"
  },
  "language_info": {
   "codemirror_mode": {
    "name": "ipython",
    "version": 3
   },
   "file_extension": ".py",
   "mimetype": "text/x-python",
   "name": "python",
   "nbconvert_exporter": "python",
   "pygments_lexer": "ipython3",
   "version": "3.8.3"
  }
 },
 "nbformat": 4,
 "nbformat_minor": 4
}
