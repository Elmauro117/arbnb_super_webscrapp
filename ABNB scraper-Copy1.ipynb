{
 "cells": [
  {
   "cell_type": "markdown",
   "metadata": {},
   "source": [
    "<img src='Abnb_logo.jpg'>"
   ]
  },
  {
   "cell_type": "code",
   "execution_count": 29,
   "metadata": {},
   "outputs": [],
   "source": [
    "import requests\n",
    "from bs4 import BeautifulSoup\n",
    "import time"
   ]
  },
  {
   "cell_type": "code",
   "execution_count": 30,
   "metadata": {},
   "outputs": [],
   "source": [
    "url = \"https://www.airbnb.com.pe/s/Paris/homes?tab_id=home_tab&refinement_paths%5B%5D=%2Fhomes&flexible_trip_lengths%5B%5D=one_week&price_filter_input_type=0&price_filter_num_nights=5&query=Par%C3%ADs%2C%20Francia&place_id=ChIJD7fiBh9u5kcRYJSMaMOCCwQ&date_picker_type=calendar&checkin=2023-04-19&checkout=2023-04-22&adults=1&source=structured_search_input_header&search_type=autocomplete_click\"\n",
    "\n",
    "r = requests.get(url)\n",
    "\n",
    "r.status_code\n",
    "\n",
    "s = BeautifulSoup(r.text,'lxml')\n",
    "\n",
    "\n",
    "from selenium import webdriver\n",
    "from selenium.webdriver import Keys\n",
    "from selenium.webdriver.support.ui import Select\n",
    "from selenium.webdriver.common.by import By"
   ]
  },
  {
   "cell_type": "code",
   "execution_count": 31,
   "metadata": {},
   "outputs": [
    {
     "name": "stderr",
     "output_type": "stream",
     "text": [
      "<ipython-input-31-1fd30b10088d>:4: DeprecationWarning: executable_path has been deprecated, please pass in a Service object\n",
      "  driver = webdriver.Chrome(executable_path=r\"F:\\\\Chrome driver\\\\chromedriver.exe\", options = options)\n"
     ]
    }
   ],
   "source": [
    "options = webdriver.ChromeOptions()\n",
    "options.add_argument(\"--incognito\")\n",
    "\n",
    "driver = webdriver.Chrome(executable_path=r\"F:\\\\Chrome driver\\\\chromedriver.exe\", options = options)\n",
    "\n",
    "driver.get(url)"
   ]
  },
  {
   "cell_type": "markdown",
   "metadata": {},
   "source": [
    "### OJO:\n",
    "##### Esta def obtener_info_principal(). No serviría apra el dataframe ya que son listas y no cada lista una col.\n",
    "##### al menos que las dividas en varias listas y hagas el append asi"
   ]
  },
  {
   "cell_type": "code",
   "execution_count": 32,
   "metadata": {},
   "outputs": [],
   "source": [
    "titles = []\n",
    "precios = []\n",
    "precios_noche = []\n",
    "camas = []\n",
    "hallazgos = []\n",
    "\n",
    "rates = []\n",
    "cantidad_rates_airbnb = []\n",
    "\n",
    "def obtener_info_principal():\n",
    "    ### Este es el bloque dond se sencuentra tiulo, precio, camas rate etc\n",
    "    bloques = driver.find_elements(By.XPATH, \"//div[@class='g1qv1ctd cb4nyux dir dir-ltr']\")\n",
    "    bloques = bloques[:4]\n",
    "\n",
    "    ### Este es e bloque dodne se enecuntra HALLAGOS\n",
    "    bloques_hallazgo = driver.find_elements(By.XPATH, \"//div[@class='c14dgvke dir dir-ltr']\")\n",
    "    bloques_hallazgo = bloques_hallazgo[:4]\n",
    "\n",
    "\n",
    "    ## para bloque en bloquese encontramos titulo, rpecio, etc\n",
    "    for x in bloques:   \n",
    "        time.sleep(1)\n",
    "        precio_total = x.find_element(By.XPATH, \".//div[@class='_tt122m']\")\n",
    "        precio_total = precio_total.find_element(By.XPATH, \".//span[@aria-hidden='true']\")\n",
    "        precio_total = precio_total.text\n",
    "\n",
    "        precio_total = precio_total.split()\n",
    "        vaina_1 = precio_total[0]\n",
    "        vaina_2 = vaina_1[2:]\n",
    "\n",
    "        # Tienes que eliminar las comas de los precios \n",
    "\n",
    "        coma=[\",\",\"S\",\"$\",\"U\",\"/\"]\n",
    "        res=[j for i,j in enumerate(vaina_2) if j not in coma]\n",
    "        price = \"\".join(res)\n",
    "        price = int(price)\n",
    "\n",
    "        time.sleep(1.6)\n",
    "\n",
    "\n",
    "\n",
    "                ### precio x noche, ya que este a veces no se encuentra usamos un TRY\n",
    "        try: \n",
    "            precio_noche = x.find_element(By.XPATH, \".//span[@class='_tyxjp1']\")\n",
    "            time.sleep(0.6)\n",
    "            precio_noche = precio_noche.text\n",
    "            precio_noche = precio_noche.split()\n",
    "            vaina_1_n = precio_noche[0]\n",
    "        except:\n",
    "            precio_noche = x.find_element(By.XPATH, \".//span[@class='_1y74zjx']\")\n",
    "            time.sleep(0.6)\n",
    "            precio_noche = precio_noche.text\n",
    "            precio_noche = precio_noche.split()\n",
    "            vaina_1_n = precio_noche[0]\n",
    "\n",
    "        #### OJO todo depende de la moneda en la que esté la vaina esta, si está en euro o sol peude que sea diferente\n",
    "        vaina_2_n = vaina_1_n[2:]\n",
    "\n",
    "        # Tienes que eliminar las comas de los precios \n",
    "\n",
    "        coma=[\",\",\"S\",\"$\",\"U\",\"/\"]\n",
    "        res=[j for i,j in enumerate(vaina_2_n) if j not in coma]\n",
    "        price_n = \"\".join(res)\n",
    "        price_n = int(price_n)\n",
    "\n",
    "        time.sleep(1)\n",
    "\n",
    "        cama = x.find_element(By.XPATH, \".//div[@class='f15liw5s s1cjsi4j dir dir-ltr'][2]\")\n",
    "        cama = cama.find_element(By.XPATH, \".//span[@class=' dir dir-ltr']\")\n",
    "        cama = cama.text\n",
    "        cama = cama.split()\n",
    "        cama = cama[0]\n",
    "        time.sleep(1)\n",
    "\n",
    "        title = x.find_element(By.XPATH, \".//div[@data-testid='listing-card-title']\")\n",
    "        title = title.text\n",
    "        time.sleep(1)\n",
    "\n",
    "        ## como algunos son neuvos no tienen rates\n",
    "        try: \n",
    "            rate = x.find_element(By.XPATH, \".//span[@class='r1dxllyb dir dir-ltr']\")\n",
    "            rate = rate.text\n",
    "            rate = rate.split()\n",
    "            rate_1 = rate[0]\n",
    "            rate_1 = float(rate_1)\n",
    "            cantidad_rates = rate[1]\n",
    "\n",
    "            coma=[\",\",\"(\",\")\",\"U\",\"/\"]\n",
    "            res=[j for i,j in enumerate(cantidad_rates) if j not in coma]\n",
    "            cantidad_rates = \"\".join(res)\n",
    "            cantidad_rates = int(cantidad_rates)\n",
    "\n",
    "            cantidad_rates_airbnb.append(cantidad_rates)\n",
    "            time.sleep(0.6)\n",
    "            rates.append(rate_1)\n",
    "            time.sleep(0.6)\n",
    "\n",
    "        except:\n",
    "            cantidad_rates_airbnb.append(\"Nuevo\")\n",
    "            time.sleep(0.6)\n",
    "            rates.append(\"Nuevo\")\n",
    "            time.sleep(0.6)\n",
    "\n",
    "        titles.append(title)\n",
    "        time.sleep(0.6)\n",
    "\n",
    "        precios.append(price)        \n",
    "        time.sleep(0.6)\n",
    "\n",
    "        precios_noche.append(price_n)        \n",
    "        time.sleep(0.6)\n",
    "\n",
    "        camas.append(cama)        \n",
    "        time.sleep(0.6)\n",
    "\n",
    "\n",
    "        ## como los hallazgos estna en otor loque uso ese bloque\n",
    "    for z in bloques_hallazgo:\n",
    "        time.sleep(0.6)\n",
    "        try:\n",
    "            time.sleep(0.6)\n",
    "            hallazgo_a = z.find_element(By.XPATH, \".//div[@class='t1mwk1n0 dir dir-ltr']\")\n",
    "            time.sleep(0.7)\n",
    "            hallazgo_a = hallazgo_a.text\n",
    "            time.sleep(0.3)\n",
    "            hallazgos.append(hallazgo_a)\n",
    "\n",
    "        except: \n",
    "            hallazgos.append(\"null\")"
   ]
  },
  {
   "cell_type": "code",
   "execution_count": 33,
   "metadata": {},
   "outputs": [],
   "source": [
    "obtener_info_principal()"
   ]
  },
  {
   "cell_type": "code",
   "execution_count": 34,
   "metadata": {},
   "outputs": [
    {
     "data": {
      "text/plain": [
       "[662, 638, 781, 711]"
      ]
     },
     "execution_count": 34,
     "metadata": {},
     "output_type": "execute_result"
    }
   ],
   "source": [
    "precios"
   ]
  },
  {
   "cell_type": "markdown",
   "metadata": {},
   "source": [
    "# Interactuar y mandar keys"
   ]
  },
  {
   "cell_type": "code",
   "execution_count": 35,
   "metadata": {},
   "outputs": [],
   "source": [
    "def partes_llegas(lugar_partida):\n",
    "    \n",
    "    donde_partes = driver.find_element(By.XPATH, \"//div[@class='f1xx50dm dir dir-ltr']\")\n",
    "    donde_partes.click()\n",
    "    ## Le das a click en el boton donde dice \"en cualqueir lguar del mundo\" osea donde buscas el lugar donde vas a estar p\n",
    "    \n",
    "    time.sleep(0.7)\n",
    "    #ivycze5 dir dir-ltr\n",
    "    ### clcikeas en donde vas a escribir Just in case\n",
    "    escribe_donde = driver.find_element(By.XPATH, \"//input[@class='ivycze5 dir dir-ltr']\")\n",
    "    escribe_donde.click()\n",
    "    \n",
    "    lugars = lugar_partida\n",
    "    \n",
    "    ## Envias el nombre del lguar letra por letra\n",
    "    for character in lugars:\n",
    "        escribe_donde.send_keys(character)\n",
    "        time.sleep(0.3)\n",
    "    \n",
    "    # clcikeas la primera opción, también puedes hacer un match del lugar exacto \n",
    "    clickea_el_primero = driver.find_element(By.XPATH, \"//div[@class='_r1t6ga']\")\n",
    "    clickea_el_primero.click()\n"
   ]
  },
  {
   "cell_type": "code",
   "execution_count": 36,
   "metadata": {},
   "outputs": [],
   "source": [
    "def repetir_mes_llegada(mes,dia):\n",
    "    \n",
    "    # clcik  en el button FECHA llegada a la ciudad o lugar\n",
    "    # directamente se clickea, asi que aca no es necesario\n",
    "    \n",
    "    ## encotramos el boton par avanzar mes SIGUIENTE, este caos es el segundo, tambien est el arie-label  : Haz clic en la flecha de la derecha para cambiar al mes siguiente.\n",
    "    bloque_button = driver.find_element(By.XPATH, \"//div[@class='_qz9x4fc']\")\n",
    "    boton = bloque_button.find_element(By.XPATH, \".//button[@type='button']\")\n",
    "    ### mandamos el mes a LWOER\n",
    "    mes = str(mes.lower())\n",
    "    \n",
    "    ## Cogemos los meses que aparecen en la webpage una vez hacemos click en fechas, en desktop son 2 mese sque aparecen \n",
    "\n",
    "    meses_llegada = driver.find_elements(By.XPATH, \"//h2[@class='_14i3z6h']\")\n",
    "    time.sleep(1)\n",
    "    meses_llegada = meses_llegada[1:3]\n",
    "    meses_llegada_1 = []\n",
    "\n",
    "    ## para cada mes en la lista de meses sacada arriba de la pagina, lo spliteamos, madnamos a lower y lo emtemos a una nueva lista\n",
    "    for x in meses_llegada:\n",
    "        texto = x.text\n",
    "        time.sleep(1)\n",
    "        texto = texto.split(\" \")\n",
    "        texto = texto[0].lower()\n",
    "        meses_llegada_1.append(texto)\n",
    "        time.sleep(1)\n",
    "\n",
    "    ## en caso el mes enviado en la DEF está en la lista se le manda el día y se cliclea el día\n",
    "    if mes in meses_llegada_1: \n",
    "        # el blqieu serían los calendarios de los 3 meses \n",
    "        bloque  = driver.find_elements(By.XPATH, \"//table[@class='_cvkwaj']\")\n",
    "        time.sleep(1)\n",
    "        # hay dos bloques extras fantamsas por lo tanto solo nos quedamos con los necesarios\n",
    "        bloque = bloque[1:3]\n",
    "        time.sleep(1)\n",
    "        ## BUSCAS POR \"NAME\" EN EL INDEX, osea busco por MES, dodne se posiciona para hacer el match\n",
    "        indice = meses_llegada_1.index(mes)\n",
    "        time.sleep(1)\n",
    "        bloque = bloque[indice]\n",
    "        time.sleep(1)\n",
    "        llegada = bloque.find_elements(By.XPATH, \".//td[@role='button']\")\n",
    "        x = dia\n",
    "        x = x-1    # te coje día +1 entonce sque sea *-1   esto por q tabaja con lista p y el indice comienza desde el 0 webas\n",
    "        time.sleep(1)\n",
    "        ## haces un amthc de dia igual que antes\n",
    "        fecha_que_quiero = llegada[x]\n",
    "        fecha_que_quiero.click()\n",
    "        \n",
    "        # si el mes enviado en el DEF NO ESTA en la lista, se clickea el boton \"SIGUEITNE MES\" hasta encontrarlo\n",
    "        \n",
    "    else:\n",
    "        boton.click()\n",
    "        time.sleep(1)\n",
    "        boton.click()\n",
    "        time.sleep(1)\n",
    "        repetir_mes(mes,dia)\n",
    "    \n",
    "    "
   ]
  },
  {
   "cell_type": "code",
   "execution_count": 50,
   "metadata": {},
   "outputs": [],
   "source": [
    " def repetir_mes_salida(mes,dia):\n",
    "    \n",
    "    # clcik  en el button FECHA llegada a la ciudad o lugar\n",
    "    # directamente se clickea, asi que aca no es necesario\n",
    "    \n",
    "\n",
    "    ## encotramos el boton par avanzar mes SIGUIENTE, este caos es el segundo, tambien est el arie-label  : Haz clic en la flecha de la derecha para cambiar al mes siguiente.\n",
    "    bloque_button = driver.find_element(By.XPATH, \"//div[@class='_qz9x4fc']\")\n",
    "    boton = bloque_button.find_element(By.XPATH, \".//button[@type='button']\")\n",
    "    ### mandamos el mes a LWOER\n",
    "    mes = str(mes.lower())\n",
    "    \n",
    "    ## Cogemos los meses que aparecen en la webpage una vez hacemos click en fechas, en desktop son 2 mese sque aparecen \n",
    "\n",
    "    meses_llegada = driver.find_elements(By.XPATH, \"//h2[@class='_14i3z6h']\")\n",
    "    time.sleep(1)\n",
    "    meses_llegada = meses_llegada[1:3]\n",
    "    meses_llegada_1 = []\n",
    "\n",
    "    ## para cada mes en la lista de meses sacada arriba de la pagina, lo spliteamos, madnamos a lower y lo emtemos a una nueva lista\n",
    "    for x in meses_llegada:\n",
    "        texto = x.text\n",
    "        time.sleep(1)\n",
    "        texto = texto.split(\" \")\n",
    "        texto = texto[0].lower()\n",
    "        meses_llegada_1.append(texto)\n",
    "        time.sleep(1)\n",
    "\n",
    "    ## en caso el mes enviado en la DEF está en la lista se le manda el día y se cliclea el día\n",
    "    if mes in meses_llegada_1: \n",
    "        # el blqieu serían los calendarios de los 3 meses \n",
    "        bloque  = driver.find_elements(By.XPATH, \"//table[@class='_cvkwaj']\")\n",
    "        time.sleep(1)\n",
    "        # hay dos loques extras fantamsas por lo tanto solo nos quedamos con los necesarios\n",
    "        bloque = bloque[1:3]\n",
    "        time.sleep(1)\n",
    "        ## BUSCAS POR \"NAME\" EN EL INDEX, osea busco por MES, dodne se posiciona para hacer el match\n",
    "        indice = meses_llegada_1.index(mes)\n",
    "        time.sleep(1)\n",
    "        bloque = bloque[indice]\n",
    "        time.sleep(1)\n",
    "        llegada = bloque.find_elements(By.XPATH, \".//td[@role='button']\")\n",
    "        x = dia\n",
    "        x = x-1    # te coje día +1 entonce sque sea *-1   esto por q tabaja con lista p y el indice comienza desde el 0 webas\n",
    "        time.sleep(1)\n",
    "        ## haces un amthc de dia igual que antes\n",
    "        fecha_que_quiero = llegada[x]\n",
    "        fecha_que_quiero.click()\n",
    "        \n",
    "        # si el mes enviado en el DEF NO ESTA en la lista, se clickea el boton \"SIGUEITNE MES\" hasta encontrarlo\n",
    "    else:\n",
    "        boton.click()\n",
    "        time.sleep(1)\n",
    "        boton.click()\n",
    "        time.sleep(1)\n",
    "        repetir_mes_salida(mes,dia)\n",
    "    "
   ]
  },
  {
   "cell_type": "code",
   "execution_count": 38,
   "metadata": {},
   "outputs": [],
   "source": [
    "def cuantos_pajeros(adultos=None,ninos=None,bebes=None,perros=None):\n",
    "    \n",
    "    if adultos == 0:\n",
    "        print(\"eres IDIOTA?\")\n",
    "        return\n",
    "    \n",
    "    click_cuantos = driver.find_element(By.XPATH, \"//div[@class='p1kudodg dir dir-ltr']\")\n",
    "    click_cuantos.click()\n",
    "    time.sleep(1)\n",
    "           \n",
    "\n",
    "    boomers = driver.find_element(By.XPATH, \"//div[@id='stepper-adults']\")\n",
    "    boomers_boton = boomers.find_element(By.XPATH, \".//button[@class='_ul9u8c'][2]\")\n",
    "    time.sleep(1)\n",
    "    \n",
    "    n = 0\n",
    "    if adultos is None or adultos == 1:\n",
    "        pass\n",
    "    else:\n",
    "        while n < adultos:\n",
    "                n += 1\n",
    "                time.sleep(0.3)\n",
    "                boomers_boton.click()\n",
    "    \n",
    "    \n",
    "    mocosos = driver.find_element(By.XPATH, \".//div[@id='stepper-children']\")\n",
    "    mocosos_boton = mocosos.find_element(By.XPATH, \".//button[@class='_ul9u8c'][2]\")\n",
    "    time.sleep(1)\n",
    "    n = 0\n",
    "    if ninos == 0 or ninos == None:\n",
    "        pass\n",
    "    else:\n",
    "        while n < ninos:\n",
    "            n += 1\n",
    "            time.sleep(0.4)\n",
    "            mocosos_boton.click()\n",
    "\n",
    "    time.sleep(1.7)\n",
    "       \n",
    "    wawas = driver.find_element(By.XPATH, \".//div[@id='stepper-infants']\")\n",
    "    wawas_boton = wawas.find_element(By.XPATH, \".//button[@class='_ul9u8c'][2]\")\n",
    "    time.sleep(1)\n",
    "    n = 0\n",
    "    if bebes == 0 or bebes == None:\n",
    "        pass\n",
    "    else:\n",
    "        while n < bebes:\n",
    "            n += 1\n",
    "            time.sleep(0.6)\n",
    "            wawas_boton.click()\n",
    "            \n",
    "    time.sleep(1.7)\n",
    " \n",
    "\n",
    "    mascotas = driver.find_element(By.XPATH, \".//div[@id='stepper-pets']\")\n",
    "    mascotas_boton = mascotas.find_element(By.XPATH, \".//button[@class='_ul9u8c'][2]\")\n",
    "    time.sleep(1)\n",
    "    n = 0\n",
    "    if perros == 0 or perros == None:\n",
    "        pass\n",
    "    else:\n",
    "        while n < perros:\n",
    "            n += 1\n",
    "            time.sleep(0.6)\n",
    "            mascotas_boton.click()\n",
    "            \n",
    "    time.sleep(1.7)\n"
   ]
  },
  {
   "cell_type": "code",
   "execution_count": 39,
   "metadata": {},
   "outputs": [],
   "source": [
    "def click_buscar():\n",
    "    \n",
    "    buscaras = driver.find_element(By.XPATH, \"//span[@class='t1l18xbv dir dir-ltr']\")\n",
    "    buscaras.click()"
   ]
  },
  {
   "cell_type": "markdown",
   "metadata": {},
   "source": [
    "## Acaban las interaciones y send kyes"
   ]
  },
  {
   "cell_type": "code",
   "execution_count": 61,
   "metadata": {},
   "outputs": [],
   "source": [
    "partes_llegas(\"Madrid\")"
   ]
  },
  {
   "cell_type": "code",
   "execution_count": 62,
   "metadata": {},
   "outputs": [],
   "source": [
    "repetir_mes_llegada(\"abril\",25)"
   ]
  },
  {
   "cell_type": "code",
   "execution_count": 63,
   "metadata": {},
   "outputs": [],
   "source": [
    "repetir_mes_salida(\"may\",29)"
   ]
  },
  {
   "cell_type": "code",
   "execution_count": 64,
   "metadata": {},
   "outputs": [],
   "source": [
    "cuantos_pajeros(2,1,1,1)"
   ]
  },
  {
   "cell_type": "code",
   "execution_count": 65,
   "metadata": {},
   "outputs": [],
   "source": [
    "click_buscar()\n",
    "## IATAAAA IATAAAAA YOOOOOOOOOO"
   ]
  },
  {
   "cell_type": "code",
   "execution_count": null,
   "metadata": {},
   "outputs": [],
   "source": []
  },
  {
   "cell_type": "code",
   "execution_count": 280,
   "metadata": {},
   "outputs": [
    {
     "data": {
      "text/plain": [
       "['Apartamento en Clichy',\n",
       " 'Habitación de hotel en París',\n",
       " 'Apartamento en París',\n",
       " 'Apartamento en París']"
      ]
     },
     "execution_count": 280,
     "metadata": {},
     "output_type": "execute_result"
    }
   ],
   "source": [
    "titles"
   ]
  },
  {
   "cell_type": "code",
   "execution_count": 281,
   "metadata": {},
   "outputs": [
    {
     "data": {
      "text/plain": [
       "[1715, 5499, 3561, 2512]"
      ]
     },
     "execution_count": 281,
     "metadata": {},
     "output_type": "execute_result"
    }
   ],
   "source": [
    "precios"
   ]
  },
  {
   "cell_type": "code",
   "execution_count": 282,
   "metadata": {},
   "outputs": [
    {
     "data": {
      "text/plain": [
       "[1715, 5499, 3561, 2512]"
      ]
     },
     "execution_count": 282,
     "metadata": {},
     "output_type": "execute_result"
    }
   ],
   "source": [
    "precios_noche"
   ]
  },
  {
   "cell_type": "code",
   "execution_count": 283,
   "metadata": {},
   "outputs": [
    {
     "data": {
      "text/plain": [
       "['2', '2', '2', '1']"
      ]
     },
     "execution_count": 283,
     "metadata": {},
     "output_type": "execute_result"
    }
   ],
   "source": [
    "camas"
   ]
  },
  {
   "cell_type": "code",
   "execution_count": 284,
   "metadata": {},
   "outputs": [
    {
     "data": {
      "text/plain": [
       "['Un hallazgo excepcional', None, None, 'Un hallazgo excepcional']"
      ]
     },
     "execution_count": 284,
     "metadata": {},
     "output_type": "execute_result"
    }
   ],
   "source": [
    "hallazgos"
   ]
  },
  {
   "cell_type": "code",
   "execution_count": 285,
   "metadata": {},
   "outputs": [
    {
     "data": {
      "text/plain": [
       "[['4.48', '(115)'], ['4.92', '(145)'], 'Nuevo', ['4.78', '(32)']]"
      ]
     },
     "execution_count": 285,
     "metadata": {},
     "output_type": "execute_result"
    }
   ],
   "source": [
    "rates"
   ]
  },
  {
   "cell_type": "code",
   "execution_count": 286,
   "metadata": {},
   "outputs": [
    {
     "data": {
      "text/plain": [
       "['(115)', '(145)', 'Nuevo', '(32)']"
      ]
     },
     "execution_count": 286,
     "metadata": {},
     "output_type": "execute_result"
    }
   ],
   "source": [
    "cantidad_rates_airbnb"
   ]
  },
  {
   "cell_type": "code",
   "execution_count": 46,
   "metadata": {},
   "outputs": [],
   "source": [
    " driver.switch_to.window(driver.window_handles[0])"
   ]
  },
  {
   "cell_type": "markdown",
   "metadata": {},
   "source": [
    "listas = hazlasasa sa s\n",
    "for x in listas:\n",
    "    for z in x:\n",
    "        l = list(z)\n",
    "    "
   ]
  },
  {
   "cell_type": "markdown",
   "metadata": {},
   "source": [
    "## SACAR INFO DE CADA AIRBNB,\n",
    "##### haciendo click en cada airbnb y scrapear sus vainas"
   ]
  },
  {
   "cell_type": "code",
   "execution_count": 1,
   "metadata": {},
   "outputs": [],
   "source": [
    "import requests\n",
    "from bs4 import BeautifulSoup\n",
    "import time"
   ]
  },
  {
   "cell_type": "code",
   "execution_count": 66,
   "metadata": {},
   "outputs": [],
   "source": [
    "url = \"https://www.airbnb.com.pe/s/Paris/homes?tab_id=home_tab&refinement_paths%5B%5D=%2Fhomes&flexible_trip_lengths%5B%5D=one_week&price_filter_input_type=0&price_filter_num_nights=5&query=Par%C3%ADs%2C%20Francia&place_id=ChIJD7fiBh9u5kcRYJSMaMOCCwQ&date_picker_type=calendar&checkin=2023-04-19&checkout=2023-04-22&adults=1&source=structured_search_input_header&search_type=autocomplete_click\"\n",
    "#url= \"https://www.airbnb.com.pe/rooms/710789383048240528?adults=1&check_in=2023-04-19&check_out=2023-04-22&federated_search_id=46fe1005-a6b6-4c5c-9f9d-8f4f2b66e20c&source_impression_id=p3_1676838689_a%2BpLM6Ws3w9IR4x5\"\n",
    "r = requests.get(url)\n",
    "\n",
    "r.status_code\n",
    "\n",
    "s = BeautifulSoup(r.text,'lxml')\n",
    "\n",
    "\n",
    "from selenium import webdriver\n",
    "from selenium.webdriver import Keys\n",
    "from selenium.webdriver.support.ui import Select\n",
    "from selenium.webdriver.common.by import By"
   ]
  },
  {
   "cell_type": "code",
   "execution_count": 67,
   "metadata": {},
   "outputs": [
    {
     "name": "stderr",
     "output_type": "stream",
     "text": [
      "<ipython-input-67-1fd30b10088d>:4: DeprecationWarning: executable_path has been deprecated, please pass in a Service object\n",
      "  driver = webdriver.Chrome(executable_path=r\"F:\\\\Chrome driver\\\\chromedriver.exe\", options = options)\n"
     ]
    }
   ],
   "source": [
    "options = webdriver.ChromeOptions()\n",
    "options.add_argument(\"--incognito\")\n",
    "\n",
    "driver = webdriver.Chrome(executable_path=r\"F:\\\\Chrome driver\\\\chromedriver.exe\", options = options)\n",
    "\n",
    "driver.get(url)"
   ]
  },
  {
   "cell_type": "markdown",
   "metadata": {},
   "source": [
    "### Before we scrap we need to create the CSV with the headers"
   ]
  },
  {
   "cell_type": "code",
   "execution_count": 68,
   "metadata": {},
   "outputs": [],
   "source": [
    "import csv\n",
    "header = ['date','titulo', 'huespedes','banos','verificado','habitaciones','camas','limpieza_rate','comunicacion_rate',\n",
    "          'llegada_rate','fiabilidad_rate','ubicacion_rate','precio_rate','reviews_lista','que_suerte','aircover','idver',\n",
    "          'superanfitrion','Promotor_abnb','name_anfitiron','fecha_registro',\n",
    "          'zona_de_trabajo','acceso_sin_hr_restriccion','cancelacion_gratis','dscto_mensual',\n",
    "          'dscto_semanal','tarifa_service','tarifa_cleaning','precio_noche_mes_week','precio_total',\n",
    "          'precio_original','q_resenas','puntaje_place','idiomas','resposne_rate','response_time',\n",
    "          'servicios_solos','bano_servicios','dormitorio_lavadero','entretenimiento','familia','calefaccion_refrigeracion',\n",
    "          'seguridad_hogar','internet_oficina','utensilios_vajilla','estacionamiento_instalaciones','ubicacion_servicios',\n",
    "          'exterior_servicios','servicios_servicios','no_incluidos','reglas_casa','seguridad_y_propiedad',\n",
    "          'politica_cancelacion']\n",
    "\n",
    "with open('abnb_SSS_scrapper.csv', 'w', newline='', encoding='UTF8') as f:\n",
    "    writer = csv.writer(f)\n",
    "    writer.writerow(header)"
   ]
  },
  {
   "cell_type": "code",
   "execution_count": 80,
   "metadata": {},
   "outputs": [],
   "source": [
    "### ESTE ES EL GRANDAZO QUE QUIERO AHCER\n",
    "\n",
    "\n",
    "    \n",
    "def get_todo_de_c_abnb():   \n",
    "    import datetime\n",
    "    import csv\n",
    "\n",
    "    ### Este es el bloque dond se sencuentra tiulo, precio, camas rate etc\n",
    "    try: \n",
    "        bloques = driver.find_elements(By.XPATH, \"//div[@class='g1qv1ctd cb4nyux dir dir-ltr']\")\n",
    "        bloques = bloques[5:7]\n",
    "        time.sleep(0.5)\n",
    "\n",
    "        ### Este es e bloque dodne se enecuntra HALLAGOS o la IMAGEN de cada abnb esa cosa. Ahi haremos click\n",
    "        ### para poder entrar a cada ABNB y sacar toda la info posible\n",
    "        bloques_hallazgo = driver.find_elements(By.XPATH, \"//div[@class='c14dgvke dir dir-ltr']\")\n",
    "        \n",
    "        bloques_hallazgo = bloques_hallazgo[5:7]\n",
    "        time.sleep(0.5)\n",
    "        \n",
    "\n",
    "        for x in bloques_hallazgo:   \n",
    "        \n",
    "            #### declaramos las listas en las que se va a hacer el APPEND\n",
    "            #### ---------------------------------------------------------------------------------------------\n",
    "            \n",
    "            global titulo_abnb\n",
    "\n",
    "            global huespedes\n",
    "            global banos\n",
    "            global verificados \n",
    "            global habitacion \n",
    "            global cama \n",
    "\n",
    "            global limpieza_rate\n",
    "            global comunicacion_rate \n",
    "            global llegada_rate\n",
    "            global fiabilidad_rate \n",
    "            global ubicacion_rate \n",
    "            global precio_rate\n",
    "\n",
    "            global reviews_lista\n",
    "\n",
    "            global que_suerte\n",
    "\n",
    "            global aircover \n",
    "            \n",
    "            \n",
    "            global idver\n",
    "            global superanfitrion\n",
    "            global Promotor_abnb \n",
    "            global name_anfitiron \n",
    "            global fecha_registro\n",
    "            \n",
    "            global zona_de_trabajo\n",
    "            global acceso_sin_hr_restriccion\n",
    "            global cancelacion_gratis \n",
    "            global dscto_mensual \n",
    "            global dscto_semanal\n",
    "            \n",
    "            global tarifa_service\n",
    "            global tarifa_cleaning\n",
    "            global precio_noche_mes_week \n",
    "            global precio_total \n",
    "            global precio_original\n",
    "            \n",
    "            global q_resenas \n",
    "            global puntaje_place\n",
    "\n",
    "            global idiomas \n",
    "            global resposne_rate\n",
    "            global response_time\n",
    "\n",
    "            global servicios_solos \n",
    "\n",
    "            global bano_servicios\n",
    "            global dormitorio_lavadero\n",
    "            global entretenimiento\n",
    "\n",
    "            global familia \n",
    "            global calefaccion_refrigeracion\n",
    "            global seguridad_hogar \n",
    "\n",
    "            global internet_oficina \n",
    "            global utensilios_vajilla \n",
    "            global estacionamiento_instalaciones\n",
    "\n",
    "            global ubicacion_servicios\n",
    "            global exterior_servicios\n",
    "            global servicios_servicios \n",
    "            global reglas_casa\n",
    "            global seguridad_y_propiedad\n",
    "            global politica_cancelacion\n",
    "            \n",
    "            ##### ARINONEKOOOOOOO ONO SHITUHEEEEEE\n",
    "            \n",
    "            titulo_abnb = []\n",
    "            huespedes = []\n",
    "            banos = []\n",
    "            verificados = []\n",
    "            habitacion = []\n",
    "            cama = []\n",
    "            limpieza_rate = []\n",
    "            comunicacion_rate = []\n",
    "            llegada_rate = []\n",
    "            fiabilidad_rate = []\n",
    "            ubicacion_rate = []\n",
    "            precio_rate = []\n",
    "            reviews_lista=[]\n",
    "            que_suerte = []\n",
    "            aircover = []       \n",
    "            \n",
    "            idver = []\n",
    "            superanfitrion = []\n",
    "            Promotor_abnb = []\n",
    "\n",
    "            name_anfitiron = []\n",
    "            fecha_registro = []\n",
    "\n",
    "\n",
    "            zona_de_trabajo = []\n",
    "            acceso_sin_hr_restriccion = []\n",
    "            cancelacion_gratis = []\n",
    "\n",
    "            dscto_mensual = []\n",
    "            dscto_semanal = []\n",
    "            tarifa_service = []\n",
    "            tarifa_cleaning = []\n",
    "            precio_noche_mes_week = []\n",
    "            precio_total = []\n",
    "            precio_original = []\n",
    "\n",
    "            q_resenas = []\n",
    "            puntaje_place = []\n",
    "\n",
    "            idiomas = []\n",
    "            resposne_rate = []\n",
    "            response_time = []\n",
    "\n",
    "            servicios_solos = []\n",
    "            bano_servicios = []\n",
    "            dormitorio_lavadero = []\n",
    "            entretenimiento = []\n",
    "            familia = []\n",
    "            calefaccion_refrigeracion = []\n",
    "            seguridad_hogar = []\n",
    "            internet_oficina = []\n",
    "            utensilios_vajilla = []\n",
    "            estacionamiento_instalaciones = []\n",
    "            ubicacion_servicios = []\n",
    "            exterior_servicios = []\n",
    "            servicios_servicios = []\n",
    "            reglas_casa = []\n",
    "            seguridad_y_propiedad = []\n",
    "            politica_cancelacion = []\n",
    "            \n",
    "                        \n",
    "            #### ---------------------------------------------------------------------------------------------\n",
    "            \n",
    "            \n",
    "            time.sleep(10.6)\n",
    "            x.click()\n",
    "            time.sleep(1.8)\n",
    "\n",
    "            print(driver.current_url)            \n",
    "            time.sleep(0.6)\n",
    "\n",
    "            driver.switch_to.window(driver.window_handles[1])\n",
    "            time.sleep(2.2)\n",
    "            \n",
    "            print(driver.current_url)    \n",
    "            \n",
    "            time.sleep(1.5)\n",
    "\n",
    "            try:\n",
    "                cerrar_pop_up = driver.find_element(By.XPATH, \"//div[@class='_1piuevz']\")\n",
    "                cerrar_pop_up.click()\n",
    "                time.sleep(0.8)\n",
    "\n",
    "            except:\n",
    "                pass\n",
    "            \n",
    "            ## entonces para cada uno corremos las definicioes que scrapean las cosas de los ABNBs\n",
    "            get_importantes_abnb()\n",
    "            time.sleep(0.8)\n",
    "            get_things_del_anfi()\n",
    "            time.sleep(0.8)\n",
    "            get_name_del_anfi()\n",
    "            time.sleep(0.8)\n",
    "            get_cosas_abnb()\n",
    "            time.sleep(0.8)\n",
    "            get_prices_dscts_abnb()\n",
    "            time.sleep(0.8)\n",
    "            communication_anfit()\n",
    "            time.sleep(0.8)\n",
    "            get_servicios_abnb()\n",
    "            time.sleep(0.8)\n",
    "            politicas_abnb()\n",
    "            time.sleep(0.8)            \n",
    "            \n",
    "            \n",
    "            date = datetime.date.today()\n",
    "            \n",
    "            data =     [date, titulo_abnb,huespedes, banos , verificados ,habitacion , cama , limpieza_rate , \n",
    "            comunicacion_rate , llegada_rate , fiabilidad_rate , ubicacion_rate , precio_rate , reviews_lista, \n",
    "            que_suerte , aircover , idver , superanfitrion , Promotor_abnb , name_anfitiron , \n",
    "            fecha_registro , zona_de_trabajo ,acceso_sin_hr_restriccion , cancelacion_gratis ,dscto_mensual ,\n",
    "            dscto_semanal , tarifa_service ,tarifa_cleaning , precio_noche_mes_week , precio_total ,\n",
    "            precio_original , q_resenas , puntaje_place , idiomas , resposne_rate , response_time ,            \n",
    "            servicios_solos , bano_servicios , dormitorio_lavadero , entretenimiento , familia , calefaccion_refrigeracion ,\n",
    "            seguridad_hogar , internet_oficina , utensilios_vajilla , estacionamiento_instalaciones , ubicacion_servicios ,\n",
    "            exterior_servicios , servicios_servicios , no_incluidos , reglas_casa , seguridad_y_propiedad ,\n",
    "            politica_cancelacion]            \n",
    "            \n",
    "            ### NTES DE AHCERLO REVISA SI ES SOBREESCRITO O RECIEN NUEVO\n",
    "            with open('abnb_SSS_scrapper.csv', 'a+', newline='', encoding='UTF8') as f:\n",
    "                writer = csv.writer(f)\n",
    "                writer.writerow(data)\n",
    "            \n",
    "            time.sleep(3.8)\n",
    "            \n",
    "            ## regresamos a la pagina donde están todas las opciones de abnbs que tenemos\n",
    "            driver.close()\n",
    "            time.sleep(2)\n",
    "            driver.switch_to.window(driver.window_handles[0])\n",
    "\n",
    "    except:\n",
    "        pass\n",
    "    "
   ]
  },
  {
   "cell_type": "code",
   "execution_count": 81,
   "metadata": {},
   "outputs": [
    {
     "name": "stdout",
     "output_type": "stream",
     "text": [
      "https://www.airbnb.com.pe/s/Paris/homes?tab_id=home_tab&refinement_paths%5B%5D=%2Fhomes&flexible_trip_lengths%5B%5D=one_week&price_filter_input_type=0&price_filter_num_nights=5&query=Par%C3%ADs%2C%20Francia&place_id=ChIJD7fiBh9u5kcRYJSMaMOCCwQ&date_picker_type=calendar&checkin=2023-04-19&checkout=2023-04-22&adults=1&source=structured_search_input_header&search_type=autocomplete_click\n",
      "https://www.airbnb.com.pe/rooms/710789383048240528?adults=1&check_in=2023-04-19&check_out=2023-04-22&federated_search_id=c2b6188a-9d2b-4b10-b874-8fa7f3540640&source_impression_id=p3_1677982691_tcBw19ueRId9aXZV\n",
      "https://www.airbnb.com.pe/s/Paris/homes?tab_id=home_tab&refinement_paths%5B%5D=%2Fhomes&flexible_trip_lengths%5B%5D=one_week&price_filter_input_type=0&price_filter_num_nights=5&query=Par%C3%ADs%2C%20Francia&place_id=ChIJD7fiBh9u5kcRYJSMaMOCCwQ&date_picker_type=calendar&checkin=2023-04-19&checkout=2023-04-22&adults=1&source=structured_search_input_header&search_type=autocomplete_click\n",
      "https://www.airbnb.com.pe/rooms/17974561?adults=1&check_in=2023-04-19&check_out=2023-04-22&federated_search_id=c2b6188a-9d2b-4b10-b874-8fa7f3540640&source_impression_id=p3_1677982804_gpHq7UA4Aq6sfnkk\n"
     ]
    }
   ],
   "source": [
    "get_todo_de_c_abnb()"
   ]
  },
  {
   "cell_type": "code",
   "execution_count": 111,
   "metadata": {},
   "outputs": [],
   "source": [
    "driver.switch_to.window(driver.window_handles[0])"
   ]
  },
  {
   "cell_type": "code",
   "execution_count": null,
   "metadata": {},
   "outputs": [],
   "source": []
  },
  {
   "cell_type": "code",
   "execution_count": null,
   "metadata": {},
   "outputs": [],
   "source": []
  },
  {
   "cell_type": "code",
   "execution_count": 82,
   "metadata": {},
   "outputs": [
    {
     "data": {
      "text/html": [
       "<div>\n",
       "<style scoped>\n",
       "    .dataframe tbody tr th:only-of-type {\n",
       "        vertical-align: middle;\n",
       "    }\n",
       "\n",
       "    .dataframe tbody tr th {\n",
       "        vertical-align: top;\n",
       "    }\n",
       "\n",
       "    .dataframe thead th {\n",
       "        text-align: right;\n",
       "    }\n",
       "</style>\n",
       "<table border=\"1\" class=\"dataframe\">\n",
       "  <thead>\n",
       "    <tr style=\"text-align: right;\">\n",
       "      <th></th>\n",
       "      <th>date</th>\n",
       "      <th>titulo</th>\n",
       "      <th>huespedes</th>\n",
       "      <th>banos</th>\n",
       "      <th>verificado</th>\n",
       "      <th>habitaciones</th>\n",
       "      <th>camas</th>\n",
       "      <th>limpieza_rate</th>\n",
       "      <th>comunicacion_rate</th>\n",
       "      <th>llegada_rate</th>\n",
       "      <th>fiabilidad_rate</th>\n",
       "      <th>ubicacion_rate</th>\n",
       "      <th>precio_rate</th>\n",
       "      <th>reviews_lista</th>\n",
       "      <th>que_suerte</th>\n",
       "      <th>aircover</th>\n",
       "      <th>idver</th>\n",
       "      <th>superanfitrion</th>\n",
       "      <th>Promotor_abnb</th>\n",
       "      <th>name_anfitiron</th>\n",
       "      <th>fecha_registro</th>\n",
       "      <th>zona_de_trabajo</th>\n",
       "      <th>acceso_sin_hr_restriccion</th>\n",
       "      <th>cancelacion_gratis</th>\n",
       "      <th>dscto_mensual</th>\n",
       "      <th>dscto_semanal</th>\n",
       "      <th>tarifa_service</th>\n",
       "      <th>tarifa_cleaning</th>\n",
       "      <th>precio_noche_mes_week</th>\n",
       "      <th>precio_total</th>\n",
       "      <th>precio_original</th>\n",
       "      <th>q_resenas</th>\n",
       "      <th>puntaje_place</th>\n",
       "      <th>idiomas</th>\n",
       "      <th>resposne_rate</th>\n",
       "      <th>response_time</th>\n",
       "      <th>servicios_solos</th>\n",
       "      <th>bano_servicios</th>\n",
       "      <th>dormitorio_lavadero</th>\n",
       "      <th>entretenimiento</th>\n",
       "      <th>familia</th>\n",
       "      <th>calefaccion_refrigeracion</th>\n",
       "      <th>seguridad_hogar</th>\n",
       "      <th>internet_oficina</th>\n",
       "      <th>utensilios_vajilla</th>\n",
       "      <th>estacionamiento_instalaciones</th>\n",
       "      <th>ubicacion_servicios</th>\n",
       "      <th>exterior_servicios</th>\n",
       "      <th>servicios_servicios</th>\n",
       "      <th>no_incluidos</th>\n",
       "      <th>reglas_casa</th>\n",
       "      <th>seguridad_y_propiedad</th>\n",
       "      <th>politica_cancelacion</th>\n",
       "    </tr>\n",
       "  </thead>\n",
       "  <tbody>\n",
       "    <tr>\n",
       "      <th>0</th>\n",
       "      <td>2023-03-04</td>\n",
       "      <td>['habitación compartida en alojamiento - anfitrión: guoxi']</td>\n",
       "      <td>['1 huésped']</td>\n",
       "      <td>[' · 3 baños compartidos']</td>\n",
       "      <td>[]</td>\n",
       "      <td>[' · 1 habitación']</td>\n",
       "      <td>[' · 1 cama']</td>\n",
       "      <td>['4.9']</td>\n",
       "      <td>['4.9']</td>\n",
       "      <td>['4.9']</td>\n",
       "      <td>['4.8']</td>\n",
       "      <td>['4.7']</td>\n",
       "      <td>['4.9']</td>\n",
       "      <td>[['Muy cómodo, sector tranquilo y cercano del metro.', 'Excelente ubicación y excelente trato por el personal. Un lugar muy tranquilo y demasiado cerca del metro', 'El lugar tal como se describe en el anuncio, muy limpio, el wifi no es súper rápido pero funciona bien, todas las áreas correctas, los anfitriones amables, a pesar de no hablar mucho inglés, buscaban la forma de entender', 'Un excelente lugar para pasar la noche, alojarse y conocer Paris. ¡Que genial haber encontrado este lugar!', 'Guoxi estaba bien organizado, era acogedor y atento. La cocina, los baños y los alojamientos para dormir fueron recientemente remodelados y muy funcionales. El espacio del refrigerador era amplio. La falta de detectores de monóxido de carbono NO era importante, ya que todos los electrodomésticos eran eléctricos, y la calefacción central se suministraba a través de la circulación de agua en los radiadores de pared.', 'bonito lugar', 'muy bien , volveré seguro , mercado, metro, todo cerca ... me ayudó mucho porque no hablaba francés ni inglés... gracias amigo Oss', 'Pasé varias noches en casa de Guoxi y aprecié tener un dormitorio solo;)\\nEl baño es funcional y la cocina es amplia pero no muy climatizada...\\nAgradezco al anfitrión que me haya permitido aparcar la bicicleta dentro, porque viajaba a París todas las mañanas.', '¡Un alojamiento fantástico! ¡Guoxi es muy agradable y servicial! ¡No se puede pedir más!', 'El anfitrión es una persona sumamente amable y servicial. La casa está lejos a pie del centro, pero la parada de metro está muy cerca. Estaba extremadamente satisfecho, lo recomiendo encarecidamente si estás buscando alojamiento en París.', '¡Perfecto!', '¡Me encantó el anfitrión y me ayudó mucho!', 'Todo estuvo excelente, no hay nada de que quejarse', 'Todo bien', 'Alojamiento sencillo pero estupendo en París.\\nEl alojamiento está a 5 minutos a pie del metro, lo que hace que sea fácil llegar al centro de la ciudad.\\nEl hostal se limpia a menudo, lo que lo hace sentir limpio y ordenado', 'Una de las mejores opciones para viajes económicos en París.\\nLos compañeros de piso limpios, acogedores y amables, y la ubicación es fantástica.', 'Todo lo mejor, el anfitrión realmente se esforzó por hacer que mi estancia fuera buena berirer de idioma. Pequeño albergue familiar con todas las cosas básicas en una buena ubicación.', 'Alojamiento muy útil para unos cuantos viajeros solitarios que llevan unos días en París. Limpio y cerca del metro. Buen barrio', 'Gracias Guoxi !!!', 'Hola,\\n\\ntodo fue en el buen sentido, recuerdos encantadores. Un gran detalle ayudando en todo. No muy lejos del metro. Gran lugar para alojarse con un presupuesto asequible.', 'Fue una estancia muy agradable, un lugar genial y gente amable... El metro está justo al final de la manzana, fácil acceso a la ciudad'], ['Muy cómodo, sector tranquilo y cercano del metro.', 'Excelente ubicación y excelente trato por el personal. Un lugar muy tranquilo y demasiado cerca del metro', 'El lugar tal como se describe en el anuncio, muy limpio, el wifi no es súper rápido pero funciona bien, todas las áreas correctas, los anfitriones amables, a pesar de no hablar mucho inglés, buscaban la forma de entender', 'Un excelente lugar para pasar la noche, alojarse y conocer Paris. ¡Que genial haber encontrado este lugar!', 'Guoxi estaba bien organizado, era acogedor y atento. La cocina, los baños y los alojamientos para dormir fueron recientemente remodelados y muy funcionales. El espacio del refrigerador era amplio. La falta de detectores de monóxido de carbono NO era importante, ya que todos los electrodomésticos eran eléctricos, y la calefacción central se suministraba a través de la circulación de agua en los radiadores de pared.', 'bonito lugar', 'muy bien , volveré seguro , mercado, metro, todo cerca ... me ayudó mucho porque no hablaba francés ni inglés... gracias amigo Oss', 'Pasé varias noches en casa de Guoxi y aprecié tener un dormitorio solo;)\\nEl baño es funcional y la cocina es amplia pero no muy climatizada...\\nAgradezco al anfitrión que me haya permitido aparcar la bicicleta dentro, porque viajaba a París todas las mañanas.', '¡Un alojamiento fantástico! ¡Guoxi es muy agradable y servicial! ¡No se puede pedir más!', 'El anfitrión es una persona sumamente amable y servicial. La casa está lejos a pie del centro, pero la parada de metro está muy cerca. Estaba extremadamente satisfecho, lo recomiendo encarecidamente si estás buscando alojamiento en París.', '¡Perfecto!', '¡Me encantó el anfitrión y me ayudó mucho!', 'Todo estuvo excelente, no hay nada de que quejarse', 'Todo bien', 'Alojamiento sencillo pero estupendo en París.\\nEl alojamiento está a 5 minutos a pie del metro, lo que hace que sea fácil llegar al centro de la ciudad.\\nEl hostal se limpia a menudo, lo que lo hace sentir limpio y ordenado', 'Una de las mejores opciones para viajes económicos en París.\\nLos compañeros de piso limpios, acogedores y amables, y la ubicación es fantástica.', 'Todo lo mejor, el anfitrión realmente se esforzó por hacer que mi estancia fuera buena berirer de idioma. Pequeño albergue familiar con todas las cosas básicas en una buena ubicación.', 'Alojamiento muy útil para unos cuantos viajeros solitarios que llevan unos días en París. Limpio y cerca del metro. Buen barrio', 'Gracias Guoxi !!!', 'Hola,\\n\\ntodo fue en el buen sentido, recuerdos encantadores. Un gran detalle ayudando en todo. No muy lejos del metro. Gran lugar para alojarse con un presupuesto asequible.', 'Fue una estancia muy agradable, un lugar genial y gente amable... El metro está justo al final de la manzana, fácil acceso a la ciudad'], ['Muy cómodo, sector tranquilo y cercano del metro.', 'Excelente ubicación y excelente trato por el personal. Un lugar muy tranquilo y demasiado cerca del metro', 'El lugar tal como se describe en el anuncio, muy limpio, el wifi no es súper rápido pero funciona bien, todas las áreas correctas, los anfitriones amables, a pesar de no hablar mucho inglés, buscaban la forma de entender', 'Un excelente lugar para pasar la noche, alojarse y conocer Paris. ¡Que genial haber encontrado este lugar!', 'Guoxi estaba bien organizado, era acogedor y atento. La cocina, los baños y los alojamientos para dormir fueron recientemente remodelados y muy funcionales. El espacio del refrigerador era amplio. La falta de detectores de monóxido de carbono NO era importante, ya que todos los electrodomésticos eran eléctricos, y la calefacción central se suministraba a través de la circulación de agua en los radiadores de pared.', 'bonito lugar', 'muy bien , volveré seguro , mercado, metro, todo cerca ... me ayudó mucho porque no hablaba francés ni inglés... gracias amigo Oss', 'Pasé varias noches en casa de Guoxi y aprecié tener un dormitorio solo;)\\nEl baño es funcional y la cocina es amplia pero no muy climatizada...\\nAgradezco al anfitrión que me haya permitido aparcar la bicicleta dentro, porque viajaba a París todas las mañanas.', '¡Un alojamiento fantástico! ¡Guoxi es muy agradable y servicial! ¡No se puede pedir más!', 'El anfitrión es una persona sumamente amable y servicial. La casa está lejos a pie del centro, pero la parada de metro está muy cerca. Estaba extremadamente satisfecho, lo recomiendo encarecidamente si estás buscando alojamiento en París.', '¡Perfecto!', '¡Me encantó el anfitrión y me ayudó mucho!', 'Todo estuvo excelente, no hay nada de que quejarse', 'Todo bien', 'Alojamiento sencillo pero estupendo en París.\\nEl alojamiento está a 5 minutos a pie del metro, lo que hace que sea fácil llegar al centro de la ciudad.\\nEl hostal se limpia a menudo, lo que lo hace sentir limpio y ordenado', 'Una de las mejores opciones para viajes económicos en París.\\nLos compañeros de piso limpios, acogedores y amables, y la ubicación es fantástica.', 'Todo lo mejor, el anfitrión realmente se esforzó por hacer que mi estancia fuera buena berirer de idioma. Pequeño albergue familiar con todas las cosas básicas en una buena ubicación.', 'Alojamiento muy útil para unos cuantos viajeros solitarios que llevan unos días en París. Limpio y cerca del metro. Buen barrio', 'Gracias Guoxi !!!', 'Hola,\\n\\ntodo fue en el buen sentido, recuerdos encantadores. Un gran detalle ayudando en todo. No muy lejos del metro. Gran lugar para alojarse con un presupuesto asequible.', 'Fue una estancia muy agradable, un lugar genial y gente amable... El metro está justo al final de la manzana, fácil acceso a la ciudad'], ['Muy cómodo, sector tranquilo y cercano del metro.', 'Excelente ubicación y excelente trato por el personal. Un lugar muy tranquilo y demasiado cerca del metro', 'El lugar tal como se describe en el anuncio, muy limpio, el wifi no es súper rápido pero funciona bien, todas las áreas correctas, los anfitriones amables, a pesar de no hablar mucho inglés, buscaban la forma de entender', 'Un excelente lugar para pasar la noche, alojarse y conocer Paris. ¡Que genial haber encontrado este lugar!', 'Guoxi estaba bien organizado, era acogedor y atento. La cocina, los baños y los alojamientos para dormir fueron recientemente remodelados y muy funcionales. El espacio del refrigerador era amplio. La falta de detectores de monóxido de carbono NO era importante, ya que todos los electrodomésticos eran eléctricos, y la calefacción central se suministraba a través de la circulación de agua en los radiadores de pared.', 'bonito lugar', 'muy bien , volveré seguro , mercado, metro, todo cerca ... me ayudó mucho porque no hablaba francés ni inglés... gracias amigo Oss', 'Pasé varias noches en casa de Guoxi y aprecié tener un dormitorio solo;)\\nEl baño es funcional y la cocina es amplia pero no muy climatizada...\\nAgradezco al anfitrión que me haya permitido aparcar la bicicleta dentro, porque viajaba a París todas las mañanas.', '¡Un alojamiento fantástico! ¡Guoxi es muy agradable y servicial! ¡No se puede pedir más!', 'El anfitrión es una persona sumamente amable y servicial. La casa está lejos a pie del centro, pero la parada de metro está muy cerca. Estaba extremadamente satisfecho, lo recomiendo encarecidamente si estás buscando alojamiento en París.', '¡Perfecto!', '¡Me encantó el anfitrión y me ayudó mucho!', 'Todo estuvo excelente, no hay nada de que quejarse', 'Todo bien', 'Alojamiento sencillo pero estupendo en París.\\nEl alojamiento está a 5 minutos a pie del metro, lo que hace que sea fácil llegar al centro de la ciudad.\\nEl hostal se limpia a menudo, lo que lo hace sentir limpio y ordenado', 'Una de las mejores opciones para viajes económicos en París.\\nLos compañeros de piso limpios, acogedores y amables, y la ubicación es fantástica.', 'Todo lo mejor, el anfitrión realmente se esforzó por hacer que mi estancia fuera buena berirer de idioma. Pequeño albergue familiar con todas las cosas básicas en una buena ubicación.', 'Alojamiento muy útil para unos cuantos viajeros solitarios que llevan unos días en París. Limpio y cerca del metro. Buen barrio', 'Gracias Guoxi !!!', 'Hola,\\n\\ntodo fue en el buen sentido, recuerdos encantadores. Un gran detalle ayudando en todo. No muy lejos del metro. Gran lugar para alojarse con un presupuesto asequible.', 'Fue una estancia muy agradable, un lugar genial y gente amable... El metro está justo al final de la manzana, fácil acceso a la ciudad'], ['Muy cómodo, sector tranquilo y cercano del metro.', 'Excelente ubicación y excelente trato por el personal. Un lugar muy tranquilo y demasiado cerca del metro', 'El lugar tal como se describe en el anuncio, muy limpio, el wifi no es súper rápido pero funciona bien, todas las áreas correctas, los anfitriones amables, a pesar de no hablar mucho inglés, buscaban la forma de entender', 'Un excelente lugar para pasar la noche, alojarse y conocer Paris. ¡Que genial haber encontrado este lugar!', 'Guoxi estaba bien organizado, era acogedor y atento. La cocina, los baños y los alojamientos para dormir fueron recientemente remodelados y muy funcionales. El espacio del refrigerador era amplio. La falta de detectores de monóxido de carbono NO era importante, ya que todos los electrodomésticos eran eléctricos, y la calefacción central se suministraba a través de la circulación de agua en los radiadores de pared.', 'bonito lugar', 'muy bien , volveré seguro , mercado, metro, todo cerca ... me ayudó mucho porque no hablaba francés ni inglés... gracias amigo Oss', 'Pasé varias noches en casa de Guoxi y aprecié tener un dormitorio solo;)\\nEl baño es funcional y la cocina es amplia pero no muy climatizada...\\nAgradezco al anfitrión que me haya permitido aparcar la bicicleta dentro, porque viajaba a París todas las mañanas.', '¡Un alojamiento fantástico! ¡Guoxi es muy agradable y servicial! ¡No se puede pedir más!', 'El anfitrión es una persona sumamente amable y servicial. La casa está lejos a pie del centro, pero la parada de metro está muy cerca. Estaba extremadamente satisfecho, lo recomiendo encarecidamente si estás buscando alojamiento en París.', '¡Perfecto!', '¡Me encantó el anfitrión y me ayudó mucho!', 'Todo estuvo excelente, no hay nada de que quejarse', 'Todo bien', 'Alojamiento sencillo pero estupendo en París.\\nEl alojamiento está a 5 minutos a pie del metro, lo que hace que sea fácil llegar al centro de la ciudad.\\nEl hostal se limpia a menudo, lo que lo hace sentir limpio y ordenado', 'Una de las mejores opciones para viajes económicos en París.\\nLos compañeros de piso limpios, acogedores y amables, y la ubicación es fantástica.', 'Todo lo mejor, el anfitrión realmente se esforzó por hacer que mi estancia fuera buena berirer de idioma. Pequeño albergue familiar con todas las cosas básicas en una buena ubicación.', 'Alojamiento muy útil para unos cuantos viajeros solitarios que llevan unos días en París. Limpio y cerca del metro. Buen barrio', 'Gracias Guoxi !!!', 'Hola,\\n\\ntodo fue en el buen sentido, recuerdos encantadores. Un gran detalle ayudando en todo. No muy lejos del metro. Gran lugar para alojarse con un presupuesto asequible.', 'Fue una estancia muy agradable, un lugar genial y gente amable... El metro está justo al final de la manzana, fácil acceso a la ciudad'], ['Muy cómodo, sector tranquilo y cercano del metro.', 'Excelente ubicación y excelente trato por el personal. Un lugar muy tranquilo y demasiado cerca del metro', 'El lugar tal como se describe en el anuncio, muy limpio, el wifi no es súper rápido pero funciona bien, todas las áreas correctas, los anfitriones amables, a pesar de no hablar mucho inglés, buscaban la forma de entender', 'Un excelente lugar para pasar la noche, alojarse y conocer Paris. ¡Que genial haber encontrado este lugar!', 'Guoxi estaba bien organizado, era acogedor y atento. La cocina, los baños y los alojamientos para dormir fueron recientemente remodelados y muy funcionales. El espacio del refrigerador era amplio. La falta de detectores de monóxido de carbono NO era importante, ya que todos los electrodomésticos eran eléctricos, y la calefacción central se suministraba a través de la circulación de agua en los radiadores de pared.', 'bonito lugar', 'muy bien , volveré seguro , mercado, metro, todo cerca ... me ayudó mucho porque no hablaba francés ni inglés... gracias amigo Oss', 'Pasé varias noches en casa de Guoxi y aprecié tener un dormitorio solo;)\\nEl baño es funcional y la cocina es amplia pero no muy climatizada...\\nAgradezco al anfitrión que me haya permitido aparcar la bicicleta dentro, porque viajaba a París todas las mañanas.', '¡Un alojamiento fantástico! ¡Guoxi es muy agradable y servicial! ¡No se puede pedir más!', 'El anfitrión es una persona sumamente amable y servicial. La casa está lejos a pie del centro, pero la parada de metro está muy cerca. Estaba extremadamente satisfecho, lo recomiendo encarecidamente si estás buscando alojamiento en París.', '¡Perfecto!', '¡Me encantó el anfitrión y me ayudó mucho!', 'Todo estuvo excelente, no hay nada de que quejarse', 'Todo bien', 'Alojamiento sencillo pero estupendo en París.\\nEl alojamiento está a 5 minutos a pie del metro, lo que hace que sea fácil llegar al centro de la ciudad.\\nEl hostal se limpia a menudo, lo que lo hace sentir limpio y ordenado', 'Una de las mejores opciones para viajes económicos en París.\\nLos compañeros de piso limpios, acogedores y amables, y la ubicación es fantástica.', 'Todo lo mejor, el anfitrión realmente se esforzó por hacer que mi estancia fuera buena berirer de idioma. Pequeño albergue familiar con todas las cosas básicas en una buena ubicación.', 'Alojamiento muy útil para unos cuantos viajeros solitarios que llevan unos días en París. Limpio y cerca del metro. Buen barrio', 'Gracias Guoxi !!!', 'Hola,\\n\\ntodo fue en el buen sentido, recuerdos encantadores. Un gran detalle ayudando en todo. No muy lejos del metro. Gran lugar para alojarse con un presupuesto asequible.', 'Fue una estancia muy agradable, un lugar genial y gente amable... El metro está justo al final de la manzana, fácil acceso a la ciudad'], ['Muy cómodo, sector tranquilo y cercano del metro.', 'Excelente ubicación y excelente trato por el personal. Un lugar muy tranquilo y demasiado cerca del metro', 'El lugar tal como se describe en el anuncio, muy limpio, el wifi no es súper rápido pero funciona bien, todas las áreas correctas, los anfitriones amables, a pesar de no hablar mucho inglés, buscaban la forma de entender', 'Un excelente lugar para pasar la noche, alojarse y conocer Paris. ¡Que genial haber encontrado este lugar!', 'Guoxi estaba bien organizado, era acogedor y atento. La cocina, los baños y los alojamientos para dormir fueron recientemente remodelados y muy funcionales. El espacio del refrigerador era amplio. La falta de detectores de monóxido de carbono NO era importante, ya que todos los electrodomésticos eran eléctricos, y la calefacción central se suministraba a través de la circulación de agua en los radiadores de pared.', 'bonito lugar', 'muy bien , volveré seguro , mercado, metro, todo cerca ... me ayudó mucho porque no hablaba francés ni inglés... gracias amigo Oss', 'Pasé varias noches en casa de Guoxi y aprecié tener un dormitorio solo;)\\nEl baño es funcional y la cocina es amplia pero no muy climatizada...\\nAgradezco al anfitrión que me haya permitido aparcar la bicicleta dentro, porque viajaba a París todas las mañanas.', '¡Un alojamiento fantástico! ¡Guoxi es muy agradable y servicial! ¡No se puede pedir más!', 'El anfitrión es una persona sumamente amable y servicial. La casa está lejos a pie del centro, pero la parada de metro está muy cerca. Estaba extremadamente satisfecho, lo recomiendo encarecidamente si estás buscando alojamiento en París.', '¡Perfecto!', '¡Me encantó el anfitrión y me ayudó mucho!', 'Todo estuvo excelente, no hay nada de que quejarse', 'Todo bien', 'Alojamiento sencillo pero estupendo en París.\\nEl alojamiento está a 5 minutos a pie del metro, lo que hace que sea fácil llegar al centro de la ciudad.\\nEl hostal se limpia a menudo, lo que lo hace sentir limpio y ordenado', 'Una de las mejores opciones para viajes económicos en París.\\nLos compañeros de piso limpios, acogedores y amables, y la ubicación es fantástica.', 'Todo lo mejor, el anfitrión realmente se esforzó por hacer que mi estancia fuera buena berirer de idioma. Pequeño albergue familiar con todas las cosas básicas en una buena ubicación.', 'Alojamiento muy útil para unos cuantos viajeros solitarios que llevan unos días en París. Limpio y cerca del metro. Buen barrio', 'Gracias Guoxi !!!', 'Hola,\\n\\ntodo fue en el buen sentido, recuerdos encantadores. Un gran detalle ayudando en todo. No muy lejos del metro. Gran lugar para alojarse con un presupuesto asequible.', 'Fue una estancia muy agradable, un lugar genial y gente amable... El metro está justo al final de la manzana, fácil acceso a la ciudad'], ['Muy cómodo, sector tranquilo y cercano del metro.', 'Excelente ubicación y excelente trato por el personal. Un lugar muy tranquilo y demasiado cerca del metro', 'El lugar tal como se describe en el anuncio, muy limpio, el wifi no es súper rápido pero funciona bien, todas las áreas correctas, los anfitriones amables, a pesar de no hablar mucho inglés, buscaban la forma de entender', 'Un excelente lugar para pasar la noche, alojarse y conocer Paris. ¡Que genial haber encontrado este lugar!', 'Guoxi estaba bien organizado, era acogedor y atento. La cocina, los baños y los alojamientos para dormir fueron recientemente remodelados y muy funcionales. El espacio del refrigerador era amplio. La falta de detectores de monóxido de carbono NO era importante, ya que todos los electrodomésticos eran eléctricos, y la calefacción central se suministraba a través de la circulación de agua en los radiadores de pared.', 'bonito lugar', 'muy bien , volveré seguro , mercado, metro, todo cerca ... me ayudó mucho porque no hablaba francés ni inglés... gracias amigo Oss', 'Pasé varias noches en casa de Guoxi y aprecié tener un dormitorio solo;)\\nEl baño es funcional y la cocina es amplia pero no muy climatizada...\\nAgradezco al anfitrión que me haya permitido aparcar la bicicleta dentro, porque viajaba a París todas las mañanas.', '¡Un alojamiento fantástico! ¡Guoxi es muy agradable y servicial! ¡No se puede pedir más!', 'El anfitrión es una persona sumamente amable y servicial. La casa está lejos a pie del centro, pero la parada de metro está muy cerca. Estaba extremadamente satisfecho, lo recomiendo encarecidamente si estás buscando alojamiento en París.', '¡Perfecto!', '¡Me encantó el anfitrión y me ayudó mucho!', 'Todo estuvo excelente, no hay nada de que quejarse', 'Todo bien', 'Alojamiento sencillo pero estupendo en París.\\nEl alojamiento está a 5 minutos a pie del metro, lo que hace que sea fácil llegar al centro de la ciudad.\\nEl hostal se limpia a menudo, lo que lo hace sentir limpio y ordenado', 'Una de las mejores opciones para viajes económicos en París.\\nLos compañeros de piso limpios, acogedores y amables, y la ubicación es fantástica.', 'Todo lo mejor, el anfitrión realmente se esforzó por hacer que mi estancia fuera buena berirer de idioma. Pequeño albergue familiar con todas las cosas básicas en una buena ubicación.', 'Alojamiento muy útil para unos cuantos viajeros solitarios que llevan unos días en París. Limpio y cerca del metro. Buen barrio', 'Gracias Guoxi !!!', 'Hola,\\n\\ntodo fue en el buen sentido, recuerdos encantadores. Un gran detalle ayudando en todo. No muy lejos del metro. Gran lugar para alojarse con un presupuesto asequible.', 'Fue una estancia muy agradable, un lugar genial y gente amable... El metro está justo al final de la manzana, fácil acceso a la ciudad'], ['Muy cómodo, sector tranquilo y cercano del metro.', 'Excelente ubicación y excelente trato por el personal. Un lugar muy tranquilo y demasiado cerca del metro', 'El lugar tal como se describe en el anuncio, muy limpio, el wifi no es súper rápido pero funciona bien, todas las áreas correctas, los anfitriones amables, a pesar de no hablar mucho inglés, buscaban la forma de entender', 'Un excelente lugar para pasar la noche, alojarse y conocer Paris. ¡Que genial haber encontrado este lugar!', 'Guoxi estaba bien organizado, era acogedor y atento. La cocina, los baños y los alojamientos para dormir fueron recientemente remodelados y muy funcionales. El espacio del refrigerador era amplio. La falta de detectores de monóxido de carbono NO era importante, ya que todos los electrodomésticos eran eléctricos, y la calefacción central se suministraba a través de la circulación de agua en los radiadores de pared.', 'bonito lugar', 'muy bien , volveré seguro , mercado, metro, todo cerca ... me ayudó mucho porque no hablaba francés ni inglés... gracias amigo Oss', 'Pasé varias noches en casa de Guoxi y aprecié tener un dormitorio solo;)\\nEl baño es funcional y la cocina es amplia pero no muy climatizada...\\nAgradezco al anfitrión que me haya permitido aparcar la bicicleta dentro, porque viajaba a París todas las mañanas.', '¡Un alojamiento fantástico! ¡Guoxi es muy agradable y servicial! ¡No se puede pedir más!', 'El anfitrión es una persona sumamente amable y servicial. La casa está lejos a pie del centro, pero la parada de metro está muy cerca. Estaba extremadamente satisfecho, lo recomiendo encarecidamente si estás buscando alojamiento en París.', '¡Perfecto!', '¡Me encantó el anfitrión y me ayudó mucho!', 'Todo estuvo excelente, no hay nada de que quejarse', 'Todo bien', 'Alojamiento sencillo pero estupendo en París.\\nEl alojamiento está a 5 minutos a pie del metro, lo que hace que sea fácil llegar al centro de la ciudad.\\nEl hostal se limpia a menudo, lo que lo hace sentir limpio y ordenado', 'Una de las mejores opciones para viajes económicos en París.\\nLos compañeros de piso limpios, acogedores y amables, y la ubicación es fantástica.', 'Todo lo mejor, el anfitrión realmente se esforzó por hacer que mi estancia fuera buena berirer de idioma. Pequeño albergue familiar con todas las cosas básicas en una buena ubicación.', 'Alojamiento muy útil para unos cuantos viajeros solitarios que llevan unos días en París. Limpio y cerca del metro. Buen barrio', 'Gracias Guoxi !!!', 'Hola,\\n\\ntodo fue en el buen sentido, recuerdos encantadores. Un gran detalle ayudando en todo. No muy lejos del metro. Gran lugar para alojarse con un presupuesto asequible.', 'Fue una estancia muy agradable, un lugar genial y gente amable... El metro está justo al final de la manzana, fácil acceso a la ciudad'], ['Muy cómodo, sector tranquilo y cercano del metro.', 'Excelente ubicación y excelente trato por el personal. Un lugar muy tranquilo y demasiado cerca del metro', 'El lugar tal como se describe en el anuncio, muy limpio, el wifi no es súper rápido pero funciona bien, todas las áreas correctas, los anfitriones amables, a pesar de no hablar mucho inglés, buscaban la forma de entender', 'Un excelente lugar para pasar la noche, alojarse y conocer Paris. ¡Que genial haber encontrado este lugar!', 'Guoxi estaba bien organizado, era acogedor y atento. La cocina, los baños y los alojamientos para dormir fueron recientemente remodelados y muy funcionales. El espacio del refrigerador era amplio. La falta de detectores de monóxido de carbono NO era importante, ya que todos los electrodomésticos eran eléctricos, y la calefacción central se suministraba a través de la circulación de agua en los radiadores de pared.', 'bonito lugar', 'muy bien , volveré seguro , mercado, metro, todo cerca ... me ayudó mucho porque no hablaba francés ni inglés... gracias amigo Oss', 'Pasé varias noches en casa de Guoxi y aprecié tener un dormitorio solo;)\\nEl baño es funcional y la cocina es amplia pero no muy climatizada...\\nAgradezco al anfitrión que me haya permitido aparcar la bicicleta dentro, porque viajaba a París todas las mañanas.', '¡Un alojamiento fantástico! ¡Guoxi es muy agradable y servicial! ¡No se puede pedir más!', 'El anfitrión es una persona sumamente amable y servicial. La casa está lejos a pie del centro, pero la parada de metro está muy cerca. Estaba extremadamente satisfecho, lo recomiendo encarecidamente si estás buscando alojamiento en París.', '¡Perfecto!', '¡Me encantó el anfitrión y me ayudó mucho!', 'Todo estuvo excelente, no hay nada de que quejarse', 'Todo bien', 'Alojamiento sencillo pero estupendo en París.\\nEl alojamiento está a 5 minutos a pie del metro, lo que hace que sea fácil llegar al centro de la ciudad.\\nEl hostal se limpia a menudo, lo que lo hace sentir limpio y ordenado', 'Una de las mejores opciones para viajes económicos en París.\\nLos compañeros de piso limpios, acogedores y amables, y la ubicación es fantástica.', 'Todo lo mejor, el anfitrión realmente se esforzó por hacer que mi estancia fuera buena berirer de idioma. Pequeño albergue familiar con todas las cosas básicas en una buena ubicación.', 'Alojamiento muy útil para unos cuantos viajeros solitarios que llevan unos días en París. Limpio y cerca del metro. Buen barrio', 'Gracias Guoxi !!!', 'Hola,\\n\\ntodo fue en el buen sentido, recuerdos encantadores. Un gran detalle ayudando en todo. No muy lejos del metro. Gran lugar para alojarse con un presupuesto asequible.', 'Fue una estancia muy agradable, un lugar genial y gente amable... El metro está justo al final de la manzana, fácil acceso a la ciudad'], ['Muy cómodo, sector tranquilo y cercano del metro.', 'Excelente ubicación y excelente trato por el personal. Un lugar muy tranquilo y demasiado cerca del metro', 'El lugar tal como se describe en el anuncio, muy limpio, el wifi no es súper rápido pero funciona bien, todas las áreas correctas, los anfitriones amables, a pesar de no hablar mucho inglés, buscaban la forma de entender', 'Un excelente lugar para pasar la noche, alojarse y conocer Paris. ¡Que genial haber encontrado este lugar!', 'Guoxi estaba bien organizado, era acogedor y atento. La cocina, los baños y los alojamientos para dormir fueron recientemente remodelados y muy funcionales. El espacio del refrigerador era amplio. La falta de detectores de monóxido de carbono NO era importante, ya que todos los electrodomésticos eran eléctricos, y la calefacción central se suministraba a través de la circulación de agua en los radiadores de pared.', 'bonito lugar', 'muy bien , volveré seguro , mercado, metro, todo cerca ... me ayudó mucho porque no hablaba francés ni inglés... gracias amigo Oss', 'Pasé varias noches en casa de Guoxi y aprecié tener un dormitorio solo;)\\nEl baño es funcional y la cocina es amplia pero no muy climatizada...\\nAgradezco al anfitrión que me haya permitido aparcar la bicicleta dentro, porque viajaba a París todas las mañanas.', '¡Un alojamiento fantástico! ¡Guoxi es muy agradable y servicial! ¡No se puede pedir más!', 'El anfitrión es una persona sumamente amable y servicial. La casa está lejos a pie del centro, pero la parada de metro está muy cerca. Estaba extremadamente satisfecho, lo recomiendo encarecidamente si estás buscando alojamiento en París.', '¡Perfecto!', '¡Me encantó el anfitrión y me ayudó mucho!', 'Todo estuvo excelente, no hay nada de que quejarse', 'Todo bien', 'Alojamiento sencillo pero estupendo en París.\\nEl alojamiento está a 5 minutos a pie del metro, lo que hace que sea fácil llegar al centro de la ciudad.\\nEl hostal se limpia a menudo, lo que lo hace sentir limpio y ordenado', 'Una de las mejores opciones para viajes económicos en París.\\nLos compañeros de piso limpios, acogedores y amables, y la ubicación es fantástica.', 'Todo lo mejor, el anfitrión realmente se esforzó por hacer que mi estancia fuera buena berirer de idioma. Pequeño albergue familiar con todas las cosas básicas en una buena ubicación.', 'Alojamiento muy útil para unos cuantos viajeros solitarios que llevan unos días en París. Limpio y cerca del metro. Buen barrio', 'Gracias Guoxi !!!', 'Hola,\\n\\ntodo fue en el buen sentido, recuerdos encantadores. Un gran detalle ayudando en todo. No muy lejos del metro. Gran lugar para alojarse con un presupuesto asequible.', 'Fue una estancia muy agradable, un lugar genial y gente amable... El metro está justo al final de la manzana, fácil acceso a la ciudad'], ['Muy cómodo, sector tranquilo y cercano del metro.', 'Excelente ubicación y excelente trato por el personal. Un lugar muy tranquilo y demasiado cerca del metro', 'El lugar tal como se describe en el anuncio, muy limpio, el wifi no es súper rápido pero funciona bien, todas las áreas correctas, los anfitriones amables, a pesar de no hablar mucho inglés, buscaban la forma de entender', 'Un excelente lugar para pasar la noche, alojarse y conocer Paris. ¡Que genial haber encontrado este lugar!', 'Guoxi estaba bien organizado, era acogedor y atento. La cocina, los baños y los alojamientos para dormir fueron recientemente remodelados y muy funcionales. El espacio del refrigerador era amplio. La falta de detectores de monóxido de carbono NO era importante, ya que todos los electrodomésticos eran eléctricos, y la calefacción central se suministraba a través de la circulación de agua en los radiadores de pared.', 'bonito lugar', 'muy bien , volveré seguro , mercado, metro, todo cerca ... me ayudó mucho porque no hablaba francés ni inglés... gracias amigo Oss', 'Pasé varias noches en casa de Guoxi y aprecié tener un dormitorio solo;)\\nEl baño es funcional y la cocina es amplia pero no muy climatizada...\\nAgradezco al anfitrión que me haya permitido aparcar la bicicleta dentro, porque viajaba a París todas las mañanas.', '¡Un alojamiento fantástico! ¡Guoxi es muy agradable y servicial! ¡No se puede pedir más!', 'El anfitrión es una persona sumamente amable y servicial. La casa está lejos a pie del centro, pero la parada de metro está muy cerca. Estaba extremadamente satisfecho, lo recomiendo encarecidamente si estás buscando alojamiento en París.', '¡Perfecto!', '¡Me encantó el anfitrión y me ayudó mucho!', 'Todo estuvo excelente, no hay nada de que quejarse', 'Todo bien', 'Alojamiento sencillo pero estupendo en París.\\nEl alojamiento está a 5 minutos a pie del metro, lo que hace que sea fácil llegar al centro de la ciudad.\\nEl hostal se limpia a menudo, lo que lo hace sentir limpio y ordenado', 'Una de las mejores opciones para viajes económicos en París.\\nLos compañeros de piso limpios, acogedores y amables, y la ubicación es fantástica.', 'Todo lo mejor, el anfitrión realmente se esforzó por hacer que mi estancia fuera buena berirer de idioma. Pequeño albergue familiar con todas las cosas básicas en una buena ubicación.', 'Alojamiento muy útil para unos cuantos viajeros solitarios que llevan unos días en París. Limpio y cerca del metro. Buen barrio', 'Gracias Guoxi !!!', 'Hola,\\n\\ntodo fue en el buen sentido, recuerdos encantadores. Un gran detalle ayudando en todo. No muy lejos del metro. Gran lugar para alojarse con un presupuesto asequible.', 'Fue una estancia muy agradable, un lugar genial y gente amable... El metro está justo al final de la manzana, fácil acceso a la ciudad'], ['Muy cómodo, sector tranquilo y cercano del metro.', 'Excelente ubicación y excelente trato por el personal. Un lugar muy tranquilo y demasiado cerca del metro', 'El lugar tal como se describe en el anuncio, muy limpio, el wifi no es súper rápido pero funciona bien, todas las áreas correctas, los anfitriones amables, a pesar de no hablar mucho inglés, buscaban la forma de entender', 'Un excelente lugar para pasar la noche, alojarse y conocer Paris. ¡Que genial haber encontrado este lugar!', 'Guoxi estaba bien organizado, era acogedor y atento. La cocina, los baños y los alojamientos para dormir fueron recientemente remodelados y muy funcionales. El espacio del refrigerador era amplio. La falta de detectores de monóxido de carbono NO era importante, ya que todos los electrodomésticos eran eléctricos, y la calefacción central se suministraba a través de la circulación de agua en los radiadores de pared.', 'bonito lugar', 'muy bien , volveré seguro , mercado, metro, todo cerca ... me ayudó mucho porque no hablaba francés ni inglés... gracias amigo Oss', 'Pasé varias noches en casa de Guoxi y aprecié tener un dormitorio solo;)\\nEl baño es funcional y la cocina es amplia pero no muy climatizada...\\nAgradezco al anfitrión que me haya permitido aparcar la bicicleta dentro, porque viajaba a París todas las mañanas.', '¡Un alojamiento fantástico! ¡Guoxi es muy agradable y servicial! ¡No se puede pedir más!', 'El anfitrión es una persona sumamente amable y servicial. La casa está lejos a pie del centro, pero la parada de metro está muy cerca. Estaba extremadamente satisfecho, lo recomiendo encarecidamente si estás buscando alojamiento en París.', '¡Perfecto!', '¡Me encantó el anfitrión y me ayudó mucho!', 'Todo estuvo excelente, no hay nada de que quejarse', 'Todo bien', 'Alojamiento sencillo pero estupendo en París.\\nEl alojamiento está a 5 minutos a pie del metro, lo que hace que sea fácil llegar al centro de la ciudad.\\nEl hostal se limpia a menudo, lo que lo hace sentir limpio y ordenado', 'Una de las mejores opciones para viajes económicos en París.\\nLos compañeros de piso limpios, acogedores y amables, y la ubicación es fantástica.', 'Todo lo mejor, el anfitrión realmente se esforzó por hacer que mi estancia fuera buena berirer de idioma. Pequeño albergue familiar con todas las cosas básicas en una buena ubicación.', 'Alojamiento muy útil para unos cuantos viajeros solitarios que llevan unos días en París. Limpio y cerca del metro. Buen barrio', 'Gracias Guoxi !!!', 'Hola,\\n\\ntodo fue en el buen sentido, recuerdos encantadores. Un gran detalle ayudando en todo. No muy lejos del metro. Gran lugar para alojarse con un presupuesto asequible.', 'Fue una estancia muy agradable, un lugar genial y gente amable... El metro está justo al final de la manzana, fácil acceso a la ciudad'], ['Muy cómodo, sector tranquilo y cercano del metro.', 'Excelente ubicación y excelente trato por el personal. Un lugar muy tranquilo y demasiado cerca del metro', 'El lugar tal como se describe en el anuncio, muy limpio, el wifi no es súper rápido pero funciona bien, todas las áreas correctas, los anfitriones amables, a pesar de no hablar mucho inglés, buscaban la forma de entender', 'Un excelente lugar para pasar la noche, alojarse y conocer Paris. ¡Que genial haber encontrado este lugar!', 'Guoxi estaba bien organizado, era acogedor y atento. La cocina, los baños y los alojamientos para dormir fueron recientemente remodelados y muy funcionales. El espacio del refrigerador era amplio. La falta de detectores de monóxido de carbono NO era importante, ya que todos los electrodomésticos eran eléctricos, y la calefacción central se suministraba a través de la circulación de agua en los radiadores de pared.', 'bonito lugar', 'muy bien , volveré seguro , mercado, metro, todo cerca ... me ayudó mucho porque no hablaba francés ni inglés... gracias amigo Oss', 'Pasé varias noches en casa de Guoxi y aprecié tener un dormitorio solo;)\\nEl baño es funcional y la cocina es amplia pero no muy climatizada...\\nAgradezco al anfitrión que me haya permitido aparcar la bicicleta dentro, porque viajaba a París todas las mañanas.', '¡Un alojamiento fantástico! ¡Guoxi es muy agradable y servicial! ¡No se puede pedir más!', 'El anfitrión es una persona sumamente amable y servicial. La casa está lejos a pie del centro, pero la parada de metro está muy cerca. Estaba extremadamente satisfecho, lo recomiendo encarecidamente si estás buscando alojamiento en París.', '¡Perfecto!', '¡Me encantó el anfitrión y me ayudó mucho!', 'Todo estuvo excelente, no hay nada de que quejarse', 'Todo bien', 'Alojamiento sencillo pero estupendo en París.\\nEl alojamiento está a 5 minutos a pie del metro, lo que hace que sea fácil llegar al centro de la ciudad.\\nEl hostal se limpia a menudo, lo que lo hace sentir limpio y ordenado', 'Una de las mejores opciones para viajes económicos en París.\\nLos compañeros de piso limpios, acogedores y amables, y la ubicación es fantástica.', 'Todo lo mejor, el anfitrión realmente se esforzó por hacer que mi estancia fuera buena berirer de idioma. Pequeño albergue familiar con todas las cosas básicas en una buena ubicación.', 'Alojamiento muy útil para unos cuantos viajeros solitarios que llevan unos días en París. Limpio y cerca del metro. Buen barrio', 'Gracias Guoxi !!!', 'Hola,\\n\\ntodo fue en el buen sentido, recuerdos encantadores. Un gran detalle ayudando en todo. No muy lejos del metro. Gran lugar para alojarse con un presupuesto asequible.', 'Fue una estancia muy agradable, un lugar genial y gente amable... El metro está justo al final de la manzana, fácil acceso a la ciudad'], ['Muy cómodo, sector tranquilo y cercano del metro.', 'Excelente ubicación y excelente trato por el personal. Un lugar muy tranquilo y demasiado cerca del metro', 'El lugar tal como se describe en el anuncio, muy limpio, el wifi no es súper rápido pero funciona bien, todas las áreas correctas, los anfitriones amables, a pesar de no hablar mucho inglés, buscaban la forma de entender', 'Un excelente lugar para pasar la noche, alojarse y conocer Paris. ¡Que genial haber encontrado este lugar!', 'Guoxi estaba bien organizado, era acogedor y atento. La cocina, los baños y los alojamientos para dormir fueron recientemente remodelados y muy funcionales. El espacio del refrigerador era amplio. La falta de detectores de monóxido de carbono NO era importante, ya que todos los electrodomésticos eran eléctricos, y la calefacción central se suministraba a través de la circulación de agua en los radiadores de pared.', 'bonito lugar', 'muy bien , volveré seguro , mercado, metro, todo cerca ... me ayudó mucho porque no hablaba francés ni inglés... gracias amigo Oss', 'Pasé varias noches en casa de Guoxi y aprecié tener un dormitorio solo;)\\nEl baño es funcional y la cocina es amplia pero no muy climatizada...\\nAgradezco al anfitrión que me haya permitido aparcar la bicicleta dentro, porque viajaba a París todas las mañanas.', '¡Un alojamiento fantástico! ¡Guoxi es muy agradable y servicial! ¡No se puede pedir más!', 'El anfitrión es una persona sumamente amable y servicial. La casa está lejos a pie del centro, pero la parada de metro está muy cerca. Estaba extremadamente satisfecho, lo recomiendo encarecidamente si estás buscando alojamiento en París.', '¡Perfecto!', '¡Me encantó el anfitrión y me ayudó mucho!', 'Todo estuvo excelente, no hay nada de que quejarse', 'Todo bien', 'Alojamiento sencillo pero estupendo en París.\\nEl alojamiento está a 5 minutos a pie del metro, lo que hace que sea fácil llegar al centro de la ciudad.\\nEl hostal se limpia a menudo, lo que lo hace sentir limpio y ordenado', 'Una de las mejores opciones para viajes económicos en París.\\nLos compañeros de piso limpios, acogedores y amables, y la ubicación es fantástica.', 'Todo lo mejor, el anfitrión realmente se esforzó por hacer que mi estancia fuera buena berirer de idioma. Pequeño albergue familiar con todas las cosas básicas en una buena ubicación.', 'Alojamiento muy útil para unos cuantos viajeros solitarios que llevan unos días en París. Limpio y cerca del metro. Buen barrio', 'Gracias Guoxi !!!', 'Hola,\\n\\ntodo fue en el buen sentido, recuerdos encantadores. Un gran detalle ayudando en todo. No muy lejos del metro. Gran lugar para alojarse con un presupuesto asequible.', 'Fue una estancia muy agradable, un lugar genial y gente amable... El metro está justo al final de la manzana, fácil acceso a la ciudad'], ['Muy cómodo, sector tranquilo y cercano del metro.', 'Excelente ubicación y excelente trato por el personal. Un lugar muy tranquilo y demasiado cerca del metro', 'El lugar tal como se describe en el anuncio, muy limpio, el wifi no es súper rápido pero funciona bien, todas las áreas correctas, los anfitriones amables, a pesar de no hablar mucho inglés, buscaban la forma de entender', 'Un excelente lugar para pasar la noche, alojarse y conocer Paris. ¡Que genial haber encontrado este lugar!', 'Guoxi estaba bien organizado, era acogedor y atento. La cocina, los baños y los alojamientos para dormir fueron recientemente remodelados y muy funcionales. El espacio del refrigerador era amplio. La falta de detectores de monóxido de carbono NO era importante, ya que todos los electrodomésticos eran eléctricos, y la calefacción central se suministraba a través de la circulación de agua en los radiadores de pared.', 'bonito lugar', 'muy bien , volveré seguro , mercado, metro, todo cerca ... me ayudó mucho porque no hablaba francés ni inglés... gracias amigo Oss', 'Pasé varias noches en casa de Guoxi y aprecié tener un dormitorio solo;)\\nEl baño es funcional y la cocina es amplia pero no muy climatizada...\\nAgradezco al anfitrión que me haya permitido aparcar la bicicleta dentro, porque viajaba a París todas las mañanas.', '¡Un alojamiento fantástico! ¡Guoxi es muy agradable y servicial! ¡No se puede pedir más!', 'El anfitrión es una persona sumamente amable y servicial. La casa está lejos a pie del centro, pero la parada de metro está muy cerca. Estaba extremadamente satisfecho, lo recomiendo encarecidamente si estás buscando alojamiento en París.', '¡Perfecto!', '¡Me encantó el anfitrión y me ayudó mucho!', 'Todo estuvo excelente, no hay nada de que quejarse', 'Todo bien', 'Alojamiento sencillo pero estupendo en París.\\nEl alojamiento está a 5 minutos a pie del metro, lo que hace que sea fácil llegar al centro de la ciudad.\\nEl hostal se limpia a menudo, lo que lo hace sentir limpio y ordenado', 'Una de las mejores opciones para viajes económicos en París.\\nLos compañeros de piso limpios, acogedores y amables, y la ubicación es fantástica.', 'Todo lo mejor, el anfitrión realmente se esforzó por hacer que mi estancia fuera buena berirer de idioma. Pequeño albergue familiar con todas las cosas básicas en una buena ubicación.', 'Alojamiento muy útil para unos cuantos viajeros solitarios que llevan unos días en París. Limpio y cerca del metro. Buen barrio', 'Gracias Guoxi !!!', 'Hola,\\n\\ntodo fue en el buen sentido, recuerdos encantadores. Un gran detalle ayudando en todo. No muy lejos del metro. Gran lugar para alojarse con un presupuesto asequible.', 'Fue una estancia muy agradable, un lugar genial y gente amable... El metro está justo al final de la manzana, fácil acceso a la ciudad'], ['Muy cómodo, sector tranquilo y cercano del metro.', 'Excelente ubicación y excelente trato por el personal. Un lugar muy tranquilo y demasiado cerca del metro', 'El lugar tal como se describe en el anuncio, muy limpio, el wifi no es súper rápido pero funciona bien, todas las áreas correctas, los anfitriones amables, a pesar de no hablar mucho inglés, buscaban la forma de entender', 'Un excelente lugar para pasar la noche, alojarse y conocer Paris. ¡Que genial haber encontrado este lugar!', 'Guoxi estaba bien organizado, era acogedor y atento. La cocina, los baños y los alojamientos para dormir fueron recientemente remodelados y muy funcionales. El espacio del refrigerador era amplio. La falta de detectores de monóxido de carbono NO era importante, ya que todos los electrodomésticos eran eléctricos, y la calefacción central se suministraba a través de la circulación de agua en los radiadores de pared.', 'bonito lugar', 'muy bien , volveré seguro , mercado, metro, todo cerca ... me ayudó mucho porque no hablaba francés ni inglés... gracias amigo Oss', 'Pasé varias noches en casa de Guoxi y aprecié tener un dormitorio solo;)\\nEl baño es funcional y la cocina es amplia pero no muy climatizada...\\nAgradezco al anfitrión que me haya permitido aparcar la bicicleta dentro, porque viajaba a París todas las mañanas.', '¡Un alojamiento fantástico! ¡Guoxi es muy agradable y servicial! ¡No se puede pedir más!', 'El anfitrión es una persona sumamente amable y servicial. La casa está lejos a pie del centro, pero la parada de metro está muy cerca. Estaba extremadamente satisfecho, lo recomiendo encarecidamente si estás buscando alojamiento en París.', '¡Perfecto!', '¡Me encantó el anfitrión y me ayudó mucho!', 'Todo estuvo excelente, no hay nada de que quejarse', 'Todo bien', 'Alojamiento sencillo pero estupendo en París.\\nEl alojamiento está a 5 minutos a pie del metro, lo que hace que sea fácil llegar al centro de la ciudad.\\nEl hostal se limpia a menudo, lo que lo hace sentir limpio y ordenado', 'Una de las mejores opciones para viajes económicos en París.\\nLos compañeros de piso limpios, acogedores y amables, y la ubicación es fantástica.', 'Todo lo mejor, el anfitrión realmente se esforzó por hacer que mi estancia fuera buena berirer de idioma. Pequeño albergue familiar con todas las cosas básicas en una buena ubicación.', 'Alojamiento muy útil para unos cuantos viajeros solitarios que llevan unos días en París. Limpio y cerca del metro. Buen barrio', 'Gracias Guoxi !!!', 'Hola,\\n\\ntodo fue en el buen sentido, recuerdos encantadores. Un gran detalle ayudando en todo. No muy lejos del metro. Gran lugar para alojarse con un presupuesto asequible.', 'Fue una estancia muy agradable, un lugar genial y gente amable... El metro está justo al final de la manzana, fácil acceso a la ciudad'], ['Muy cómodo, sector tranquilo y cercano del metro.', 'Excelente ubicación y excelente trato por el personal. Un lugar muy tranquilo y demasiado cerca del metro', 'El lugar tal como se describe en el anuncio, muy limpio, el wifi no es súper rápido pero funciona bien, todas las áreas correctas, los anfitriones amables, a pesar de no hablar mucho inglés, buscaban la forma de entender', 'Un excelente lugar para pasar la noche, alojarse y conocer Paris. ¡Que genial haber encontrado este lugar!', 'Guoxi estaba bien organizado, era acogedor y atento. La cocina, los baños y los alojamientos para dormir fueron recientemente remodelados y muy funcionales. El espacio del refrigerador era amplio. La falta de detectores de monóxido de carbono NO era importante, ya que todos los electrodomésticos eran eléctricos, y la calefacción central se suministraba a través de la circulación de agua en los radiadores de pared.', 'bonito lugar', 'muy bien , volveré seguro , mercado, metro, todo cerca ... me ayudó mucho porque no hablaba francés ni inglés... gracias amigo Oss', 'Pasé varias noches en casa de Guoxi y aprecié tener un dormitorio solo;)\\nEl baño es funcional y la cocina es amplia pero no muy climatizada...\\nAgradezco al anfitrión que me haya permitido aparcar la bicicleta dentro, porque viajaba a París todas las mañanas.', '¡Un alojamiento fantástico! ¡Guoxi es muy agradable y servicial! ¡No se puede pedir más!', 'El anfitrión es una persona sumamente amable y servicial. La casa está lejos a pie del centro, pero la parada de metro está muy cerca. Estaba extremadamente satisfecho, lo recomiendo encarecidamente si estás buscando alojamiento en París.', '¡Perfecto!', '¡Me encantó el anfitrión y me ayudó mucho!', 'Todo estuvo excelente, no hay nada de que quejarse', 'Todo bien', 'Alojamiento sencillo pero estupendo en París.\\nEl alojamiento está a 5 minutos a pie del metro, lo que hace que sea fácil llegar al centro de la ciudad.\\nEl hostal se limpia a menudo, lo que lo hace sentir limpio y ordenado', 'Una de las mejores opciones para viajes económicos en París.\\nLos compañeros de piso limpios, acogedores y amables, y la ubicación es fantástica.', 'Todo lo mejor, el anfitrión realmente se esforzó por hacer que mi estancia fuera buena berirer de idioma. Pequeño albergue familiar con todas las cosas básicas en una buena ubicación.', 'Alojamiento muy útil para unos cuantos viajeros solitarios que llevan unos días en París. Limpio y cerca del metro. Buen barrio', 'Gracias Guoxi !!!', 'Hola,\\n\\ntodo fue en el buen sentido, recuerdos encantadores. Un gran detalle ayudando en todo. No muy lejos del metro. Gran lugar para alojarse con un presupuesto asequible.', 'Fue una estancia muy agradable, un lugar genial y gente amable... El metro está justo al final de la manzana, fácil acceso a la ciudad'], ['Muy cómodo, sector tranquilo y cercano del metro.', 'Excelente ubicación y excelente trato por el personal. Un lugar muy tranquilo y demasiado cerca del metro', 'El lugar tal como se describe en el anuncio, muy limpio, el wifi no es súper rápido pero funciona bien, todas las áreas correctas, los anfitriones amables, a pesar de no hablar mucho inglés, buscaban la forma de entender', 'Un excelente lugar para pasar la noche, alojarse y conocer Paris. ¡Que genial haber encontrado este lugar!', 'Guoxi estaba bien organizado, era acogedor y atento. La cocina, los baños y los alojamientos para dormir fueron recientemente remodelados y muy funcionales. El espacio del refrigerador era amplio. La falta de detectores de monóxido de carbono NO era importante, ya que todos los electrodomésticos eran eléctricos, y la calefacción central se suministraba a través de la circulación de agua en los radiadores de pared.', 'bonito lugar', 'muy bien , volveré seguro , mercado, metro, todo cerca ... me ayudó mucho porque no hablaba francés ni inglés... gracias amigo Oss', 'Pasé varias noches en casa de Guoxi y aprecié tener un dormitorio solo;)\\nEl baño es funcional y la cocina es amplia pero no muy climatizada...\\nAgradezco al anfitrión que me haya permitido aparcar la bicicleta dentro, porque viajaba a París todas las mañanas.', '¡Un alojamiento fantástico! ¡Guoxi es muy agradable y servicial! ¡No se puede pedir más!', 'El anfitrión es una persona sumamente amable y servicial. La casa está lejos a pie del centro, pero la parada de metro está muy cerca. Estaba extremadamente satisfecho, lo recomiendo encarecidamente si estás buscando alojamiento en París.', '¡Perfecto!', '¡Me encantó el anfitrión y me ayudó mucho!', 'Todo estuvo excelente, no hay nada de que quejarse', 'Todo bien', 'Alojamiento sencillo pero estupendo en París.\\nEl alojamiento está a 5 minutos a pie del metro, lo que hace que sea fácil llegar al centro de la ciudad.\\nEl hostal se limpia a menudo, lo que lo hace sentir limpio y ordenado', 'Una de las mejores opciones para viajes económicos en París.\\nLos compañeros de piso limpios, acogedores y amables, y la ubicación es fantástica.', 'Todo lo mejor, el anfitrión realmente se esforzó por hacer que mi estancia fuera buena berirer de idioma. Pequeño albergue familiar con todas las cosas básicas en una buena ubicación.', 'Alojamiento muy útil para unos cuantos viajeros solitarios que llevan unos días en París. Limpio y cerca del metro. Buen barrio', 'Gracias Guoxi !!!', 'Hola,\\n\\ntodo fue en el buen sentido, recuerdos encantadores. Un gran detalle ayudando en todo. No muy lejos del metro. Gran lugar para alojarse con un presupuesto asequible.', 'Fue una estancia muy agradable, un lugar genial y gente amable... El metro está justo al final de la manzana, fácil acceso a la ciudad'], ['Muy cómodo, sector tranquilo y cercano del metro.', 'Excelente ubicación y excelente trato por el personal. Un lugar muy tranquilo y demasiado cerca del metro', 'El lugar tal como se describe en el anuncio, muy limpio, el wifi no es súper rápido pero funciona bien, todas las áreas correctas, los anfitriones amables, a pesar de no hablar mucho inglés, buscaban la forma de entender', 'Un excelente lugar para pasar la noche, alojarse y conocer Paris. ¡Que genial haber encontrado este lugar!', 'Guoxi estaba bien organizado, era acogedor y atento. La cocina, los baños y los alojamientos para dormir fueron recientemente remodelados y muy funcionales. El espacio del refrigerador era amplio. La falta de detectores de monóxido de carbono NO era importante, ya que todos los electrodomésticos eran eléctricos, y la calefacción central se suministraba a través de la circulación de agua en los radiadores de pared.', 'bonito lugar', 'muy bien , volveré seguro , mercado, metro, todo cerca ... me ayudó mucho porque no hablaba francés ni inglés... gracias amigo Oss', 'Pasé varias noches en casa de Guoxi y aprecié tener un dormitorio solo;)\\nEl baño es funcional y la cocina es amplia pero no muy climatizada...\\nAgradezco al anfitrión que me haya permitido aparcar la bicicleta dentro, porque viajaba a París todas las mañanas.', '¡Un alojamiento fantástico! ¡Guoxi es muy agradable y servicial! ¡No se puede pedir más!', 'El anfitrión es una persona sumamente amable y servicial. La casa está lejos a pie del centro, pero la parada de metro está muy cerca. Estaba extremadamente satisfecho, lo recomiendo encarecidamente si estás buscando alojamiento en París.', '¡Perfecto!', '¡Me encantó el anfitrión y me ayudó mucho!', 'Todo estuvo excelente, no hay nada de que quejarse', 'Todo bien', 'Alojamiento sencillo pero estupendo en París.\\nEl alojamiento está a 5 minutos a pie del metro, lo que hace que sea fácil llegar al centro de la ciudad.\\nEl hostal se limpia a menudo, lo que lo hace sentir limpio y ordenado', 'Una de las mejores opciones para viajes económicos en París.\\nLos compañeros de piso limpios, acogedores y amables, y la ubicación es fantástica.', 'Todo lo mejor, el anfitrión realmente se esforzó por hacer que mi estancia fuera buena berirer de idioma. Pequeño albergue familiar con todas las cosas básicas en una buena ubicación.', 'Alojamiento muy útil para unos cuantos viajeros solitarios que llevan unos días en París. Limpio y cerca del metro. Buen barrio', 'Gracias Guoxi !!!', 'Hola,\\n\\ntodo fue en el buen sentido, recuerdos encantadores. Un gran detalle ayudando en todo. No muy lejos del metro. Gran lugar para alojarse con un presupuesto asequible.', 'Fue una estancia muy agradable, un lugar genial y gente amable... El metro está justo al final de la manzana, fácil acceso a la ciudad'], ['Muy cómodo, sector tranquilo y cercano del metro.', 'Excelente ubicación y excelente trato por el personal. Un lugar muy tranquilo y demasiado cerca del metro', 'El lugar tal como se describe en el anuncio, muy limpio, el wifi no es súper rápido pero funciona bien, todas las áreas correctas, los anfitriones amables, a pesar de no hablar mucho inglés, buscaban la forma de entender', 'Un excelente lugar para pasar la noche, alojarse y conocer Paris. ¡Que genial haber encontrado este lugar!', 'Guoxi estaba bien organizado, era acogedor y atento. La cocina, los baños y los alojamientos para dormir fueron recientemente remodelados y muy funcionales. El espacio del refrigerador era amplio. La falta de detectores de monóxido de carbono NO era importante, ya que todos los electrodomésticos eran eléctricos, y la calefacción central se suministraba a través de la circulación de agua en los radiadores de pared.', 'bonito lugar', 'muy bien , volveré seguro , mercado, metro, todo cerca ... me ayudó mucho porque no hablaba francés ni inglés... gracias amigo Oss', 'Pasé varias noches en casa de Guoxi y aprecié tener un dormitorio solo;)\\nEl baño es funcional y la cocina es amplia pero no muy climatizada...\\nAgradezco al anfitrión que me haya permitido aparcar la bicicleta dentro, porque viajaba a París todas las mañanas.', '¡Un alojamiento fantástico! ¡Guoxi es muy agradable y servicial! ¡No se puede pedir más!', 'El anfitrión es una persona sumamente amable y servicial. La casa está lejos a pie del centro, pero la parada de metro está muy cerca. Estaba extremadamente satisfecho, lo recomiendo encarecidamente si estás buscando alojamiento en París.', '¡Perfecto!', '¡Me encantó el anfitrión y me ayudó mucho!', 'Todo estuvo excelente, no hay nada de que quejarse', 'Todo bien', 'Alojamiento sencillo pero estupendo en París.\\nEl alojamiento está a 5 minutos a pie del metro, lo que hace que sea fácil llegar al centro de la ciudad.\\nEl hostal se limpia a menudo, lo que lo hace sentir limpio y ordenado', 'Una de las mejores opciones para viajes económicos en París.\\nLos compañeros de piso limpios, acogedores y amables, y la ubicación es fantástica.', 'Todo lo mejor, el anfitrión realmente se esforzó por hacer que mi estancia fuera buena berirer de idioma. Pequeño albergue familiar con todas las cosas básicas en una buena ubicación.', 'Alojamiento muy útil para unos cuantos viajeros solitarios que llevan unos días en París. Limpio y cerca del metro. Buen barrio', 'Gracias Guoxi !!!', 'Hola,\\n\\ntodo fue en el buen sentido, recuerdos encantadores. Un gran detalle ayudando en todo. No muy lejos del metro. Gran lugar para alojarse con un presupuesto asequible.', 'Fue una estancia muy agradable, un lugar genial y gente amable... El metro está justo al final de la manzana, fácil acceso a la ciudad']]</td>\n",
       "      <td>['']</td>\n",
       "      <td>['si']</td>\n",
       "      <td>['identidad verificada']</td>\n",
       "      <td>[]</td>\n",
       "      <td>[]</td>\n",
       "      <td>['guoxi']</td>\n",
       "      <td>['2022']</td>\n",
       "      <td>['si']</td>\n",
       "      <td>[]</td>\n",
       "      <td>['cancelación gratuita antes del 20 mar.']</td>\n",
       "      <td>[]</td>\n",
       "      <td>[]</td>\n",
       "      <td>[43]</td>\n",
       "      <td>[24]</td>\n",
       "      <td>['S/93']</td>\n",
       "      <td>['S/345']</td>\n",
       "      <td>[]</td>\n",
       "      <td>[22]</td>\n",
       "      <td>[4.86]</td>\n",
       "      <td>[['中文 (简体)', ' english', ' 한국어']]</td>\n",
       "      <td>['100%']</td>\n",
       "      <td>['en menos de una hora']</td>\n",
       "      <td>['cocina', 'wifi', 'zona de trabajo', 'tina', 'patio trasero', 'se permite dejar el equipaje', 'secadora de pelo', 'refrigerador', 'no disponible: detector de monóxido de carbono\\ndetector de monóxido de carbono', 'no disponible: detector de humo\\ndetector de humo']</td>\n",
       "      <td>[]</td>\n",
       "      <td>[]</td>\n",
       "      <td>[]</td>\n",
       "      <td>[]</td>\n",
       "      <td>[]</td>\n",
       "      <td>[]</td>\n",
       "      <td>[]</td>\n",
       "      <td>[]</td>\n",
       "      <td>[]</td>\n",
       "      <td>[]</td>\n",
       "      <td>[]</td>\n",
       "      <td>[]</td>\n",
       "      <td>[]</td>\n",
       "      <td>['quién puede quedarse en el alojamiento\\n1 huésped como máximo\\nno se admiten mascotas', 'qué está permitido\\nel horario de check-in es de las 14:00 a las 22:00\\nla salida es antes de las 11:00\\nestá prohibido hacer fiestas o eventos\\nprohibido fumar', 'el horario de check-in es de las 14:00 a las 22:00', 'la salida es antes de las 11:00', '1 huésped como máximo']</td>\n",
       "      <td>['consideraciones de seguridad\\nno apto para niños ni bebés', 'dispositivos de seguridad\\nno hay alarma de humo\\nno se requiere detector de monóxido de carbono\\nel anfitrión informó que no es necesario en este alojamiento. por ejemplo, porque todos los electrodomésticos son eléctricos y no utilizan gas, aceite, queroseno o madera.', 'información de la propiedad\\nhay espacios compartidos\\nno se puede estacionar en el alojamiento', 'el horario de check-in es de las 14:00 a las 22:00', 'la salida es antes de las 11:00', '1 huésped como máximo']</td>\n",
       "      <td>['20 mar.\\n13:00\\nreembolso total: recibirás el 100 % de lo que pagaste', '12 abr.\\n14:00\\nreembolso parcial: recibirás el 50 % del monto de todas las noches. no se te reembolsará la tarifa por servicio.', '19 abr.\\n14:00\\n(check-in)\\nsin reembolso', 'política de cancelación']</td>\n",
       "    </tr>\n",
       "    <tr>\n",
       "      <th>1</th>\n",
       "      <td>2023-03-04</td>\n",
       "      <td>['habitación privada en vivienda rentada - anfitrión: julien']</td>\n",
       "      <td>['1 huésped']</td>\n",
       "      <td>[' · 1 baño compartido']</td>\n",
       "      <td>[]</td>\n",
       "      <td>[' · 1 habitación']</td>\n",
       "      <td>[' · 1 cama']</td>\n",
       "      <td>['4.8']</td>\n",
       "      <td>['4.9']</td>\n",
       "      <td>['4.9']</td>\n",
       "      <td>['4.9']</td>\n",
       "      <td>['4.5']</td>\n",
       "      <td>['4.9']</td>\n",
       "      <td>[['Cumple con lo que dice la reseña, julien atento, e intenta comunicarse contigo.', 'Esta super cerca de la estación, a 5 min. Está línea te lleva al Sacré cœur. Julian es super amable, se esfuerza mucho porque la gente se sienta cómoda. Es una gran persona.', 'El anfitrión siempre está atento en todo momento. la habitación está ubicada a pocos metros de la línea 12 que te deja en el centro de París. totalmente recomendado.', 'Durante mi estancia Julien estuvo muy atento y amable. Me ayudo cuando tuve un problema con mi celular, fue muy servicial. El lugar está muy cercano a la estación del metro y me fue muy fácil usarlo, definitivamente lo recomiendo.', 'muy agradable la estancia! el cuarto muy cómodo y el anfitrión muy amable y servicial, 10/10', 'habitación amplia y cómoda. Julian es muy amable y dispuesto a ayudar', 'El anfitrión es una persona muy amable y alegre. trata de adaptarse a las necesidades de los huéspedes y es de cconfiar.\\nLa zona no es muy cómoda realmente y sobre todo porque está en la zona 3.', 'Perfecto, con una ubicación excelente para pasar tus dias en paris', 'Julien es una persona súper atenta y dispuesta ayudarte con todo lo que necesites. Me hospedé dos noches solamente, pero todo fue perfecto.', 'Es un buen sitio para hospedarse, super recomendado', 'Muy buen lugar, buena ubicación y está bien cuidado', 'El alojamiento está bien y es cómodo. Solo les recomiendo a los futuros huéspedes que si tienen problemas para conciliar el sueño, lleven tapones para los oídos. Las habitaciones dan a una calle transitada y hay bastante ruido', 'El departamento de Julien es tal y como se muestra en las fotos, muy limpio todo y agradable. Julien super atento, me envió incluso imagen de las estaciones del tren para que me ubicara mejor, quedo muy agradecida por su hospitalidad. Definitivamente lo recomiendo.', 'Un lugar cercano y accesible para conocer París.', 'Todo increíblemente bien llegaría las veces que fueran necesarias es el mejor AirBNB que he llegado', 'Simplemente un anfitrión de excelencia, me sorprendió con su amabilidad, los servicios en su alojamiento totalmente limpios y accesibles en todo momento.\\nJulien siempre preocupado por qué estemos a gusto y no necesitemos nada.\\nMe volvería a quedar en su alojamiento sin pensarlo, cuando regrese a París!!', 'Mi experiencia en el alojamiento de Julien fue increíble. Me quedé un mes completo y tuve la posibilidad de conocer una gran persona. Julien es muy servicial, siempre se preocupa por como estas. Realmente me hizo sentir como si estuviera en mi casa. Sin dudar volvería a su casa si tengo que volver a París y lo recomiendo con los ojos cerrados.', 'Excelente lugar. Muy buena atención de Julien, es amable y se preocupa de los huéspedes.', 'Todo perfecto, la desventaja es que esta un poco lejos de paris, pero en el (RER) está muy fácil de llagar', 'El departamento de Julien es muy agradable, lleno de detalles y muy limpio. El entorno urbano es un poco bullicioso en las noches y la estacion de trenes está a unas siete cuadras.\\nEs un lugar muy recomendable, a buen precio y con un excelente anfitrión.', 'es un gran anfitrión, todo limpio y un barrio muy tranquilo', 'Está muy cómodo, limpio y julien es muy amigable y atento. Recomendado', 'El lugar esta muy limpio y ordenado, el único problema es que tienes que caminar 10 minutos hasta la estación del tren', 'El lugar es limpio, con buena calefacción y luminoso. Realmente cómodo.\\nSe encuentra a unos 15 minutos del centro de París en tren. La estación está a unas seis cuadras del alojamiento.\\nJulien es muy amable.\\nRecomiendo el lugar.', 'A 40 minutos del centro en cercanías (RER), anfitrión muy atento. También cerca de Le Bourget.', 'Julien es un un gran chico, muy atentos, siempre está atento a que requieres, se comunica por el móvil, para saber que esté bien, te orienta para dònde y como irte, te busca opciones, es maravillosa persona, muy limpio, respetuoso y comunicativo, tiene muchos detalles con su huésped, la zona es popular, pero también conoces un Paris más real no sólo turístico, hay metro cerca que te lleva al centro, yo me la pase increíble y volvería, gracias Julien .', 'Un anfitrión muy cordial, recibiendo de muy buena manera y preocupandose de como me sentía en mi estancia en París.', 'Julien es un excelente anfitrión, es muy accesible y hace lo que sea para que te sientas como en casa. La ubicación del departamento esta algo retirada del centro de París pero el metro pasa a 3 cuadras y de igual manera es muy fácil llegar.'], ['Cumple con lo que dice la reseña, julien atento, e intenta comunicarse contigo.', 'Esta super cerca de la estación, a 5 min. Está línea te lleva al Sacré cœur. Julian es super amable, se esfuerza mucho porque la gente se sienta cómoda. Es una gran persona.', 'El anfitrión siempre está atento en todo momento. la habitación está ubicada a pocos metros de la línea 12 que te deja en el centro de París. totalmente recomendado.', 'Durante mi estancia Julien estuvo muy atento y amable. Me ayudo cuando tuve un problema con mi celular, fue muy servicial. El lugar está muy cercano a la estación del metro y me fue muy fácil usarlo, definitivamente lo recomiendo.', 'muy agradable la estancia! el cuarto muy cómodo y el anfitrión muy amable y servicial, 10/10', 'habitación amplia y cómoda. Julian es muy amable y dispuesto a ayudar', 'El anfitrión es una persona muy amable y alegre. trata de adaptarse a las necesidades de los huéspedes y es de cconfiar.\\nLa zona no es muy cómoda realmente y sobre todo porque está en la zona 3.', 'Perfecto, con una ubicación excelente para pasar tus dias en paris', 'Julien es una persona súper atenta y dispuesta ayudarte con todo lo que necesites. Me hospedé dos noches solamente, pero todo fue perfecto.', 'Es un buen sitio para hospedarse, super recomendado', 'Muy buen lugar, buena ubicación y está bien cuidado', 'El alojamiento está bien y es cómodo. Solo les recomiendo a los futuros huéspedes que si tienen problemas para conciliar el sueño, lleven tapones para los oídos. Las habitaciones dan a una calle transitada y hay bastante ruido', 'El departamento de Julien es tal y como se muestra en las fotos, muy limpio todo y agradable. Julien super atento, me envió incluso imagen de las estaciones del tren para que me ubicara mejor, quedo muy agradecida por su hospitalidad. Definitivamente lo recomiendo.', 'Un lugar cercano y accesible para conocer París.', 'Todo increíblemente bien llegaría las veces que fueran necesarias es el mejor AirBNB que he llegado', 'Simplemente un anfitrión de excelencia, me sorprendió con su amabilidad, los servicios en su alojamiento totalmente limpios y accesibles en todo momento.\\nJulien siempre preocupado por qué estemos a gusto y no necesitemos nada.\\nMe volvería a quedar en su alojamiento sin pensarlo, cuando regrese a París!!', 'Mi experiencia en el alojamiento de Julien fue increíble. Me quedé un mes completo y tuve la posibilidad de conocer una gran persona. Julien es muy servicial, siempre se preocupa por como estas. Realmente me hizo sentir como si estuviera en mi casa. Sin dudar volvería a su casa si tengo que volver a París y lo recomiendo con los ojos cerrados.', 'Excelente lugar. Muy buena atención de Julien, es amable y se preocupa de los huéspedes.', 'Todo perfecto, la desventaja es que esta un poco lejos de paris, pero en el (RER) está muy fácil de llagar', 'El departamento de Julien es muy agradable, lleno de detalles y muy limpio. El entorno urbano es un poco bullicioso en las noches y la estacion de trenes está a unas siete cuadras.\\nEs un lugar muy recomendable, a buen precio y con un excelente anfitrión.', 'es un gran anfitrión, todo limpio y un barrio muy tranquilo', 'Está muy cómodo, limpio y julien es muy amigable y atento. Recomendado', 'El lugar esta muy limpio y ordenado, el único problema es que tienes que caminar 10 minutos hasta la estación del tren', 'El lugar es limpio, con buena calefacción y luminoso. Realmente cómodo.\\nSe encuentra a unos 15 minutos del centro de París en tren. La estación está a unas seis cuadras del alojamiento.\\nJulien es muy amable.\\nRecomiendo el lugar.', 'A 40 minutos del centro en cercanías (RER), anfitrión muy atento. También cerca de Le Bourget.', 'Julien es un un gran chico, muy atentos, siempre está atento a que requieres, se comunica por el móvil, para saber que esté bien, te orienta para dònde y como irte, te busca opciones, es maravillosa persona, muy limpio, respetuoso y comunicativo, tiene muchos detalles con su huésped, la zona es popular, pero también conoces un Paris más real no sólo turístico, hay metro cerca que te lleva al centro, yo me la pase increíble y volvería, gracias Julien .', 'Un anfitrión muy cordial, recibiendo de muy buena manera y preocupandose de como me sentía en mi estancia en París.', 'Julien es un excelente anfitrión, es muy accesible y hace lo que sea para que te sientas como en casa. La ubicación del departamento esta algo retirada del centro de París pero el metro pasa a 3 cuadras y de igual manera es muy fácil llegar.'], ['Cumple con lo que dice la reseña, julien atento, e intenta comunicarse contigo.', 'Esta super cerca de la estación, a 5 min. Está línea te lleva al Sacré cœur. Julian es super amable, se esfuerza mucho porque la gente se sienta cómoda. Es una gran persona.', 'El anfitrión siempre está atento en todo momento. la habitación está ubicada a pocos metros de la línea 12 que te deja en el centro de París. totalmente recomendado.', 'Durante mi estancia Julien estuvo muy atento y amable. Me ayudo cuando tuve un problema con mi celular, fue muy servicial. El lugar está muy cercano a la estación del metro y me fue muy fácil usarlo, definitivamente lo recomiendo.', 'muy agradable la estancia! el cuarto muy cómodo y el anfitrión muy amable y servicial, 10/10', 'habitación amplia y cómoda. Julian es muy amable y dispuesto a ayudar', 'El anfitrión es una persona muy amable y alegre. trata de adaptarse a las necesidades de los huéspedes y es de cconfiar.\\nLa zona no es muy cómoda realmente y sobre todo porque está en la zona 3.', 'Perfecto, con una ubicación excelente para pasar tus dias en paris', 'Julien es una persona súper atenta y dispuesta ayudarte con todo lo que necesites. Me hospedé dos noches solamente, pero todo fue perfecto.', 'Es un buen sitio para hospedarse, super recomendado', 'Muy buen lugar, buena ubicación y está bien cuidado', 'El alojamiento está bien y es cómodo. Solo les recomiendo a los futuros huéspedes que si tienen problemas para conciliar el sueño, lleven tapones para los oídos. Las habitaciones dan a una calle transitada y hay bastante ruido', 'El departamento de Julien es tal y como se muestra en las fotos, muy limpio todo y agradable. Julien super atento, me envió incluso imagen de las estaciones del tren para que me ubicara mejor, quedo muy agradecida por su hospitalidad. Definitivamente lo recomiendo.', 'Un lugar cercano y accesible para conocer París.', 'Todo increíblemente bien llegaría las veces que fueran necesarias es el mejor AirBNB que he llegado', 'Simplemente un anfitrión de excelencia, me sorprendió con su amabilidad, los servicios en su alojamiento totalmente limpios y accesibles en todo momento.\\nJulien siempre preocupado por qué estemos a gusto y no necesitemos nada.\\nMe volvería a quedar en su alojamiento sin pensarlo, cuando regrese a París!!', 'Mi experiencia en el alojamiento de Julien fue increíble. Me quedé un mes completo y tuve la posibilidad de conocer una gran persona. Julien es muy servicial, siempre se preocupa por como estas. Realmente me hizo sentir como si estuviera en mi casa. Sin dudar volvería a su casa si tengo que volver a París y lo recomiendo con los ojos cerrados.', 'Excelente lugar. Muy buena atención de Julien, es amable y se preocupa de los huéspedes.', 'Todo perfecto, la desventaja es que esta un poco lejos de paris, pero en el (RER) está muy fácil de llagar', 'El departamento de Julien es muy agradable, lleno de detalles y muy limpio. El entorno urbano es un poco bullicioso en las noches y la estacion de trenes está a unas siete cuadras.\\nEs un lugar muy recomendable, a buen precio y con un excelente anfitrión.', 'es un gran anfitrión, todo limpio y un barrio muy tranquilo', 'Está muy cómodo, limpio y julien es muy amigable y atento. Recomendado', 'El lugar esta muy limpio y ordenado, el único problema es que tienes que caminar 10 minutos hasta la estación del tren', 'El lugar es limpio, con buena calefacción y luminoso. Realmente cómodo.\\nSe encuentra a unos 15 minutos del centro de París en tren. La estación está a unas seis cuadras del alojamiento.\\nJulien es muy amable.\\nRecomiendo el lugar.', 'A 40 minutos del centro en cercanías (RER), anfitrión muy atento. También cerca de Le Bourget.', 'Julien es un un gran chico, muy atentos, siempre está atento a que requieres, se comunica por el móvil, para saber que esté bien, te orienta para dònde y como irte, te busca opciones, es maravillosa persona, muy limpio, respetuoso y comunicativo, tiene muchos detalles con su huésped, la zona es popular, pero también conoces un Paris más real no sólo turístico, hay metro cerca que te lleva al centro, yo me la pase increíble y volvería, gracias Julien .', 'Un anfitrión muy cordial, recibiendo de muy buena manera y preocupandose de como me sentía en mi estancia en París.', 'Julien es un excelente anfitrión, es muy accesible y hace lo que sea para que te sientas como en casa. La ubicación del departamento esta algo retirada del centro de París pero el metro pasa a 3 cuadras y de igual manera es muy fácil llegar.'], ['Cumple con lo que dice la reseña, julien atento, e intenta comunicarse contigo.', 'Esta super cerca de la estación, a 5 min. Está línea te lleva al Sacré cœur. Julian es super amable, se esfuerza mucho porque la gente se sienta cómoda. Es una gran persona.', 'El anfitrión siempre está atento en todo momento. la habitación está ubicada a pocos metros de la línea 12 que te deja en el centro de París. totalmente recomendado.', 'Durante mi estancia Julien estuvo muy atento y amable. Me ayudo cuando tuve un problema con mi celular, fue muy servicial. El lugar está muy cercano a la estación del metro y me fue muy fácil usarlo, definitivamente lo recomiendo.', 'muy agradable la estancia! el cuarto muy cómodo y el anfitrión muy amable y servicial, 10/10', 'habitación amplia y cómoda. Julian es muy amable y dispuesto a ayudar', 'El anfitrión es una persona muy amable y alegre. trata de adaptarse a las necesidades de los huéspedes y es de cconfiar.\\nLa zona no es muy cómoda realmente y sobre todo porque está en la zona 3.', 'Perfecto, con una ubicación excelente para pasar tus dias en paris', 'Julien es una persona súper atenta y dispuesta ayudarte con todo lo que necesites. Me hospedé dos noches solamente, pero todo fue perfecto.', 'Es un buen sitio para hospedarse, super recomendado', 'Muy buen lugar, buena ubicación y está bien cuidado', 'El alojamiento está bien y es cómodo. Solo les recomiendo a los futuros huéspedes que si tienen problemas para conciliar el sueño, lleven tapones para los oídos. Las habitaciones dan a una calle transitada y hay bastante ruido', 'El departamento de Julien es tal y como se muestra en las fotos, muy limpio todo y agradable. Julien super atento, me envió incluso imagen de las estaciones del tren para que me ubicara mejor, quedo muy agradecida por su hospitalidad. Definitivamente lo recomiendo.', 'Un lugar cercano y accesible para conocer París.', 'Todo increíblemente bien llegaría las veces que fueran necesarias es el mejor AirBNB que he llegado', 'Simplemente un anfitrión de excelencia, me sorprendió con su amabilidad, los servicios en su alojamiento totalmente limpios y accesibles en todo momento.\\nJulien siempre preocupado por qué estemos a gusto y no necesitemos nada.\\nMe volvería a quedar en su alojamiento sin pensarlo, cuando regrese a París!!', 'Mi experiencia en el alojamiento de Julien fue increíble. Me quedé un mes completo y tuve la posibilidad de conocer una gran persona. Julien es muy servicial, siempre se preocupa por como estas. Realmente me hizo sentir como si estuviera en mi casa. Sin dudar volvería a su casa si tengo que volver a París y lo recomiendo con los ojos cerrados.', 'Excelente lugar. Muy buena atención de Julien, es amable y se preocupa de los huéspedes.', 'Todo perfecto, la desventaja es que esta un poco lejos de paris, pero en el (RER) está muy fácil de llagar', 'El departamento de Julien es muy agradable, lleno de detalles y muy limpio. El entorno urbano es un poco bullicioso en las noches y la estacion de trenes está a unas siete cuadras.\\nEs un lugar muy recomendable, a buen precio y con un excelente anfitrión.', 'es un gran anfitrión, todo limpio y un barrio muy tranquilo', 'Está muy cómodo, limpio y julien es muy amigable y atento. Recomendado', 'El lugar esta muy limpio y ordenado, el único problema es que tienes que caminar 10 minutos hasta la estación del tren', 'El lugar es limpio, con buena calefacción y luminoso. Realmente cómodo.\\nSe encuentra a unos 15 minutos del centro de París en tren. La estación está a unas seis cuadras del alojamiento.\\nJulien es muy amable.\\nRecomiendo el lugar.', 'A 40 minutos del centro en cercanías (RER), anfitrión muy atento. También cerca de Le Bourget.', 'Julien es un un gran chico, muy atentos, siempre está atento a que requieres, se comunica por el móvil, para saber que esté bien, te orienta para dònde y como irte, te busca opciones, es maravillosa persona, muy limpio, respetuoso y comunicativo, tiene muchos detalles con su huésped, la zona es popular, pero también conoces un Paris más real no sólo turístico, hay metro cerca que te lleva al centro, yo me la pase increíble y volvería, gracias Julien .', 'Un anfitrión muy cordial, recibiendo de muy buena manera y preocupandose de como me sentía en mi estancia en París.', 'Julien es un excelente anfitrión, es muy accesible y hace lo que sea para que te sientas como en casa. La ubicación del departamento esta algo retirada del centro de París pero el metro pasa a 3 cuadras y de igual manera es muy fácil llegar.'], ['Cumple con lo que dice la reseña, julien atento, e intenta comunicarse contigo.', 'Esta super cerca de la estación, a 5 min. Está línea te lleva al Sacré cœur. Julian es super amable, se esfuerza mucho porque la gente se sienta cómoda. Es una gran persona.', 'El anfitrión siempre está atento en todo momento. la habitación está ubicada a pocos metros de la línea 12 que te deja en el centro de París. totalmente recomendado.', 'Durante mi estancia Julien estuvo muy atento y amable. Me ayudo cuando tuve un problema con mi celular, fue muy servicial. El lugar está muy cercano a la estación del metro y me fue muy fácil usarlo, definitivamente lo recomiendo.', 'muy agradable la estancia! el cuarto muy cómodo y el anfitrión muy amable y servicial, 10/10', 'habitación amplia y cómoda. Julian es muy amable y dispuesto a ayudar', 'El anfitrión es una persona muy amable y alegre. trata de adaptarse a las necesidades de los huéspedes y es de cconfiar.\\nLa zona no es muy cómoda realmente y sobre todo porque está en la zona 3.', 'Perfecto, con una ubicación excelente para pasar tus dias en paris', 'Julien es una persona súper atenta y dispuesta ayudarte con todo lo que necesites. Me hospedé dos noches solamente, pero todo fue perfecto.', 'Es un buen sitio para hospedarse, super recomendado', 'Muy buen lugar, buena ubicación y está bien cuidado', 'El alojamiento está bien y es cómodo. Solo les recomiendo a los futuros huéspedes que si tienen problemas para conciliar el sueño, lleven tapones para los oídos. Las habitaciones dan a una calle transitada y hay bastante ruido', 'El departamento de Julien es tal y como se muestra en las fotos, muy limpio todo y agradable. Julien super atento, me envió incluso imagen de las estaciones del tren para que me ubicara mejor, quedo muy agradecida por su hospitalidad. Definitivamente lo recomiendo.', 'Un lugar cercano y accesible para conocer París.', 'Todo increíblemente bien llegaría las veces que fueran necesarias es el mejor AirBNB que he llegado', 'Simplemente un anfitrión de excelencia, me sorprendió con su amabilidad, los servicios en su alojamiento totalmente limpios y accesibles en todo momento.\\nJulien siempre preocupado por qué estemos a gusto y no necesitemos nada.\\nMe volvería a quedar en su alojamiento sin pensarlo, cuando regrese a París!!', 'Mi experiencia en el alojamiento de Julien fue increíble. Me quedé un mes completo y tuve la posibilidad de conocer una gran persona. Julien es muy servicial, siempre se preocupa por como estas. Realmente me hizo sentir como si estuviera en mi casa. Sin dudar volvería a su casa si tengo que volver a París y lo recomiendo con los ojos cerrados.', 'Excelente lugar. Muy buena atención de Julien, es amable y se preocupa de los huéspedes.', 'Todo perfecto, la desventaja es que esta un poco lejos de paris, pero en el (RER) está muy fácil de llagar', 'El departamento de Julien es muy agradable, lleno de detalles y muy limpio. El entorno urbano es un poco bullicioso en las noches y la estacion de trenes está a unas siete cuadras.\\nEs un lugar muy recomendable, a buen precio y con un excelente anfitrión.', 'es un gran anfitrión, todo limpio y un barrio muy tranquilo', 'Está muy cómodo, limpio y julien es muy amigable y atento. Recomendado', 'El lugar esta muy limpio y ordenado, el único problema es que tienes que caminar 10 minutos hasta la estación del tren', 'El lugar es limpio, con buena calefacción y luminoso. Realmente cómodo.\\nSe encuentra a unos 15 minutos del centro de París en tren. La estación está a unas seis cuadras del alojamiento.\\nJulien es muy amable.\\nRecomiendo el lugar.', 'A 40 minutos del centro en cercanías (RER), anfitrión muy atento. También cerca de Le Bourget.', 'Julien es un un gran chico, muy atentos, siempre está atento a que requieres, se comunica por el móvil, para saber que esté bien, te orienta para dònde y como irte, te busca opciones, es maravillosa persona, muy limpio, respetuoso y comunicativo, tiene muchos detalles con su huésped, la zona es popular, pero también conoces un Paris más real no sólo turístico, hay metro cerca que te lleva al centro, yo me la pase increíble y volvería, gracias Julien .', 'Un anfitrión muy cordial, recibiendo de muy buena manera y preocupandose de como me sentía en mi estancia en París.', 'Julien es un excelente anfitrión, es muy accesible y hace lo que sea para que te sientas como en casa. La ubicación del departamento esta algo retirada del centro de París pero el metro pasa a 3 cuadras y de igual manera es muy fácil llegar.'], ['Cumple con lo que dice la reseña, julien atento, e intenta comunicarse contigo.', 'Esta super cerca de la estación, a 5 min. Está línea te lleva al Sacré cœur. Julian es super amable, se esfuerza mucho porque la gente se sienta cómoda. Es una gran persona.', 'El anfitrión siempre está atento en todo momento. la habitación está ubicada a pocos metros de la línea 12 que te deja en el centro de París. totalmente recomendado.', 'Durante mi estancia Julien estuvo muy atento y amable. Me ayudo cuando tuve un problema con mi celular, fue muy servicial. El lugar está muy cercano a la estación del metro y me fue muy fácil usarlo, definitivamente lo recomiendo.', 'muy agradable la estancia! el cuarto muy cómodo y el anfitrión muy amable y servicial, 10/10', 'habitación amplia y cómoda. Julian es muy amable y dispuesto a ayudar', 'El anfitrión es una persona muy amable y alegre. trata de adaptarse a las necesidades de los huéspedes y es de cconfiar.\\nLa zona no es muy cómoda realmente y sobre todo porque está en la zona 3.', 'Perfecto, con una ubicación excelente para pasar tus dias en paris', 'Julien es una persona súper atenta y dispuesta ayudarte con todo lo que necesites. Me hospedé dos noches solamente, pero todo fue perfecto.', 'Es un buen sitio para hospedarse, super recomendado', 'Muy buen lugar, buena ubicación y está bien cuidado', 'El alojamiento está bien y es cómodo. Solo les recomiendo a los futuros huéspedes que si tienen problemas para conciliar el sueño, lleven tapones para los oídos. Las habitaciones dan a una calle transitada y hay bastante ruido', 'El departamento de Julien es tal y como se muestra en las fotos, muy limpio todo y agradable. Julien super atento, me envió incluso imagen de las estaciones del tren para que me ubicara mejor, quedo muy agradecida por su hospitalidad. Definitivamente lo recomiendo.', 'Un lugar cercano y accesible para conocer París.', 'Todo increíblemente bien llegaría las veces que fueran necesarias es el mejor AirBNB que he llegado', 'Simplemente un anfitrión de excelencia, me sorprendió con su amabilidad, los servicios en su alojamiento totalmente limpios y accesibles en todo momento.\\nJulien siempre preocupado por qué estemos a gusto y no necesitemos nada.\\nMe volvería a quedar en su alojamiento sin pensarlo, cuando regrese a París!!', 'Mi experiencia en el alojamiento de Julien fue increíble. Me quedé un mes completo y tuve la posibilidad de conocer una gran persona. Julien es muy servicial, siempre se preocupa por como estas. Realmente me hizo sentir como si estuviera en mi casa. Sin dudar volvería a su casa si tengo que volver a París y lo recomiendo con los ojos cerrados.', 'Excelente lugar. Muy buena atención de Julien, es amable y se preocupa de los huéspedes.', 'Todo perfecto, la desventaja es que esta un poco lejos de paris, pero en el (RER) está muy fácil de llagar', 'El departamento de Julien es muy agradable, lleno de detalles y muy limpio. El entorno urbano es un poco bullicioso en las noches y la estacion de trenes está a unas siete cuadras.\\nEs un lugar muy recomendable, a buen precio y con un excelente anfitrión.', 'es un gran anfitrión, todo limpio y un barrio muy tranquilo', 'Está muy cómodo, limpio y julien es muy amigable y atento. Recomendado', 'El lugar esta muy limpio y ordenado, el único problema es que tienes que caminar 10 minutos hasta la estación del tren', 'El lugar es limpio, con buena calefacción y luminoso. Realmente cómodo.\\nSe encuentra a unos 15 minutos del centro de París en tren. La estación está a unas seis cuadras del alojamiento.\\nJulien es muy amable.\\nRecomiendo el lugar.', 'A 40 minutos del centro en cercanías (RER), anfitrión muy atento. También cerca de Le Bourget.', 'Julien es un un gran chico, muy atentos, siempre está atento a que requieres, se comunica por el móvil, para saber que esté bien, te orienta para dònde y como irte, te busca opciones, es maravillosa persona, muy limpio, respetuoso y comunicativo, tiene muchos detalles con su huésped, la zona es popular, pero también conoces un Paris más real no sólo turístico, hay metro cerca que te lleva al centro, yo me la pase increíble y volvería, gracias Julien .', 'Un anfitrión muy cordial, recibiendo de muy buena manera y preocupandose de como me sentía en mi estancia en París.', 'Julien es un excelente anfitrión, es muy accesible y hace lo que sea para que te sientas como en casa. La ubicación del departamento esta algo retirada del centro de París pero el metro pasa a 3 cuadras y de igual manera es muy fácil llegar.'], ['Cumple con lo que dice la reseña, julien atento, e intenta comunicarse contigo.', 'Esta super cerca de la estación, a 5 min. Está línea te lleva al Sacré cœur. Julian es super amable, se esfuerza mucho porque la gente se sienta cómoda. Es una gran persona.', 'El anfitrión siempre está atento en todo momento. la habitación está ubicada a pocos metros de la línea 12 que te deja en el centro de París. totalmente recomendado.', 'Durante mi estancia Julien estuvo muy atento y amable. Me ayudo cuando tuve un problema con mi celular, fue muy servicial. El lugar está muy cercano a la estación del metro y me fue muy fácil usarlo, definitivamente lo recomiendo.', 'muy agradable la estancia! el cuarto muy cómodo y el anfitrión muy amable y servicial, 10/10', 'habitación amplia y cómoda. Julian es muy amable y dispuesto a ayudar', 'El anfitrión es una persona muy amable y alegre. trata de adaptarse a las necesidades de los huéspedes y es de cconfiar.\\nLa zona no es muy cómoda realmente y sobre todo porque está en la zona 3.', 'Perfecto, con una ubicación excelente para pasar tus dias en paris', 'Julien es una persona súper atenta y dispuesta ayudarte con todo lo que necesites. Me hospedé dos noches solamente, pero todo fue perfecto.', 'Es un buen sitio para hospedarse, super recomendado', 'Muy buen lugar, buena ubicación y está bien cuidado', 'El alojamiento está bien y es cómodo. Solo les recomiendo a los futuros huéspedes que si tienen problemas para conciliar el sueño, lleven tapones para los oídos. Las habitaciones dan a una calle transitada y hay bastante ruido', 'El departamento de Julien es tal y como se muestra en las fotos, muy limpio todo y agradable. Julien super atento, me envió incluso imagen de las estaciones del tren para que me ubicara mejor, quedo muy agradecida por su hospitalidad. Definitivamente lo recomiendo.', 'Un lugar cercano y accesible para conocer París.', 'Todo increíblemente bien llegaría las veces que fueran necesarias es el mejor AirBNB que he llegado', 'Simplemente un anfitrión de excelencia, me sorprendió con su amabilidad, los servicios en su alojamiento totalmente limpios y accesibles en todo momento.\\nJulien siempre preocupado por qué estemos a gusto y no necesitemos nada.\\nMe volvería a quedar en su alojamiento sin pensarlo, cuando regrese a París!!', 'Mi experiencia en el alojamiento de Julien fue increíble. Me quedé un mes completo y tuve la posibilidad de conocer una gran persona. Julien es muy servicial, siempre se preocupa por como estas. Realmente me hizo sentir como si estuviera en mi casa. Sin dudar volvería a su casa si tengo que volver a París y lo recomiendo con los ojos cerrados.', 'Excelente lugar. Muy buena atención de Julien, es amable y se preocupa de los huéspedes.', 'Todo perfecto, la desventaja es que esta un poco lejos de paris, pero en el (RER) está muy fácil de llagar', 'El departamento de Julien es muy agradable, lleno de detalles y muy limpio. El entorno urbano es un poco bullicioso en las noches y la estacion de trenes está a unas siete cuadras.\\nEs un lugar muy recomendable, a buen precio y con un excelente anfitrión.', 'es un gran anfitrión, todo limpio y un barrio muy tranquilo', 'Está muy cómodo, limpio y julien es muy amigable y atento. Recomendado', 'El lugar esta muy limpio y ordenado, el único problema es que tienes que caminar 10 minutos hasta la estación del tren', 'El lugar es limpio, con buena calefacción y luminoso. Realmente cómodo.\\nSe encuentra a unos 15 minutos del centro de París en tren. La estación está a unas seis cuadras del alojamiento.\\nJulien es muy amable.\\nRecomiendo el lugar.', 'A 40 minutos del centro en cercanías (RER), anfitrión muy atento. También cerca de Le Bourget.', 'Julien es un un gran chico, muy atentos, siempre está atento a que requieres, se comunica por el móvil, para saber que esté bien, te orienta para dònde y como irte, te busca opciones, es maravillosa persona, muy limpio, respetuoso y comunicativo, tiene muchos detalles con su huésped, la zona es popular, pero también conoces un Paris más real no sólo turístico, hay metro cerca que te lleva al centro, yo me la pase increíble y volvería, gracias Julien .', 'Un anfitrión muy cordial, recibiendo de muy buena manera y preocupandose de como me sentía en mi estancia en París.', 'Julien es un excelente anfitrión, es muy accesible y hace lo que sea para que te sientas como en casa. La ubicación del departamento esta algo retirada del centro de París pero el metro pasa a 3 cuadras y de igual manera es muy fácil llegar.'], ['Cumple con lo que dice la reseña, julien atento, e intenta comunicarse contigo.', 'Esta super cerca de la estación, a 5 min. Está línea te lleva al Sacré cœur. Julian es super amable, se esfuerza mucho porque la gente se sienta cómoda. Es una gran persona.', 'El anfitrión siempre está atento en todo momento. la habitación está ubicada a pocos metros de la línea 12 que te deja en el centro de París. totalmente recomendado.', 'Durante mi estancia Julien estuvo muy atento y amable. Me ayudo cuando tuve un problema con mi celular, fue muy servicial. El lugar está muy cercano a la estación del metro y me fue muy fácil usarlo, definitivamente lo recomiendo.', 'muy agradable la estancia! el cuarto muy cómodo y el anfitrión muy amable y servicial, 10/10', 'habitación amplia y cómoda. Julian es muy amable y dispuesto a ayudar', 'El anfitrión es una persona muy amable y alegre. trata de adaptarse a las necesidades de los huéspedes y es de cconfiar.\\nLa zona no es muy cómoda realmente y sobre todo porque está en la zona 3.', 'Perfecto, con una ubicación excelente para pasar tus dias en paris', 'Julien es una persona súper atenta y dispuesta ayudarte con todo lo que necesites. Me hospedé dos noches solamente, pero todo fue perfecto.', 'Es un buen sitio para hospedarse, super recomendado', 'Muy buen lugar, buena ubicación y está bien cuidado', 'El alojamiento está bien y es cómodo. Solo les recomiendo a los futuros huéspedes que si tienen problemas para conciliar el sueño, lleven tapones para los oídos. Las habitaciones dan a una calle transitada y hay bastante ruido', 'El departamento de Julien es tal y como se muestra en las fotos, muy limpio todo y agradable. Julien super atento, me envió incluso imagen de las estaciones del tren para que me ubicara mejor, quedo muy agradecida por su hospitalidad. Definitivamente lo recomiendo.', 'Un lugar cercano y accesible para conocer París.', 'Todo increíblemente bien llegaría las veces que fueran necesarias es el mejor AirBNB que he llegado', 'Simplemente un anfitrión de excelencia, me sorprendió con su amabilidad, los servicios en su alojamiento totalmente limpios y accesibles en todo momento.\\nJulien siempre preocupado por qué estemos a gusto y no necesitemos nada.\\nMe volvería a quedar en su alojamiento sin pensarlo, cuando regrese a París!!', 'Mi experiencia en el alojamiento de Julien fue increíble. Me quedé un mes completo y tuve la posibilidad de conocer una gran persona. Julien es muy servicial, siempre se preocupa por como estas. Realmente me hizo sentir como si estuviera en mi casa. Sin dudar volvería a su casa si tengo que volver a París y lo recomiendo con los ojos cerrados.', 'Excelente lugar. Muy buena atención de Julien, es amable y se preocupa de los huéspedes.', 'Todo perfecto, la desventaja es que esta un poco lejos de paris, pero en el (RER) está muy fácil de llagar', 'El departamento de Julien es muy agradable, lleno de detalles y muy limpio. El entorno urbano es un poco bullicioso en las noches y la estacion de trenes está a unas siete cuadras.\\nEs un lugar muy recomendable, a buen precio y con un excelente anfitrión.', 'es un gran anfitrión, todo limpio y un barrio muy tranquilo', 'Está muy cómodo, limpio y julien es muy amigable y atento. Recomendado', 'El lugar esta muy limpio y ordenado, el único problema es que tienes que caminar 10 minutos hasta la estación del tren', 'El lugar es limpio, con buena calefacción y luminoso. Realmente cómodo.\\nSe encuentra a unos 15 minutos del centro de París en tren. La estación está a unas seis cuadras del alojamiento.\\nJulien es muy amable.\\nRecomiendo el lugar.', 'A 40 minutos del centro en cercanías (RER), anfitrión muy atento. También cerca de Le Bourget.', 'Julien es un un gran chico, muy atentos, siempre está atento a que requieres, se comunica por el móvil, para saber que esté bien, te orienta para dònde y como irte, te busca opciones, es maravillosa persona, muy limpio, respetuoso y comunicativo, tiene muchos detalles con su huésped, la zona es popular, pero también conoces un Paris más real no sólo turístico, hay metro cerca que te lleva al centro, yo me la pase increíble y volvería, gracias Julien .', 'Un anfitrión muy cordial, recibiendo de muy buena manera y preocupandose de como me sentía en mi estancia en París.', 'Julien es un excelente anfitrión, es muy accesible y hace lo que sea para que te sientas como en casa. La ubicación del departamento esta algo retirada del centro de París pero el metro pasa a 3 cuadras y de igual manera es muy fácil llegar.'], ['Cumple con lo que dice la reseña, julien atento, e intenta comunicarse contigo.', 'Esta super cerca de la estación, a 5 min. Está línea te lleva al Sacré cœur. Julian es super amable, se esfuerza mucho porque la gente se sienta cómoda. Es una gran persona.', 'El anfitrión siempre está atento en todo momento. la habitación está ubicada a pocos metros de la línea 12 que te deja en el centro de París. totalmente recomendado.', 'Durante mi estancia Julien estuvo muy atento y amable. Me ayudo cuando tuve un problema con mi celular, fue muy servicial. El lugar está muy cercano a la estación del metro y me fue muy fácil usarlo, definitivamente lo recomiendo.', 'muy agradable la estancia! el cuarto muy cómodo y el anfitrión muy amable y servicial, 10/10', 'habitación amplia y cómoda. Julian es muy amable y dispuesto a ayudar', 'El anfitrión es una persona muy amable y alegre. trata de adaptarse a las necesidades de los huéspedes y es de cconfiar.\\nLa zona no es muy cómoda realmente y sobre todo porque está en la zona 3.', 'Perfecto, con una ubicación excelente para pasar tus dias en paris', 'Julien es una persona súper atenta y dispuesta ayudarte con todo lo que necesites. Me hospedé dos noches solamente, pero todo fue perfecto.', 'Es un buen sitio para hospedarse, super recomendado', 'Muy buen lugar, buena ubicación y está bien cuidado', 'El alojamiento está bien y es cómodo. Solo les recomiendo a los futuros huéspedes que si tienen problemas para conciliar el sueño, lleven tapones para los oídos. Las habitaciones dan a una calle transitada y hay bastante ruido', 'El departamento de Julien es tal y como se muestra en las fotos, muy limpio todo y agradable. Julien super atento, me envió incluso imagen de las estaciones del tren para que me ubicara mejor, quedo muy agradecida por su hospitalidad. Definitivamente lo recomiendo.', 'Un lugar cercano y accesible para conocer París.', 'Todo increíblemente bien llegaría las veces que fueran necesarias es el mejor AirBNB que he llegado', 'Simplemente un anfitrión de excelencia, me sorprendió con su amabilidad, los servicios en su alojamiento totalmente limpios y accesibles en todo momento.\\nJulien siempre preocupado por qué estemos a gusto y no necesitemos nada.\\nMe volvería a quedar en su alojamiento sin pensarlo, cuando regrese a París!!', 'Mi experiencia en el alojamiento de Julien fue increíble. Me quedé un mes completo y tuve la posibilidad de conocer una gran persona. Julien es muy servicial, siempre se preocupa por como estas. Realmente me hizo sentir como si estuviera en mi casa. Sin dudar volvería a su casa si tengo que volver a París y lo recomiendo con los ojos cerrados.', 'Excelente lugar. Muy buena atención de Julien, es amable y se preocupa de los huéspedes.', 'Todo perfecto, la desventaja es que esta un poco lejos de paris, pero en el (RER) está muy fácil de llagar', 'El departamento de Julien es muy agradable, lleno de detalles y muy limpio. El entorno urbano es un poco bullicioso en las noches y la estacion de trenes está a unas siete cuadras.\\nEs un lugar muy recomendable, a buen precio y con un excelente anfitrión.', 'es un gran anfitrión, todo limpio y un barrio muy tranquilo', 'Está muy cómodo, limpio y julien es muy amigable y atento. Recomendado', 'El lugar esta muy limpio y ordenado, el único problema es que tienes que caminar 10 minutos hasta la estación del tren', 'El lugar es limpio, con buena calefacción y luminoso. Realmente cómodo.\\nSe encuentra a unos 15 minutos del centro de París en tren. La estación está a unas seis cuadras del alojamiento.\\nJulien es muy amable.\\nRecomiendo el lugar.', 'A 40 minutos del centro en cercanías (RER), anfitrión muy atento. También cerca de Le Bourget.', 'Julien es un un gran chico, muy atentos, siempre está atento a que requieres, se comunica por el móvil, para saber que esté bien, te orienta para dònde y como irte, te busca opciones, es maravillosa persona, muy limpio, respetuoso y comunicativo, tiene muchos detalles con su huésped, la zona es popular, pero también conoces un Paris más real no sólo turístico, hay metro cerca que te lleva al centro, yo me la pase increíble y volvería, gracias Julien .', 'Un anfitrión muy cordial, recibiendo de muy buena manera y preocupandose de como me sentía en mi estancia en París.', 'Julien es un excelente anfitrión, es muy accesible y hace lo que sea para que te sientas como en casa. La ubicación del departamento esta algo retirada del centro de París pero el metro pasa a 3 cuadras y de igual manera es muy fácil llegar.'], ['Cumple con lo que dice la reseña, julien atento, e intenta comunicarse contigo.', 'Esta super cerca de la estación, a 5 min. Está línea te lleva al Sacré cœur. Julian es super amable, se esfuerza mucho porque la gente se sienta cómoda. Es una gran persona.', 'El anfitrión siempre está atento en todo momento. la habitación está ubicada a pocos metros de la línea 12 que te deja en el centro de París. totalmente recomendado.', 'Durante mi estancia Julien estuvo muy atento y amable. Me ayudo cuando tuve un problema con mi celular, fue muy servicial. El lugar está muy cercano a la estación del metro y me fue muy fácil usarlo, definitivamente lo recomiendo.', 'muy agradable la estancia! el cuarto muy cómodo y el anfitrión muy amable y servicial, 10/10', 'habitación amplia y cómoda. Julian es muy amable y dispuesto a ayudar', 'El anfitrión es una persona muy amable y alegre. trata de adaptarse a las necesidades de los huéspedes y es de cconfiar.\\nLa zona no es muy cómoda realmente y sobre todo porque está en la zona 3.', 'Perfecto, con una ubicación excelente para pasar tus dias en paris', 'Julien es una persona súper atenta y dispuesta ayudarte con todo lo que necesites. Me hospedé dos noches solamente, pero todo fue perfecto.', 'Es un buen sitio para hospedarse, super recomendado', 'Muy buen lugar, buena ubicación y está bien cuidado', 'El alojamiento está bien y es cómodo. Solo les recomiendo a los futuros huéspedes que si tienen problemas para conciliar el sueño, lleven tapones para los oídos. Las habitaciones dan a una calle transitada y hay bastante ruido', 'El departamento de Julien es tal y como se muestra en las fotos, muy limpio todo y agradable. Julien super atento, me envió incluso imagen de las estaciones del tren para que me ubicara mejor, quedo muy agradecida por su hospitalidad. Definitivamente lo recomiendo.', 'Un lugar cercano y accesible para conocer París.', 'Todo increíblemente bien llegaría las veces que fueran necesarias es el mejor AirBNB que he llegado', 'Simplemente un anfitrión de excelencia, me sorprendió con su amabilidad, los servicios en su alojamiento totalmente limpios y accesibles en todo momento.\\nJulien siempre preocupado por qué estemos a gusto y no necesitemos nada.\\nMe volvería a quedar en su alojamiento sin pensarlo, cuando regrese a París!!', 'Mi experiencia en el alojamiento de Julien fue increíble. Me quedé un mes completo y tuve la posibilidad de conocer una gran persona. Julien es muy servicial, siempre se preocupa por como estas. Realmente me hizo sentir como si estuviera en mi casa. Sin dudar volvería a su casa si tengo que volver a París y lo recomiendo con los ojos cerrados.', 'Excelente lugar. Muy buena atención de Julien, es amable y se preocupa de los huéspedes.', 'Todo perfecto, la desventaja es que esta un poco lejos de paris, pero en el (RER) está muy fácil de llagar', 'El departamento de Julien es muy agradable, lleno de detalles y muy limpio. El entorno urbano es un poco bullicioso en las noches y la estacion de trenes está a unas siete cuadras.\\nEs un lugar muy recomendable, a buen precio y con un excelente anfitrión.', 'es un gran anfitrión, todo limpio y un barrio muy tranquilo', 'Está muy cómodo, limpio y julien es muy amigable y atento. Recomendado', 'El lugar esta muy limpio y ordenado, el único problema es que tienes que caminar 10 minutos hasta la estación del tren', 'El lugar es limpio, con buena calefacción y luminoso. Realmente cómodo.\\nSe encuentra a unos 15 minutos del centro de París en tren. La estación está a unas seis cuadras del alojamiento.\\nJulien es muy amable.\\nRecomiendo el lugar.', 'A 40 minutos del centro en cercanías (RER), anfitrión muy atento. También cerca de Le Bourget.', 'Julien es un un gran chico, muy atentos, siempre está atento a que requieres, se comunica por el móvil, para saber que esté bien, te orienta para dònde y como irte, te busca opciones, es maravillosa persona, muy limpio, respetuoso y comunicativo, tiene muchos detalles con su huésped, la zona es popular, pero también conoces un Paris más real no sólo turístico, hay metro cerca que te lleva al centro, yo me la pase increíble y volvería, gracias Julien .', 'Un anfitrión muy cordial, recibiendo de muy buena manera y preocupandose de como me sentía en mi estancia en París.', 'Julien es un excelente anfitrión, es muy accesible y hace lo que sea para que te sientas como en casa. La ubicación del departamento esta algo retirada del centro de París pero el metro pasa a 3 cuadras y de igual manera es muy fácil llegar.'], ['Cumple con lo que dice la reseña, julien atento, e intenta comunicarse contigo.', 'Esta super cerca de la estación, a 5 min. Está línea te lleva al Sacré cœur. Julian es super amable, se esfuerza mucho porque la gente se sienta cómoda. Es una gran persona.', 'El anfitrión siempre está atento en todo momento. la habitación está ubicada a pocos metros de la línea 12 que te deja en el centro de París. totalmente recomendado.', 'Durante mi estancia Julien estuvo muy atento y amable. Me ayudo cuando tuve un problema con mi celular, fue muy servicial. El lugar está muy cercano a la estación del metro y me fue muy fácil usarlo, definitivamente lo recomiendo.', 'muy agradable la estancia! el cuarto muy cómodo y el anfitrión muy amable y servicial, 10/10', 'habitación amplia y cómoda. Julian es muy amable y dispuesto a ayudar', 'El anfitrión es una persona muy amable y alegre. trata de adaptarse a las necesidades de los huéspedes y es de cconfiar.\\nLa zona no es muy cómoda realmente y sobre todo porque está en la zona 3.', 'Perfecto, con una ubicación excelente para pasar tus dias en paris', 'Julien es una persona súper atenta y dispuesta ayudarte con todo lo que necesites. Me hospedé dos noches solamente, pero todo fue perfecto.', 'Es un buen sitio para hospedarse, super recomendado', 'Muy buen lugar, buena ubicación y está bien cuidado', 'El alojamiento está bien y es cómodo. Solo les recomiendo a los futuros huéspedes que si tienen problemas para conciliar el sueño, lleven tapones para los oídos. Las habitaciones dan a una calle transitada y hay bastante ruido', 'El departamento de Julien es tal y como se muestra en las fotos, muy limpio todo y agradable. Julien super atento, me envió incluso imagen de las estaciones del tren para que me ubicara mejor, quedo muy agradecida por su hospitalidad. Definitivamente lo recomiendo.', 'Un lugar cercano y accesible para conocer París.', 'Todo increíblemente bien llegaría las veces que fueran necesarias es el mejor AirBNB que he llegado', 'Simplemente un anfitrión de excelencia, me sorprendió con su amabilidad, los servicios en su alojamiento totalmente limpios y accesibles en todo momento.\\nJulien siempre preocupado por qué estemos a gusto y no necesitemos nada.\\nMe volvería a quedar en su alojamiento sin pensarlo, cuando regrese a París!!', 'Mi experiencia en el alojamiento de Julien fue increíble. Me quedé un mes completo y tuve la posibilidad de conocer una gran persona. Julien es muy servicial, siempre se preocupa por como estas. Realmente me hizo sentir como si estuviera en mi casa. Sin dudar volvería a su casa si tengo que volver a París y lo recomiendo con los ojos cerrados.', 'Excelente lugar. Muy buena atención de Julien, es amable y se preocupa de los huéspedes.', 'Todo perfecto, la desventaja es que esta un poco lejos de paris, pero en el (RER) está muy fácil de llagar', 'El departamento de Julien es muy agradable, lleno de detalles y muy limpio. El entorno urbano es un poco bullicioso en las noches y la estacion de trenes está a unas siete cuadras.\\nEs un lugar muy recomendable, a buen precio y con un excelente anfitrión.', 'es un gran anfitrión, todo limpio y un barrio muy tranquilo', 'Está muy cómodo, limpio y julien es muy amigable y atento. Recomendado', 'El lugar esta muy limpio y ordenado, el único problema es que tienes que caminar 10 minutos hasta la estación del tren', 'El lugar es limpio, con buena calefacción y luminoso. Realmente cómodo.\\nSe encuentra a unos 15 minutos del centro de París en tren. La estación está a unas seis cuadras del alojamiento.\\nJulien es muy amable.\\nRecomiendo el lugar.', 'A 40 minutos del centro en cercanías (RER), anfitrión muy atento. También cerca de Le Bourget.', 'Julien es un un gran chico, muy atentos, siempre está atento a que requieres, se comunica por el móvil, para saber que esté bien, te orienta para dònde y como irte, te busca opciones, es maravillosa persona, muy limpio, respetuoso y comunicativo, tiene muchos detalles con su huésped, la zona es popular, pero también conoces un Paris más real no sólo turístico, hay metro cerca que te lleva al centro, yo me la pase increíble y volvería, gracias Julien .', 'Un anfitrión muy cordial, recibiendo de muy buena manera y preocupandose de como me sentía en mi estancia en París.', 'Julien es un excelente anfitrión, es muy accesible y hace lo que sea para que te sientas como en casa. La ubicación del departamento esta algo retirada del centro de París pero el metro pasa a 3 cuadras y de igual manera es muy fácil llegar.'], ['Cumple con lo que dice la reseña, julien atento, e intenta comunicarse contigo.', 'Esta super cerca de la estación, a 5 min. Está línea te lleva al Sacré cœur. Julian es super amable, se esfuerza mucho porque la gente se sienta cómoda. Es una gran persona.', 'El anfitrión siempre está atento en todo momento. la habitación está ubicada a pocos metros de la línea 12 que te deja en el centro de París. totalmente recomendado.', 'Durante mi estancia Julien estuvo muy atento y amable. Me ayudo cuando tuve un problema con mi celular, fue muy servicial. El lugar está muy cercano a la estación del metro y me fue muy fácil usarlo, definitivamente lo recomiendo.', 'muy agradable la estancia! el cuarto muy cómodo y el anfitrión muy amable y servicial, 10/10', 'habitación amplia y cómoda. Julian es muy amable y dispuesto a ayudar', 'El anfitrión es una persona muy amable y alegre. trata de adaptarse a las necesidades de los huéspedes y es de cconfiar.\\nLa zona no es muy cómoda realmente y sobre todo porque está en la zona 3.', 'Perfecto, con una ubicación excelente para pasar tus dias en paris', 'Julien es una persona súper atenta y dispuesta ayudarte con todo lo que necesites. Me hospedé dos noches solamente, pero todo fue perfecto.', 'Es un buen sitio para hospedarse, super recomendado', 'Muy buen lugar, buena ubicación y está bien cuidado', 'El alojamiento está bien y es cómodo. Solo les recomiendo a los futuros huéspedes que si tienen problemas para conciliar el sueño, lleven tapones para los oídos. Las habitaciones dan a una calle transitada y hay bastante ruido', 'El departamento de Julien es tal y como se muestra en las fotos, muy limpio todo y agradable. Julien super atento, me envió incluso imagen de las estaciones del tren para que me ubicara mejor, quedo muy agradecida por su hospitalidad. Definitivamente lo recomiendo.', 'Un lugar cercano y accesible para conocer París.', 'Todo increíblemente bien llegaría las veces que fueran necesarias es el mejor AirBNB que he llegado', 'Simplemente un anfitrión de excelencia, me sorprendió con su amabilidad, los servicios en su alojamiento totalmente limpios y accesibles en todo momento.\\nJulien siempre preocupado por qué estemos a gusto y no necesitemos nada.\\nMe volvería a quedar en su alojamiento sin pensarlo, cuando regrese a París!!', 'Mi experiencia en el alojamiento de Julien fue increíble. Me quedé un mes completo y tuve la posibilidad de conocer una gran persona. Julien es muy servicial, siempre se preocupa por como estas. Realmente me hizo sentir como si estuviera en mi casa. Sin dudar volvería a su casa si tengo que volver a París y lo recomiendo con los ojos cerrados.', 'Excelente lugar. Muy buena atención de Julien, es amable y se preocupa de los huéspedes.', 'Todo perfecto, la desventaja es que esta un poco lejos de paris, pero en el (RER) está muy fácil de llagar', 'El departamento de Julien es muy agradable, lleno de detalles y muy limpio. El entorno urbano es un poco bullicioso en las noches y la estacion de trenes está a unas siete cuadras.\\nEs un lugar muy recomendable, a buen precio y con un excelente anfitrión.', 'es un gran anfitrión, todo limpio y un barrio muy tranquilo', 'Está muy cómodo, limpio y julien es muy amigable y atento. Recomendado', 'El lugar esta muy limpio y ordenado, el único problema es que tienes que caminar 10 minutos hasta la estación del tren', 'El lugar es limpio, con buena calefacción y luminoso. Realmente cómodo.\\nSe encuentra a unos 15 minutos del centro de París en tren. La estación está a unas seis cuadras del alojamiento.\\nJulien es muy amable.\\nRecomiendo el lugar.', 'A 40 minutos del centro en cercanías (RER), anfitrión muy atento. También cerca de Le Bourget.', 'Julien es un un gran chico, muy atentos, siempre está atento a que requieres, se comunica por el móvil, para saber que esté bien, te orienta para dònde y como irte, te busca opciones, es maravillosa persona, muy limpio, respetuoso y comunicativo, tiene muchos detalles con su huésped, la zona es popular, pero también conoces un Paris más real no sólo turístico, hay metro cerca que te lleva al centro, yo me la pase increíble y volvería, gracias Julien .', 'Un anfitrión muy cordial, recibiendo de muy buena manera y preocupandose de como me sentía en mi estancia en París.', 'Julien es un excelente anfitrión, es muy accesible y hace lo que sea para que te sientas como en casa. La ubicación del departamento esta algo retirada del centro de París pero el metro pasa a 3 cuadras y de igual manera es muy fácil llegar.'], ['Cumple con lo que dice la reseña, julien atento, e intenta comunicarse contigo.', 'Esta super cerca de la estación, a 5 min. Está línea te lleva al Sacré cœur. Julian es super amable, se esfuerza mucho porque la gente se sienta cómoda. Es una gran persona.', 'El anfitrión siempre está atento en todo momento. la habitación está ubicada a pocos metros de la línea 12 que te deja en el centro de París. totalmente recomendado.', 'Durante mi estancia Julien estuvo muy atento y amable. Me ayudo cuando tuve un problema con mi celular, fue muy servicial. El lugar está muy cercano a la estación del metro y me fue muy fácil usarlo, definitivamente lo recomiendo.', 'muy agradable la estancia! el cuarto muy cómodo y el anfitrión muy amable y servicial, 10/10', 'habitación amplia y cómoda. Julian es muy amable y dispuesto a ayudar', 'El anfitrión es una persona muy amable y alegre. trata de adaptarse a las necesidades de los huéspedes y es de cconfiar.\\nLa zona no es muy cómoda realmente y sobre todo porque está en la zona 3.', 'Perfecto, con una ubicación excelente para pasar tus dias en paris', 'Julien es una persona súper atenta y dispuesta ayudarte con todo lo que necesites. Me hospedé dos noches solamente, pero todo fue perfecto.', 'Es un buen sitio para hospedarse, super recomendado', 'Muy buen lugar, buena ubicación y está bien cuidado', 'El alojamiento está bien y es cómodo. Solo les recomiendo a los futuros huéspedes que si tienen problemas para conciliar el sueño, lleven tapones para los oídos. Las habitaciones dan a una calle transitada y hay bastante ruido', 'El departamento de Julien es tal y como se muestra en las fotos, muy limpio todo y agradable. Julien super atento, me envió incluso imagen de las estaciones del tren para que me ubicara mejor, quedo muy agradecida por su hospitalidad. Definitivamente lo recomiendo.', 'Un lugar cercano y accesible para conocer París.', 'Todo increíblemente bien llegaría las veces que fueran necesarias es el mejor AirBNB que he llegado', 'Simplemente un anfitrión de excelencia, me sorprendió con su amabilidad, los servicios en su alojamiento totalmente limpios y accesibles en todo momento.\\nJulien siempre preocupado por qué estemos a gusto y no necesitemos nada.\\nMe volvería a quedar en su alojamiento sin pensarlo, cuando regrese a París!!', 'Mi experiencia en el alojamiento de Julien fue increíble. Me quedé un mes completo y tuve la posibilidad de conocer una gran persona. Julien es muy servicial, siempre se preocupa por como estas. Realmente me hizo sentir como si estuviera en mi casa. Sin dudar volvería a su casa si tengo que volver a París y lo recomiendo con los ojos cerrados.', 'Excelente lugar. Muy buena atención de Julien, es amable y se preocupa de los huéspedes.', 'Todo perfecto, la desventaja es que esta un poco lejos de paris, pero en el (RER) está muy fácil de llagar', 'El departamento de Julien es muy agradable, lleno de detalles y muy limpio. El entorno urbano es un poco bullicioso en las noches y la estacion de trenes está a unas siete cuadras.\\nEs un lugar muy recomendable, a buen precio y con un excelente anfitrión.', 'es un gran anfitrión, todo limpio y un barrio muy tranquilo', 'Está muy cómodo, limpio y julien es muy amigable y atento. Recomendado', 'El lugar esta muy limpio y ordenado, el único problema es que tienes que caminar 10 minutos hasta la estación del tren', 'El lugar es limpio, con buena calefacción y luminoso. Realmente cómodo.\\nSe encuentra a unos 15 minutos del centro de París en tren. La estación está a unas seis cuadras del alojamiento.\\nJulien es muy amable.\\nRecomiendo el lugar.', 'A 40 minutos del centro en cercanías (RER), anfitrión muy atento. También cerca de Le Bourget.', 'Julien es un un gran chico, muy atentos, siempre está atento a que requieres, se comunica por el móvil, para saber que esté bien, te orienta para dònde y como irte, te busca opciones, es maravillosa persona, muy limpio, respetuoso y comunicativo, tiene muchos detalles con su huésped, la zona es popular, pero también conoces un Paris más real no sólo turístico, hay metro cerca que te lleva al centro, yo me la pase increíble y volvería, gracias Julien .', 'Un anfitrión muy cordial, recibiendo de muy buena manera y preocupandose de como me sentía en mi estancia en París.', 'Julien es un excelente anfitrión, es muy accesible y hace lo que sea para que te sientas como en casa. La ubicación del departamento esta algo retirada del centro de París pero el metro pasa a 3 cuadras y de igual manera es muy fácil llegar.'], ['Cumple con lo que dice la reseña, julien atento, e intenta comunicarse contigo.', 'Esta super cerca de la estación, a 5 min. Está línea te lleva al Sacré cœur. Julian es super amable, se esfuerza mucho porque la gente se sienta cómoda. Es una gran persona.', 'El anfitrión siempre está atento en todo momento. la habitación está ubicada a pocos metros de la línea 12 que te deja en el centro de París. totalmente recomendado.', 'Durante mi estancia Julien estuvo muy atento y amable. Me ayudo cuando tuve un problema con mi celular, fue muy servicial. El lugar está muy cercano a la estación del metro y me fue muy fácil usarlo, definitivamente lo recomiendo.', 'muy agradable la estancia! el cuarto muy cómodo y el anfitrión muy amable y servicial, 10/10', 'habitación amplia y cómoda. Julian es muy amable y dispuesto a ayudar', 'El anfitrión es una persona muy amable y alegre. trata de adaptarse a las necesidades de los huéspedes y es de cconfiar.\\nLa zona no es muy cómoda realmente y sobre todo porque está en la zona 3.', 'Perfecto, con una ubicación excelente para pasar tus dias en paris', 'Julien es una persona súper atenta y dispuesta ayudarte con todo lo que necesites. Me hospedé dos noches solamente, pero todo fue perfecto.', 'Es un buen sitio para hospedarse, super recomendado', 'Muy buen lugar, buena ubicación y está bien cuidado', 'El alojamiento está bien y es cómodo. Solo les recomiendo a los futuros huéspedes que si tienen problemas para conciliar el sueño, lleven tapones para los oídos. Las habitaciones dan a una calle transitada y hay bastante ruido', 'El departamento de Julien es tal y como se muestra en las fotos, muy limpio todo y agradable. Julien super atento, me envió incluso imagen de las estaciones del tren para que me ubicara mejor, quedo muy agradecida por su hospitalidad. Definitivamente lo recomiendo.', 'Un lugar cercano y accesible para conocer París.', 'Todo increíblemente bien llegaría las veces que fueran necesarias es el mejor AirBNB que he llegado', 'Simplemente un anfitrión de excelencia, me sorprendió con su amabilidad, los servicios en su alojamiento totalmente limpios y accesibles en todo momento.\\nJulien siempre preocupado por qué estemos a gusto y no necesitemos nada.\\nMe volvería a quedar en su alojamiento sin pensarlo, cuando regrese a París!!', 'Mi experiencia en el alojamiento de Julien fue increíble. Me quedé un mes completo y tuve la posibilidad de conocer una gran persona. Julien es muy servicial, siempre se preocupa por como estas. Realmente me hizo sentir como si estuviera en mi casa. Sin dudar volvería a su casa si tengo que volver a París y lo recomiendo con los ojos cerrados.', 'Excelente lugar. Muy buena atención de Julien, es amable y se preocupa de los huéspedes.', 'Todo perfecto, la desventaja es que esta un poco lejos de paris, pero en el (RER) está muy fácil de llagar', 'El departamento de Julien es muy agradable, lleno de detalles y muy limpio. El entorno urbano es un poco bullicioso en las noches y la estacion de trenes está a unas siete cuadras.\\nEs un lugar muy recomendable, a buen precio y con un excelente anfitrión.', 'es un gran anfitrión, todo limpio y un barrio muy tranquilo', 'Está muy cómodo, limpio y julien es muy amigable y atento. Recomendado', 'El lugar esta muy limpio y ordenado, el único problema es que tienes que caminar 10 minutos hasta la estación del tren', 'El lugar es limpio, con buena calefacción y luminoso. Realmente cómodo.\\nSe encuentra a unos 15 minutos del centro de París en tren. La estación está a unas seis cuadras del alojamiento.\\nJulien es muy amable.\\nRecomiendo el lugar.', 'A 40 minutos del centro en cercanías (RER), anfitrión muy atento. También cerca de Le Bourget.', 'Julien es un un gran chico, muy atentos, siempre está atento a que requieres, se comunica por el móvil, para saber que esté bien, te orienta para dònde y como irte, te busca opciones, es maravillosa persona, muy limpio, respetuoso y comunicativo, tiene muchos detalles con su huésped, la zona es popular, pero también conoces un Paris más real no sólo turístico, hay metro cerca que te lleva al centro, yo me la pase increíble y volvería, gracias Julien .', 'Un anfitrión muy cordial, recibiendo de muy buena manera y preocupandose de como me sentía en mi estancia en París.', 'Julien es un excelente anfitrión, es muy accesible y hace lo que sea para que te sientas como en casa. La ubicación del departamento esta algo retirada del centro de París pero el metro pasa a 3 cuadras y de igual manera es muy fácil llegar.'], ['Cumple con lo que dice la reseña, julien atento, e intenta comunicarse contigo.', 'Esta super cerca de la estación, a 5 min. Está línea te lleva al Sacré cœur. Julian es super amable, se esfuerza mucho porque la gente se sienta cómoda. Es una gran persona.', 'El anfitrión siempre está atento en todo momento. la habitación está ubicada a pocos metros de la línea 12 que te deja en el centro de París. totalmente recomendado.', 'Durante mi estancia Julien estuvo muy atento y amable. Me ayudo cuando tuve un problema con mi celular, fue muy servicial. El lugar está muy cercano a la estación del metro y me fue muy fácil usarlo, definitivamente lo recomiendo.', 'muy agradable la estancia! el cuarto muy cómodo y el anfitrión muy amable y servicial, 10/10', 'habitación amplia y cómoda. Julian es muy amable y dispuesto a ayudar', 'El anfitrión es una persona muy amable y alegre. trata de adaptarse a las necesidades de los huéspedes y es de cconfiar.\\nLa zona no es muy cómoda realmente y sobre todo porque está en la zona 3.', 'Perfecto, con una ubicación excelente para pasar tus dias en paris', 'Julien es una persona súper atenta y dispuesta ayudarte con todo lo que necesites. Me hospedé dos noches solamente, pero todo fue perfecto.', 'Es un buen sitio para hospedarse, super recomendado', 'Muy buen lugar, buena ubicación y está bien cuidado', 'El alojamiento está bien y es cómodo. Solo les recomiendo a los futuros huéspedes que si tienen problemas para conciliar el sueño, lleven tapones para los oídos. Las habitaciones dan a una calle transitada y hay bastante ruido', 'El departamento de Julien es tal y como se muestra en las fotos, muy limpio todo y agradable. Julien super atento, me envió incluso imagen de las estaciones del tren para que me ubicara mejor, quedo muy agradecida por su hospitalidad. Definitivamente lo recomiendo.', 'Un lugar cercano y accesible para conocer París.', 'Todo increíblemente bien llegaría las veces que fueran necesarias es el mejor AirBNB que he llegado', 'Simplemente un anfitrión de excelencia, me sorprendió con su amabilidad, los servicios en su alojamiento totalmente limpios y accesibles en todo momento.\\nJulien siempre preocupado por qué estemos a gusto y no necesitemos nada.\\nMe volvería a quedar en su alojamiento sin pensarlo, cuando regrese a París!!', 'Mi experiencia en el alojamiento de Julien fue increíble. Me quedé un mes completo y tuve la posibilidad de conocer una gran persona. Julien es muy servicial, siempre se preocupa por como estas. Realmente me hizo sentir como si estuviera en mi casa. Sin dudar volvería a su casa si tengo que volver a París y lo recomiendo con los ojos cerrados.', 'Excelente lugar. Muy buena atención de Julien, es amable y se preocupa de los huéspedes.', 'Todo perfecto, la desventaja es que esta un poco lejos de paris, pero en el (RER) está muy fácil de llagar', 'El departamento de Julien es muy agradable, lleno de detalles y muy limpio. El entorno urbano es un poco bullicioso en las noches y la estacion de trenes está a unas siete cuadras.\\nEs un lugar muy recomendable, a buen precio y con un excelente anfitrión.', 'es un gran anfitrión, todo limpio y un barrio muy tranquilo', 'Está muy cómodo, limpio y julien es muy amigable y atento. Recomendado', 'El lugar esta muy limpio y ordenado, el único problema es que tienes que caminar 10 minutos hasta la estación del tren', 'El lugar es limpio, con buena calefacción y luminoso. Realmente cómodo.\\nSe encuentra a unos 15 minutos del centro de París en tren. La estación está a unas seis cuadras del alojamiento.\\nJulien es muy amable.\\nRecomiendo el lugar.', 'A 40 minutos del centro en cercanías (RER), anfitrión muy atento. También cerca de Le Bourget.', 'Julien es un un gran chico, muy atentos, siempre está atento a que requieres, se comunica por el móvil, para saber que esté bien, te orienta para dònde y como irte, te busca opciones, es maravillosa persona, muy limpio, respetuoso y comunicativo, tiene muchos detalles con su huésped, la zona es popular, pero también conoces un Paris más real no sólo turístico, hay metro cerca que te lleva al centro, yo me la pase increíble y volvería, gracias Julien .', 'Un anfitrión muy cordial, recibiendo de muy buena manera y preocupandose de como me sentía en mi estancia en París.', 'Julien es un excelente anfitrión, es muy accesible y hace lo que sea para que te sientas como en casa. La ubicación del departamento esta algo retirada del centro de París pero el metro pasa a 3 cuadras y de igual manera es muy fácil llegar.'], ['Cumple con lo que dice la reseña, julien atento, e intenta comunicarse contigo.', 'Esta super cerca de la estación, a 5 min. Está línea te lleva al Sacré cœur. Julian es super amable, se esfuerza mucho porque la gente se sienta cómoda. Es una gran persona.', 'El anfitrión siempre está atento en todo momento. la habitación está ubicada a pocos metros de la línea 12 que te deja en el centro de París. totalmente recomendado.', 'Durante mi estancia Julien estuvo muy atento y amable. Me ayudo cuando tuve un problema con mi celular, fue muy servicial. El lugar está muy cercano a la estación del metro y me fue muy fácil usarlo, definitivamente lo recomiendo.', 'muy agradable la estancia! el cuarto muy cómodo y el anfitrión muy amable y servicial, 10/10', 'habitación amplia y cómoda. Julian es muy amable y dispuesto a ayudar', 'El anfitrión es una persona muy amable y alegre. trata de adaptarse a las necesidades de los huéspedes y es de cconfiar.\\nLa zona no es muy cómoda realmente y sobre todo porque está en la zona 3.', 'Perfecto, con una ubicación excelente para pasar tus dias en paris', 'Julien es una persona súper atenta y dispuesta ayudarte con todo lo que necesites. Me hospedé dos noches solamente, pero todo fue perfecto.', 'Es un buen sitio para hospedarse, super recomendado', 'Muy buen lugar, buena ubicación y está bien cuidado', 'El alojamiento está bien y es cómodo. Solo les recomiendo a los futuros huéspedes que si tienen problemas para conciliar el sueño, lleven tapones para los oídos. Las habitaciones dan a una calle transitada y hay bastante ruido', 'El departamento de Julien es tal y como se muestra en las fotos, muy limpio todo y agradable. Julien super atento, me envió incluso imagen de las estaciones del tren para que me ubicara mejor, quedo muy agradecida por su hospitalidad. Definitivamente lo recomiendo.', 'Un lugar cercano y accesible para conocer París.', 'Todo increíblemente bien llegaría las veces que fueran necesarias es el mejor AirBNB que he llegado', 'Simplemente un anfitrión de excelencia, me sorprendió con su amabilidad, los servicios en su alojamiento totalmente limpios y accesibles en todo momento.\\nJulien siempre preocupado por qué estemos a gusto y no necesitemos nada.\\nMe volvería a quedar en su alojamiento sin pensarlo, cuando regrese a París!!', 'Mi experiencia en el alojamiento de Julien fue increíble. Me quedé un mes completo y tuve la posibilidad de conocer una gran persona. Julien es muy servicial, siempre se preocupa por como estas. Realmente me hizo sentir como si estuviera en mi casa. Sin dudar volvería a su casa si tengo que volver a París y lo recomiendo con los ojos cerrados.', 'Excelente lugar. Muy buena atención de Julien, es amable y se preocupa de los huéspedes.', 'Todo perfecto, la desventaja es que esta un poco lejos de paris, pero en el (RER) está muy fácil de llagar', 'El departamento de Julien es muy agradable, lleno de detalles y muy limpio. El entorno urbano es un poco bullicioso en las noches y la estacion de trenes está a unas siete cuadras.\\nEs un lugar muy recomendable, a buen precio y con un excelente anfitrión.', 'es un gran anfitrión, todo limpio y un barrio muy tranquilo', 'Está muy cómodo, limpio y julien es muy amigable y atento. Recomendado', 'El lugar esta muy limpio y ordenado, el único problema es que tienes que caminar 10 minutos hasta la estación del tren', 'El lugar es limpio, con buena calefacción y luminoso. Realmente cómodo.\\nSe encuentra a unos 15 minutos del centro de París en tren. La estación está a unas seis cuadras del alojamiento.\\nJulien es muy amable.\\nRecomiendo el lugar.', 'A 40 minutos del centro en cercanías (RER), anfitrión muy atento. También cerca de Le Bourget.', 'Julien es un un gran chico, muy atentos, siempre está atento a que requieres, se comunica por el móvil, para saber que esté bien, te orienta para dònde y como irte, te busca opciones, es maravillosa persona, muy limpio, respetuoso y comunicativo, tiene muchos detalles con su huésped, la zona es popular, pero también conoces un Paris más real no sólo turístico, hay metro cerca que te lleva al centro, yo me la pase increíble y volvería, gracias Julien .', 'Un anfitrión muy cordial, recibiendo de muy buena manera y preocupandose de como me sentía en mi estancia en París.', 'Julien es un excelente anfitrión, es muy accesible y hace lo que sea para que te sientas como en casa. La ubicación del departamento esta algo retirada del centro de París pero el metro pasa a 3 cuadras y de igual manera es muy fácil llegar.'], ['Cumple con lo que dice la reseña, julien atento, e intenta comunicarse contigo.', 'Esta super cerca de la estación, a 5 min. Está línea te lleva al Sacré cœur. Julian es super amable, se esfuerza mucho porque la gente se sienta cómoda. Es una gran persona.', 'El anfitrión siempre está atento en todo momento. la habitación está ubicada a pocos metros de la línea 12 que te deja en el centro de París. totalmente recomendado.', 'Durante mi estancia Julien estuvo muy atento y amable. Me ayudo cuando tuve un problema con mi celular, fue muy servicial. El lugar está muy cercano a la estación del metro y me fue muy fácil usarlo, definitivamente lo recomiendo.', 'muy agradable la estancia! el cuarto muy cómodo y el anfitrión muy amable y servicial, 10/10', 'habitación amplia y cómoda. Julian es muy amable y dispuesto a ayudar', 'El anfitrión es una persona muy amable y alegre. trata de adaptarse a las necesidades de los huéspedes y es de cconfiar.\\nLa zona no es muy cómoda realmente y sobre todo porque está en la zona 3.', 'Perfecto, con una ubicación excelente para pasar tus dias en paris', 'Julien es una persona súper atenta y dispuesta ayudarte con todo lo que necesites. Me hospedé dos noches solamente, pero todo fue perfecto.', 'Es un buen sitio para hospedarse, super recomendado', 'Muy buen lugar, buena ubicación y está bien cuidado', 'El alojamiento está bien y es cómodo. Solo les recomiendo a los futuros huéspedes que si tienen problemas para conciliar el sueño, lleven tapones para los oídos. Las habitaciones dan a una calle transitada y hay bastante ruido', 'El departamento de Julien es tal y como se muestra en las fotos, muy limpio todo y agradable. Julien super atento, me envió incluso imagen de las estaciones del tren para que me ubicara mejor, quedo muy agradecida por su hospitalidad. Definitivamente lo recomiendo.', 'Un lugar cercano y accesible para conocer París.', 'Todo increíblemente bien llegaría las veces que fueran necesarias es el mejor AirBNB que he llegado', 'Simplemente un anfitrión de excelencia, me sorprendió con su amabilidad, los servicios en su alojamiento totalmente limpios y accesibles en todo momento.\\nJulien siempre preocupado por qué estemos a gusto y no necesitemos nada.\\nMe volvería a quedar en su alojamiento sin pensarlo, cuando regrese a París!!', 'Mi experiencia en el alojamiento de Julien fue increíble. Me quedé un mes completo y tuve la posibilidad de conocer una gran persona. Julien es muy servicial, siempre se preocupa por como estas. Realmente me hizo sentir como si estuviera en mi casa. Sin dudar volvería a su casa si tengo que volver a París y lo recomiendo con los ojos cerrados.', 'Excelente lugar. Muy buena atención de Julien, es amable y se preocupa de los huéspedes.', 'Todo perfecto, la desventaja es que esta un poco lejos de paris, pero en el (RER) está muy fácil de llagar', 'El departamento de Julien es muy agradable, lleno de detalles y muy limpio. El entorno urbano es un poco bullicioso en las noches y la estacion de trenes está a unas siete cuadras.\\nEs un lugar muy recomendable, a buen precio y con un excelente anfitrión.', 'es un gran anfitrión, todo limpio y un barrio muy tranquilo', 'Está muy cómodo, limpio y julien es muy amigable y atento. Recomendado', 'El lugar esta muy limpio y ordenado, el único problema es que tienes que caminar 10 minutos hasta la estación del tren', 'El lugar es limpio, con buena calefacción y luminoso. Realmente cómodo.\\nSe encuentra a unos 15 minutos del centro de París en tren. La estación está a unas seis cuadras del alojamiento.\\nJulien es muy amable.\\nRecomiendo el lugar.', 'A 40 minutos del centro en cercanías (RER), anfitrión muy atento. También cerca de Le Bourget.', 'Julien es un un gran chico, muy atentos, siempre está atento a que requieres, se comunica por el móvil, para saber que esté bien, te orienta para dònde y como irte, te busca opciones, es maravillosa persona, muy limpio, respetuoso y comunicativo, tiene muchos detalles con su huésped, la zona es popular, pero también conoces un Paris más real no sólo turístico, hay metro cerca que te lleva al centro, yo me la pase increíble y volvería, gracias Julien .', 'Un anfitrión muy cordial, recibiendo de muy buena manera y preocupandose de como me sentía en mi estancia en París.', 'Julien es un excelente anfitrión, es muy accesible y hace lo que sea para que te sientas como en casa. La ubicación del departamento esta algo retirada del centro de París pero el metro pasa a 3 cuadras y de igual manera es muy fácil llegar.'], ['Cumple con lo que dice la reseña, julien atento, e intenta comunicarse contigo.', 'Esta super cerca de la estación, a 5 min. Está línea te lleva al Sacré cœur. Julian es super amable, se esfuerza mucho porque la gente se sienta cómoda. Es una gran persona.', 'El anfitrión siempre está atento en todo momento. la habitación está ubicada a pocos metros de la línea 12 que te deja en el centro de París. totalmente recomendado.', 'Durante mi estancia Julien estuvo muy atento y amable. Me ayudo cuando tuve un problema con mi celular, fue muy servicial. El lugar está muy cercano a la estación del metro y me fue muy fácil usarlo, definitivamente lo recomiendo.', 'muy agradable la estancia! el cuarto muy cómodo y el anfitrión muy amable y servicial, 10/10', 'habitación amplia y cómoda. Julian es muy amable y dispuesto a ayudar', 'El anfitrión es una persona muy amable y alegre. trata de adaptarse a las necesidades de los huéspedes y es de cconfiar.\\nLa zona no es muy cómoda realmente y sobre todo porque está en la zona 3.', 'Perfecto, con una ubicación excelente para pasar tus dias en paris', 'Julien es una persona súper atenta y dispuesta ayudarte con todo lo que necesites. Me hospedé dos noches solamente, pero todo fue perfecto.', 'Es un buen sitio para hospedarse, super recomendado', 'Muy buen lugar, buena ubicación y está bien cuidado', 'El alojamiento está bien y es cómodo. Solo les recomiendo a los futuros huéspedes que si tienen problemas para conciliar el sueño, lleven tapones para los oídos. Las habitaciones dan a una calle transitada y hay bastante ruido', 'El departamento de Julien es tal y como se muestra en las fotos, muy limpio todo y agradable. Julien super atento, me envió incluso imagen de las estaciones del tren para que me ubicara mejor, quedo muy agradecida por su hospitalidad. Definitivamente lo recomiendo.', 'Un lugar cercano y accesible para conocer París.', 'Todo increíblemente bien llegaría las veces que fueran necesarias es el mejor AirBNB que he llegado', 'Simplemente un anfitrión de excelencia, me sorprendió con su amabilidad, los servicios en su alojamiento totalmente limpios y accesibles en todo momento.\\nJulien siempre preocupado por qué estemos a gusto y no necesitemos nada.\\nMe volvería a quedar en su alojamiento sin pensarlo, cuando regrese a París!!', 'Mi experiencia en el alojamiento de Julien fue increíble. Me quedé un mes completo y tuve la posibilidad de conocer una gran persona. Julien es muy servicial, siempre se preocupa por como estas. Realmente me hizo sentir como si estuviera en mi casa. Sin dudar volvería a su casa si tengo que volver a París y lo recomiendo con los ojos cerrados.', 'Excelente lugar. Muy buena atención de Julien, es amable y se preocupa de los huéspedes.', 'Todo perfecto, la desventaja es que esta un poco lejos de paris, pero en el (RER) está muy fácil de llagar', 'El departamento de Julien es muy agradable, lleno de detalles y muy limpio. El entorno urbano es un poco bullicioso en las noches y la estacion de trenes está a unas siete cuadras.\\nEs un lugar muy recomendable, a buen precio y con un excelente anfitrión.', 'es un gran anfitrión, todo limpio y un barrio muy tranquilo', 'Está muy cómodo, limpio y julien es muy amigable y atento. Recomendado', 'El lugar esta muy limpio y ordenado, el único problema es que tienes que caminar 10 minutos hasta la estación del tren', 'El lugar es limpio, con buena calefacción y luminoso. Realmente cómodo.\\nSe encuentra a unos 15 minutos del centro de París en tren. La estación está a unas seis cuadras del alojamiento.\\nJulien es muy amable.\\nRecomiendo el lugar.', 'A 40 minutos del centro en cercanías (RER), anfitrión muy atento. También cerca de Le Bourget.', 'Julien es un un gran chico, muy atentos, siempre está atento a que requieres, se comunica por el móvil, para saber que esté bien, te orienta para dònde y como irte, te busca opciones, es maravillosa persona, muy limpio, respetuoso y comunicativo, tiene muchos detalles con su huésped, la zona es popular, pero también conoces un Paris más real no sólo turístico, hay metro cerca que te lleva al centro, yo me la pase increíble y volvería, gracias Julien .', 'Un anfitrión muy cordial, recibiendo de muy buena manera y preocupandose de como me sentía en mi estancia en París.', 'Julien es un excelente anfitrión, es muy accesible y hace lo que sea para que te sientas como en casa. La ubicación del departamento esta algo retirada del centro de París pero el metro pasa a 3 cuadras y de igual manera es muy fácil llegar.'], ['Cumple con lo que dice la reseña, julien atento, e intenta comunicarse contigo.', 'Esta super cerca de la estación, a 5 min. Está línea te lleva al Sacré cœur. Julian es super amable, se esfuerza mucho porque la gente se sienta cómoda. Es una gran persona.', 'El anfitrión siempre está atento en todo momento. la habitación está ubicada a pocos metros de la línea 12 que te deja en el centro de París. totalmente recomendado.', 'Durante mi estancia Julien estuvo muy atento y amable. Me ayudo cuando tuve un problema con mi celular, fue muy servicial. El lugar está muy cercano a la estación del metro y me fue muy fácil usarlo, definitivamente lo recomiendo.', 'muy agradable la estancia! el cuarto muy cómodo y el anfitrión muy amable y servicial, 10/10', 'habitación amplia y cómoda. Julian es muy amable y dispuesto a ayudar', 'El anfitrión es una persona muy amable y alegre. trata de adaptarse a las necesidades de los huéspedes y es de cconfiar.\\nLa zona no es muy cómoda realmente y sobre todo porque está en la zona 3.', 'Perfecto, con una ubicación excelente para pasar tus dias en paris', 'Julien es una persona súper atenta y dispuesta ayudarte con todo lo que necesites. Me hospedé dos noches solamente, pero todo fue perfecto.', 'Es un buen sitio para hospedarse, super recomendado', 'Muy buen lugar, buena ubicación y está bien cuidado', 'El alojamiento está bien y es cómodo. Solo les recomiendo a los futuros huéspedes que si tienen problemas para conciliar el sueño, lleven tapones para los oídos. Las habitaciones dan a una calle transitada y hay bastante ruido', 'El departamento de Julien es tal y como se muestra en las fotos, muy limpio todo y agradable. Julien super atento, me envió incluso imagen de las estaciones del tren para que me ubicara mejor, quedo muy agradecida por su hospitalidad. Definitivamente lo recomiendo.', 'Un lugar cercano y accesible para conocer París.', 'Todo increíblemente bien llegaría las veces que fueran necesarias es el mejor AirBNB que he llegado', 'Simplemente un anfitrión de excelencia, me sorprendió con su amabilidad, los servicios en su alojamiento totalmente limpios y accesibles en todo momento.\\nJulien siempre preocupado por qué estemos a gusto y no necesitemos nada.\\nMe volvería a quedar en su alojamiento sin pensarlo, cuando regrese a París!!', 'Mi experiencia en el alojamiento de Julien fue increíble. Me quedé un mes completo y tuve la posibilidad de conocer una gran persona. Julien es muy servicial, siempre se preocupa por como estas. Realmente me hizo sentir como si estuviera en mi casa. Sin dudar volvería a su casa si tengo que volver a París y lo recomiendo con los ojos cerrados.', 'Excelente lugar. Muy buena atención de Julien, es amable y se preocupa de los huéspedes.', 'Todo perfecto, la desventaja es que esta un poco lejos de paris, pero en el (RER) está muy fácil de llagar', 'El departamento de Julien es muy agradable, lleno de detalles y muy limpio. El entorno urbano es un poco bullicioso en las noches y la estacion de trenes está a unas siete cuadras.\\nEs un lugar muy recomendable, a buen precio y con un excelente anfitrión.', 'es un gran anfitrión, todo limpio y un barrio muy tranquilo', 'Está muy cómodo, limpio y julien es muy amigable y atento. Recomendado', 'El lugar esta muy limpio y ordenado, el único problema es que tienes que caminar 10 minutos hasta la estación del tren', 'El lugar es limpio, con buena calefacción y luminoso. Realmente cómodo.\\nSe encuentra a unos 15 minutos del centro de París en tren. La estación está a unas seis cuadras del alojamiento.\\nJulien es muy amable.\\nRecomiendo el lugar.', 'A 40 minutos del centro en cercanías (RER), anfitrión muy atento. También cerca de Le Bourget.', 'Julien es un un gran chico, muy atentos, siempre está atento a que requieres, se comunica por el móvil, para saber que esté bien, te orienta para dònde y como irte, te busca opciones, es maravillosa persona, muy limpio, respetuoso y comunicativo, tiene muchos detalles con su huésped, la zona es popular, pero también conoces un Paris más real no sólo turístico, hay metro cerca que te lleva al centro, yo me la pase increíble y volvería, gracias Julien .', 'Un anfitrión muy cordial, recibiendo de muy buena manera y preocupandose de como me sentía en mi estancia en París.', 'Julien es un excelente anfitrión, es muy accesible y hace lo que sea para que te sientas como en casa. La ubicación del departamento esta algo retirada del centro de París pero el metro pasa a 3 cuadras y de igual manera es muy fácil llegar.'], ['Cumple con lo que dice la reseña, julien atento, e intenta comunicarse contigo.', 'Esta super cerca de la estación, a 5 min. Está línea te lleva al Sacré cœur. Julian es super amable, se esfuerza mucho porque la gente se sienta cómoda. Es una gran persona.', 'El anfitrión siempre está atento en todo momento. la habitación está ubicada a pocos metros de la línea 12 que te deja en el centro de París. totalmente recomendado.', 'Durante mi estancia Julien estuvo muy atento y amable. Me ayudo cuando tuve un problema con mi celular, fue muy servicial. El lugar está muy cercano a la estación del metro y me fue muy fácil usarlo, definitivamente lo recomiendo.', 'muy agradable la estancia! el cuarto muy cómodo y el anfitrión muy amable y servicial, 10/10', 'habitación amplia y cómoda. Julian es muy amable y dispuesto a ayudar', 'El anfitrión es una persona muy amable y alegre. trata de adaptarse a las necesidades de los huéspedes y es de cconfiar.\\nLa zona no es muy cómoda realmente y sobre todo porque está en la zona 3.', 'Perfecto, con una ubicación excelente para pasar tus dias en paris', 'Julien es una persona súper atenta y dispuesta ayudarte con todo lo que necesites. Me hospedé dos noches solamente, pero todo fue perfecto.', 'Es un buen sitio para hospedarse, super recomendado', 'Muy buen lugar, buena ubicación y está bien cuidado', 'El alojamiento está bien y es cómodo. Solo les recomiendo a los futuros huéspedes que si tienen problemas para conciliar el sueño, lleven tapones para los oídos. Las habitaciones dan a una calle transitada y hay bastante ruido', 'El departamento de Julien es tal y como se muestra en las fotos, muy limpio todo y agradable. Julien super atento, me envió incluso imagen de las estaciones del tren para que me ubicara mejor, quedo muy agradecida por su hospitalidad. Definitivamente lo recomiendo.', 'Un lugar cercano y accesible para conocer París.', 'Todo increíblemente bien llegaría las veces que fueran necesarias es el mejor AirBNB que he llegado', 'Simplemente un anfitrión de excelencia, me sorprendió con su amabilidad, los servicios en su alojamiento totalmente limpios y accesibles en todo momento.\\nJulien siempre preocupado por qué estemos a gusto y no necesitemos nada.\\nMe volvería a quedar en su alojamiento sin pensarlo, cuando regrese a París!!', 'Mi experiencia en el alojamiento de Julien fue increíble. Me quedé un mes completo y tuve la posibilidad de conocer una gran persona. Julien es muy servicial, siempre se preocupa por como estas. Realmente me hizo sentir como si estuviera en mi casa. Sin dudar volvería a su casa si tengo que volver a París y lo recomiendo con los ojos cerrados.', 'Excelente lugar. Muy buena atención de Julien, es amable y se preocupa de los huéspedes.', 'Todo perfecto, la desventaja es que esta un poco lejos de paris, pero en el (RER) está muy fácil de llagar', 'El departamento de Julien es muy agradable, lleno de detalles y muy limpio. El entorno urbano es un poco bullicioso en las noches y la estacion de trenes está a unas siete cuadras.\\nEs un lugar muy recomendable, a buen precio y con un excelente anfitrión.', 'es un gran anfitrión, todo limpio y un barrio muy tranquilo', 'Está muy cómodo, limpio y julien es muy amigable y atento. Recomendado', 'El lugar esta muy limpio y ordenado, el único problema es que tienes que caminar 10 minutos hasta la estación del tren', 'El lugar es limpio, con buena calefacción y luminoso. Realmente cómodo.\\nSe encuentra a unos 15 minutos del centro de París en tren. La estación está a unas seis cuadras del alojamiento.\\nJulien es muy amable.\\nRecomiendo el lugar.', 'A 40 minutos del centro en cercanías (RER), anfitrión muy atento. También cerca de Le Bourget.', 'Julien es un un gran chico, muy atentos, siempre está atento a que requieres, se comunica por el móvil, para saber que esté bien, te orienta para dònde y como irte, te busca opciones, es maravillosa persona, muy limpio, respetuoso y comunicativo, tiene muchos detalles con su huésped, la zona es popular, pero también conoces un Paris más real no sólo turístico, hay metro cerca que te lleva al centro, yo me la pase increíble y volvería, gracias Julien .', 'Un anfitrión muy cordial, recibiendo de muy buena manera y preocupandose de como me sentía en mi estancia en París.', 'Julien es un excelente anfitrión, es muy accesible y hace lo que sea para que te sientas como en casa. La ubicación del departamento esta algo retirada del centro de París pero el metro pasa a 3 cuadras y de igual manera es muy fácil llegar.'], ['Cumple con lo que dice la reseña, julien atento, e intenta comunicarse contigo.', 'Esta super cerca de la estación, a 5 min. Está línea te lleva al Sacré cœur. Julian es super amable, se esfuerza mucho porque la gente se sienta cómoda. Es una gran persona.', 'El anfitrión siempre está atento en todo momento. la habitación está ubicada a pocos metros de la línea 12 que te deja en el centro de París. totalmente recomendado.', 'Durante mi estancia Julien estuvo muy atento y amable. Me ayudo cuando tuve un problema con mi celular, fue muy servicial. El lugar está muy cercano a la estación del metro y me fue muy fácil usarlo, definitivamente lo recomiendo.', 'muy agradable la estancia! el cuarto muy cómodo y el anfitrión muy amable y servicial, 10/10', 'habitación amplia y cómoda. Julian es muy amable y dispuesto a ayudar', 'El anfitrión es una persona muy amable y alegre. trata de adaptarse a las necesidades de los huéspedes y es de cconfiar.\\nLa zona no es muy cómoda realmente y sobre todo porque está en la zona 3.', 'Perfecto, con una ubicación excelente para pasar tus dias en paris', 'Julien es una persona súper atenta y dispuesta ayudarte con todo lo que necesites. Me hospedé dos noches solamente, pero todo fue perfecto.', 'Es un buen sitio para hospedarse, super recomendado', 'Muy buen lugar, buena ubicación y está bien cuidado', 'El alojamiento está bien y es cómodo. Solo les recomiendo a los futuros huéspedes que si tienen problemas para conciliar el sueño, lleven tapones para los oídos. Las habitaciones dan a una calle transitada y hay bastante ruido', 'El departamento de Julien es tal y como se muestra en las fotos, muy limpio todo y agradable. Julien super atento, me envió incluso imagen de las estaciones del tren para que me ubicara mejor, quedo muy agradecida por su hospitalidad. Definitivamente lo recomiendo.', 'Un lugar cercano y accesible para conocer París.', 'Todo increíblemente bien llegaría las veces que fueran necesarias es el mejor AirBNB que he llegado', 'Simplemente un anfitrión de excelencia, me sorprendió con su amabilidad, los servicios en su alojamiento totalmente limpios y accesibles en todo momento.\\nJulien siempre preocupado por qué estemos a gusto y no necesitemos nada.\\nMe volvería a quedar en su alojamiento sin pensarlo, cuando regrese a París!!', 'Mi experiencia en el alojamiento de Julien fue increíble. Me quedé un mes completo y tuve la posibilidad de conocer una gran persona. Julien es muy servicial, siempre se preocupa por como estas. Realmente me hizo sentir como si estuviera en mi casa. Sin dudar volvería a su casa si tengo que volver a París y lo recomiendo con los ojos cerrados.', 'Excelente lugar. Muy buena atención de Julien, es amable y se preocupa de los huéspedes.', 'Todo perfecto, la desventaja es que esta un poco lejos de paris, pero en el (RER) está muy fácil de llagar', 'El departamento de Julien es muy agradable, lleno de detalles y muy limpio. El entorno urbano es un poco bullicioso en las noches y la estacion de trenes está a unas siete cuadras.\\nEs un lugar muy recomendable, a buen precio y con un excelente anfitrión.', 'es un gran anfitrión, todo limpio y un barrio muy tranquilo', 'Está muy cómodo, limpio y julien es muy amigable y atento. Recomendado', 'El lugar esta muy limpio y ordenado, el único problema es que tienes que caminar 10 minutos hasta la estación del tren', 'El lugar es limpio, con buena calefacción y luminoso. Realmente cómodo.\\nSe encuentra a unos 15 minutos del centro de París en tren. La estación está a unas seis cuadras del alojamiento.\\nJulien es muy amable.\\nRecomiendo el lugar.', 'A 40 minutos del centro en cercanías (RER), anfitrión muy atento. También cerca de Le Bourget.', 'Julien es un un gran chico, muy atentos, siempre está atento a que requieres, se comunica por el móvil, para saber que esté bien, te orienta para dònde y como irte, te busca opciones, es maravillosa persona, muy limpio, respetuoso y comunicativo, tiene muchos detalles con su huésped, la zona es popular, pero también conoces un Paris más real no sólo turístico, hay metro cerca que te lleva al centro, yo me la pase increíble y volvería, gracias Julien .', 'Un anfitrión muy cordial, recibiendo de muy buena manera y preocupandose de como me sentía en mi estancia en París.', 'Julien es un excelente anfitrión, es muy accesible y hace lo que sea para que te sientas como en casa. La ubicación del departamento esta algo retirada del centro de París pero el metro pasa a 3 cuadras y de igual manera es muy fácil llegar.'], ['Cumple con lo que dice la reseña, julien atento, e intenta comunicarse contigo.', 'Esta super cerca de la estación, a 5 min. Está línea te lleva al Sacré cœur. Julian es super amable, se esfuerza mucho porque la gente se sienta cómoda. Es una gran persona.', 'El anfitrión siempre está atento en todo momento. la habitación está ubicada a pocos metros de la línea 12 que te deja en el centro de París. totalmente recomendado.', 'Durante mi estancia Julien estuvo muy atento y amable. Me ayudo cuando tuve un problema con mi celular, fue muy servicial. El lugar está muy cercano a la estación del metro y me fue muy fácil usarlo, definitivamente lo recomiendo.', 'muy agradable la estancia! el cuarto muy cómodo y el anfitrión muy amable y servicial, 10/10', 'habitación amplia y cómoda. Julian es muy amable y dispuesto a ayudar', 'El anfitrión es una persona muy amable y alegre. trata de adaptarse a las necesidades de los huéspedes y es de cconfiar.\\nLa zona no es muy cómoda realmente y sobre todo porque está en la zona 3.', 'Perfecto, con una ubicación excelente para pasar tus dias en paris', 'Julien es una persona súper atenta y dispuesta ayudarte con todo lo que necesites. Me hospedé dos noches solamente, pero todo fue perfecto.', 'Es un buen sitio para hospedarse, super recomendado', 'Muy buen lugar, buena ubicación y está bien cuidado', 'El alojamiento está bien y es cómodo. Solo les recomiendo a los futuros huéspedes que si tienen problemas para conciliar el sueño, lleven tapones para los oídos. Las habitaciones dan a una calle transitada y hay bastante ruido', 'El departamento de Julien es tal y como se muestra en las fotos, muy limpio todo y agradable. Julien super atento, me envió incluso imagen de las estaciones del tren para que me ubicara mejor, quedo muy agradecida por su hospitalidad. Definitivamente lo recomiendo.', 'Un lugar cercano y accesible para conocer París.', 'Todo increíblemente bien llegaría las veces que fueran necesarias es el mejor AirBNB que he llegado', 'Simplemente un anfitrión de excelencia, me sorprendió con su amabilidad, los servicios en su alojamiento totalmente limpios y accesibles en todo momento.\\nJulien siempre preocupado por qué estemos a gusto y no necesitemos nada.\\nMe volvería a quedar en su alojamiento sin pensarlo, cuando regrese a París!!', 'Mi experiencia en el alojamiento de Julien fue increíble. Me quedé un mes completo y tuve la posibilidad de conocer una gran persona. Julien es muy servicial, siempre se preocupa por como estas. Realmente me hizo sentir como si estuviera en mi casa. Sin dudar volvería a su casa si tengo que volver a París y lo recomiendo con los ojos cerrados.', 'Excelente lugar. Muy buena atención de Julien, es amable y se preocupa de los huéspedes.', 'Todo perfecto, la desventaja es que esta un poco lejos de paris, pero en el (RER) está muy fácil de llagar', 'El departamento de Julien es muy agradable, lleno de detalles y muy limpio. El entorno urbano es un poco bullicioso en las noches y la estacion de trenes está a unas siete cuadras.\\nEs un lugar muy recomendable, a buen precio y con un excelente anfitrión.', 'es un gran anfitrión, todo limpio y un barrio muy tranquilo', 'Está muy cómodo, limpio y julien es muy amigable y atento. Recomendado', 'El lugar esta muy limpio y ordenado, el único problema es que tienes que caminar 10 minutos hasta la estación del tren', 'El lugar es limpio, con buena calefacción y luminoso. Realmente cómodo.\\nSe encuentra a unos 15 minutos del centro de París en tren. La estación está a unas seis cuadras del alojamiento.\\nJulien es muy amable.\\nRecomiendo el lugar.', 'A 40 minutos del centro en cercanías (RER), anfitrión muy atento. También cerca de Le Bourget.', 'Julien es un un gran chico, muy atentos, siempre está atento a que requieres, se comunica por el móvil, para saber que esté bien, te orienta para dònde y como irte, te busca opciones, es maravillosa persona, muy limpio, respetuoso y comunicativo, tiene muchos detalles con su huésped, la zona es popular, pero también conoces un Paris más real no sólo turístico, hay metro cerca que te lleva al centro, yo me la pase increíble y volvería, gracias Julien .', 'Un anfitrión muy cordial, recibiendo de muy buena manera y preocupandose de como me sentía en mi estancia en París.', 'Julien es un excelente anfitrión, es muy accesible y hace lo que sea para que te sientas como en casa. La ubicación del departamento esta algo retirada del centro de París pero el metro pasa a 3 cuadras y de igual manera es muy fácil llegar.'], ['Cumple con lo que dice la reseña, julien atento, e intenta comunicarse contigo.', 'Esta super cerca de la estación, a 5 min. Está línea te lleva al Sacré cœur. Julian es super amable, se esfuerza mucho porque la gente se sienta cómoda. Es una gran persona.', 'El anfitrión siempre está atento en todo momento. la habitación está ubicada a pocos metros de la línea 12 que te deja en el centro de París. totalmente recomendado.', 'Durante mi estancia Julien estuvo muy atento y amable. Me ayudo cuando tuve un problema con mi celular, fue muy servicial. El lugar está muy cercano a la estación del metro y me fue muy fácil usarlo, definitivamente lo recomiendo.', 'muy agradable la estancia! el cuarto muy cómodo y el anfitrión muy amable y servicial, 10/10', 'habitación amplia y cómoda. Julian es muy amable y dispuesto a ayudar', 'El anfitrión es una persona muy amable y alegre. trata de adaptarse a las necesidades de los huéspedes y es de cconfiar.\\nLa zona no es muy cómoda realmente y sobre todo porque está en la zona 3.', 'Perfecto, con una ubicación excelente para pasar tus dias en paris', 'Julien es una persona súper atenta y dispuesta ayudarte con todo lo que necesites. Me hospedé dos noches solamente, pero todo fue perfecto.', 'Es un buen sitio para hospedarse, super recomendado', 'Muy buen lugar, buena ubicación y está bien cuidado', 'El alojamiento está bien y es cómodo. Solo les recomiendo a los futuros huéspedes que si tienen problemas para conciliar el sueño, lleven tapones para los oídos. Las habitaciones dan a una calle transitada y hay bastante ruido', 'El departamento de Julien es tal y como se muestra en las fotos, muy limpio todo y agradable. Julien super atento, me envió incluso imagen de las estaciones del tren para que me ubicara mejor, quedo muy agradecida por su hospitalidad. Definitivamente lo recomiendo.', 'Un lugar cercano y accesible para conocer París.', 'Todo increíblemente bien llegaría las veces que fueran necesarias es el mejor AirBNB que he llegado', 'Simplemente un anfitrión de excelencia, me sorprendió con su amabilidad, los servicios en su alojamiento totalmente limpios y accesibles en todo momento.\\nJulien siempre preocupado por qué estemos a gusto y no necesitemos nada.\\nMe volvería a quedar en su alojamiento sin pensarlo, cuando regrese a París!!', 'Mi experiencia en el alojamiento de Julien fue increíble. Me quedé un mes completo y tuve la posibilidad de conocer una gran persona. Julien es muy servicial, siempre se preocupa por como estas. Realmente me hizo sentir como si estuviera en mi casa. Sin dudar volvería a su casa si tengo que volver a París y lo recomiendo con los ojos cerrados.', 'Excelente lugar. Muy buena atención de Julien, es amable y se preocupa de los huéspedes.', 'Todo perfecto, la desventaja es que esta un poco lejos de paris, pero en el (RER) está muy fácil de llagar', 'El departamento de Julien es muy agradable, lleno de detalles y muy limpio. El entorno urbano es un poco bullicioso en las noches y la estacion de trenes está a unas siete cuadras.\\nEs un lugar muy recomendable, a buen precio y con un excelente anfitrión.', 'es un gran anfitrión, todo limpio y un barrio muy tranquilo', 'Está muy cómodo, limpio y julien es muy amigable y atento. Recomendado', 'El lugar esta muy limpio y ordenado, el único problema es que tienes que caminar 10 minutos hasta la estación del tren', 'El lugar es limpio, con buena calefacción y luminoso. Realmente cómodo.\\nSe encuentra a unos 15 minutos del centro de París en tren. La estación está a unas seis cuadras del alojamiento.\\nJulien es muy amable.\\nRecomiendo el lugar.', 'A 40 minutos del centro en cercanías (RER), anfitrión muy atento. También cerca de Le Bourget.', 'Julien es un un gran chico, muy atentos, siempre está atento a que requieres, se comunica por el móvil, para saber que esté bien, te orienta para dònde y como irte, te busca opciones, es maravillosa persona, muy limpio, respetuoso y comunicativo, tiene muchos detalles con su huésped, la zona es popular, pero también conoces un Paris más real no sólo turístico, hay metro cerca que te lleva al centro, yo me la pase increíble y volvería, gracias Julien .', 'Un anfitrión muy cordial, recibiendo de muy buena manera y preocupandose de como me sentía en mi estancia en París.', 'Julien es un excelente anfitrión, es muy accesible y hace lo que sea para que te sientas como en casa. La ubicación del departamento esta algo retirada del centro de París pero el metro pasa a 3 cuadras y de igual manera es muy fácil llegar.'], ['Cumple con lo que dice la reseña, julien atento, e intenta comunicarse contigo.', 'Esta super cerca de la estación, a 5 min. Está línea te lleva al Sacré cœur. Julian es super amable, se esfuerza mucho porque la gente se sienta cómoda. Es una gran persona.', 'El anfitrión siempre está atento en todo momento. la habitación está ubicada a pocos metros de la línea 12 que te deja en el centro de París. totalmente recomendado.', 'Durante mi estancia Julien estuvo muy atento y amable. Me ayudo cuando tuve un problema con mi celular, fue muy servicial. El lugar está muy cercano a la estación del metro y me fue muy fácil usarlo, definitivamente lo recomiendo.', 'muy agradable la estancia! el cuarto muy cómodo y el anfitrión muy amable y servicial, 10/10', 'habitación amplia y cómoda. Julian es muy amable y dispuesto a ayudar', 'El anfitrión es una persona muy amable y alegre. trata de adaptarse a las necesidades de los huéspedes y es de cconfiar.\\nLa zona no es muy cómoda realmente y sobre todo porque está en la zona 3.', 'Perfecto, con una ubicación excelente para pasar tus dias en paris', 'Julien es una persona súper atenta y dispuesta ayudarte con todo lo que necesites. Me hospedé dos noches solamente, pero todo fue perfecto.', 'Es un buen sitio para hospedarse, super recomendado', 'Muy buen lugar, buena ubicación y está bien cuidado', 'El alojamiento está bien y es cómodo. Solo les recomiendo a los futuros huéspedes que si tienen problemas para conciliar el sueño, lleven tapones para los oídos. Las habitaciones dan a una calle transitada y hay bastante ruido', 'El departamento de Julien es tal y como se muestra en las fotos, muy limpio todo y agradable. Julien super atento, me envió incluso imagen de las estaciones del tren para que me ubicara mejor, quedo muy agradecida por su hospitalidad. Definitivamente lo recomiendo.', 'Un lugar cercano y accesible para conocer París.', 'Todo increíblemente bien llegaría las veces que fueran necesarias es el mejor AirBNB que he llegado', 'Simplemente un anfitrión de excelencia, me sorprendió con su amabilidad, los servicios en su alojamiento totalmente limpios y accesibles en todo momento.\\nJulien siempre preocupado por qué estemos a gusto y no necesitemos nada.\\nMe volvería a quedar en su alojamiento sin pensarlo, cuando regrese a París!!', 'Mi experiencia en el alojamiento de Julien fue increíble. Me quedé un mes completo y tuve la posibilidad de conocer una gran persona. Julien es muy servicial, siempre se preocupa por como estas. Realmente me hizo sentir como si estuviera en mi casa. Sin dudar volvería a su casa si tengo que volver a París y lo recomiendo con los ojos cerrados.', 'Excelente lugar. Muy buena atención de Julien, es amable y se preocupa de los huéspedes.', 'Todo perfecto, la desventaja es que esta un poco lejos de paris, pero en el (RER) está muy fácil de llagar', 'El departamento de Julien es muy agradable, lleno de detalles y muy limpio. El entorno urbano es un poco bullicioso en las noches y la estacion de trenes está a unas siete cuadras.\\nEs un lugar muy recomendable, a buen precio y con un excelente anfitrión.', 'es un gran anfitrión, todo limpio y un barrio muy tranquilo', 'Está muy cómodo, limpio y julien es muy amigable y atento. Recomendado', 'El lugar esta muy limpio y ordenado, el único problema es que tienes que caminar 10 minutos hasta la estación del tren', 'El lugar es limpio, con buena calefacción y luminoso. Realmente cómodo.\\nSe encuentra a unos 15 minutos del centro de París en tren. La estación está a unas seis cuadras del alojamiento.\\nJulien es muy amable.\\nRecomiendo el lugar.', 'A 40 minutos del centro en cercanías (RER), anfitrión muy atento. También cerca de Le Bourget.', 'Julien es un un gran chico, muy atentos, siempre está atento a que requieres, se comunica por el móvil, para saber que esté bien, te orienta para dònde y como irte, te busca opciones, es maravillosa persona, muy limpio, respetuoso y comunicativo, tiene muchos detalles con su huésped, la zona es popular, pero también conoces un Paris más real no sólo turístico, hay metro cerca que te lleva al centro, yo me la pase increíble y volvería, gracias Julien .', 'Un anfitrión muy cordial, recibiendo de muy buena manera y preocupandose de como me sentía en mi estancia en París.', 'Julien es un excelente anfitrión, es muy accesible y hace lo que sea para que te sientas como en casa. La ubicación del departamento esta algo retirada del centro de París pero el metro pasa a 3 cuadras y de igual manera es muy fácil llegar.'], ['Cumple con lo que dice la reseña, julien atento, e intenta comunicarse contigo.', 'Esta super cerca de la estación, a 5 min. Está línea te lleva al Sacré cœur. Julian es super amable, se esfuerza mucho porque la gente se sienta cómoda. Es una gran persona.', 'El anfitrión siempre está atento en todo momento. la habitación está ubicada a pocos metros de la línea 12 que te deja en el centro de París. totalmente recomendado.', 'Durante mi estancia Julien estuvo muy atento y amable. Me ayudo cuando tuve un problema con mi celular, fue muy servicial. El lugar está muy cercano a la estación del metro y me fue muy fácil usarlo, definitivamente lo recomiendo.', 'muy agradable la estancia! el cuarto muy cómodo y el anfitrión muy amable y servicial, 10/10', 'habitación amplia y cómoda. Julian es muy amable y dispuesto a ayudar', 'El anfitrión es una persona muy amable y alegre. trata de adaptarse a las necesidades de los huéspedes y es de cconfiar.\\nLa zona no es muy cómoda realmente y sobre todo porque está en la zona 3.', 'Perfecto, con una ubicación excelente para pasar tus dias en paris', 'Julien es una persona súper atenta y dispuesta ayudarte con todo lo que necesites. Me hospedé dos noches solamente, pero todo fue perfecto.', 'Es un buen sitio para hospedarse, super recomendado', 'Muy buen lugar, buena ubicación y está bien cuidado', 'El alojamiento está bien y es cómodo. Solo les recomiendo a los futuros huéspedes que si tienen problemas para conciliar el sueño, lleven tapones para los oídos. Las habitaciones dan a una calle transitada y hay bastante ruido', 'El departamento de Julien es tal y como se muestra en las fotos, muy limpio todo y agradable. Julien super atento, me envió incluso imagen de las estaciones del tren para que me ubicara mejor, quedo muy agradecida por su hospitalidad. Definitivamente lo recomiendo.', 'Un lugar cercano y accesible para conocer París.', 'Todo increíblemente bien llegaría las veces que fueran necesarias es el mejor AirBNB que he llegado', 'Simplemente un anfitrión de excelencia, me sorprendió con su amabilidad, los servicios en su alojamiento totalmente limpios y accesibles en todo momento.\\nJulien siempre preocupado por qué estemos a gusto y no necesitemos nada.\\nMe volvería a quedar en su alojamiento sin pensarlo, cuando regrese a París!!', 'Mi experiencia en el alojamiento de Julien fue increíble. Me quedé un mes completo y tuve la posibilidad de conocer una gran persona. Julien es muy servicial, siempre se preocupa por como estas. Realmente me hizo sentir como si estuviera en mi casa. Sin dudar volvería a su casa si tengo que volver a París y lo recomiendo con los ojos cerrados.', 'Excelente lugar. Muy buena atención de Julien, es amable y se preocupa de los huéspedes.', 'Todo perfecto, la desventaja es que esta un poco lejos de paris, pero en el (RER) está muy fácil de llagar', 'El departamento de Julien es muy agradable, lleno de detalles y muy limpio. El entorno urbano es un poco bullicioso en las noches y la estacion de trenes está a unas siete cuadras.\\nEs un lugar muy recomendable, a buen precio y con un excelente anfitrión.', 'es un gran anfitrión, todo limpio y un barrio muy tranquilo', 'Está muy cómodo, limpio y julien es muy amigable y atento. Recomendado', 'El lugar esta muy limpio y ordenado, el único problema es que tienes que caminar 10 minutos hasta la estación del tren', 'El lugar es limpio, con buena calefacción y luminoso. Realmente cómodo.\\nSe encuentra a unos 15 minutos del centro de París en tren. La estación está a unas seis cuadras del alojamiento.\\nJulien es muy amable.\\nRecomiendo el lugar.', 'A 40 minutos del centro en cercanías (RER), anfitrión muy atento. También cerca de Le Bourget.', 'Julien es un un gran chico, muy atentos, siempre está atento a que requieres, se comunica por el móvil, para saber que esté bien, te orienta para dònde y como irte, te busca opciones, es maravillosa persona, muy limpio, respetuoso y comunicativo, tiene muchos detalles con su huésped, la zona es popular, pero también conoces un Paris más real no sólo turístico, hay metro cerca que te lleva al centro, yo me la pase increíble y volvería, gracias Julien .', 'Un anfitrión muy cordial, recibiendo de muy buena manera y preocupandose de como me sentía en mi estancia en París.', 'Julien es un excelente anfitrión, es muy accesible y hace lo que sea para que te sientas como en casa. La ubicación del departamento esta algo retirada del centro de París pero el metro pasa a 3 cuadras y de igual manera es muy fácil llegar.'], ['Cumple con lo que dice la reseña, julien atento, e intenta comunicarse contigo.', 'Esta super cerca de la estación, a 5 min. Está línea te lleva al Sacré cœur. Julian es super amable, se esfuerza mucho porque la gente se sienta cómoda. Es una gran persona.', 'El anfitrión siempre está atento en todo momento. la habitación está ubicada a pocos metros de la línea 12 que te deja en el centro de París. totalmente recomendado.', 'Durante mi estancia Julien estuvo muy atento y amable. Me ayudo cuando tuve un problema con mi celular, fue muy servicial. El lugar está muy cercano a la estación del metro y me fue muy fácil usarlo, definitivamente lo recomiendo.', 'muy agradable la estancia! el cuarto muy cómodo y el anfitrión muy amable y servicial, 10/10', 'habitación amplia y cómoda. Julian es muy amable y dispuesto a ayudar', 'El anfitrión es una persona muy amable y alegre. trata de adaptarse a las necesidades de los huéspedes y es de cconfiar.\\nLa zona no es muy cómoda realmente y sobre todo porque está en la zona 3.', 'Perfecto, con una ubicación excelente para pasar tus dias en paris', 'Julien es una persona súper atenta y dispuesta ayudarte con todo lo que necesites. Me hospedé dos noches solamente, pero todo fue perfecto.', 'Es un buen sitio para hospedarse, super recomendado', 'Muy buen lugar, buena ubicación y está bien cuidado', 'El alojamiento está bien y es cómodo. Solo les recomiendo a los futuros huéspedes que si tienen problemas para conciliar el sueño, lleven tapones para los oídos. Las habitaciones dan a una calle transitada y hay bastante ruido', 'El departamento de Julien es tal y como se muestra en las fotos, muy limpio todo y agradable. Julien super atento, me envió incluso imagen de las estaciones del tren para que me ubicara mejor, quedo muy agradecida por su hospitalidad. Definitivamente lo recomiendo.', 'Un lugar cercano y accesible para conocer París.', 'Todo increíblemente bien llegaría las veces que fueran necesarias es el mejor AirBNB que he llegado', 'Simplemente un anfitrión de excelencia, me sorprendió con su amabilidad, los servicios en su alojamiento totalmente limpios y accesibles en todo momento.\\nJulien siempre preocupado por qué estemos a gusto y no necesitemos nada.\\nMe volvería a quedar en su alojamiento sin pensarlo, cuando regrese a París!!', 'Mi experiencia en el alojamiento de Julien fue increíble. Me quedé un mes completo y tuve la posibilidad de conocer una gran persona. Julien es muy servicial, siempre se preocupa por como estas. Realmente me hizo sentir como si estuviera en mi casa. Sin dudar volvería a su casa si tengo que volver a París y lo recomiendo con los ojos cerrados.', 'Excelente lugar. Muy buena atención de Julien, es amable y se preocupa de los huéspedes.', 'Todo perfecto, la desventaja es que esta un poco lejos de paris, pero en el (RER) está muy fácil de llagar', 'El departamento de Julien es muy agradable, lleno de detalles y muy limpio. El entorno urbano es un poco bullicioso en las noches y la estacion de trenes está a unas siete cuadras.\\nEs un lugar muy recomendable, a buen precio y con un excelente anfitrión.', 'es un gran anfitrión, todo limpio y un barrio muy tranquilo', 'Está muy cómodo, limpio y julien es muy amigable y atento. Recomendado', 'El lugar esta muy limpio y ordenado, el único problema es que tienes que caminar 10 minutos hasta la estación del tren', 'El lugar es limpio, con buena calefacción y luminoso. Realmente cómodo.\\nSe encuentra a unos 15 minutos del centro de París en tren. La estación está a unas seis cuadras del alojamiento.\\nJulien es muy amable.\\nRecomiendo el lugar.', 'A 40 minutos del centro en cercanías (RER), anfitrión muy atento. También cerca de Le Bourget.', 'Julien es un un gran chico, muy atentos, siempre está atento a que requieres, se comunica por el móvil, para saber que esté bien, te orienta para dònde y como irte, te busca opciones, es maravillosa persona, muy limpio, respetuoso y comunicativo, tiene muchos detalles con su huésped, la zona es popular, pero también conoces un Paris más real no sólo turístico, hay metro cerca que te lleva al centro, yo me la pase increíble y volvería, gracias Julien .', 'Un anfitrión muy cordial, recibiendo de muy buena manera y preocupandose de como me sentía en mi estancia en París.', 'Julien es un excelente anfitrión, es muy accesible y hace lo que sea para que te sientas como en casa. La ubicación del departamento esta algo retirada del centro de París pero el metro pasa a 3 cuadras y de igual manera es muy fácil llegar.'], ['Cumple con lo que dice la reseña, julien atento, e intenta comunicarse contigo.', 'Esta super cerca de la estación, a 5 min. Está línea te lleva al Sacré cœur. Julian es super amable, se esfuerza mucho porque la gente se sienta cómoda. Es una gran persona.', 'El anfitrión siempre está atento en todo momento. la habitación está ubicada a pocos metros de la línea 12 que te deja en el centro de París. totalmente recomendado.', 'Durante mi estancia Julien estuvo muy atento y amable. Me ayudo cuando tuve un problema con mi celular, fue muy servicial. El lugar está muy cercano a la estación del metro y me fue muy fácil usarlo, definitivamente lo recomiendo.', 'muy agradable la estancia! el cuarto muy cómodo y el anfitrión muy amable y servicial, 10/10', 'habitación amplia y cómoda. Julian es muy amable y dispuesto a ayudar', 'El anfitrión es una persona muy amable y alegre. trata de adaptarse a las necesidades de los huéspedes y es de cconfiar.\\nLa zona no es muy cómoda realmente y sobre todo porque está en la zona 3.', 'Perfecto, con una ubicación excelente para pasar tus dias en paris', 'Julien es una persona súper atenta y dispuesta ayudarte con todo lo que necesites. Me hospedé dos noches solamente, pero todo fue perfecto.', 'Es un buen sitio para hospedarse, super recomendado', 'Muy buen lugar, buena ubicación y está bien cuidado', 'El alojamiento está bien y es cómodo. Solo les recomiendo a los futuros huéspedes que si tienen problemas para conciliar el sueño, lleven tapones para los oídos. Las habitaciones dan a una calle transitada y hay bastante ruido', 'El departamento de Julien es tal y como se muestra en las fotos, muy limpio todo y agradable. Julien super atento, me envió incluso imagen de las estaciones del tren para que me ubicara mejor, quedo muy agradecida por su hospitalidad. Definitivamente lo recomiendo.', 'Un lugar cercano y accesible para conocer París.', 'Todo increíblemente bien llegaría las veces que fueran necesarias es el mejor AirBNB que he llegado', 'Simplemente un anfitrión de excelencia, me sorprendió con su amabilidad, los servicios en su alojamiento totalmente limpios y accesibles en todo momento.\\nJulien siempre preocupado por qué estemos a gusto y no necesitemos nada.\\nMe volvería a quedar en su alojamiento sin pensarlo, cuando regrese a París!!', 'Mi experiencia en el alojamiento de Julien fue increíble. Me quedé un mes completo y tuve la posibilidad de conocer una gran persona. Julien es muy servicial, siempre se preocupa por como estas. Realmente me hizo sentir como si estuviera en mi casa. Sin dudar volvería a su casa si tengo que volver a París y lo recomiendo con los ojos cerrados.', 'Excelente lugar. Muy buena atención de Julien, es amable y se preocupa de los huéspedes.', 'Todo perfecto, la desventaja es que esta un poco lejos de paris, pero en el (RER) está muy fácil de llagar', 'El departamento de Julien es muy agradable, lleno de detalles y muy limpio. El entorno urbano es un poco bullicioso en las noches y la estacion de trenes está a unas siete cuadras.\\nEs un lugar muy recomendable, a buen precio y con un excelente anfitrión.', 'es un gran anfitrión, todo limpio y un barrio muy tranquilo', 'Está muy cómodo, limpio y julien es muy amigable y atento. Recomendado', 'El lugar esta muy limpio y ordenado, el único problema es que tienes que caminar 10 minutos hasta la estación del tren', 'El lugar es limpio, con buena calefacción y luminoso. Realmente cómodo.\\nSe encuentra a unos 15 minutos del centro de París en tren. La estación está a unas seis cuadras del alojamiento.\\nJulien es muy amable.\\nRecomiendo el lugar.', 'A 40 minutos del centro en cercanías (RER), anfitrión muy atento. También cerca de Le Bourget.', 'Julien es un un gran chico, muy atentos, siempre está atento a que requieres, se comunica por el móvil, para saber que esté bien, te orienta para dònde y como irte, te busca opciones, es maravillosa persona, muy limpio, respetuoso y comunicativo, tiene muchos detalles con su huésped, la zona es popular, pero también conoces un Paris más real no sólo turístico, hay metro cerca que te lleva al centro, yo me la pase increíble y volvería, gracias Julien .', 'Un anfitrión muy cordial, recibiendo de muy buena manera y preocupandose de como me sentía en mi estancia en París.', 'Julien es un excelente anfitrión, es muy accesible y hace lo que sea para que te sientas como en casa. La ubicación del departamento esta algo retirada del centro de París pero el metro pasa a 3 cuadras y de igual manera es muy fácil llegar.'], ['Cumple con lo que dice la reseña, julien atento, e intenta comunicarse contigo.', 'Esta super cerca de la estación, a 5 min. Está línea te lleva al Sacré cœur. Julian es super amable, se esfuerza mucho porque la gente se sienta cómoda. Es una gran persona.', 'El anfitrión siempre está atento en todo momento. la habitación está ubicada a pocos metros de la línea 12 que te deja en el centro de París. totalmente recomendado.', 'Durante mi estancia Julien estuvo muy atento y amable. Me ayudo cuando tuve un problema con mi celular, fue muy servicial. El lugar está muy cercano a la estación del metro y me fue muy fácil usarlo, definitivamente lo recomiendo.', 'muy agradable la estancia! el cuarto muy cómodo y el anfitrión muy amable y servicial, 10/10', 'habitación amplia y cómoda. Julian es muy amable y dispuesto a ayudar', 'El anfitrión es una persona muy amable y alegre. trata de adaptarse a las necesidades de los huéspedes y es de cconfiar.\\nLa zona no es muy cómoda realmente y sobre todo porque está en la zona 3.', 'Perfecto, con una ubicación excelente para pasar tus dias en paris', 'Julien es una persona súper atenta y dispuesta ayudarte con todo lo que necesites. Me hospedé dos noches solamente, pero todo fue perfecto.', 'Es un buen sitio para hospedarse, super recomendado', 'Muy buen lugar, buena ubicación y está bien cuidado', 'El alojamiento está bien y es cómodo. Solo les recomiendo a los futuros huéspedes que si tienen problemas para conciliar el sueño, lleven tapones para los oídos. Las habitaciones dan a una calle transitada y hay bastante ruido', 'El departamento de Julien es tal y como se muestra en las fotos, muy limpio todo y agradable. Julien super atento, me envió incluso imagen de las estaciones del tren para que me ubicara mejor, quedo muy agradecida por su hospitalidad. Definitivamente lo recomiendo.', 'Un lugar cercano y accesible para conocer París.', 'Todo increíblemente bien llegaría las veces que fueran necesarias es el mejor AirBNB que he llegado', 'Simplemente un anfitrión de excelencia, me sorprendió con su amabilidad, los servicios en su alojamiento totalmente limpios y accesibles en todo momento.\\nJulien siempre preocupado por qué estemos a gusto y no necesitemos nada.\\nMe volvería a quedar en su alojamiento sin pensarlo, cuando regrese a París!!', 'Mi experiencia en el alojamiento de Julien fue increíble. Me quedé un mes completo y tuve la posibilidad de conocer una gran persona. Julien es muy servicial, siempre se preocupa por como estas. Realmente me hizo sentir como si estuviera en mi casa. Sin dudar volvería a su casa si tengo que volver a París y lo recomiendo con los ojos cerrados.', 'Excelente lugar. Muy buena atención de Julien, es amable y se preocupa de los huéspedes.', 'Todo perfecto, la desventaja es que esta un poco lejos de paris, pero en el (RER) está muy fácil de llagar', 'El departamento de Julien es muy agradable, lleno de detalles y muy limpio. El entorno urbano es un poco bullicioso en las noches y la estacion de trenes está a unas siete cuadras.\\nEs un lugar muy recomendable, a buen precio y con un excelente anfitrión.', 'es un gran anfitrión, todo limpio y un barrio muy tranquilo', 'Está muy cómodo, limpio y julien es muy amigable y atento. Recomendado', 'El lugar esta muy limpio y ordenado, el único problema es que tienes que caminar 10 minutos hasta la estación del tren', 'El lugar es limpio, con buena calefacción y luminoso. Realmente cómodo.\\nSe encuentra a unos 15 minutos del centro de París en tren. La estación está a unas seis cuadras del alojamiento.\\nJulien es muy amable.\\nRecomiendo el lugar.', 'A 40 minutos del centro en cercanías (RER), anfitrión muy atento. También cerca de Le Bourget.', 'Julien es un un gran chico, muy atentos, siempre está atento a que requieres, se comunica por el móvil, para saber que esté bien, te orienta para dònde y como irte, te busca opciones, es maravillosa persona, muy limpio, respetuoso y comunicativo, tiene muchos detalles con su huésped, la zona es popular, pero también conoces un Paris más real no sólo turístico, hay metro cerca que te lleva al centro, yo me la pase increíble y volvería, gracias Julien .', 'Un anfitrión muy cordial, recibiendo de muy buena manera y preocupandose de como me sentía en mi estancia en París.', 'Julien es un excelente anfitrión, es muy accesible y hace lo que sea para que te sientas como en casa. La ubicación del departamento esta algo retirada del centro de París pero el metro pasa a 3 cuadras y de igual manera es muy fácil llegar.']]</td>\n",
       "      <td>['']</td>\n",
       "      <td>['si']</td>\n",
       "      <td>['identidad verificada']</td>\n",
       "      <td>['superanfitrión']</td>\n",
       "      <td>[]</td>\n",
       "      <td>['julien']</td>\n",
       "      <td>['2017']</td>\n",
       "      <td>['si']</td>\n",
       "      <td>[]</td>\n",
       "      <td>['cancelación gratuita por 48 horas.']</td>\n",
       "      <td>[]</td>\n",
       "      <td>[]</td>\n",
       "      <td>[48]</td>\n",
       "      <td>[]</td>\n",
       "      <td>['S/113']</td>\n",
       "      <td>['S/386']</td>\n",
       "      <td>[]</td>\n",
       "      <td>[208]</td>\n",
       "      <td>[4.84]</td>\n",
       "      <td>[['العربية', ' english', ' français', ' polski', ' português', ' español']]</td>\n",
       "      <td>['100%']</td>\n",
       "      <td>['en menos de una hora']</td>\n",
       "      <td>['wifi', 'zona de trabajo', 'secadora de pelo', 'refrigerador', 'microondas', 'estacionamiento de pago fuera de las instalaciones', 'servicios imprescindibles', 'detector de humo', 'detector de monóxido de carbono', 'cafetera']</td>\n",
       "      <td>[]</td>\n",
       "      <td>[]</td>\n",
       "      <td>[]</td>\n",
       "      <td>[]</td>\n",
       "      <td>[]</td>\n",
       "      <td>[]</td>\n",
       "      <td>[]</td>\n",
       "      <td>[]</td>\n",
       "      <td>[]</td>\n",
       "      <td>[]</td>\n",
       "      <td>[]</td>\n",
       "      <td>[]</td>\n",
       "      <td>[]</td>\n",
       "      <td>['quién puede quedarse en el alojamiento\\n1 huésped como máximo\\nno se admiten mascotas', 'qué está permitido\\nel horario de check-in es de las 12:00 a las 21:00\\nla salida es antes de las 12:00\\nestá prohibido hacer fiestas o eventos\\nprohibido fumar', 'el horario de check-in es de las 12:00 a las 21:00', 'la salida es antes de las 12:00', '1 huésped como máximo']</td>\n",
       "      <td>['consideraciones de seguridad\\nno apto para niños ni bebés', 'dispositivos de seguridad\\ndetector de monóxido de carbono instalado\\ndetector de humo instalado', 'información de la propiedad\\npuede haber ruido\\nlimitaciones en los servicios\\n“no se puede cocinar después de las 22: 00 ”', 'el horario de check-in es de las 12:00 a las 21:00', 'la salida es antes de las 12:00', '1 huésped como máximo']</td>\n",
       "      <td>['48 horas\\ndespués de hacer la reservación\\nreembolso total: recibirás el 100 % de lo que pagaste', '12 abr.\\n12:00\\nreembolso parcial: recibirás el 50 % del monto de todas las noches. no se te reembolsará la tarifa por servicio.', '19 abr.\\n12:00\\n(check-in)\\nsin reembolso', 'política de cancelación']</td>\n",
       "    </tr>\n",
       "  </tbody>\n",
       "</table>\n",
       "</div>"
      ],
      "text/plain": [
       "         date                                                          titulo  \\\n",
       "0  2023-03-04     ['habitación compartida en alojamiento - anfitrión: guoxi']   \n",
       "1  2023-03-04  ['habitación privada en vivienda rentada - anfitrión: julien']   \n",
       "\n",
       "       huespedes                       banos verificado         habitaciones  \\\n",
       "0  ['1 huésped']  [' · 3 baños compartidos']         []  [' · 1 habitación']   \n",
       "1  ['1 huésped']    [' · 1 baño compartido']         []  [' · 1 habitación']   \n",
       "\n",
       "           camas limpieza_rate comunicacion_rate llegada_rate fiabilidad_rate  \\\n",
       "0  [' · 1 cama']       ['4.9']           ['4.9']      ['4.9']         ['4.8']   \n",
       "1  [' · 1 cama']       ['4.8']           ['4.9']      ['4.9']         ['4.9']   \n",
       "\n",
       "  ubicacion_rate precio_rate  \\\n",
       "0        ['4.7']     ['4.9']   \n",
       "1        ['4.5']     ['4.9']   \n",
       "\n",
       "                                                                                                                                                                                                                                                                                                                                                                                                                                                                                                                                                                                                                                                                                                                                                                                                                                                                                                                                                                                                                                                                                                                                                                                                                                                                                                                                                                                                                                                                                                                                                                                                                                                                                                                                                                                                                                                                                                                                                                                                                                                                                                                                                                                                                                                                                                                                                                                                                                                                                                                                                                                                                                                                                                                                                                                                                                                                                                                                                                                                                                                                                                                                                                                                                                                                                                                                                                                                                                                                                                                                                                                                                                                                                                                                                                                                                                                                                                                                                                                                                                                                                                                                                                                                                                                                                                                                                                                                                                                                                                                                                                                                                                                                                                                                                                                                                                                                                                                                                                                                                                                                                                                                                                                                                                                                                                                                                                                                                                                                                                                                                                                                                                                                                                                                                                                                                                                                                                                                                                                                                                                                                                                                                                                                                                                                                                                                                                                                                                                                                                                                                                                                                                                                                                                                                                                                                                                                                                                                                                                                                                                                                                                                                                                                                                                                                                                                                                                                                                                                                                                                                                                                                                                                                                                                                                                                                                                                                                                                                                                                                                                                                                                                                                                                                                                                                                                                                                                                                                                                                                                                                                                                                                                                                                                                                                                                                                                                                                                                                                                                                                                                                                                                                                                                                                                                                                                                                                                                                                                                                                                                                                                                                                                                                                                                                                                                                                                                                                                                                                                                                                                                                                                                                                                                                                                                                                                                                                                                                                                                                                                                                                                                                                                                                                                                                                                                                                                                                                                                                                                                                                                                                                                                                                                                                                                                                                                                                                                                                                                                                                                                                                                                                                                                                                                                                                                                                                                                                                                                                                                                                                                                                                                                                                                                                                                                                                                                                                                                                                                                                                                                                                                                                                                                                                                                                                                                                                                                                                                                                                                                                                                                                                                                                                                                                                                                                                                                                                                                                                                                                                                                                                                                                                                                                                                                                                                                                                                                                                                                                                                                                                                                                                                                                                                                                                                                                                                                                                                                                                                                                                                                                                                                                                                                                                                                                                                                                                                                                                                                                                                                                                                                                                                                                                                                                                                                                                                                                                                                                                                                                                                                                                                                                                                                                                                                                                                                                                                                                                                                                                                                                                                                                                                                                                                                                                                                                                                                                                                                                                                                                                                                                                                                                                                                                                                                                                                                                                                                                                                                                                                                                                                                                                                                                                                                                                                                                                                                                                                                                                                                                                                                                                                                                                                                                                                                                                                                                                                                                                                                                                                                                                                                                                                                                                                                                                                                                                                                                                                                                                                                                                                                                                                                                                                                                                                                                                                                                                                                                                                                                                                                                                                                                                                                                                                                                                                                                                                                                                                                                                                                                                                                                                                                                                                                                                                                                                                                                                                                                                                                                                                                                                                                                                                                                                                                                                                                                                                                                                                                                                                                                                                                                                                                                                                                                                                                                                                                                                                                                                                                                                                                                                                                                                                                                                                                                                                                                                                                                                                                                                                                                                                                                                                                                                                                                                                                                                                                                                                                                                                                                                                                                                                                                                                                                                                                                                                                                                                                                                                                                                                                                                                                                                                                                                                                                                                                                                                                                                                                                                                                                                                                                                                                                                                                                                                                                                                                                                                                                                                                                                                                                                                                                                                                                                                                                                                                                                                                                                                                                                                                                                                                                                                                                                                                                                                                                                                                                                                                                                                                                                                                                                                                                                                                                                                                                                                                                                                                                                                                                                                                                                                                                                                                                                                                                                                                                                                                                                                                                                                                                                                                                                                                                                                                                                                                                                                                                                                                                                                                                                                                                                                                                                                                                                                                                                                                                                                                                                                                                                                                                                                                                                                                                                                                                                                                                                                                                                                                                                                                                                                                                                                                                                                                                                                                                                                                                                                                                                                                                                                                                                                                                                                                                                                                                                                                                                                                                                                                                                                                                                                                                                                                                                                                                                                                                                                                                                                                                                                                                                                                                                                                                                                                                                                                                                                                                                                                                                                                                                                                                                                                                                                                                                                                                                                                                                                                                                                                                                                                                                                                                                                                                                                                                                                                                                                                                                                                                                                                                                                                                                                                                                                                                                                                                                                                                                                                                                                                                                                                                                                                                                                                                                                                                                                                                                                                                                                                                                                                                                                                                                                                                                                                                                                                                                                                                                                                                                                                                                                                                                                                                                                                                                                                                                                                                                                                                                                                                                                                                                                                                                                                                                                                                                                                                                                                                                                                                                                                                                                                                                                                                                                                                                                                                                                                                                                                                                                                                                                                                                                                                                                                                                                                                                                                                                                                                                                                                                                                                                                                                                                                                                                                                                                                                                                                                                                                                                                                                                                                                                                                                                                                                                                                                                                                                                                                                                                                                                                                                                                                                                                                                                                                                                                                                                                                                                                                                                                                                                                                                                                                                                                                                                                                                                                                                                                                                                                                                                                                                                                                                                                                                                                                                                                                                                                                                                                                                                                                                                                                                                                                                                                                                                                                                                                                                                                                                                                                                                                                                                                                                                                                                                                                                                                                                                                                                                                                                                                                                                                                                                                                                                                                                                                                                                                                                                                                                                                                                                                                                                                                                                                                                                                                                                                                                                                                                                                                                                                                                                                                                                                                                                                                                                                                                                                                                                                                                                                                                                                                                                                                                                                                                                                                                                                                                                                                                                                                                                                                                                                                                                                                                                                                                                                                                                                                                                                                                                                                                                                                                                                                                                                                                                                                                                                                                                                                                                                                                                                                                                                                                                                                                                                                                                                                                                                                                                                                                                                                                                                                                                                                                                                                                                                                                                                                                                                                                                                                                                                                                                                                                                                                                                                                                                                                                                                                                                                                                                                                                                                                                                                                                                                                                                                                                                                                                                                                                                                                                                                                                                                                                                                                                                                                                                                                                                                                                                                                                                                                                                                                                                                                                                                                                                                                                                                                                                                                                                                                                                                                                                                                                                                                                                                                                                                                                                                                                                                                                                                                                                                                                                                                                                                                                                                                                                                                                                                                                                                                                                                                                                                                                                                                                                                                                                                                                                                                                                                                                                                                                                                                                                                                                                                                                                                                                                                                                                                                                                                                                                                                                                                                                                                                                                                                                                                                                                                                                                                                                                                                                                                                                                                                                                                                                                                                                                                                                                                                                                                                                                                                                                                                                                                                                                                                                                                                                                                                                                                                                                                                                                                                                                                                                                                                                                                                                                                                                                                                                                                                                                                                                                                                                                                                                                                                                                                                                                                                                                                                                                                                                                                                                                                                                                                                                                                                                                                                                                                                                                                                                                                                                                                                                                                                                                                                                                                                                                                                                                                                                                                                                                                                                                                                                                                                                                                                                                                                                                                                                                                                                                                                                                                                                                                                                                                                                                                                                                                                                                                                                                                                                                                                                                                                                                                                                                                                                                                                                                                                                                                                                                                                                                                                                                                                                                                                                                                                                                                                                                                                                                                                                                                                                                                                                                                                                                                                                                                                                                                                                                                                                                                                                                                                                                                                                                                                                                                                                                                                                                                                                                                                                                                                                                                                                                                                                                                                                                                                                                                                                                                                                                                                                                                                                                                                                                                                                                                                                                                                                                                                                                                                                                                                                                                                                                                                                                                                                                                                                                                                                                                                                                                                                                                                                                                                                                                                                                                                                                                                                                                                                                                                                                                                                                                                                                                                                                                                                                                                                                                                                                                                                                                                                                                                                                                                                                                                                                                                                                                                                                                                                                                                                                                                                                                                                                                                                                                                                                                                                                                                                                                                                                                                                                                                                                                                                                                                                                                                                                                                                                                                                                                                                                                                                                                                                                                                                                                                                                                                                                                                                                                                                                                                                                                                                                                                                                                                                                                                                                                                                                                                                                                                                                                                                                                                                                                                                                                                                                                                                                                                                                                                                                                                                                                                                                                                                                                                                                                                                                                                                                                                                                                                                                                                                                                                                                                                                                                                                                                                                                                                                                                                                                                                                                                                                                                                                                                                                                                                                                                                                                                                                                                                                                                                                                                                                                                                                                                                                                                                                                                                                                                                                                                                                                                                                                                                                                                                                                                                                                                                                                                                                                                                                                                                                                                                                                                                                                                                                                                                                                                                                                                                                                                                                                                                                                                                                                                                                                                                                                                                                                                                                                                                                                                                                                                                                                                                                                                                                                                                                                                                                                                                                                                                                                                                                                                                                                                                                                                                                                                                                                                                                                                                                                                                                                                                                                                                                                                                                                                                                                                                                                                                                                                                                                                                                                                                                                                                                                                                                                                                                                                                                                                                                                                                                                                                                                                                                                                                                                                                                                                                                                                                                                                                                                                                                                                                                                                                                                                                                                                                                                                                                                                                                                                                                                                                                                                                                                                                                                                                                                                                                                                                                                                                                                                                                                                                                                                                                                                                                                                                                                                                                                                                                                                                                                                                                                                                                                                                                                                                                                                                                                                                                                                                                                                                                                                                                                                                                                                                                                                                                                                                                                                                                                                                                                                                                                                                                                                                                                                                                                                                                                                                                                                                                                                                                                                                                                                                                                                                                                                                                                                                                                                                                                                                                                                                                                                                                                                                                                                                                                                                                                                                                                                                                                                                                                                                                                                                                                                                                                                                                                                                                                                                                                                                                                                                                                                                                                                                                                                                                                                                                                                                                                                                                                                                                                                                                                                                                                                                                                                                                                                                                                                                                                                                                                                                                                                                                                                                                                                                                                                                                                                                                                                                                                                                                                                                                                                                                                                                                                                                                                                                                                                                                                                                                                                                                                                                                                                                                                                                                                                                                                                                                                                                                                                                                                                                                                                                                                                                                                                                                                                                                                                                                                                                                                                                                                                                                                                                                                                                                                                                                                                                                                                                                                                                                                                                                                                                                                                                                                                                                                                                                                                                                                                                                                                                                                                                                                                                                                                                                                                                                                                                                                                                                                                                                                                                                                                                                                                                                                                                                                                                                                                                                                                                                                                                                                                                                                                                                                                                                                                                                                                                                                                                                                                                                                                                                                                                                                                                                                                                                                                                                                                                                                                                                                                                                                                                                                                                                                                                                                                                                                                                                                                                                                                                                                                                                                                                                                                                                                                                                                                                                                                                                                                                                                                                                                                                                                                                                                                                                                                                                                                                                                                                                                                                                                                                                                                                                                                                                                                                                                                                                                                                                                                                                                                                                                                                                                                                                                                                                                                                                                                                                                                                                                                                                                                                                                                                                                                                                                                                                                                                                                                                                                                                                                                                                                                                                                                                                                                                                                                                                                                                                                                                                                                                                                                                                                                                                                                                                                                                                                                                                                                                                                                                                                                                                                                                                                                                                                                                                                                                                                                                                                                                                                                                                                                                                                                                                                                                                                                                                                                                                                                                                                                                                                                                                                                                                                                                                                                                                                                                                                                                                                                                                                                                                                                                                                                                                                                                                                                                                                                                                                                                                                                                                                                                                                                                                                                                                                                                                                                                                                                                                                                                                                                                                                                                                                                                                                                                                                                                                                                                                                                                                                                                                                                                                                                                                                                                                                                                                                                                                                                                                                                                                                                                                                                                                                                                                                                                                                                                                                                                                                                                                                                                                                                                                                                                                                                                                                                                                                                                                                                                                                                                                                                                                                                                                                                                                                                                                                                                                                                                                                                                                                                                                                                                                                                                                                                                                                                                                                                                                                                                                                                                                                                                                                                                                                                                                                                                                                                                                                                                                                                                                                                                                                                                                                                                                                                                                                                                                                                                                                                                                                                                                                                                                                                                                                                                                                                                                                                                                                                                                                                                                                                                                                                                                                                                                                                                                                                                                                                                                                                                                                                                                                                                                                                                                                                                                                                                                                                                                                                                                                                                                                                                                                                                                                                                                                                                                                                                                                                                                                                                                                                                                                                                                                                                                                                                                                                                                                                                                                                                                                                                                                                                                                                                                                                                                                                                                                                                                                                                                                                                                                                                                                                                                                                                                                                                                                                                                                                                                                                                                                                                                                                                                                                                                                                                                                                                                                                                                                                                                                                                                                                                                                                                                                                                                                                                                                                                                                                                                                                                                                                                                                                                                                                                                                                                                                                                                                                                                                                                                                                                                                                                                                                                                                                                                                                                                                                                                                                                                                                                                                                                                                                                                                                                                                                                                                                                                                                                                                                                                                                                                                                                                                                                                                                                                                                                                                                                                                                                                                                                                                                                                                                                                                                                                                                                                                                                                                                                                                                                                                                                                                                                                                                                                                                                                                                                                                                                                                                                                                                                                                                                                                                                                                                                                                                                                                                                                                                                                                                                                                                                                                                                                                                                                                                                                                                                                                                                                                                                                                                                                                                                                                                                                                                                                                                                                                                                                                                                                                                                                                                                                                                                                                                                                                                                                                                                                                                                                                                                                                                                                                                                                                                                                                                                                                                                                                                                                                                                                                                                                                                                                                                                                                                                                                                                                                                                                                                                                                                                                                                                                                                                                                                                                                                                                                                                                                                                                                                                                                                                                                                                                                                                                                                                                                                                                                                                                                                                                                                                                                                                                                                                                                                                                                                                                                                                                                                                                                                                                                                                                                                                                                                                                                                                                                                                                                                                                                                                                                                                                                                                                                                                                                                                                                                                                                                                                                                                                                                                                                                                                                                                                                                                                                                                                                                                                                                                                                                                                                                                                                                                                                                                                                                                                                                                                                                                                                                                                                                                                                                                                                                                                                                                                                                                                                                                                                                                                                                                                                                                                                                                                                                                                                                                                                                                                                                                                                                                                                                                                                                                                                                                                                                                                                                                                                                                                                                                                                                                                                                                                                                                                                                                                                                                                                                                                                                                                                                                                                                                                                                                                                                                                                                                                                                                                                                                                                                                                                                                                                                                                                                                                                                                                                                                                                                                                                                                                                                                                                                                                                                                                                                                                                                                                                                                                                                                                                                                                                                                                                                                                                                                                                                                                                                                                                                                                                                                                                                                                                                                                                                                                                                                                                                                                                                                                                                                                                                                                                                                                                                                                                                                                                                                                                                                                                                                                                                                                                                                                                                                                                                                                                                                                                                                                                                                                                                                                                                                                                                                                                                                                                                                                                                                                                                                                                                                                                                                                                                                                                                                                                                                                                                                                                                                                                                                                                                                                                                                                                                                                                                                                                                                                                                                                                                                                                                                                                                                                                                                                                                                                                                                                                                                                                                                                                                                                                                                                                                                                                                                                                                                                                                                                                                                                                                                                                                                                                                                                                                                                                                                                                                                                                                                                                                                                                                                                                                                                                                                                                                                                                                                                                                                                                                                                                                                                                                                                                                                                                                                                                                                                                                                                                                                                                                                                                                                                                                                                                                                                                                                                                                                                                                                                                                                                                                                                                                                                                                                                                                                                                                                                                                                                                                                                                                                                                                                                                                                                                                                                                                                                                                                                                                                                                                                                                                                                                                                                                                                                                                                                                                                                                                                                                                                                                                                                                                                                                                                                                                                                                                                                                                                                                                                                                                                                                                                                                                                                                                                                                                                                                                                                                                                                                                                                                                                                                                                                                                                                                                                                                                                                                                                                                                                                                                                                                                                                                                                                                                                                                                                                                                                                                                                                                                                                                                                                                                                                                                                                                                                                                                                                                                                                                                                                                                                                                                                                                                                                                                                                                                                                                                                                                                                                                                                                                                                                                                                                                                                                                                                                                                                                                                                                                                                                                                                                                                                                                                                                                                                                                                                                                                                                                                                                                                                                                                                                                                                                                                                                                                                                                                                                                                                                                                                                                                                                                                                                                                                                                                                                                                                                                                                                                                                                                                                                                                                                                                                                                                                                                                                                                                                                                                                                                                                                                                                                                                                                                                                                                                                                                                                                                                                                                                                                                                                                                                                                                                                                                                                                                                                                                                                                                                                                                                                                                                                                                                                                                                                                                                                                                                                                                                                                                                                                                                                                                                                                                                                                                                                                                                                                                                                                                                                                                                                                                                                                                                                                                                                                                                                                                                                                                                                                                                                                                                                                                                                                                                                                                                                                                                                                                                                                                                                                                                                                                                                                                                                                                                                                                                                                                                                                                                                                                                                                                                                                                                                                                                                                                                                                                                                                                                                                                                                                                                                                                                                                                                                                                                                                                                                                                                                                                                                                                                                                                                                                                                                                                                                                                                                                                                                                                                                                                                                                                                                                                                                                                                                                                                                                                                                                                                                                                                                                                                                                                                                                                                                                                                                                                                                                                                                                                                                                                                                                                                                                                                                                                                                                                                                                                                                                                                                                                                                                                                                                                                                                                                                                                                                                                                                                                                                                                                                                                                                                                                                                                                                                                                                                                                                                                                                                                                                                                                                                                                                                                                                                                                                                                                                                                                                                                                                                                                                                                                                                                                                                                                                                                                                                                                                                                                                                                                                                                                                                                                                                                                                                                                                                                                                                                                                                                                                                                                                                                                                                                                                                                                                                                                                                                                                                                                                                                                                                                                                                                                                                                                                                                                                                                                                                                                                                                                                                                                                                                                                                                                                                                                                                                                                                                                                                                                                                                                                                                                                                                                                                                                                                                                                                                                                                                                                                                                                                                                                                                                                                                                                                                                                                                                                                                                                                                                                                                                                                                                                                                                                                                                                                                                                                                                                                                                                                                                                                                                                                                                                                                                                                                                                                                                                                                                                                                                                                                                                                                                                                                                                                                                                                                                                                                                                                                                                                                                                                                                                                                                                                                                                                                                                                                                                                                                                                                                                                                                                                                                                                                                                                                                                                                                                                                                                                                                                                                                                                                                                                                                                                                                                                                                                                                                                                                                                                                                                                                                                                                                                                                                                                                                                                                                                                                                                                                                                                                                                                                                                                                                                                                                                                                                                                                                                                                                                                                                                                                                                                                                                                                                                                                                                                                                                                                                                                                                                                                                                                                                                                                                                                                                                                                                                                                                                                                                                                                                                                                                                                                                                                                                                                                                                                                                                                                                                                                                                                                                                                                                                                                                                                                                                                                                                                                                                                                                                                                                                                                                                                                                                                                                                                                                                                                                                                                                                                                                                                                                                                                                                                                                                                                                                                                                                                                                                                                                                                                                                                                                                                                                                                  reviews_lista  \\\n",
       "0                                                                                                                                                                                                                                                                                                                                                                                                                                                                                                                                                                                                                                                                                                                                                                                                                                                                                                                                                                                                                                                                                                                                                                                                                                                                                                                                                                                                                                                                                                                                                                                                                                                                                                                                                                                                                                                                                                                                                                                                                                                                                                                                                                                                                                                                                                                                                                                                                                                                                                                                                                                                                                                                                                                                                                                                                                                                                                                                                                                                                                                                                                                                                                                                                                                                                                                                                                                                                                                                                                                                                                                                                                                                                                                                                                                                                                                                                                                                                                                                                                                                                                                                                                                                                                                                                                                                                                                                                                                                                                                                                                                                                                                                                                                                                                                                                                                                                                                                                                                                                                                                                                                                                                                                                                                                                                                                                                                                                                                                                                                                                                                                                                                                                                                                                                                                                                                                                                                                                                                                                                                                                                                                                                                                                                                                                                                                                                                                                                                                                                                                                                                                                                                                                                                                                                                                                                                                                                                                                                                                                                                                                                                                                                                                                                                                                                                                                                                                                                                                                                                                                                                                                                                                                                                                                                                                                                                                                                                                                                                                                                                                                                                                                                                                                                                                                                                                                                                                                                                                                                                                                                                                                                                                                                                                                                                                                                                                                                                                                                                                                                                                                                                                                                                                                                                                                                                                                                                                                                                                                                                                                                                                                                                                                                                                                                                                                                                                                                                                                                                                                                                                                                                                                                                                                                                                                                                                                                                                                                                                                                                                                                                                                                                                                                                                                                                                                                                                                                                                                                                                                                                                                                                                                                                                                                                                                                                                                                                                                                                                                                                                                                                                                                                                                                                                                                                                                                                                                                                                                                                                                                                                                                                                                                                                                                                                                                                                                                                                                                                                                                                                                                                                                                                                                                                                                                                                                                                                                                                                                                                                                                                                                                                                                                                                                                                                                                                                                                                                                                                                                                                                                                                                                                                                                                                                                                                                                                                                                                                                                                                                                                                                                                                                                                                                                                                                                                                                                                                                                                                                                                                                                                                                                                                                                                                                                                                                                                                                                                                                                                                                                                                                                                                                                                                                                                                                                                                                                                                                                                                                                                                                                                                                                                                                                                                                                                                                                                                                                                                                                                                                                                                                                                                                                                                                                                                                                                                                                                                                                                                                                                                                                                                                                                                                                                                                                                                                                                                                                                                                                                                                                                                                                                                                                                                                                                                                                                                                                                                                                                                                                                                                                                                                                                                                                                                                                                                                                                                                                                                                                                                                                                                                                                                                                                                                                                                                                                                                                                                                                                                                                                                                                                                                                                                                                                                                                                                                                                                                                                                                                                                                                                                                                                                                                                                                                                                                                                                                                                                                                                                                                                                                                                                                                                                                                                                                                                                                                                                                                                                                                                                                                                                                                                                                                                                                                                                                                                                                                                                                                                                                                                                                                                                                                                                                                                                                                                                                                                                                                                                                                                                                                                                                                                                                                                                                                                                                                                                                                                                                                                                                                                                                                                                                                                                                                                                                                                                                                                                                                                                                                                                                                                                                                                                                                                                                                                                                                                                                                                                                                                                                                                                                                                                                                                                                                                                                                                                                                                                                                                                                                                                                                                                                                                                                                                                                                                                                                                                                                                                                                                                                                                                                                                                                                                                                                                                                                                                                                                                                                                                                                                                                                                                                                                                                                                                                                                                                                                                                                                                                                                                                                                                                                                                                                                                                                                                                                                                                                                                                                                                                                                                                                                                                                                                                                                                                                                                                                                                                                                                                                                                                                                                                                                                                                                                                                                                                                                                                                                                                                                                                                                                                                                                                                                                                                                                                                                                                                                                                                                                                                                                                                                                                                                                                                                                                                                                                                                                                                                                                                                                                                                                                                                                                                                                                                                                                                                                                                                                                                                                                                                                                                                                                                                                                                                                                                                                                                                                                                                                                                                                                                                                                                                                                                                                                                                                                                                                                                                                                                                                                                                                                                                                                                                                                                                                                                                                                                                                                                                                                                                                                                                                                                                                                                                                                                                                                                                                                                                                                                                                                                                                                                                                                                                                                                                                                                                                                                                                                                                                                                                                                                                                                                                                                                                                                                                                                                                                                                                                                                                                                                                                                                                                                                                                                                                                                                                                                                                                                                                                                                                                                                                                                                                                                                                                                                                                                                                                                                                                                                                                                                                                                                                                                                                                                                                                                                                                                                                                                                                                                                                                                                                                                                                                                                                                                                                                                                                                                                                                                                                                                                                                                                                                                                                                                                                                                                                                                                                                                                                                                                                                                                                                                                                                                                                                                                                                                                                                                                                                                                                                                                                                                                                                                                                                                                                                                                                                                                                                                                                                                                                                                                                                                                                                                                                                                                                                                                                                                                                                                                                                                                                                                                                                                                                                                                                                                                                                                                                                                                                                                                                                                                                                                                                                                                                                                                                                                                                                                                                                                                                                                                                                                                                                                                                                                                                                                                                                                                                                                                                                                                                                                                                                                                                                                                                                                                                                                                                                                                                                                                                                                                                                                                                                                                                                                                                                                                                                                                                                                                                                                                                                                                                                                                                                                                                                                                                                                                                                                                                                                                                                                                                                                                                                                                                                                                                                                                                                                                                                                                                                                                                                                                                                                                                                                                                                                                                                                                                                                                                                                                                                                                                                                                                                                                                                                                                                                                                                                                                                                                                                                                                                                                                                                                                                                                                                                                                                                                                                                                                                                                                                                                                                                                                                                                                                                                                                                                                                                                                                                                                                                                                                                                                                                                                                                                                                                                                                                                                                                                                                                                                                                                                                                                                                                                                                                                                                                                                                                                                                                                                                                                                                                                                                                                                                                                                                                                                                                                                                                                                                                                                                                                                                                                                                                                                                                                                                                                                                                                                                                                                                                                                                                                                                                                                                                                                                                                                                                                                                                                                                                                                                                                                                                                                                                                                                                                                                                                                                                                                                                                                                                                                                                                                                                                                                                                                                                                                                                                                                                                                                                                                                                                                                                                                                                                                                                                                                                                                                                                                                                                                                                                                                                                                                                                                                                                                                                                                                                                                                                                                                                                                                                                                                                                                                                                                                                                                                                                                                                                                                                                                                                                                                                                                                                                                                                                                                                                                                                                                                                                                                                                                                                                                                                                                                                                                                                                                                                                                                                                                                                                                                                                                                                                                                                                                                                                                                                                                                                                                                                                                                                                                                                                                                                                                                                                                                                                                                                                                                                                                                                                                                                                                                                                                                                                                                                                                                                                                                                                                                                                                                                                                                                                                                                                                                                                                                                                                                                                                                                                                                                                                                                                                                                                                                                                                                                                                                                                                                                                                                                                                                                                                                                                                                                                                                                                                                                                                                                                                                                                                                                                                                                                                                                                                                                                                                                                                                                                                                                                                                                                                                                                                                                                                                                                                                                                                                                                                                                                                                                                                                                                                                                                                                                                                                                                                                                                                                                                                                                                                                                                                                                                                                                                                                                                                                                                                                                                                                                                                                                                                                                                                                                                                                                                                                                                                                                                                                                                                                                                                                                                                                                                                                                                                                                                                                                                                                                                                                                                                                                                                                                                                                                                                                                                                                                                                                                                                                                                                                                                                                                                                                                                                                                                                                                                                                                                                                                                                                                                                                                                                                                                                                                                                                                                                                                                                                                                                                                                                                                                                                                                                                                                                                                                                                                                                                                                                                                                                                                                                                                                                                                                                                                                                                                                                                                                                                                                                                                                                                                                                                                                                                                                                                                                                                                                                                                                                                                                                                                                                                                                                                                                                                                                                                                                                                                                                                                                                                                                                                                                                                                                                                                                                                                                                                                                                                                                                                                                                                                                                                                                                                                                                                                                                                                                                                                                                                                                                                                                                                                                                                                                                                                                                                                                                                                                                                                                                                                                                                                                                                                                                                                                                                                                                                                                                                                                                                                                                                                                                                                                                                                                                                                                                                                                                                                                                                                                                                                                                                                                                                                                                                                                                                                                                                                                                                                                                                                                                                                                                                                                                                                                                                                                                                                                                                                                                                                                                                                                                                                                                                                                                                                                                                                                                                                                                                                                                                                                                                                                                                                                                                                                                                                                                                                                                                                                                                                                                                                                                                                                                                                                                                                                                                                                                                                                                                                                                                                                                                                                                                                                                                                                                                                                                                                                                                                                                                                                                                                                                                                                                                                                                                                                                                                                                                                                                                                                                                                                                                                                                                                                                                                                                                                                                                                                                                                                                                                                                                                                                                                                                                                                                                                                                                                                                                                                                                                                                                                                                                                                                                                                                                                                                                                                                                                                                                                                                                                                                                                                                                                                                                                                                                                                                                                                                                                                                                                                                                                                                                                                                                                                                                                                                                                                                                                                                                                                                                                                                                                                                                                                                                                                                                                                                                                                                                                                                                                                                                                                                                                                                                                                                                                                                                                                                                                                                                                                                                                                                                                                                                                                                                                                                                                                                                                                                                                                                                                                                                                                                                                                                                                                                                                                                                                                                                                                                                                                                                                                                                                                                                                                                                                                                                                                                                                                                                                                                                                                                                                                                                                                                                                                                                                                                                                                                                                                                                                                                                                                                                                                                                                                                                                                                                                                                                                                                                                                                                                                                                                                                                                                                                                                                                                                                                                                                                                                                                                                                                                                                                                                                                                                                                                                                                                                                                                                                                                                                                                                                                                                                                                                                                                                                                                                                                                                                                                                                                                                                                                                                                                                                                                                                                                                                                                                                                                                                                                                                                                                                                                                                                                                                                                                                                                                                                                                                                                                                                                                                                                                                                                                                                                                                                                                                                                                                                                                                                                                                                                                                                                                                                                                                                                                                                                                                                                                                                                                                                                                                                                                                                                                                                                                                                                                                 [['Muy cómodo, sector tranquilo y cercano del metro.', 'Excelente ubicación y excelente trato por el personal. Un lugar muy tranquilo y demasiado cerca del metro', 'El lugar tal como se describe en el anuncio, muy limpio, el wifi no es súper rápido pero funciona bien, todas las áreas correctas, los anfitriones amables, a pesar de no hablar mucho inglés, buscaban la forma de entender', 'Un excelente lugar para pasar la noche, alojarse y conocer Paris. ¡Que genial haber encontrado este lugar!', 'Guoxi estaba bien organizado, era acogedor y atento. La cocina, los baños y los alojamientos para dormir fueron recientemente remodelados y muy funcionales. El espacio del refrigerador era amplio. La falta de detectores de monóxido de carbono NO era importante, ya que todos los electrodomésticos eran eléctricos, y la calefacción central se suministraba a través de la circulación de agua en los radiadores de pared.', 'bonito lugar', 'muy bien , volveré seguro , mercado, metro, todo cerca ... me ayudó mucho porque no hablaba francés ni inglés... gracias amigo Oss', 'Pasé varias noches en casa de Guoxi y aprecié tener un dormitorio solo;)\\nEl baño es funcional y la cocina es amplia pero no muy climatizada...\\nAgradezco al anfitrión que me haya permitido aparcar la bicicleta dentro, porque viajaba a París todas las mañanas.', '¡Un alojamiento fantástico! ¡Guoxi es muy agradable y servicial! ¡No se puede pedir más!', 'El anfitrión es una persona sumamente amable y servicial. La casa está lejos a pie del centro, pero la parada de metro está muy cerca. Estaba extremadamente satisfecho, lo recomiendo encarecidamente si estás buscando alojamiento en París.', '¡Perfecto!', '¡Me encantó el anfitrión y me ayudó mucho!', 'Todo estuvo excelente, no hay nada de que quejarse', 'Todo bien', 'Alojamiento sencillo pero estupendo en París.\\nEl alojamiento está a 5 minutos a pie del metro, lo que hace que sea fácil llegar al centro de la ciudad.\\nEl hostal se limpia a menudo, lo que lo hace sentir limpio y ordenado', 'Una de las mejores opciones para viajes económicos en París.\\nLos compañeros de piso limpios, acogedores y amables, y la ubicación es fantástica.', 'Todo lo mejor, el anfitrión realmente se esforzó por hacer que mi estancia fuera buena berirer de idioma. Pequeño albergue familiar con todas las cosas básicas en una buena ubicación.', 'Alojamiento muy útil para unos cuantos viajeros solitarios que llevan unos días en París. Limpio y cerca del metro. Buen barrio', 'Gracias Guoxi !!!', 'Hola,\\n\\ntodo fue en el buen sentido, recuerdos encantadores. Un gran detalle ayudando en todo. No muy lejos del metro. Gran lugar para alojarse con un presupuesto asequible.', 'Fue una estancia muy agradable, un lugar genial y gente amable... El metro está justo al final de la manzana, fácil acceso a la ciudad'], ['Muy cómodo, sector tranquilo y cercano del metro.', 'Excelente ubicación y excelente trato por el personal. Un lugar muy tranquilo y demasiado cerca del metro', 'El lugar tal como se describe en el anuncio, muy limpio, el wifi no es súper rápido pero funciona bien, todas las áreas correctas, los anfitriones amables, a pesar de no hablar mucho inglés, buscaban la forma de entender', 'Un excelente lugar para pasar la noche, alojarse y conocer Paris. ¡Que genial haber encontrado este lugar!', 'Guoxi estaba bien organizado, era acogedor y atento. La cocina, los baños y los alojamientos para dormir fueron recientemente remodelados y muy funcionales. El espacio del refrigerador era amplio. La falta de detectores de monóxido de carbono NO era importante, ya que todos los electrodomésticos eran eléctricos, y la calefacción central se suministraba a través de la circulación de agua en los radiadores de pared.', 'bonito lugar', 'muy bien , volveré seguro , mercado, metro, todo cerca ... me ayudó mucho porque no hablaba francés ni inglés... gracias amigo Oss', 'Pasé varias noches en casa de Guoxi y aprecié tener un dormitorio solo;)\\nEl baño es funcional y la cocina es amplia pero no muy climatizada...\\nAgradezco al anfitrión que me haya permitido aparcar la bicicleta dentro, porque viajaba a París todas las mañanas.', '¡Un alojamiento fantástico! ¡Guoxi es muy agradable y servicial! ¡No se puede pedir más!', 'El anfitrión es una persona sumamente amable y servicial. La casa está lejos a pie del centro, pero la parada de metro está muy cerca. Estaba extremadamente satisfecho, lo recomiendo encarecidamente si estás buscando alojamiento en París.', '¡Perfecto!', '¡Me encantó el anfitrión y me ayudó mucho!', 'Todo estuvo excelente, no hay nada de que quejarse', 'Todo bien', 'Alojamiento sencillo pero estupendo en París.\\nEl alojamiento está a 5 minutos a pie del metro, lo que hace que sea fácil llegar al centro de la ciudad.\\nEl hostal se limpia a menudo, lo que lo hace sentir limpio y ordenado', 'Una de las mejores opciones para viajes económicos en París.\\nLos compañeros de piso limpios, acogedores y amables, y la ubicación es fantástica.', 'Todo lo mejor, el anfitrión realmente se esforzó por hacer que mi estancia fuera buena berirer de idioma. Pequeño albergue familiar con todas las cosas básicas en una buena ubicación.', 'Alojamiento muy útil para unos cuantos viajeros solitarios que llevan unos días en París. Limpio y cerca del metro. Buen barrio', 'Gracias Guoxi !!!', 'Hola,\\n\\ntodo fue en el buen sentido, recuerdos encantadores. Un gran detalle ayudando en todo. No muy lejos del metro. Gran lugar para alojarse con un presupuesto asequible.', 'Fue una estancia muy agradable, un lugar genial y gente amable... El metro está justo al final de la manzana, fácil acceso a la ciudad'], ['Muy cómodo, sector tranquilo y cercano del metro.', 'Excelente ubicación y excelente trato por el personal. Un lugar muy tranquilo y demasiado cerca del metro', 'El lugar tal como se describe en el anuncio, muy limpio, el wifi no es súper rápido pero funciona bien, todas las áreas correctas, los anfitriones amables, a pesar de no hablar mucho inglés, buscaban la forma de entender', 'Un excelente lugar para pasar la noche, alojarse y conocer Paris. ¡Que genial haber encontrado este lugar!', 'Guoxi estaba bien organizado, era acogedor y atento. La cocina, los baños y los alojamientos para dormir fueron recientemente remodelados y muy funcionales. El espacio del refrigerador era amplio. La falta de detectores de monóxido de carbono NO era importante, ya que todos los electrodomésticos eran eléctricos, y la calefacción central se suministraba a través de la circulación de agua en los radiadores de pared.', 'bonito lugar', 'muy bien , volveré seguro , mercado, metro, todo cerca ... me ayudó mucho porque no hablaba francés ni inglés... gracias amigo Oss', 'Pasé varias noches en casa de Guoxi y aprecié tener un dormitorio solo;)\\nEl baño es funcional y la cocina es amplia pero no muy climatizada...\\nAgradezco al anfitrión que me haya permitido aparcar la bicicleta dentro, porque viajaba a París todas las mañanas.', '¡Un alojamiento fantástico! ¡Guoxi es muy agradable y servicial! ¡No se puede pedir más!', 'El anfitrión es una persona sumamente amable y servicial. La casa está lejos a pie del centro, pero la parada de metro está muy cerca. Estaba extremadamente satisfecho, lo recomiendo encarecidamente si estás buscando alojamiento en París.', '¡Perfecto!', '¡Me encantó el anfitrión y me ayudó mucho!', 'Todo estuvo excelente, no hay nada de que quejarse', 'Todo bien', 'Alojamiento sencillo pero estupendo en París.\\nEl alojamiento está a 5 minutos a pie del metro, lo que hace que sea fácil llegar al centro de la ciudad.\\nEl hostal se limpia a menudo, lo que lo hace sentir limpio y ordenado', 'Una de las mejores opciones para viajes económicos en París.\\nLos compañeros de piso limpios, acogedores y amables, y la ubicación es fantástica.', 'Todo lo mejor, el anfitrión realmente se esforzó por hacer que mi estancia fuera buena berirer de idioma. Pequeño albergue familiar con todas las cosas básicas en una buena ubicación.', 'Alojamiento muy útil para unos cuantos viajeros solitarios que llevan unos días en París. Limpio y cerca del metro. Buen barrio', 'Gracias Guoxi !!!', 'Hola,\\n\\ntodo fue en el buen sentido, recuerdos encantadores. Un gran detalle ayudando en todo. No muy lejos del metro. Gran lugar para alojarse con un presupuesto asequible.', 'Fue una estancia muy agradable, un lugar genial y gente amable... El metro está justo al final de la manzana, fácil acceso a la ciudad'], ['Muy cómodo, sector tranquilo y cercano del metro.', 'Excelente ubicación y excelente trato por el personal. Un lugar muy tranquilo y demasiado cerca del metro', 'El lugar tal como se describe en el anuncio, muy limpio, el wifi no es súper rápido pero funciona bien, todas las áreas correctas, los anfitriones amables, a pesar de no hablar mucho inglés, buscaban la forma de entender', 'Un excelente lugar para pasar la noche, alojarse y conocer Paris. ¡Que genial haber encontrado este lugar!', 'Guoxi estaba bien organizado, era acogedor y atento. La cocina, los baños y los alojamientos para dormir fueron recientemente remodelados y muy funcionales. El espacio del refrigerador era amplio. La falta de detectores de monóxido de carbono NO era importante, ya que todos los electrodomésticos eran eléctricos, y la calefacción central se suministraba a través de la circulación de agua en los radiadores de pared.', 'bonito lugar', 'muy bien , volveré seguro , mercado, metro, todo cerca ... me ayudó mucho porque no hablaba francés ni inglés... gracias amigo Oss', 'Pasé varias noches en casa de Guoxi y aprecié tener un dormitorio solo;)\\nEl baño es funcional y la cocina es amplia pero no muy climatizada...\\nAgradezco al anfitrión que me haya permitido aparcar la bicicleta dentro, porque viajaba a París todas las mañanas.', '¡Un alojamiento fantástico! ¡Guoxi es muy agradable y servicial! ¡No se puede pedir más!', 'El anfitrión es una persona sumamente amable y servicial. La casa está lejos a pie del centro, pero la parada de metro está muy cerca. Estaba extremadamente satisfecho, lo recomiendo encarecidamente si estás buscando alojamiento en París.', '¡Perfecto!', '¡Me encantó el anfitrión y me ayudó mucho!', 'Todo estuvo excelente, no hay nada de que quejarse', 'Todo bien', 'Alojamiento sencillo pero estupendo en París.\\nEl alojamiento está a 5 minutos a pie del metro, lo que hace que sea fácil llegar al centro de la ciudad.\\nEl hostal se limpia a menudo, lo que lo hace sentir limpio y ordenado', 'Una de las mejores opciones para viajes económicos en París.\\nLos compañeros de piso limpios, acogedores y amables, y la ubicación es fantástica.', 'Todo lo mejor, el anfitrión realmente se esforzó por hacer que mi estancia fuera buena berirer de idioma. Pequeño albergue familiar con todas las cosas básicas en una buena ubicación.', 'Alojamiento muy útil para unos cuantos viajeros solitarios que llevan unos días en París. Limpio y cerca del metro. Buen barrio', 'Gracias Guoxi !!!', 'Hola,\\n\\ntodo fue en el buen sentido, recuerdos encantadores. Un gran detalle ayudando en todo. No muy lejos del metro. Gran lugar para alojarse con un presupuesto asequible.', 'Fue una estancia muy agradable, un lugar genial y gente amable... El metro está justo al final de la manzana, fácil acceso a la ciudad'], ['Muy cómodo, sector tranquilo y cercano del metro.', 'Excelente ubicación y excelente trato por el personal. Un lugar muy tranquilo y demasiado cerca del metro', 'El lugar tal como se describe en el anuncio, muy limpio, el wifi no es súper rápido pero funciona bien, todas las áreas correctas, los anfitriones amables, a pesar de no hablar mucho inglés, buscaban la forma de entender', 'Un excelente lugar para pasar la noche, alojarse y conocer Paris. ¡Que genial haber encontrado este lugar!', 'Guoxi estaba bien organizado, era acogedor y atento. La cocina, los baños y los alojamientos para dormir fueron recientemente remodelados y muy funcionales. El espacio del refrigerador era amplio. La falta de detectores de monóxido de carbono NO era importante, ya que todos los electrodomésticos eran eléctricos, y la calefacción central se suministraba a través de la circulación de agua en los radiadores de pared.', 'bonito lugar', 'muy bien , volveré seguro , mercado, metro, todo cerca ... me ayudó mucho porque no hablaba francés ni inglés... gracias amigo Oss', 'Pasé varias noches en casa de Guoxi y aprecié tener un dormitorio solo;)\\nEl baño es funcional y la cocina es amplia pero no muy climatizada...\\nAgradezco al anfitrión que me haya permitido aparcar la bicicleta dentro, porque viajaba a París todas las mañanas.', '¡Un alojamiento fantástico! ¡Guoxi es muy agradable y servicial! ¡No se puede pedir más!', 'El anfitrión es una persona sumamente amable y servicial. La casa está lejos a pie del centro, pero la parada de metro está muy cerca. Estaba extremadamente satisfecho, lo recomiendo encarecidamente si estás buscando alojamiento en París.', '¡Perfecto!', '¡Me encantó el anfitrión y me ayudó mucho!', 'Todo estuvo excelente, no hay nada de que quejarse', 'Todo bien', 'Alojamiento sencillo pero estupendo en París.\\nEl alojamiento está a 5 minutos a pie del metro, lo que hace que sea fácil llegar al centro de la ciudad.\\nEl hostal se limpia a menudo, lo que lo hace sentir limpio y ordenado', 'Una de las mejores opciones para viajes económicos en París.\\nLos compañeros de piso limpios, acogedores y amables, y la ubicación es fantástica.', 'Todo lo mejor, el anfitrión realmente se esforzó por hacer que mi estancia fuera buena berirer de idioma. Pequeño albergue familiar con todas las cosas básicas en una buena ubicación.', 'Alojamiento muy útil para unos cuantos viajeros solitarios que llevan unos días en París. Limpio y cerca del metro. Buen barrio', 'Gracias Guoxi !!!', 'Hola,\\n\\ntodo fue en el buen sentido, recuerdos encantadores. Un gran detalle ayudando en todo. No muy lejos del metro. Gran lugar para alojarse con un presupuesto asequible.', 'Fue una estancia muy agradable, un lugar genial y gente amable... El metro está justo al final de la manzana, fácil acceso a la ciudad'], ['Muy cómodo, sector tranquilo y cercano del metro.', 'Excelente ubicación y excelente trato por el personal. Un lugar muy tranquilo y demasiado cerca del metro', 'El lugar tal como se describe en el anuncio, muy limpio, el wifi no es súper rápido pero funciona bien, todas las áreas correctas, los anfitriones amables, a pesar de no hablar mucho inglés, buscaban la forma de entender', 'Un excelente lugar para pasar la noche, alojarse y conocer Paris. ¡Que genial haber encontrado este lugar!', 'Guoxi estaba bien organizado, era acogedor y atento. La cocina, los baños y los alojamientos para dormir fueron recientemente remodelados y muy funcionales. El espacio del refrigerador era amplio. La falta de detectores de monóxido de carbono NO era importante, ya que todos los electrodomésticos eran eléctricos, y la calefacción central se suministraba a través de la circulación de agua en los radiadores de pared.', 'bonito lugar', 'muy bien , volveré seguro , mercado, metro, todo cerca ... me ayudó mucho porque no hablaba francés ni inglés... gracias amigo Oss', 'Pasé varias noches en casa de Guoxi y aprecié tener un dormitorio solo;)\\nEl baño es funcional y la cocina es amplia pero no muy climatizada...\\nAgradezco al anfitrión que me haya permitido aparcar la bicicleta dentro, porque viajaba a París todas las mañanas.', '¡Un alojamiento fantástico! ¡Guoxi es muy agradable y servicial! ¡No se puede pedir más!', 'El anfitrión es una persona sumamente amable y servicial. La casa está lejos a pie del centro, pero la parada de metro está muy cerca. Estaba extremadamente satisfecho, lo recomiendo encarecidamente si estás buscando alojamiento en París.', '¡Perfecto!', '¡Me encantó el anfitrión y me ayudó mucho!', 'Todo estuvo excelente, no hay nada de que quejarse', 'Todo bien', 'Alojamiento sencillo pero estupendo en París.\\nEl alojamiento está a 5 minutos a pie del metro, lo que hace que sea fácil llegar al centro de la ciudad.\\nEl hostal se limpia a menudo, lo que lo hace sentir limpio y ordenado', 'Una de las mejores opciones para viajes económicos en París.\\nLos compañeros de piso limpios, acogedores y amables, y la ubicación es fantástica.', 'Todo lo mejor, el anfitrión realmente se esforzó por hacer que mi estancia fuera buena berirer de idioma. Pequeño albergue familiar con todas las cosas básicas en una buena ubicación.', 'Alojamiento muy útil para unos cuantos viajeros solitarios que llevan unos días en París. Limpio y cerca del metro. Buen barrio', 'Gracias Guoxi !!!', 'Hola,\\n\\ntodo fue en el buen sentido, recuerdos encantadores. Un gran detalle ayudando en todo. No muy lejos del metro. Gran lugar para alojarse con un presupuesto asequible.', 'Fue una estancia muy agradable, un lugar genial y gente amable... El metro está justo al final de la manzana, fácil acceso a la ciudad'], ['Muy cómodo, sector tranquilo y cercano del metro.', 'Excelente ubicación y excelente trato por el personal. Un lugar muy tranquilo y demasiado cerca del metro', 'El lugar tal como se describe en el anuncio, muy limpio, el wifi no es súper rápido pero funciona bien, todas las áreas correctas, los anfitriones amables, a pesar de no hablar mucho inglés, buscaban la forma de entender', 'Un excelente lugar para pasar la noche, alojarse y conocer Paris. ¡Que genial haber encontrado este lugar!', 'Guoxi estaba bien organizado, era acogedor y atento. La cocina, los baños y los alojamientos para dormir fueron recientemente remodelados y muy funcionales. El espacio del refrigerador era amplio. La falta de detectores de monóxido de carbono NO era importante, ya que todos los electrodomésticos eran eléctricos, y la calefacción central se suministraba a través de la circulación de agua en los radiadores de pared.', 'bonito lugar', 'muy bien , volveré seguro , mercado, metro, todo cerca ... me ayudó mucho porque no hablaba francés ni inglés... gracias amigo Oss', 'Pasé varias noches en casa de Guoxi y aprecié tener un dormitorio solo;)\\nEl baño es funcional y la cocina es amplia pero no muy climatizada...\\nAgradezco al anfitrión que me haya permitido aparcar la bicicleta dentro, porque viajaba a París todas las mañanas.', '¡Un alojamiento fantástico! ¡Guoxi es muy agradable y servicial! ¡No se puede pedir más!', 'El anfitrión es una persona sumamente amable y servicial. La casa está lejos a pie del centro, pero la parada de metro está muy cerca. Estaba extremadamente satisfecho, lo recomiendo encarecidamente si estás buscando alojamiento en París.', '¡Perfecto!', '¡Me encantó el anfitrión y me ayudó mucho!', 'Todo estuvo excelente, no hay nada de que quejarse', 'Todo bien', 'Alojamiento sencillo pero estupendo en París.\\nEl alojamiento está a 5 minutos a pie del metro, lo que hace que sea fácil llegar al centro de la ciudad.\\nEl hostal se limpia a menudo, lo que lo hace sentir limpio y ordenado', 'Una de las mejores opciones para viajes económicos en París.\\nLos compañeros de piso limpios, acogedores y amables, y la ubicación es fantástica.', 'Todo lo mejor, el anfitrión realmente se esforzó por hacer que mi estancia fuera buena berirer de idioma. Pequeño albergue familiar con todas las cosas básicas en una buena ubicación.', 'Alojamiento muy útil para unos cuantos viajeros solitarios que llevan unos días en París. Limpio y cerca del metro. Buen barrio', 'Gracias Guoxi !!!', 'Hola,\\n\\ntodo fue en el buen sentido, recuerdos encantadores. Un gran detalle ayudando en todo. No muy lejos del metro. Gran lugar para alojarse con un presupuesto asequible.', 'Fue una estancia muy agradable, un lugar genial y gente amable... El metro está justo al final de la manzana, fácil acceso a la ciudad'], ['Muy cómodo, sector tranquilo y cercano del metro.', 'Excelente ubicación y excelente trato por el personal. Un lugar muy tranquilo y demasiado cerca del metro', 'El lugar tal como se describe en el anuncio, muy limpio, el wifi no es súper rápido pero funciona bien, todas las áreas correctas, los anfitriones amables, a pesar de no hablar mucho inglés, buscaban la forma de entender', 'Un excelente lugar para pasar la noche, alojarse y conocer Paris. ¡Que genial haber encontrado este lugar!', 'Guoxi estaba bien organizado, era acogedor y atento. La cocina, los baños y los alojamientos para dormir fueron recientemente remodelados y muy funcionales. El espacio del refrigerador era amplio. La falta de detectores de monóxido de carbono NO era importante, ya que todos los electrodomésticos eran eléctricos, y la calefacción central se suministraba a través de la circulación de agua en los radiadores de pared.', 'bonito lugar', 'muy bien , volveré seguro , mercado, metro, todo cerca ... me ayudó mucho porque no hablaba francés ni inglés... gracias amigo Oss', 'Pasé varias noches en casa de Guoxi y aprecié tener un dormitorio solo;)\\nEl baño es funcional y la cocina es amplia pero no muy climatizada...\\nAgradezco al anfitrión que me haya permitido aparcar la bicicleta dentro, porque viajaba a París todas las mañanas.', '¡Un alojamiento fantástico! ¡Guoxi es muy agradable y servicial! ¡No se puede pedir más!', 'El anfitrión es una persona sumamente amable y servicial. La casa está lejos a pie del centro, pero la parada de metro está muy cerca. Estaba extremadamente satisfecho, lo recomiendo encarecidamente si estás buscando alojamiento en París.', '¡Perfecto!', '¡Me encantó el anfitrión y me ayudó mucho!', 'Todo estuvo excelente, no hay nada de que quejarse', 'Todo bien', 'Alojamiento sencillo pero estupendo en París.\\nEl alojamiento está a 5 minutos a pie del metro, lo que hace que sea fácil llegar al centro de la ciudad.\\nEl hostal se limpia a menudo, lo que lo hace sentir limpio y ordenado', 'Una de las mejores opciones para viajes económicos en París.\\nLos compañeros de piso limpios, acogedores y amables, y la ubicación es fantástica.', 'Todo lo mejor, el anfitrión realmente se esforzó por hacer que mi estancia fuera buena berirer de idioma. Pequeño albergue familiar con todas las cosas básicas en una buena ubicación.', 'Alojamiento muy útil para unos cuantos viajeros solitarios que llevan unos días en París. Limpio y cerca del metro. Buen barrio', 'Gracias Guoxi !!!', 'Hola,\\n\\ntodo fue en el buen sentido, recuerdos encantadores. Un gran detalle ayudando en todo. No muy lejos del metro. Gran lugar para alojarse con un presupuesto asequible.', 'Fue una estancia muy agradable, un lugar genial y gente amable... El metro está justo al final de la manzana, fácil acceso a la ciudad'], ['Muy cómodo, sector tranquilo y cercano del metro.', 'Excelente ubicación y excelente trato por el personal. Un lugar muy tranquilo y demasiado cerca del metro', 'El lugar tal como se describe en el anuncio, muy limpio, el wifi no es súper rápido pero funciona bien, todas las áreas correctas, los anfitriones amables, a pesar de no hablar mucho inglés, buscaban la forma de entender', 'Un excelente lugar para pasar la noche, alojarse y conocer Paris. ¡Que genial haber encontrado este lugar!', 'Guoxi estaba bien organizado, era acogedor y atento. La cocina, los baños y los alojamientos para dormir fueron recientemente remodelados y muy funcionales. El espacio del refrigerador era amplio. La falta de detectores de monóxido de carbono NO era importante, ya que todos los electrodomésticos eran eléctricos, y la calefacción central se suministraba a través de la circulación de agua en los radiadores de pared.', 'bonito lugar', 'muy bien , volveré seguro , mercado, metro, todo cerca ... me ayudó mucho porque no hablaba francés ni inglés... gracias amigo Oss', 'Pasé varias noches en casa de Guoxi y aprecié tener un dormitorio solo;)\\nEl baño es funcional y la cocina es amplia pero no muy climatizada...\\nAgradezco al anfitrión que me haya permitido aparcar la bicicleta dentro, porque viajaba a París todas las mañanas.', '¡Un alojamiento fantástico! ¡Guoxi es muy agradable y servicial! ¡No se puede pedir más!', 'El anfitrión es una persona sumamente amable y servicial. La casa está lejos a pie del centro, pero la parada de metro está muy cerca. Estaba extremadamente satisfecho, lo recomiendo encarecidamente si estás buscando alojamiento en París.', '¡Perfecto!', '¡Me encantó el anfitrión y me ayudó mucho!', 'Todo estuvo excelente, no hay nada de que quejarse', 'Todo bien', 'Alojamiento sencillo pero estupendo en París.\\nEl alojamiento está a 5 minutos a pie del metro, lo que hace que sea fácil llegar al centro de la ciudad.\\nEl hostal se limpia a menudo, lo que lo hace sentir limpio y ordenado', 'Una de las mejores opciones para viajes económicos en París.\\nLos compañeros de piso limpios, acogedores y amables, y la ubicación es fantástica.', 'Todo lo mejor, el anfitrión realmente se esforzó por hacer que mi estancia fuera buena berirer de idioma. Pequeño albergue familiar con todas las cosas básicas en una buena ubicación.', 'Alojamiento muy útil para unos cuantos viajeros solitarios que llevan unos días en París. Limpio y cerca del metro. Buen barrio', 'Gracias Guoxi !!!', 'Hola,\\n\\ntodo fue en el buen sentido, recuerdos encantadores. Un gran detalle ayudando en todo. No muy lejos del metro. Gran lugar para alojarse con un presupuesto asequible.', 'Fue una estancia muy agradable, un lugar genial y gente amable... El metro está justo al final de la manzana, fácil acceso a la ciudad'], ['Muy cómodo, sector tranquilo y cercano del metro.', 'Excelente ubicación y excelente trato por el personal. Un lugar muy tranquilo y demasiado cerca del metro', 'El lugar tal como se describe en el anuncio, muy limpio, el wifi no es súper rápido pero funciona bien, todas las áreas correctas, los anfitriones amables, a pesar de no hablar mucho inglés, buscaban la forma de entender', 'Un excelente lugar para pasar la noche, alojarse y conocer Paris. ¡Que genial haber encontrado este lugar!', 'Guoxi estaba bien organizado, era acogedor y atento. La cocina, los baños y los alojamientos para dormir fueron recientemente remodelados y muy funcionales. El espacio del refrigerador era amplio. La falta de detectores de monóxido de carbono NO era importante, ya que todos los electrodomésticos eran eléctricos, y la calefacción central se suministraba a través de la circulación de agua en los radiadores de pared.', 'bonito lugar', 'muy bien , volveré seguro , mercado, metro, todo cerca ... me ayudó mucho porque no hablaba francés ni inglés... gracias amigo Oss', 'Pasé varias noches en casa de Guoxi y aprecié tener un dormitorio solo;)\\nEl baño es funcional y la cocina es amplia pero no muy climatizada...\\nAgradezco al anfitrión que me haya permitido aparcar la bicicleta dentro, porque viajaba a París todas las mañanas.', '¡Un alojamiento fantástico! ¡Guoxi es muy agradable y servicial! ¡No se puede pedir más!', 'El anfitrión es una persona sumamente amable y servicial. La casa está lejos a pie del centro, pero la parada de metro está muy cerca. Estaba extremadamente satisfecho, lo recomiendo encarecidamente si estás buscando alojamiento en París.', '¡Perfecto!', '¡Me encantó el anfitrión y me ayudó mucho!', 'Todo estuvo excelente, no hay nada de que quejarse', 'Todo bien', 'Alojamiento sencillo pero estupendo en París.\\nEl alojamiento está a 5 minutos a pie del metro, lo que hace que sea fácil llegar al centro de la ciudad.\\nEl hostal se limpia a menudo, lo que lo hace sentir limpio y ordenado', 'Una de las mejores opciones para viajes económicos en París.\\nLos compañeros de piso limpios, acogedores y amables, y la ubicación es fantástica.', 'Todo lo mejor, el anfitrión realmente se esforzó por hacer que mi estancia fuera buena berirer de idioma. Pequeño albergue familiar con todas las cosas básicas en una buena ubicación.', 'Alojamiento muy útil para unos cuantos viajeros solitarios que llevan unos días en París. Limpio y cerca del metro. Buen barrio', 'Gracias Guoxi !!!', 'Hola,\\n\\ntodo fue en el buen sentido, recuerdos encantadores. Un gran detalle ayudando en todo. No muy lejos del metro. Gran lugar para alojarse con un presupuesto asequible.', 'Fue una estancia muy agradable, un lugar genial y gente amable... El metro está justo al final de la manzana, fácil acceso a la ciudad'], ['Muy cómodo, sector tranquilo y cercano del metro.', 'Excelente ubicación y excelente trato por el personal. Un lugar muy tranquilo y demasiado cerca del metro', 'El lugar tal como se describe en el anuncio, muy limpio, el wifi no es súper rápido pero funciona bien, todas las áreas correctas, los anfitriones amables, a pesar de no hablar mucho inglés, buscaban la forma de entender', 'Un excelente lugar para pasar la noche, alojarse y conocer Paris. ¡Que genial haber encontrado este lugar!', 'Guoxi estaba bien organizado, era acogedor y atento. La cocina, los baños y los alojamientos para dormir fueron recientemente remodelados y muy funcionales. El espacio del refrigerador era amplio. La falta de detectores de monóxido de carbono NO era importante, ya que todos los electrodomésticos eran eléctricos, y la calefacción central se suministraba a través de la circulación de agua en los radiadores de pared.', 'bonito lugar', 'muy bien , volveré seguro , mercado, metro, todo cerca ... me ayudó mucho porque no hablaba francés ni inglés... gracias amigo Oss', 'Pasé varias noches en casa de Guoxi y aprecié tener un dormitorio solo;)\\nEl baño es funcional y la cocina es amplia pero no muy climatizada...\\nAgradezco al anfitrión que me haya permitido aparcar la bicicleta dentro, porque viajaba a París todas las mañanas.', '¡Un alojamiento fantástico! ¡Guoxi es muy agradable y servicial! ¡No se puede pedir más!', 'El anfitrión es una persona sumamente amable y servicial. La casa está lejos a pie del centro, pero la parada de metro está muy cerca. Estaba extremadamente satisfecho, lo recomiendo encarecidamente si estás buscando alojamiento en París.', '¡Perfecto!', '¡Me encantó el anfitrión y me ayudó mucho!', 'Todo estuvo excelente, no hay nada de que quejarse', 'Todo bien', 'Alojamiento sencillo pero estupendo en París.\\nEl alojamiento está a 5 minutos a pie del metro, lo que hace que sea fácil llegar al centro de la ciudad.\\nEl hostal se limpia a menudo, lo que lo hace sentir limpio y ordenado', 'Una de las mejores opciones para viajes económicos en París.\\nLos compañeros de piso limpios, acogedores y amables, y la ubicación es fantástica.', 'Todo lo mejor, el anfitrión realmente se esforzó por hacer que mi estancia fuera buena berirer de idioma. Pequeño albergue familiar con todas las cosas básicas en una buena ubicación.', 'Alojamiento muy útil para unos cuantos viajeros solitarios que llevan unos días en París. Limpio y cerca del metro. Buen barrio', 'Gracias Guoxi !!!', 'Hola,\\n\\ntodo fue en el buen sentido, recuerdos encantadores. Un gran detalle ayudando en todo. No muy lejos del metro. Gran lugar para alojarse con un presupuesto asequible.', 'Fue una estancia muy agradable, un lugar genial y gente amable... El metro está justo al final de la manzana, fácil acceso a la ciudad'], ['Muy cómodo, sector tranquilo y cercano del metro.', 'Excelente ubicación y excelente trato por el personal. Un lugar muy tranquilo y demasiado cerca del metro', 'El lugar tal como se describe en el anuncio, muy limpio, el wifi no es súper rápido pero funciona bien, todas las áreas correctas, los anfitriones amables, a pesar de no hablar mucho inglés, buscaban la forma de entender', 'Un excelente lugar para pasar la noche, alojarse y conocer Paris. ¡Que genial haber encontrado este lugar!', 'Guoxi estaba bien organizado, era acogedor y atento. La cocina, los baños y los alojamientos para dormir fueron recientemente remodelados y muy funcionales. El espacio del refrigerador era amplio. La falta de detectores de monóxido de carbono NO era importante, ya que todos los electrodomésticos eran eléctricos, y la calefacción central se suministraba a través de la circulación de agua en los radiadores de pared.', 'bonito lugar', 'muy bien , volveré seguro , mercado, metro, todo cerca ... me ayudó mucho porque no hablaba francés ni inglés... gracias amigo Oss', 'Pasé varias noches en casa de Guoxi y aprecié tener un dormitorio solo;)\\nEl baño es funcional y la cocina es amplia pero no muy climatizada...\\nAgradezco al anfitrión que me haya permitido aparcar la bicicleta dentro, porque viajaba a París todas las mañanas.', '¡Un alojamiento fantástico! ¡Guoxi es muy agradable y servicial! ¡No se puede pedir más!', 'El anfitrión es una persona sumamente amable y servicial. La casa está lejos a pie del centro, pero la parada de metro está muy cerca. Estaba extremadamente satisfecho, lo recomiendo encarecidamente si estás buscando alojamiento en París.', '¡Perfecto!', '¡Me encantó el anfitrión y me ayudó mucho!', 'Todo estuvo excelente, no hay nada de que quejarse', 'Todo bien', 'Alojamiento sencillo pero estupendo en París.\\nEl alojamiento está a 5 minutos a pie del metro, lo que hace que sea fácil llegar al centro de la ciudad.\\nEl hostal se limpia a menudo, lo que lo hace sentir limpio y ordenado', 'Una de las mejores opciones para viajes económicos en París.\\nLos compañeros de piso limpios, acogedores y amables, y la ubicación es fantástica.', 'Todo lo mejor, el anfitrión realmente se esforzó por hacer que mi estancia fuera buena berirer de idioma. Pequeño albergue familiar con todas las cosas básicas en una buena ubicación.', 'Alojamiento muy útil para unos cuantos viajeros solitarios que llevan unos días en París. Limpio y cerca del metro. Buen barrio', 'Gracias Guoxi !!!', 'Hola,\\n\\ntodo fue en el buen sentido, recuerdos encantadores. Un gran detalle ayudando en todo. No muy lejos del metro. Gran lugar para alojarse con un presupuesto asequible.', 'Fue una estancia muy agradable, un lugar genial y gente amable... El metro está justo al final de la manzana, fácil acceso a la ciudad'], ['Muy cómodo, sector tranquilo y cercano del metro.', 'Excelente ubicación y excelente trato por el personal. Un lugar muy tranquilo y demasiado cerca del metro', 'El lugar tal como se describe en el anuncio, muy limpio, el wifi no es súper rápido pero funciona bien, todas las áreas correctas, los anfitriones amables, a pesar de no hablar mucho inglés, buscaban la forma de entender', 'Un excelente lugar para pasar la noche, alojarse y conocer Paris. ¡Que genial haber encontrado este lugar!', 'Guoxi estaba bien organizado, era acogedor y atento. La cocina, los baños y los alojamientos para dormir fueron recientemente remodelados y muy funcionales. El espacio del refrigerador era amplio. La falta de detectores de monóxido de carbono NO era importante, ya que todos los electrodomésticos eran eléctricos, y la calefacción central se suministraba a través de la circulación de agua en los radiadores de pared.', 'bonito lugar', 'muy bien , volveré seguro , mercado, metro, todo cerca ... me ayudó mucho porque no hablaba francés ni inglés... gracias amigo Oss', 'Pasé varias noches en casa de Guoxi y aprecié tener un dormitorio solo;)\\nEl baño es funcional y la cocina es amplia pero no muy climatizada...\\nAgradezco al anfitrión que me haya permitido aparcar la bicicleta dentro, porque viajaba a París todas las mañanas.', '¡Un alojamiento fantástico! ¡Guoxi es muy agradable y servicial! ¡No se puede pedir más!', 'El anfitrión es una persona sumamente amable y servicial. La casa está lejos a pie del centro, pero la parada de metro está muy cerca. Estaba extremadamente satisfecho, lo recomiendo encarecidamente si estás buscando alojamiento en París.', '¡Perfecto!', '¡Me encantó el anfitrión y me ayudó mucho!', 'Todo estuvo excelente, no hay nada de que quejarse', 'Todo bien', 'Alojamiento sencillo pero estupendo en París.\\nEl alojamiento está a 5 minutos a pie del metro, lo que hace que sea fácil llegar al centro de la ciudad.\\nEl hostal se limpia a menudo, lo que lo hace sentir limpio y ordenado', 'Una de las mejores opciones para viajes económicos en París.\\nLos compañeros de piso limpios, acogedores y amables, y la ubicación es fantástica.', 'Todo lo mejor, el anfitrión realmente se esforzó por hacer que mi estancia fuera buena berirer de idioma. Pequeño albergue familiar con todas las cosas básicas en una buena ubicación.', 'Alojamiento muy útil para unos cuantos viajeros solitarios que llevan unos días en París. Limpio y cerca del metro. Buen barrio', 'Gracias Guoxi !!!', 'Hola,\\n\\ntodo fue en el buen sentido, recuerdos encantadores. Un gran detalle ayudando en todo. No muy lejos del metro. Gran lugar para alojarse con un presupuesto asequible.', 'Fue una estancia muy agradable, un lugar genial y gente amable... El metro está justo al final de la manzana, fácil acceso a la ciudad'], ['Muy cómodo, sector tranquilo y cercano del metro.', 'Excelente ubicación y excelente trato por el personal. Un lugar muy tranquilo y demasiado cerca del metro', 'El lugar tal como se describe en el anuncio, muy limpio, el wifi no es súper rápido pero funciona bien, todas las áreas correctas, los anfitriones amables, a pesar de no hablar mucho inglés, buscaban la forma de entender', 'Un excelente lugar para pasar la noche, alojarse y conocer Paris. ¡Que genial haber encontrado este lugar!', 'Guoxi estaba bien organizado, era acogedor y atento. La cocina, los baños y los alojamientos para dormir fueron recientemente remodelados y muy funcionales. El espacio del refrigerador era amplio. La falta de detectores de monóxido de carbono NO era importante, ya que todos los electrodomésticos eran eléctricos, y la calefacción central se suministraba a través de la circulación de agua en los radiadores de pared.', 'bonito lugar', 'muy bien , volveré seguro , mercado, metro, todo cerca ... me ayudó mucho porque no hablaba francés ni inglés... gracias amigo Oss', 'Pasé varias noches en casa de Guoxi y aprecié tener un dormitorio solo;)\\nEl baño es funcional y la cocina es amplia pero no muy climatizada...\\nAgradezco al anfitrión que me haya permitido aparcar la bicicleta dentro, porque viajaba a París todas las mañanas.', '¡Un alojamiento fantástico! ¡Guoxi es muy agradable y servicial! ¡No se puede pedir más!', 'El anfitrión es una persona sumamente amable y servicial. La casa está lejos a pie del centro, pero la parada de metro está muy cerca. Estaba extremadamente satisfecho, lo recomiendo encarecidamente si estás buscando alojamiento en París.', '¡Perfecto!', '¡Me encantó el anfitrión y me ayudó mucho!', 'Todo estuvo excelente, no hay nada de que quejarse', 'Todo bien', 'Alojamiento sencillo pero estupendo en París.\\nEl alojamiento está a 5 minutos a pie del metro, lo que hace que sea fácil llegar al centro de la ciudad.\\nEl hostal se limpia a menudo, lo que lo hace sentir limpio y ordenado', 'Una de las mejores opciones para viajes económicos en París.\\nLos compañeros de piso limpios, acogedores y amables, y la ubicación es fantástica.', 'Todo lo mejor, el anfitrión realmente se esforzó por hacer que mi estancia fuera buena berirer de idioma. Pequeño albergue familiar con todas las cosas básicas en una buena ubicación.', 'Alojamiento muy útil para unos cuantos viajeros solitarios que llevan unos días en París. Limpio y cerca del metro. Buen barrio', 'Gracias Guoxi !!!', 'Hola,\\n\\ntodo fue en el buen sentido, recuerdos encantadores. Un gran detalle ayudando en todo. No muy lejos del metro. Gran lugar para alojarse con un presupuesto asequible.', 'Fue una estancia muy agradable, un lugar genial y gente amable... El metro está justo al final de la manzana, fácil acceso a la ciudad'], ['Muy cómodo, sector tranquilo y cercano del metro.', 'Excelente ubicación y excelente trato por el personal. Un lugar muy tranquilo y demasiado cerca del metro', 'El lugar tal como se describe en el anuncio, muy limpio, el wifi no es súper rápido pero funciona bien, todas las áreas correctas, los anfitriones amables, a pesar de no hablar mucho inglés, buscaban la forma de entender', 'Un excelente lugar para pasar la noche, alojarse y conocer Paris. ¡Que genial haber encontrado este lugar!', 'Guoxi estaba bien organizado, era acogedor y atento. La cocina, los baños y los alojamientos para dormir fueron recientemente remodelados y muy funcionales. El espacio del refrigerador era amplio. La falta de detectores de monóxido de carbono NO era importante, ya que todos los electrodomésticos eran eléctricos, y la calefacción central se suministraba a través de la circulación de agua en los radiadores de pared.', 'bonito lugar', 'muy bien , volveré seguro , mercado, metro, todo cerca ... me ayudó mucho porque no hablaba francés ni inglés... gracias amigo Oss', 'Pasé varias noches en casa de Guoxi y aprecié tener un dormitorio solo;)\\nEl baño es funcional y la cocina es amplia pero no muy climatizada...\\nAgradezco al anfitrión que me haya permitido aparcar la bicicleta dentro, porque viajaba a París todas las mañanas.', '¡Un alojamiento fantástico! ¡Guoxi es muy agradable y servicial! ¡No se puede pedir más!', 'El anfitrión es una persona sumamente amable y servicial. La casa está lejos a pie del centro, pero la parada de metro está muy cerca. Estaba extremadamente satisfecho, lo recomiendo encarecidamente si estás buscando alojamiento en París.', '¡Perfecto!', '¡Me encantó el anfitrión y me ayudó mucho!', 'Todo estuvo excelente, no hay nada de que quejarse', 'Todo bien', 'Alojamiento sencillo pero estupendo en París.\\nEl alojamiento está a 5 minutos a pie del metro, lo que hace que sea fácil llegar al centro de la ciudad.\\nEl hostal se limpia a menudo, lo que lo hace sentir limpio y ordenado', 'Una de las mejores opciones para viajes económicos en París.\\nLos compañeros de piso limpios, acogedores y amables, y la ubicación es fantástica.', 'Todo lo mejor, el anfitrión realmente se esforzó por hacer que mi estancia fuera buena berirer de idioma. Pequeño albergue familiar con todas las cosas básicas en una buena ubicación.', 'Alojamiento muy útil para unos cuantos viajeros solitarios que llevan unos días en París. Limpio y cerca del metro. Buen barrio', 'Gracias Guoxi !!!', 'Hola,\\n\\ntodo fue en el buen sentido, recuerdos encantadores. Un gran detalle ayudando en todo. No muy lejos del metro. Gran lugar para alojarse con un presupuesto asequible.', 'Fue una estancia muy agradable, un lugar genial y gente amable... El metro está justo al final de la manzana, fácil acceso a la ciudad'], ['Muy cómodo, sector tranquilo y cercano del metro.', 'Excelente ubicación y excelente trato por el personal. Un lugar muy tranquilo y demasiado cerca del metro', 'El lugar tal como se describe en el anuncio, muy limpio, el wifi no es súper rápido pero funciona bien, todas las áreas correctas, los anfitriones amables, a pesar de no hablar mucho inglés, buscaban la forma de entender', 'Un excelente lugar para pasar la noche, alojarse y conocer Paris. ¡Que genial haber encontrado este lugar!', 'Guoxi estaba bien organizado, era acogedor y atento. La cocina, los baños y los alojamientos para dormir fueron recientemente remodelados y muy funcionales. El espacio del refrigerador era amplio. La falta de detectores de monóxido de carbono NO era importante, ya que todos los electrodomésticos eran eléctricos, y la calefacción central se suministraba a través de la circulación de agua en los radiadores de pared.', 'bonito lugar', 'muy bien , volveré seguro , mercado, metro, todo cerca ... me ayudó mucho porque no hablaba francés ni inglés... gracias amigo Oss', 'Pasé varias noches en casa de Guoxi y aprecié tener un dormitorio solo;)\\nEl baño es funcional y la cocina es amplia pero no muy climatizada...\\nAgradezco al anfitrión que me haya permitido aparcar la bicicleta dentro, porque viajaba a París todas las mañanas.', '¡Un alojamiento fantástico! ¡Guoxi es muy agradable y servicial! ¡No se puede pedir más!', 'El anfitrión es una persona sumamente amable y servicial. La casa está lejos a pie del centro, pero la parada de metro está muy cerca. Estaba extremadamente satisfecho, lo recomiendo encarecidamente si estás buscando alojamiento en París.', '¡Perfecto!', '¡Me encantó el anfitrión y me ayudó mucho!', 'Todo estuvo excelente, no hay nada de que quejarse', 'Todo bien', 'Alojamiento sencillo pero estupendo en París.\\nEl alojamiento está a 5 minutos a pie del metro, lo que hace que sea fácil llegar al centro de la ciudad.\\nEl hostal se limpia a menudo, lo que lo hace sentir limpio y ordenado', 'Una de las mejores opciones para viajes económicos en París.\\nLos compañeros de piso limpios, acogedores y amables, y la ubicación es fantástica.', 'Todo lo mejor, el anfitrión realmente se esforzó por hacer que mi estancia fuera buena berirer de idioma. Pequeño albergue familiar con todas las cosas básicas en una buena ubicación.', 'Alojamiento muy útil para unos cuantos viajeros solitarios que llevan unos días en París. Limpio y cerca del metro. Buen barrio', 'Gracias Guoxi !!!', 'Hola,\\n\\ntodo fue en el buen sentido, recuerdos encantadores. Un gran detalle ayudando en todo. No muy lejos del metro. Gran lugar para alojarse con un presupuesto asequible.', 'Fue una estancia muy agradable, un lugar genial y gente amable... El metro está justo al final de la manzana, fácil acceso a la ciudad'], ['Muy cómodo, sector tranquilo y cercano del metro.', 'Excelente ubicación y excelente trato por el personal. Un lugar muy tranquilo y demasiado cerca del metro', 'El lugar tal como se describe en el anuncio, muy limpio, el wifi no es súper rápido pero funciona bien, todas las áreas correctas, los anfitriones amables, a pesar de no hablar mucho inglés, buscaban la forma de entender', 'Un excelente lugar para pasar la noche, alojarse y conocer Paris. ¡Que genial haber encontrado este lugar!', 'Guoxi estaba bien organizado, era acogedor y atento. La cocina, los baños y los alojamientos para dormir fueron recientemente remodelados y muy funcionales. El espacio del refrigerador era amplio. La falta de detectores de monóxido de carbono NO era importante, ya que todos los electrodomésticos eran eléctricos, y la calefacción central se suministraba a través de la circulación de agua en los radiadores de pared.', 'bonito lugar', 'muy bien , volveré seguro , mercado, metro, todo cerca ... me ayudó mucho porque no hablaba francés ni inglés... gracias amigo Oss', 'Pasé varias noches en casa de Guoxi y aprecié tener un dormitorio solo;)\\nEl baño es funcional y la cocina es amplia pero no muy climatizada...\\nAgradezco al anfitrión que me haya permitido aparcar la bicicleta dentro, porque viajaba a París todas las mañanas.', '¡Un alojamiento fantástico! ¡Guoxi es muy agradable y servicial! ¡No se puede pedir más!', 'El anfitrión es una persona sumamente amable y servicial. La casa está lejos a pie del centro, pero la parada de metro está muy cerca. Estaba extremadamente satisfecho, lo recomiendo encarecidamente si estás buscando alojamiento en París.', '¡Perfecto!', '¡Me encantó el anfitrión y me ayudó mucho!', 'Todo estuvo excelente, no hay nada de que quejarse', 'Todo bien', 'Alojamiento sencillo pero estupendo en París.\\nEl alojamiento está a 5 minutos a pie del metro, lo que hace que sea fácil llegar al centro de la ciudad.\\nEl hostal se limpia a menudo, lo que lo hace sentir limpio y ordenado', 'Una de las mejores opciones para viajes económicos en París.\\nLos compañeros de piso limpios, acogedores y amables, y la ubicación es fantástica.', 'Todo lo mejor, el anfitrión realmente se esforzó por hacer que mi estancia fuera buena berirer de idioma. Pequeño albergue familiar con todas las cosas básicas en una buena ubicación.', 'Alojamiento muy útil para unos cuantos viajeros solitarios que llevan unos días en París. Limpio y cerca del metro. Buen barrio', 'Gracias Guoxi !!!', 'Hola,\\n\\ntodo fue en el buen sentido, recuerdos encantadores. Un gran detalle ayudando en todo. No muy lejos del metro. Gran lugar para alojarse con un presupuesto asequible.', 'Fue una estancia muy agradable, un lugar genial y gente amable... El metro está justo al final de la manzana, fácil acceso a la ciudad'], ['Muy cómodo, sector tranquilo y cercano del metro.', 'Excelente ubicación y excelente trato por el personal. Un lugar muy tranquilo y demasiado cerca del metro', 'El lugar tal como se describe en el anuncio, muy limpio, el wifi no es súper rápido pero funciona bien, todas las áreas correctas, los anfitriones amables, a pesar de no hablar mucho inglés, buscaban la forma de entender', 'Un excelente lugar para pasar la noche, alojarse y conocer Paris. ¡Que genial haber encontrado este lugar!', 'Guoxi estaba bien organizado, era acogedor y atento. La cocina, los baños y los alojamientos para dormir fueron recientemente remodelados y muy funcionales. El espacio del refrigerador era amplio. La falta de detectores de monóxido de carbono NO era importante, ya que todos los electrodomésticos eran eléctricos, y la calefacción central se suministraba a través de la circulación de agua en los radiadores de pared.', 'bonito lugar', 'muy bien , volveré seguro , mercado, metro, todo cerca ... me ayudó mucho porque no hablaba francés ni inglés... gracias amigo Oss', 'Pasé varias noches en casa de Guoxi y aprecié tener un dormitorio solo;)\\nEl baño es funcional y la cocina es amplia pero no muy climatizada...\\nAgradezco al anfitrión que me haya permitido aparcar la bicicleta dentro, porque viajaba a París todas las mañanas.', '¡Un alojamiento fantástico! ¡Guoxi es muy agradable y servicial! ¡No se puede pedir más!', 'El anfitrión es una persona sumamente amable y servicial. La casa está lejos a pie del centro, pero la parada de metro está muy cerca. Estaba extremadamente satisfecho, lo recomiendo encarecidamente si estás buscando alojamiento en París.', '¡Perfecto!', '¡Me encantó el anfitrión y me ayudó mucho!', 'Todo estuvo excelente, no hay nada de que quejarse', 'Todo bien', 'Alojamiento sencillo pero estupendo en París.\\nEl alojamiento está a 5 minutos a pie del metro, lo que hace que sea fácil llegar al centro de la ciudad.\\nEl hostal se limpia a menudo, lo que lo hace sentir limpio y ordenado', 'Una de las mejores opciones para viajes económicos en París.\\nLos compañeros de piso limpios, acogedores y amables, y la ubicación es fantástica.', 'Todo lo mejor, el anfitrión realmente se esforzó por hacer que mi estancia fuera buena berirer de idioma. Pequeño albergue familiar con todas las cosas básicas en una buena ubicación.', 'Alojamiento muy útil para unos cuantos viajeros solitarios que llevan unos días en París. Limpio y cerca del metro. Buen barrio', 'Gracias Guoxi !!!', 'Hola,\\n\\ntodo fue en el buen sentido, recuerdos encantadores. Un gran detalle ayudando en todo. No muy lejos del metro. Gran lugar para alojarse con un presupuesto asequible.', 'Fue una estancia muy agradable, un lugar genial y gente amable... El metro está justo al final de la manzana, fácil acceso a la ciudad'], ['Muy cómodo, sector tranquilo y cercano del metro.', 'Excelente ubicación y excelente trato por el personal. Un lugar muy tranquilo y demasiado cerca del metro', 'El lugar tal como se describe en el anuncio, muy limpio, el wifi no es súper rápido pero funciona bien, todas las áreas correctas, los anfitriones amables, a pesar de no hablar mucho inglés, buscaban la forma de entender', 'Un excelente lugar para pasar la noche, alojarse y conocer Paris. ¡Que genial haber encontrado este lugar!', 'Guoxi estaba bien organizado, era acogedor y atento. La cocina, los baños y los alojamientos para dormir fueron recientemente remodelados y muy funcionales. El espacio del refrigerador era amplio. La falta de detectores de monóxido de carbono NO era importante, ya que todos los electrodomésticos eran eléctricos, y la calefacción central se suministraba a través de la circulación de agua en los radiadores de pared.', 'bonito lugar', 'muy bien , volveré seguro , mercado, metro, todo cerca ... me ayudó mucho porque no hablaba francés ni inglés... gracias amigo Oss', 'Pasé varias noches en casa de Guoxi y aprecié tener un dormitorio solo;)\\nEl baño es funcional y la cocina es amplia pero no muy climatizada...\\nAgradezco al anfitrión que me haya permitido aparcar la bicicleta dentro, porque viajaba a París todas las mañanas.', '¡Un alojamiento fantástico! ¡Guoxi es muy agradable y servicial! ¡No se puede pedir más!', 'El anfitrión es una persona sumamente amable y servicial. La casa está lejos a pie del centro, pero la parada de metro está muy cerca. Estaba extremadamente satisfecho, lo recomiendo encarecidamente si estás buscando alojamiento en París.', '¡Perfecto!', '¡Me encantó el anfitrión y me ayudó mucho!', 'Todo estuvo excelente, no hay nada de que quejarse', 'Todo bien', 'Alojamiento sencillo pero estupendo en París.\\nEl alojamiento está a 5 minutos a pie del metro, lo que hace que sea fácil llegar al centro de la ciudad.\\nEl hostal se limpia a menudo, lo que lo hace sentir limpio y ordenado', 'Una de las mejores opciones para viajes económicos en París.\\nLos compañeros de piso limpios, acogedores y amables, y la ubicación es fantástica.', 'Todo lo mejor, el anfitrión realmente se esforzó por hacer que mi estancia fuera buena berirer de idioma. Pequeño albergue familiar con todas las cosas básicas en una buena ubicación.', 'Alojamiento muy útil para unos cuantos viajeros solitarios que llevan unos días en París. Limpio y cerca del metro. Buen barrio', 'Gracias Guoxi !!!', 'Hola,\\n\\ntodo fue en el buen sentido, recuerdos encantadores. Un gran detalle ayudando en todo. No muy lejos del metro. Gran lugar para alojarse con un presupuesto asequible.', 'Fue una estancia muy agradable, un lugar genial y gente amable... El metro está justo al final de la manzana, fácil acceso a la ciudad'], ['Muy cómodo, sector tranquilo y cercano del metro.', 'Excelente ubicación y excelente trato por el personal. Un lugar muy tranquilo y demasiado cerca del metro', 'El lugar tal como se describe en el anuncio, muy limpio, el wifi no es súper rápido pero funciona bien, todas las áreas correctas, los anfitriones amables, a pesar de no hablar mucho inglés, buscaban la forma de entender', 'Un excelente lugar para pasar la noche, alojarse y conocer Paris. ¡Que genial haber encontrado este lugar!', 'Guoxi estaba bien organizado, era acogedor y atento. La cocina, los baños y los alojamientos para dormir fueron recientemente remodelados y muy funcionales. El espacio del refrigerador era amplio. La falta de detectores de monóxido de carbono NO era importante, ya que todos los electrodomésticos eran eléctricos, y la calefacción central se suministraba a través de la circulación de agua en los radiadores de pared.', 'bonito lugar', 'muy bien , volveré seguro , mercado, metro, todo cerca ... me ayudó mucho porque no hablaba francés ni inglés... gracias amigo Oss', 'Pasé varias noches en casa de Guoxi y aprecié tener un dormitorio solo;)\\nEl baño es funcional y la cocina es amplia pero no muy climatizada...\\nAgradezco al anfitrión que me haya permitido aparcar la bicicleta dentro, porque viajaba a París todas las mañanas.', '¡Un alojamiento fantástico! ¡Guoxi es muy agradable y servicial! ¡No se puede pedir más!', 'El anfitrión es una persona sumamente amable y servicial. La casa está lejos a pie del centro, pero la parada de metro está muy cerca. Estaba extremadamente satisfecho, lo recomiendo encarecidamente si estás buscando alojamiento en París.', '¡Perfecto!', '¡Me encantó el anfitrión y me ayudó mucho!', 'Todo estuvo excelente, no hay nada de que quejarse', 'Todo bien', 'Alojamiento sencillo pero estupendo en París.\\nEl alojamiento está a 5 minutos a pie del metro, lo que hace que sea fácil llegar al centro de la ciudad.\\nEl hostal se limpia a menudo, lo que lo hace sentir limpio y ordenado', 'Una de las mejores opciones para viajes económicos en París.\\nLos compañeros de piso limpios, acogedores y amables, y la ubicación es fantástica.', 'Todo lo mejor, el anfitrión realmente se esforzó por hacer que mi estancia fuera buena berirer de idioma. Pequeño albergue familiar con todas las cosas básicas en una buena ubicación.', 'Alojamiento muy útil para unos cuantos viajeros solitarios que llevan unos días en París. Limpio y cerca del metro. Buen barrio', 'Gracias Guoxi !!!', 'Hola,\\n\\ntodo fue en el buen sentido, recuerdos encantadores. Un gran detalle ayudando en todo. No muy lejos del metro. Gran lugar para alojarse con un presupuesto asequible.', 'Fue una estancia muy agradable, un lugar genial y gente amable... El metro está justo al final de la manzana, fácil acceso a la ciudad'], ['Muy cómodo, sector tranquilo y cercano del metro.', 'Excelente ubicación y excelente trato por el personal. Un lugar muy tranquilo y demasiado cerca del metro', 'El lugar tal como se describe en el anuncio, muy limpio, el wifi no es súper rápido pero funciona bien, todas las áreas correctas, los anfitriones amables, a pesar de no hablar mucho inglés, buscaban la forma de entender', 'Un excelente lugar para pasar la noche, alojarse y conocer Paris. ¡Que genial haber encontrado este lugar!', 'Guoxi estaba bien organizado, era acogedor y atento. La cocina, los baños y los alojamientos para dormir fueron recientemente remodelados y muy funcionales. El espacio del refrigerador era amplio. La falta de detectores de monóxido de carbono NO era importante, ya que todos los electrodomésticos eran eléctricos, y la calefacción central se suministraba a través de la circulación de agua en los radiadores de pared.', 'bonito lugar', 'muy bien , volveré seguro , mercado, metro, todo cerca ... me ayudó mucho porque no hablaba francés ni inglés... gracias amigo Oss', 'Pasé varias noches en casa de Guoxi y aprecié tener un dormitorio solo;)\\nEl baño es funcional y la cocina es amplia pero no muy climatizada...\\nAgradezco al anfitrión que me haya permitido aparcar la bicicleta dentro, porque viajaba a París todas las mañanas.', '¡Un alojamiento fantástico! ¡Guoxi es muy agradable y servicial! ¡No se puede pedir más!', 'El anfitrión es una persona sumamente amable y servicial. La casa está lejos a pie del centro, pero la parada de metro está muy cerca. Estaba extremadamente satisfecho, lo recomiendo encarecidamente si estás buscando alojamiento en París.', '¡Perfecto!', '¡Me encantó el anfitrión y me ayudó mucho!', 'Todo estuvo excelente, no hay nada de que quejarse', 'Todo bien', 'Alojamiento sencillo pero estupendo en París.\\nEl alojamiento está a 5 minutos a pie del metro, lo que hace que sea fácil llegar al centro de la ciudad.\\nEl hostal se limpia a menudo, lo que lo hace sentir limpio y ordenado', 'Una de las mejores opciones para viajes económicos en París.\\nLos compañeros de piso limpios, acogedores y amables, y la ubicación es fantástica.', 'Todo lo mejor, el anfitrión realmente se esforzó por hacer que mi estancia fuera buena berirer de idioma. Pequeño albergue familiar con todas las cosas básicas en una buena ubicación.', 'Alojamiento muy útil para unos cuantos viajeros solitarios que llevan unos días en París. Limpio y cerca del metro. Buen barrio', 'Gracias Guoxi !!!', 'Hola,\\n\\ntodo fue en el buen sentido, recuerdos encantadores. Un gran detalle ayudando en todo. No muy lejos del metro. Gran lugar para alojarse con un presupuesto asequible.', 'Fue una estancia muy agradable, un lugar genial y gente amable... El metro está justo al final de la manzana, fácil acceso a la ciudad']]   \n",
       "1  [['Cumple con lo que dice la reseña, julien atento, e intenta comunicarse contigo.', 'Esta super cerca de la estación, a 5 min. Está línea te lleva al Sacré cœur. Julian es super amable, se esfuerza mucho porque la gente se sienta cómoda. Es una gran persona.', 'El anfitrión siempre está atento en todo momento. la habitación está ubicada a pocos metros de la línea 12 que te deja en el centro de París. totalmente recomendado.', 'Durante mi estancia Julien estuvo muy atento y amable. Me ayudo cuando tuve un problema con mi celular, fue muy servicial. El lugar está muy cercano a la estación del metro y me fue muy fácil usarlo, definitivamente lo recomiendo.', 'muy agradable la estancia! el cuarto muy cómodo y el anfitrión muy amable y servicial, 10/10', 'habitación amplia y cómoda. Julian es muy amable y dispuesto a ayudar', 'El anfitrión es una persona muy amable y alegre. trata de adaptarse a las necesidades de los huéspedes y es de cconfiar.\\nLa zona no es muy cómoda realmente y sobre todo porque está en la zona 3.', 'Perfecto, con una ubicación excelente para pasar tus dias en paris', 'Julien es una persona súper atenta y dispuesta ayudarte con todo lo que necesites. Me hospedé dos noches solamente, pero todo fue perfecto.', 'Es un buen sitio para hospedarse, super recomendado', 'Muy buen lugar, buena ubicación y está bien cuidado', 'El alojamiento está bien y es cómodo. Solo les recomiendo a los futuros huéspedes que si tienen problemas para conciliar el sueño, lleven tapones para los oídos. Las habitaciones dan a una calle transitada y hay bastante ruido', 'El departamento de Julien es tal y como se muestra en las fotos, muy limpio todo y agradable. Julien super atento, me envió incluso imagen de las estaciones del tren para que me ubicara mejor, quedo muy agradecida por su hospitalidad. Definitivamente lo recomiendo.', 'Un lugar cercano y accesible para conocer París.', 'Todo increíblemente bien llegaría las veces que fueran necesarias es el mejor AirBNB que he llegado', 'Simplemente un anfitrión de excelencia, me sorprendió con su amabilidad, los servicios en su alojamiento totalmente limpios y accesibles en todo momento.\\nJulien siempre preocupado por qué estemos a gusto y no necesitemos nada.\\nMe volvería a quedar en su alojamiento sin pensarlo, cuando regrese a París!!', 'Mi experiencia en el alojamiento de Julien fue increíble. Me quedé un mes completo y tuve la posibilidad de conocer una gran persona. Julien es muy servicial, siempre se preocupa por como estas. Realmente me hizo sentir como si estuviera en mi casa. Sin dudar volvería a su casa si tengo que volver a París y lo recomiendo con los ojos cerrados.', 'Excelente lugar. Muy buena atención de Julien, es amable y se preocupa de los huéspedes.', 'Todo perfecto, la desventaja es que esta un poco lejos de paris, pero en el (RER) está muy fácil de llagar', 'El departamento de Julien es muy agradable, lleno de detalles y muy limpio. El entorno urbano es un poco bullicioso en las noches y la estacion de trenes está a unas siete cuadras.\\nEs un lugar muy recomendable, a buen precio y con un excelente anfitrión.', 'es un gran anfitrión, todo limpio y un barrio muy tranquilo', 'Está muy cómodo, limpio y julien es muy amigable y atento. Recomendado', 'El lugar esta muy limpio y ordenado, el único problema es que tienes que caminar 10 minutos hasta la estación del tren', 'El lugar es limpio, con buena calefacción y luminoso. Realmente cómodo.\\nSe encuentra a unos 15 minutos del centro de París en tren. La estación está a unas seis cuadras del alojamiento.\\nJulien es muy amable.\\nRecomiendo el lugar.', 'A 40 minutos del centro en cercanías (RER), anfitrión muy atento. También cerca de Le Bourget.', 'Julien es un un gran chico, muy atentos, siempre está atento a que requieres, se comunica por el móvil, para saber que esté bien, te orienta para dònde y como irte, te busca opciones, es maravillosa persona, muy limpio, respetuoso y comunicativo, tiene muchos detalles con su huésped, la zona es popular, pero también conoces un Paris más real no sólo turístico, hay metro cerca que te lleva al centro, yo me la pase increíble y volvería, gracias Julien .', 'Un anfitrión muy cordial, recibiendo de muy buena manera y preocupandose de como me sentía en mi estancia en París.', 'Julien es un excelente anfitrión, es muy accesible y hace lo que sea para que te sientas como en casa. La ubicación del departamento esta algo retirada del centro de París pero el metro pasa a 3 cuadras y de igual manera es muy fácil llegar.'], ['Cumple con lo que dice la reseña, julien atento, e intenta comunicarse contigo.', 'Esta super cerca de la estación, a 5 min. Está línea te lleva al Sacré cœur. Julian es super amable, se esfuerza mucho porque la gente se sienta cómoda. Es una gran persona.', 'El anfitrión siempre está atento en todo momento. la habitación está ubicada a pocos metros de la línea 12 que te deja en el centro de París. totalmente recomendado.', 'Durante mi estancia Julien estuvo muy atento y amable. Me ayudo cuando tuve un problema con mi celular, fue muy servicial. El lugar está muy cercano a la estación del metro y me fue muy fácil usarlo, definitivamente lo recomiendo.', 'muy agradable la estancia! el cuarto muy cómodo y el anfitrión muy amable y servicial, 10/10', 'habitación amplia y cómoda. Julian es muy amable y dispuesto a ayudar', 'El anfitrión es una persona muy amable y alegre. trata de adaptarse a las necesidades de los huéspedes y es de cconfiar.\\nLa zona no es muy cómoda realmente y sobre todo porque está en la zona 3.', 'Perfecto, con una ubicación excelente para pasar tus dias en paris', 'Julien es una persona súper atenta y dispuesta ayudarte con todo lo que necesites. Me hospedé dos noches solamente, pero todo fue perfecto.', 'Es un buen sitio para hospedarse, super recomendado', 'Muy buen lugar, buena ubicación y está bien cuidado', 'El alojamiento está bien y es cómodo. Solo les recomiendo a los futuros huéspedes que si tienen problemas para conciliar el sueño, lleven tapones para los oídos. Las habitaciones dan a una calle transitada y hay bastante ruido', 'El departamento de Julien es tal y como se muestra en las fotos, muy limpio todo y agradable. Julien super atento, me envió incluso imagen de las estaciones del tren para que me ubicara mejor, quedo muy agradecida por su hospitalidad. Definitivamente lo recomiendo.', 'Un lugar cercano y accesible para conocer París.', 'Todo increíblemente bien llegaría las veces que fueran necesarias es el mejor AirBNB que he llegado', 'Simplemente un anfitrión de excelencia, me sorprendió con su amabilidad, los servicios en su alojamiento totalmente limpios y accesibles en todo momento.\\nJulien siempre preocupado por qué estemos a gusto y no necesitemos nada.\\nMe volvería a quedar en su alojamiento sin pensarlo, cuando regrese a París!!', 'Mi experiencia en el alojamiento de Julien fue increíble. Me quedé un mes completo y tuve la posibilidad de conocer una gran persona. Julien es muy servicial, siempre se preocupa por como estas. Realmente me hizo sentir como si estuviera en mi casa. Sin dudar volvería a su casa si tengo que volver a París y lo recomiendo con los ojos cerrados.', 'Excelente lugar. Muy buena atención de Julien, es amable y se preocupa de los huéspedes.', 'Todo perfecto, la desventaja es que esta un poco lejos de paris, pero en el (RER) está muy fácil de llagar', 'El departamento de Julien es muy agradable, lleno de detalles y muy limpio. El entorno urbano es un poco bullicioso en las noches y la estacion de trenes está a unas siete cuadras.\\nEs un lugar muy recomendable, a buen precio y con un excelente anfitrión.', 'es un gran anfitrión, todo limpio y un barrio muy tranquilo', 'Está muy cómodo, limpio y julien es muy amigable y atento. Recomendado', 'El lugar esta muy limpio y ordenado, el único problema es que tienes que caminar 10 minutos hasta la estación del tren', 'El lugar es limpio, con buena calefacción y luminoso. Realmente cómodo.\\nSe encuentra a unos 15 minutos del centro de París en tren. La estación está a unas seis cuadras del alojamiento.\\nJulien es muy amable.\\nRecomiendo el lugar.', 'A 40 minutos del centro en cercanías (RER), anfitrión muy atento. También cerca de Le Bourget.', 'Julien es un un gran chico, muy atentos, siempre está atento a que requieres, se comunica por el móvil, para saber que esté bien, te orienta para dònde y como irte, te busca opciones, es maravillosa persona, muy limpio, respetuoso y comunicativo, tiene muchos detalles con su huésped, la zona es popular, pero también conoces un Paris más real no sólo turístico, hay metro cerca que te lleva al centro, yo me la pase increíble y volvería, gracias Julien .', 'Un anfitrión muy cordial, recibiendo de muy buena manera y preocupandose de como me sentía en mi estancia en París.', 'Julien es un excelente anfitrión, es muy accesible y hace lo que sea para que te sientas como en casa. La ubicación del departamento esta algo retirada del centro de París pero el metro pasa a 3 cuadras y de igual manera es muy fácil llegar.'], ['Cumple con lo que dice la reseña, julien atento, e intenta comunicarse contigo.', 'Esta super cerca de la estación, a 5 min. Está línea te lleva al Sacré cœur. Julian es super amable, se esfuerza mucho porque la gente se sienta cómoda. Es una gran persona.', 'El anfitrión siempre está atento en todo momento. la habitación está ubicada a pocos metros de la línea 12 que te deja en el centro de París. totalmente recomendado.', 'Durante mi estancia Julien estuvo muy atento y amable. Me ayudo cuando tuve un problema con mi celular, fue muy servicial. El lugar está muy cercano a la estación del metro y me fue muy fácil usarlo, definitivamente lo recomiendo.', 'muy agradable la estancia! el cuarto muy cómodo y el anfitrión muy amable y servicial, 10/10', 'habitación amplia y cómoda. Julian es muy amable y dispuesto a ayudar', 'El anfitrión es una persona muy amable y alegre. trata de adaptarse a las necesidades de los huéspedes y es de cconfiar.\\nLa zona no es muy cómoda realmente y sobre todo porque está en la zona 3.', 'Perfecto, con una ubicación excelente para pasar tus dias en paris', 'Julien es una persona súper atenta y dispuesta ayudarte con todo lo que necesites. Me hospedé dos noches solamente, pero todo fue perfecto.', 'Es un buen sitio para hospedarse, super recomendado', 'Muy buen lugar, buena ubicación y está bien cuidado', 'El alojamiento está bien y es cómodo. Solo les recomiendo a los futuros huéspedes que si tienen problemas para conciliar el sueño, lleven tapones para los oídos. Las habitaciones dan a una calle transitada y hay bastante ruido', 'El departamento de Julien es tal y como se muestra en las fotos, muy limpio todo y agradable. Julien super atento, me envió incluso imagen de las estaciones del tren para que me ubicara mejor, quedo muy agradecida por su hospitalidad. Definitivamente lo recomiendo.', 'Un lugar cercano y accesible para conocer París.', 'Todo increíblemente bien llegaría las veces que fueran necesarias es el mejor AirBNB que he llegado', 'Simplemente un anfitrión de excelencia, me sorprendió con su amabilidad, los servicios en su alojamiento totalmente limpios y accesibles en todo momento.\\nJulien siempre preocupado por qué estemos a gusto y no necesitemos nada.\\nMe volvería a quedar en su alojamiento sin pensarlo, cuando regrese a París!!', 'Mi experiencia en el alojamiento de Julien fue increíble. Me quedé un mes completo y tuve la posibilidad de conocer una gran persona. Julien es muy servicial, siempre se preocupa por como estas. Realmente me hizo sentir como si estuviera en mi casa. Sin dudar volvería a su casa si tengo que volver a París y lo recomiendo con los ojos cerrados.', 'Excelente lugar. Muy buena atención de Julien, es amable y se preocupa de los huéspedes.', 'Todo perfecto, la desventaja es que esta un poco lejos de paris, pero en el (RER) está muy fácil de llagar', 'El departamento de Julien es muy agradable, lleno de detalles y muy limpio. El entorno urbano es un poco bullicioso en las noches y la estacion de trenes está a unas siete cuadras.\\nEs un lugar muy recomendable, a buen precio y con un excelente anfitrión.', 'es un gran anfitrión, todo limpio y un barrio muy tranquilo', 'Está muy cómodo, limpio y julien es muy amigable y atento. Recomendado', 'El lugar esta muy limpio y ordenado, el único problema es que tienes que caminar 10 minutos hasta la estación del tren', 'El lugar es limpio, con buena calefacción y luminoso. Realmente cómodo.\\nSe encuentra a unos 15 minutos del centro de París en tren. La estación está a unas seis cuadras del alojamiento.\\nJulien es muy amable.\\nRecomiendo el lugar.', 'A 40 minutos del centro en cercanías (RER), anfitrión muy atento. También cerca de Le Bourget.', 'Julien es un un gran chico, muy atentos, siempre está atento a que requieres, se comunica por el móvil, para saber que esté bien, te orienta para dònde y como irte, te busca opciones, es maravillosa persona, muy limpio, respetuoso y comunicativo, tiene muchos detalles con su huésped, la zona es popular, pero también conoces un Paris más real no sólo turístico, hay metro cerca que te lleva al centro, yo me la pase increíble y volvería, gracias Julien .', 'Un anfitrión muy cordial, recibiendo de muy buena manera y preocupandose de como me sentía en mi estancia en París.', 'Julien es un excelente anfitrión, es muy accesible y hace lo que sea para que te sientas como en casa. La ubicación del departamento esta algo retirada del centro de París pero el metro pasa a 3 cuadras y de igual manera es muy fácil llegar.'], ['Cumple con lo que dice la reseña, julien atento, e intenta comunicarse contigo.', 'Esta super cerca de la estación, a 5 min. Está línea te lleva al Sacré cœur. Julian es super amable, se esfuerza mucho porque la gente se sienta cómoda. Es una gran persona.', 'El anfitrión siempre está atento en todo momento. la habitación está ubicada a pocos metros de la línea 12 que te deja en el centro de París. totalmente recomendado.', 'Durante mi estancia Julien estuvo muy atento y amable. Me ayudo cuando tuve un problema con mi celular, fue muy servicial. El lugar está muy cercano a la estación del metro y me fue muy fácil usarlo, definitivamente lo recomiendo.', 'muy agradable la estancia! el cuarto muy cómodo y el anfitrión muy amable y servicial, 10/10', 'habitación amplia y cómoda. Julian es muy amable y dispuesto a ayudar', 'El anfitrión es una persona muy amable y alegre. trata de adaptarse a las necesidades de los huéspedes y es de cconfiar.\\nLa zona no es muy cómoda realmente y sobre todo porque está en la zona 3.', 'Perfecto, con una ubicación excelente para pasar tus dias en paris', 'Julien es una persona súper atenta y dispuesta ayudarte con todo lo que necesites. Me hospedé dos noches solamente, pero todo fue perfecto.', 'Es un buen sitio para hospedarse, super recomendado', 'Muy buen lugar, buena ubicación y está bien cuidado', 'El alojamiento está bien y es cómodo. Solo les recomiendo a los futuros huéspedes que si tienen problemas para conciliar el sueño, lleven tapones para los oídos. Las habitaciones dan a una calle transitada y hay bastante ruido', 'El departamento de Julien es tal y como se muestra en las fotos, muy limpio todo y agradable. Julien super atento, me envió incluso imagen de las estaciones del tren para que me ubicara mejor, quedo muy agradecida por su hospitalidad. Definitivamente lo recomiendo.', 'Un lugar cercano y accesible para conocer París.', 'Todo increíblemente bien llegaría las veces que fueran necesarias es el mejor AirBNB que he llegado', 'Simplemente un anfitrión de excelencia, me sorprendió con su amabilidad, los servicios en su alojamiento totalmente limpios y accesibles en todo momento.\\nJulien siempre preocupado por qué estemos a gusto y no necesitemos nada.\\nMe volvería a quedar en su alojamiento sin pensarlo, cuando regrese a París!!', 'Mi experiencia en el alojamiento de Julien fue increíble. Me quedé un mes completo y tuve la posibilidad de conocer una gran persona. Julien es muy servicial, siempre se preocupa por como estas. Realmente me hizo sentir como si estuviera en mi casa. Sin dudar volvería a su casa si tengo que volver a París y lo recomiendo con los ojos cerrados.', 'Excelente lugar. Muy buena atención de Julien, es amable y se preocupa de los huéspedes.', 'Todo perfecto, la desventaja es que esta un poco lejos de paris, pero en el (RER) está muy fácil de llagar', 'El departamento de Julien es muy agradable, lleno de detalles y muy limpio. El entorno urbano es un poco bullicioso en las noches y la estacion de trenes está a unas siete cuadras.\\nEs un lugar muy recomendable, a buen precio y con un excelente anfitrión.', 'es un gran anfitrión, todo limpio y un barrio muy tranquilo', 'Está muy cómodo, limpio y julien es muy amigable y atento. Recomendado', 'El lugar esta muy limpio y ordenado, el único problema es que tienes que caminar 10 minutos hasta la estación del tren', 'El lugar es limpio, con buena calefacción y luminoso. Realmente cómodo.\\nSe encuentra a unos 15 minutos del centro de París en tren. La estación está a unas seis cuadras del alojamiento.\\nJulien es muy amable.\\nRecomiendo el lugar.', 'A 40 minutos del centro en cercanías (RER), anfitrión muy atento. También cerca de Le Bourget.', 'Julien es un un gran chico, muy atentos, siempre está atento a que requieres, se comunica por el móvil, para saber que esté bien, te orienta para dònde y como irte, te busca opciones, es maravillosa persona, muy limpio, respetuoso y comunicativo, tiene muchos detalles con su huésped, la zona es popular, pero también conoces un Paris más real no sólo turístico, hay metro cerca que te lleva al centro, yo me la pase increíble y volvería, gracias Julien .', 'Un anfitrión muy cordial, recibiendo de muy buena manera y preocupandose de como me sentía en mi estancia en París.', 'Julien es un excelente anfitrión, es muy accesible y hace lo que sea para que te sientas como en casa. La ubicación del departamento esta algo retirada del centro de París pero el metro pasa a 3 cuadras y de igual manera es muy fácil llegar.'], ['Cumple con lo que dice la reseña, julien atento, e intenta comunicarse contigo.', 'Esta super cerca de la estación, a 5 min. Está línea te lleva al Sacré cœur. Julian es super amable, se esfuerza mucho porque la gente se sienta cómoda. Es una gran persona.', 'El anfitrión siempre está atento en todo momento. la habitación está ubicada a pocos metros de la línea 12 que te deja en el centro de París. totalmente recomendado.', 'Durante mi estancia Julien estuvo muy atento y amable. Me ayudo cuando tuve un problema con mi celular, fue muy servicial. El lugar está muy cercano a la estación del metro y me fue muy fácil usarlo, definitivamente lo recomiendo.', 'muy agradable la estancia! el cuarto muy cómodo y el anfitrión muy amable y servicial, 10/10', 'habitación amplia y cómoda. Julian es muy amable y dispuesto a ayudar', 'El anfitrión es una persona muy amable y alegre. trata de adaptarse a las necesidades de los huéspedes y es de cconfiar.\\nLa zona no es muy cómoda realmente y sobre todo porque está en la zona 3.', 'Perfecto, con una ubicación excelente para pasar tus dias en paris', 'Julien es una persona súper atenta y dispuesta ayudarte con todo lo que necesites. Me hospedé dos noches solamente, pero todo fue perfecto.', 'Es un buen sitio para hospedarse, super recomendado', 'Muy buen lugar, buena ubicación y está bien cuidado', 'El alojamiento está bien y es cómodo. Solo les recomiendo a los futuros huéspedes que si tienen problemas para conciliar el sueño, lleven tapones para los oídos. Las habitaciones dan a una calle transitada y hay bastante ruido', 'El departamento de Julien es tal y como se muestra en las fotos, muy limpio todo y agradable. Julien super atento, me envió incluso imagen de las estaciones del tren para que me ubicara mejor, quedo muy agradecida por su hospitalidad. Definitivamente lo recomiendo.', 'Un lugar cercano y accesible para conocer París.', 'Todo increíblemente bien llegaría las veces que fueran necesarias es el mejor AirBNB que he llegado', 'Simplemente un anfitrión de excelencia, me sorprendió con su amabilidad, los servicios en su alojamiento totalmente limpios y accesibles en todo momento.\\nJulien siempre preocupado por qué estemos a gusto y no necesitemos nada.\\nMe volvería a quedar en su alojamiento sin pensarlo, cuando regrese a París!!', 'Mi experiencia en el alojamiento de Julien fue increíble. Me quedé un mes completo y tuve la posibilidad de conocer una gran persona. Julien es muy servicial, siempre se preocupa por como estas. Realmente me hizo sentir como si estuviera en mi casa. Sin dudar volvería a su casa si tengo que volver a París y lo recomiendo con los ojos cerrados.', 'Excelente lugar. Muy buena atención de Julien, es amable y se preocupa de los huéspedes.', 'Todo perfecto, la desventaja es que esta un poco lejos de paris, pero en el (RER) está muy fácil de llagar', 'El departamento de Julien es muy agradable, lleno de detalles y muy limpio. El entorno urbano es un poco bullicioso en las noches y la estacion de trenes está a unas siete cuadras.\\nEs un lugar muy recomendable, a buen precio y con un excelente anfitrión.', 'es un gran anfitrión, todo limpio y un barrio muy tranquilo', 'Está muy cómodo, limpio y julien es muy amigable y atento. Recomendado', 'El lugar esta muy limpio y ordenado, el único problema es que tienes que caminar 10 minutos hasta la estación del tren', 'El lugar es limpio, con buena calefacción y luminoso. Realmente cómodo.\\nSe encuentra a unos 15 minutos del centro de París en tren. La estación está a unas seis cuadras del alojamiento.\\nJulien es muy amable.\\nRecomiendo el lugar.', 'A 40 minutos del centro en cercanías (RER), anfitrión muy atento. También cerca de Le Bourget.', 'Julien es un un gran chico, muy atentos, siempre está atento a que requieres, se comunica por el móvil, para saber que esté bien, te orienta para dònde y como irte, te busca opciones, es maravillosa persona, muy limpio, respetuoso y comunicativo, tiene muchos detalles con su huésped, la zona es popular, pero también conoces un Paris más real no sólo turístico, hay metro cerca que te lleva al centro, yo me la pase increíble y volvería, gracias Julien .', 'Un anfitrión muy cordial, recibiendo de muy buena manera y preocupandose de como me sentía en mi estancia en París.', 'Julien es un excelente anfitrión, es muy accesible y hace lo que sea para que te sientas como en casa. La ubicación del departamento esta algo retirada del centro de París pero el metro pasa a 3 cuadras y de igual manera es muy fácil llegar.'], ['Cumple con lo que dice la reseña, julien atento, e intenta comunicarse contigo.', 'Esta super cerca de la estación, a 5 min. Está línea te lleva al Sacré cœur. Julian es super amable, se esfuerza mucho porque la gente se sienta cómoda. Es una gran persona.', 'El anfitrión siempre está atento en todo momento. la habitación está ubicada a pocos metros de la línea 12 que te deja en el centro de París. totalmente recomendado.', 'Durante mi estancia Julien estuvo muy atento y amable. Me ayudo cuando tuve un problema con mi celular, fue muy servicial. El lugar está muy cercano a la estación del metro y me fue muy fácil usarlo, definitivamente lo recomiendo.', 'muy agradable la estancia! el cuarto muy cómodo y el anfitrión muy amable y servicial, 10/10', 'habitación amplia y cómoda. Julian es muy amable y dispuesto a ayudar', 'El anfitrión es una persona muy amable y alegre. trata de adaptarse a las necesidades de los huéspedes y es de cconfiar.\\nLa zona no es muy cómoda realmente y sobre todo porque está en la zona 3.', 'Perfecto, con una ubicación excelente para pasar tus dias en paris', 'Julien es una persona súper atenta y dispuesta ayudarte con todo lo que necesites. Me hospedé dos noches solamente, pero todo fue perfecto.', 'Es un buen sitio para hospedarse, super recomendado', 'Muy buen lugar, buena ubicación y está bien cuidado', 'El alojamiento está bien y es cómodo. Solo les recomiendo a los futuros huéspedes que si tienen problemas para conciliar el sueño, lleven tapones para los oídos. Las habitaciones dan a una calle transitada y hay bastante ruido', 'El departamento de Julien es tal y como se muestra en las fotos, muy limpio todo y agradable. Julien super atento, me envió incluso imagen de las estaciones del tren para que me ubicara mejor, quedo muy agradecida por su hospitalidad. Definitivamente lo recomiendo.', 'Un lugar cercano y accesible para conocer París.', 'Todo increíblemente bien llegaría las veces que fueran necesarias es el mejor AirBNB que he llegado', 'Simplemente un anfitrión de excelencia, me sorprendió con su amabilidad, los servicios en su alojamiento totalmente limpios y accesibles en todo momento.\\nJulien siempre preocupado por qué estemos a gusto y no necesitemos nada.\\nMe volvería a quedar en su alojamiento sin pensarlo, cuando regrese a París!!', 'Mi experiencia en el alojamiento de Julien fue increíble. Me quedé un mes completo y tuve la posibilidad de conocer una gran persona. Julien es muy servicial, siempre se preocupa por como estas. Realmente me hizo sentir como si estuviera en mi casa. Sin dudar volvería a su casa si tengo que volver a París y lo recomiendo con los ojos cerrados.', 'Excelente lugar. Muy buena atención de Julien, es amable y se preocupa de los huéspedes.', 'Todo perfecto, la desventaja es que esta un poco lejos de paris, pero en el (RER) está muy fácil de llagar', 'El departamento de Julien es muy agradable, lleno de detalles y muy limpio. El entorno urbano es un poco bullicioso en las noches y la estacion de trenes está a unas siete cuadras.\\nEs un lugar muy recomendable, a buen precio y con un excelente anfitrión.', 'es un gran anfitrión, todo limpio y un barrio muy tranquilo', 'Está muy cómodo, limpio y julien es muy amigable y atento. Recomendado', 'El lugar esta muy limpio y ordenado, el único problema es que tienes que caminar 10 minutos hasta la estación del tren', 'El lugar es limpio, con buena calefacción y luminoso. Realmente cómodo.\\nSe encuentra a unos 15 minutos del centro de París en tren. La estación está a unas seis cuadras del alojamiento.\\nJulien es muy amable.\\nRecomiendo el lugar.', 'A 40 minutos del centro en cercanías (RER), anfitrión muy atento. También cerca de Le Bourget.', 'Julien es un un gran chico, muy atentos, siempre está atento a que requieres, se comunica por el móvil, para saber que esté bien, te orienta para dònde y como irte, te busca opciones, es maravillosa persona, muy limpio, respetuoso y comunicativo, tiene muchos detalles con su huésped, la zona es popular, pero también conoces un Paris más real no sólo turístico, hay metro cerca que te lleva al centro, yo me la pase increíble y volvería, gracias Julien .', 'Un anfitrión muy cordial, recibiendo de muy buena manera y preocupandose de como me sentía en mi estancia en París.', 'Julien es un excelente anfitrión, es muy accesible y hace lo que sea para que te sientas como en casa. La ubicación del departamento esta algo retirada del centro de París pero el metro pasa a 3 cuadras y de igual manera es muy fácil llegar.'], ['Cumple con lo que dice la reseña, julien atento, e intenta comunicarse contigo.', 'Esta super cerca de la estación, a 5 min. Está línea te lleva al Sacré cœur. Julian es super amable, se esfuerza mucho porque la gente se sienta cómoda. Es una gran persona.', 'El anfitrión siempre está atento en todo momento. la habitación está ubicada a pocos metros de la línea 12 que te deja en el centro de París. totalmente recomendado.', 'Durante mi estancia Julien estuvo muy atento y amable. Me ayudo cuando tuve un problema con mi celular, fue muy servicial. El lugar está muy cercano a la estación del metro y me fue muy fácil usarlo, definitivamente lo recomiendo.', 'muy agradable la estancia! el cuarto muy cómodo y el anfitrión muy amable y servicial, 10/10', 'habitación amplia y cómoda. Julian es muy amable y dispuesto a ayudar', 'El anfitrión es una persona muy amable y alegre. trata de adaptarse a las necesidades de los huéspedes y es de cconfiar.\\nLa zona no es muy cómoda realmente y sobre todo porque está en la zona 3.', 'Perfecto, con una ubicación excelente para pasar tus dias en paris', 'Julien es una persona súper atenta y dispuesta ayudarte con todo lo que necesites. Me hospedé dos noches solamente, pero todo fue perfecto.', 'Es un buen sitio para hospedarse, super recomendado', 'Muy buen lugar, buena ubicación y está bien cuidado', 'El alojamiento está bien y es cómodo. Solo les recomiendo a los futuros huéspedes que si tienen problemas para conciliar el sueño, lleven tapones para los oídos. Las habitaciones dan a una calle transitada y hay bastante ruido', 'El departamento de Julien es tal y como se muestra en las fotos, muy limpio todo y agradable. Julien super atento, me envió incluso imagen de las estaciones del tren para que me ubicara mejor, quedo muy agradecida por su hospitalidad. Definitivamente lo recomiendo.', 'Un lugar cercano y accesible para conocer París.', 'Todo increíblemente bien llegaría las veces que fueran necesarias es el mejor AirBNB que he llegado', 'Simplemente un anfitrión de excelencia, me sorprendió con su amabilidad, los servicios en su alojamiento totalmente limpios y accesibles en todo momento.\\nJulien siempre preocupado por qué estemos a gusto y no necesitemos nada.\\nMe volvería a quedar en su alojamiento sin pensarlo, cuando regrese a París!!', 'Mi experiencia en el alojamiento de Julien fue increíble. Me quedé un mes completo y tuve la posibilidad de conocer una gran persona. Julien es muy servicial, siempre se preocupa por como estas. Realmente me hizo sentir como si estuviera en mi casa. Sin dudar volvería a su casa si tengo que volver a París y lo recomiendo con los ojos cerrados.', 'Excelente lugar. Muy buena atención de Julien, es amable y se preocupa de los huéspedes.', 'Todo perfecto, la desventaja es que esta un poco lejos de paris, pero en el (RER) está muy fácil de llagar', 'El departamento de Julien es muy agradable, lleno de detalles y muy limpio. El entorno urbano es un poco bullicioso en las noches y la estacion de trenes está a unas siete cuadras.\\nEs un lugar muy recomendable, a buen precio y con un excelente anfitrión.', 'es un gran anfitrión, todo limpio y un barrio muy tranquilo', 'Está muy cómodo, limpio y julien es muy amigable y atento. Recomendado', 'El lugar esta muy limpio y ordenado, el único problema es que tienes que caminar 10 minutos hasta la estación del tren', 'El lugar es limpio, con buena calefacción y luminoso. Realmente cómodo.\\nSe encuentra a unos 15 minutos del centro de París en tren. La estación está a unas seis cuadras del alojamiento.\\nJulien es muy amable.\\nRecomiendo el lugar.', 'A 40 minutos del centro en cercanías (RER), anfitrión muy atento. También cerca de Le Bourget.', 'Julien es un un gran chico, muy atentos, siempre está atento a que requieres, se comunica por el móvil, para saber que esté bien, te orienta para dònde y como irte, te busca opciones, es maravillosa persona, muy limpio, respetuoso y comunicativo, tiene muchos detalles con su huésped, la zona es popular, pero también conoces un Paris más real no sólo turístico, hay metro cerca que te lleva al centro, yo me la pase increíble y volvería, gracias Julien .', 'Un anfitrión muy cordial, recibiendo de muy buena manera y preocupandose de como me sentía en mi estancia en París.', 'Julien es un excelente anfitrión, es muy accesible y hace lo que sea para que te sientas como en casa. La ubicación del departamento esta algo retirada del centro de París pero el metro pasa a 3 cuadras y de igual manera es muy fácil llegar.'], ['Cumple con lo que dice la reseña, julien atento, e intenta comunicarse contigo.', 'Esta super cerca de la estación, a 5 min. Está línea te lleva al Sacré cœur. Julian es super amable, se esfuerza mucho porque la gente se sienta cómoda. Es una gran persona.', 'El anfitrión siempre está atento en todo momento. la habitación está ubicada a pocos metros de la línea 12 que te deja en el centro de París. totalmente recomendado.', 'Durante mi estancia Julien estuvo muy atento y amable. Me ayudo cuando tuve un problema con mi celular, fue muy servicial. El lugar está muy cercano a la estación del metro y me fue muy fácil usarlo, definitivamente lo recomiendo.', 'muy agradable la estancia! el cuarto muy cómodo y el anfitrión muy amable y servicial, 10/10', 'habitación amplia y cómoda. Julian es muy amable y dispuesto a ayudar', 'El anfitrión es una persona muy amable y alegre. trata de adaptarse a las necesidades de los huéspedes y es de cconfiar.\\nLa zona no es muy cómoda realmente y sobre todo porque está en la zona 3.', 'Perfecto, con una ubicación excelente para pasar tus dias en paris', 'Julien es una persona súper atenta y dispuesta ayudarte con todo lo que necesites. Me hospedé dos noches solamente, pero todo fue perfecto.', 'Es un buen sitio para hospedarse, super recomendado', 'Muy buen lugar, buena ubicación y está bien cuidado', 'El alojamiento está bien y es cómodo. Solo les recomiendo a los futuros huéspedes que si tienen problemas para conciliar el sueño, lleven tapones para los oídos. Las habitaciones dan a una calle transitada y hay bastante ruido', 'El departamento de Julien es tal y como se muestra en las fotos, muy limpio todo y agradable. Julien super atento, me envió incluso imagen de las estaciones del tren para que me ubicara mejor, quedo muy agradecida por su hospitalidad. Definitivamente lo recomiendo.', 'Un lugar cercano y accesible para conocer París.', 'Todo increíblemente bien llegaría las veces que fueran necesarias es el mejor AirBNB que he llegado', 'Simplemente un anfitrión de excelencia, me sorprendió con su amabilidad, los servicios en su alojamiento totalmente limpios y accesibles en todo momento.\\nJulien siempre preocupado por qué estemos a gusto y no necesitemos nada.\\nMe volvería a quedar en su alojamiento sin pensarlo, cuando regrese a París!!', 'Mi experiencia en el alojamiento de Julien fue increíble. Me quedé un mes completo y tuve la posibilidad de conocer una gran persona. Julien es muy servicial, siempre se preocupa por como estas. Realmente me hizo sentir como si estuviera en mi casa. Sin dudar volvería a su casa si tengo que volver a París y lo recomiendo con los ojos cerrados.', 'Excelente lugar. Muy buena atención de Julien, es amable y se preocupa de los huéspedes.', 'Todo perfecto, la desventaja es que esta un poco lejos de paris, pero en el (RER) está muy fácil de llagar', 'El departamento de Julien es muy agradable, lleno de detalles y muy limpio. El entorno urbano es un poco bullicioso en las noches y la estacion de trenes está a unas siete cuadras.\\nEs un lugar muy recomendable, a buen precio y con un excelente anfitrión.', 'es un gran anfitrión, todo limpio y un barrio muy tranquilo', 'Está muy cómodo, limpio y julien es muy amigable y atento. Recomendado', 'El lugar esta muy limpio y ordenado, el único problema es que tienes que caminar 10 minutos hasta la estación del tren', 'El lugar es limpio, con buena calefacción y luminoso. Realmente cómodo.\\nSe encuentra a unos 15 minutos del centro de París en tren. La estación está a unas seis cuadras del alojamiento.\\nJulien es muy amable.\\nRecomiendo el lugar.', 'A 40 minutos del centro en cercanías (RER), anfitrión muy atento. También cerca de Le Bourget.', 'Julien es un un gran chico, muy atentos, siempre está atento a que requieres, se comunica por el móvil, para saber que esté bien, te orienta para dònde y como irte, te busca opciones, es maravillosa persona, muy limpio, respetuoso y comunicativo, tiene muchos detalles con su huésped, la zona es popular, pero también conoces un Paris más real no sólo turístico, hay metro cerca que te lleva al centro, yo me la pase increíble y volvería, gracias Julien .', 'Un anfitrión muy cordial, recibiendo de muy buena manera y preocupandose de como me sentía en mi estancia en París.', 'Julien es un excelente anfitrión, es muy accesible y hace lo que sea para que te sientas como en casa. La ubicación del departamento esta algo retirada del centro de París pero el metro pasa a 3 cuadras y de igual manera es muy fácil llegar.'], ['Cumple con lo que dice la reseña, julien atento, e intenta comunicarse contigo.', 'Esta super cerca de la estación, a 5 min. Está línea te lleva al Sacré cœur. Julian es super amable, se esfuerza mucho porque la gente se sienta cómoda. Es una gran persona.', 'El anfitrión siempre está atento en todo momento. la habitación está ubicada a pocos metros de la línea 12 que te deja en el centro de París. totalmente recomendado.', 'Durante mi estancia Julien estuvo muy atento y amable. Me ayudo cuando tuve un problema con mi celular, fue muy servicial. El lugar está muy cercano a la estación del metro y me fue muy fácil usarlo, definitivamente lo recomiendo.', 'muy agradable la estancia! el cuarto muy cómodo y el anfitrión muy amable y servicial, 10/10', 'habitación amplia y cómoda. Julian es muy amable y dispuesto a ayudar', 'El anfitrión es una persona muy amable y alegre. trata de adaptarse a las necesidades de los huéspedes y es de cconfiar.\\nLa zona no es muy cómoda realmente y sobre todo porque está en la zona 3.', 'Perfecto, con una ubicación excelente para pasar tus dias en paris', 'Julien es una persona súper atenta y dispuesta ayudarte con todo lo que necesites. Me hospedé dos noches solamente, pero todo fue perfecto.', 'Es un buen sitio para hospedarse, super recomendado', 'Muy buen lugar, buena ubicación y está bien cuidado', 'El alojamiento está bien y es cómodo. Solo les recomiendo a los futuros huéspedes que si tienen problemas para conciliar el sueño, lleven tapones para los oídos. Las habitaciones dan a una calle transitada y hay bastante ruido', 'El departamento de Julien es tal y como se muestra en las fotos, muy limpio todo y agradable. Julien super atento, me envió incluso imagen de las estaciones del tren para que me ubicara mejor, quedo muy agradecida por su hospitalidad. Definitivamente lo recomiendo.', 'Un lugar cercano y accesible para conocer París.', 'Todo increíblemente bien llegaría las veces que fueran necesarias es el mejor AirBNB que he llegado', 'Simplemente un anfitrión de excelencia, me sorprendió con su amabilidad, los servicios en su alojamiento totalmente limpios y accesibles en todo momento.\\nJulien siempre preocupado por qué estemos a gusto y no necesitemos nada.\\nMe volvería a quedar en su alojamiento sin pensarlo, cuando regrese a París!!', 'Mi experiencia en el alojamiento de Julien fue increíble. Me quedé un mes completo y tuve la posibilidad de conocer una gran persona. Julien es muy servicial, siempre se preocupa por como estas. Realmente me hizo sentir como si estuviera en mi casa. Sin dudar volvería a su casa si tengo que volver a París y lo recomiendo con los ojos cerrados.', 'Excelente lugar. Muy buena atención de Julien, es amable y se preocupa de los huéspedes.', 'Todo perfecto, la desventaja es que esta un poco lejos de paris, pero en el (RER) está muy fácil de llagar', 'El departamento de Julien es muy agradable, lleno de detalles y muy limpio. El entorno urbano es un poco bullicioso en las noches y la estacion de trenes está a unas siete cuadras.\\nEs un lugar muy recomendable, a buen precio y con un excelente anfitrión.', 'es un gran anfitrión, todo limpio y un barrio muy tranquilo', 'Está muy cómodo, limpio y julien es muy amigable y atento. Recomendado', 'El lugar esta muy limpio y ordenado, el único problema es que tienes que caminar 10 minutos hasta la estación del tren', 'El lugar es limpio, con buena calefacción y luminoso. Realmente cómodo.\\nSe encuentra a unos 15 minutos del centro de París en tren. La estación está a unas seis cuadras del alojamiento.\\nJulien es muy amable.\\nRecomiendo el lugar.', 'A 40 minutos del centro en cercanías (RER), anfitrión muy atento. También cerca de Le Bourget.', 'Julien es un un gran chico, muy atentos, siempre está atento a que requieres, se comunica por el móvil, para saber que esté bien, te orienta para dònde y como irte, te busca opciones, es maravillosa persona, muy limpio, respetuoso y comunicativo, tiene muchos detalles con su huésped, la zona es popular, pero también conoces un Paris más real no sólo turístico, hay metro cerca que te lleva al centro, yo me la pase increíble y volvería, gracias Julien .', 'Un anfitrión muy cordial, recibiendo de muy buena manera y preocupandose de como me sentía en mi estancia en París.', 'Julien es un excelente anfitrión, es muy accesible y hace lo que sea para que te sientas como en casa. La ubicación del departamento esta algo retirada del centro de París pero el metro pasa a 3 cuadras y de igual manera es muy fácil llegar.'], ['Cumple con lo que dice la reseña, julien atento, e intenta comunicarse contigo.', 'Esta super cerca de la estación, a 5 min. Está línea te lleva al Sacré cœur. Julian es super amable, se esfuerza mucho porque la gente se sienta cómoda. Es una gran persona.', 'El anfitrión siempre está atento en todo momento. la habitación está ubicada a pocos metros de la línea 12 que te deja en el centro de París. totalmente recomendado.', 'Durante mi estancia Julien estuvo muy atento y amable. Me ayudo cuando tuve un problema con mi celular, fue muy servicial. El lugar está muy cercano a la estación del metro y me fue muy fácil usarlo, definitivamente lo recomiendo.', 'muy agradable la estancia! el cuarto muy cómodo y el anfitrión muy amable y servicial, 10/10', 'habitación amplia y cómoda. Julian es muy amable y dispuesto a ayudar', 'El anfitrión es una persona muy amable y alegre. trata de adaptarse a las necesidades de los huéspedes y es de cconfiar.\\nLa zona no es muy cómoda realmente y sobre todo porque está en la zona 3.', 'Perfecto, con una ubicación excelente para pasar tus dias en paris', 'Julien es una persona súper atenta y dispuesta ayudarte con todo lo que necesites. Me hospedé dos noches solamente, pero todo fue perfecto.', 'Es un buen sitio para hospedarse, super recomendado', 'Muy buen lugar, buena ubicación y está bien cuidado', 'El alojamiento está bien y es cómodo. Solo les recomiendo a los futuros huéspedes que si tienen problemas para conciliar el sueño, lleven tapones para los oídos. Las habitaciones dan a una calle transitada y hay bastante ruido', 'El departamento de Julien es tal y como se muestra en las fotos, muy limpio todo y agradable. Julien super atento, me envió incluso imagen de las estaciones del tren para que me ubicara mejor, quedo muy agradecida por su hospitalidad. Definitivamente lo recomiendo.', 'Un lugar cercano y accesible para conocer París.', 'Todo increíblemente bien llegaría las veces que fueran necesarias es el mejor AirBNB que he llegado', 'Simplemente un anfitrión de excelencia, me sorprendió con su amabilidad, los servicios en su alojamiento totalmente limpios y accesibles en todo momento.\\nJulien siempre preocupado por qué estemos a gusto y no necesitemos nada.\\nMe volvería a quedar en su alojamiento sin pensarlo, cuando regrese a París!!', 'Mi experiencia en el alojamiento de Julien fue increíble. Me quedé un mes completo y tuve la posibilidad de conocer una gran persona. Julien es muy servicial, siempre se preocupa por como estas. Realmente me hizo sentir como si estuviera en mi casa. Sin dudar volvería a su casa si tengo que volver a París y lo recomiendo con los ojos cerrados.', 'Excelente lugar. Muy buena atención de Julien, es amable y se preocupa de los huéspedes.', 'Todo perfecto, la desventaja es que esta un poco lejos de paris, pero en el (RER) está muy fácil de llagar', 'El departamento de Julien es muy agradable, lleno de detalles y muy limpio. El entorno urbano es un poco bullicioso en las noches y la estacion de trenes está a unas siete cuadras.\\nEs un lugar muy recomendable, a buen precio y con un excelente anfitrión.', 'es un gran anfitrión, todo limpio y un barrio muy tranquilo', 'Está muy cómodo, limpio y julien es muy amigable y atento. Recomendado', 'El lugar esta muy limpio y ordenado, el único problema es que tienes que caminar 10 minutos hasta la estación del tren', 'El lugar es limpio, con buena calefacción y luminoso. Realmente cómodo.\\nSe encuentra a unos 15 minutos del centro de París en tren. La estación está a unas seis cuadras del alojamiento.\\nJulien es muy amable.\\nRecomiendo el lugar.', 'A 40 minutos del centro en cercanías (RER), anfitrión muy atento. También cerca de Le Bourget.', 'Julien es un un gran chico, muy atentos, siempre está atento a que requieres, se comunica por el móvil, para saber que esté bien, te orienta para dònde y como irte, te busca opciones, es maravillosa persona, muy limpio, respetuoso y comunicativo, tiene muchos detalles con su huésped, la zona es popular, pero también conoces un Paris más real no sólo turístico, hay metro cerca que te lleva al centro, yo me la pase increíble y volvería, gracias Julien .', 'Un anfitrión muy cordial, recibiendo de muy buena manera y preocupandose de como me sentía en mi estancia en París.', 'Julien es un excelente anfitrión, es muy accesible y hace lo que sea para que te sientas como en casa. La ubicación del departamento esta algo retirada del centro de París pero el metro pasa a 3 cuadras y de igual manera es muy fácil llegar.'], ['Cumple con lo que dice la reseña, julien atento, e intenta comunicarse contigo.', 'Esta super cerca de la estación, a 5 min. Está línea te lleva al Sacré cœur. Julian es super amable, se esfuerza mucho porque la gente se sienta cómoda. Es una gran persona.', 'El anfitrión siempre está atento en todo momento. la habitación está ubicada a pocos metros de la línea 12 que te deja en el centro de París. totalmente recomendado.', 'Durante mi estancia Julien estuvo muy atento y amable. Me ayudo cuando tuve un problema con mi celular, fue muy servicial. El lugar está muy cercano a la estación del metro y me fue muy fácil usarlo, definitivamente lo recomiendo.', 'muy agradable la estancia! el cuarto muy cómodo y el anfitrión muy amable y servicial, 10/10', 'habitación amplia y cómoda. Julian es muy amable y dispuesto a ayudar', 'El anfitrión es una persona muy amable y alegre. trata de adaptarse a las necesidades de los huéspedes y es de cconfiar.\\nLa zona no es muy cómoda realmente y sobre todo porque está en la zona 3.', 'Perfecto, con una ubicación excelente para pasar tus dias en paris', 'Julien es una persona súper atenta y dispuesta ayudarte con todo lo que necesites. Me hospedé dos noches solamente, pero todo fue perfecto.', 'Es un buen sitio para hospedarse, super recomendado', 'Muy buen lugar, buena ubicación y está bien cuidado', 'El alojamiento está bien y es cómodo. Solo les recomiendo a los futuros huéspedes que si tienen problemas para conciliar el sueño, lleven tapones para los oídos. Las habitaciones dan a una calle transitada y hay bastante ruido', 'El departamento de Julien es tal y como se muestra en las fotos, muy limpio todo y agradable. Julien super atento, me envió incluso imagen de las estaciones del tren para que me ubicara mejor, quedo muy agradecida por su hospitalidad. Definitivamente lo recomiendo.', 'Un lugar cercano y accesible para conocer París.', 'Todo increíblemente bien llegaría las veces que fueran necesarias es el mejor AirBNB que he llegado', 'Simplemente un anfitrión de excelencia, me sorprendió con su amabilidad, los servicios en su alojamiento totalmente limpios y accesibles en todo momento.\\nJulien siempre preocupado por qué estemos a gusto y no necesitemos nada.\\nMe volvería a quedar en su alojamiento sin pensarlo, cuando regrese a París!!', 'Mi experiencia en el alojamiento de Julien fue increíble. Me quedé un mes completo y tuve la posibilidad de conocer una gran persona. Julien es muy servicial, siempre se preocupa por como estas. Realmente me hizo sentir como si estuviera en mi casa. Sin dudar volvería a su casa si tengo que volver a París y lo recomiendo con los ojos cerrados.', 'Excelente lugar. Muy buena atención de Julien, es amable y se preocupa de los huéspedes.', 'Todo perfecto, la desventaja es que esta un poco lejos de paris, pero en el (RER) está muy fácil de llagar', 'El departamento de Julien es muy agradable, lleno de detalles y muy limpio. El entorno urbano es un poco bullicioso en las noches y la estacion de trenes está a unas siete cuadras.\\nEs un lugar muy recomendable, a buen precio y con un excelente anfitrión.', 'es un gran anfitrión, todo limpio y un barrio muy tranquilo', 'Está muy cómodo, limpio y julien es muy amigable y atento. Recomendado', 'El lugar esta muy limpio y ordenado, el único problema es que tienes que caminar 10 minutos hasta la estación del tren', 'El lugar es limpio, con buena calefacción y luminoso. Realmente cómodo.\\nSe encuentra a unos 15 minutos del centro de París en tren. La estación está a unas seis cuadras del alojamiento.\\nJulien es muy amable.\\nRecomiendo el lugar.', 'A 40 minutos del centro en cercanías (RER), anfitrión muy atento. También cerca de Le Bourget.', 'Julien es un un gran chico, muy atentos, siempre está atento a que requieres, se comunica por el móvil, para saber que esté bien, te orienta para dònde y como irte, te busca opciones, es maravillosa persona, muy limpio, respetuoso y comunicativo, tiene muchos detalles con su huésped, la zona es popular, pero también conoces un Paris más real no sólo turístico, hay metro cerca que te lleva al centro, yo me la pase increíble y volvería, gracias Julien .', 'Un anfitrión muy cordial, recibiendo de muy buena manera y preocupandose de como me sentía en mi estancia en París.', 'Julien es un excelente anfitrión, es muy accesible y hace lo que sea para que te sientas como en casa. La ubicación del departamento esta algo retirada del centro de París pero el metro pasa a 3 cuadras y de igual manera es muy fácil llegar.'], ['Cumple con lo que dice la reseña, julien atento, e intenta comunicarse contigo.', 'Esta super cerca de la estación, a 5 min. Está línea te lleva al Sacré cœur. Julian es super amable, se esfuerza mucho porque la gente se sienta cómoda. Es una gran persona.', 'El anfitrión siempre está atento en todo momento. la habitación está ubicada a pocos metros de la línea 12 que te deja en el centro de París. totalmente recomendado.', 'Durante mi estancia Julien estuvo muy atento y amable. Me ayudo cuando tuve un problema con mi celular, fue muy servicial. El lugar está muy cercano a la estación del metro y me fue muy fácil usarlo, definitivamente lo recomiendo.', 'muy agradable la estancia! el cuarto muy cómodo y el anfitrión muy amable y servicial, 10/10', 'habitación amplia y cómoda. Julian es muy amable y dispuesto a ayudar', 'El anfitrión es una persona muy amable y alegre. trata de adaptarse a las necesidades de los huéspedes y es de cconfiar.\\nLa zona no es muy cómoda realmente y sobre todo porque está en la zona 3.', 'Perfecto, con una ubicación excelente para pasar tus dias en paris', 'Julien es una persona súper atenta y dispuesta ayudarte con todo lo que necesites. Me hospedé dos noches solamente, pero todo fue perfecto.', 'Es un buen sitio para hospedarse, super recomendado', 'Muy buen lugar, buena ubicación y está bien cuidado', 'El alojamiento está bien y es cómodo. Solo les recomiendo a los futuros huéspedes que si tienen problemas para conciliar el sueño, lleven tapones para los oídos. Las habitaciones dan a una calle transitada y hay bastante ruido', 'El departamento de Julien es tal y como se muestra en las fotos, muy limpio todo y agradable. Julien super atento, me envió incluso imagen de las estaciones del tren para que me ubicara mejor, quedo muy agradecida por su hospitalidad. Definitivamente lo recomiendo.', 'Un lugar cercano y accesible para conocer París.', 'Todo increíblemente bien llegaría las veces que fueran necesarias es el mejor AirBNB que he llegado', 'Simplemente un anfitrión de excelencia, me sorprendió con su amabilidad, los servicios en su alojamiento totalmente limpios y accesibles en todo momento.\\nJulien siempre preocupado por qué estemos a gusto y no necesitemos nada.\\nMe volvería a quedar en su alojamiento sin pensarlo, cuando regrese a París!!', 'Mi experiencia en el alojamiento de Julien fue increíble. Me quedé un mes completo y tuve la posibilidad de conocer una gran persona. Julien es muy servicial, siempre se preocupa por como estas. Realmente me hizo sentir como si estuviera en mi casa. Sin dudar volvería a su casa si tengo que volver a París y lo recomiendo con los ojos cerrados.', 'Excelente lugar. Muy buena atención de Julien, es amable y se preocupa de los huéspedes.', 'Todo perfecto, la desventaja es que esta un poco lejos de paris, pero en el (RER) está muy fácil de llagar', 'El departamento de Julien es muy agradable, lleno de detalles y muy limpio. El entorno urbano es un poco bullicioso en las noches y la estacion de trenes está a unas siete cuadras.\\nEs un lugar muy recomendable, a buen precio y con un excelente anfitrión.', 'es un gran anfitrión, todo limpio y un barrio muy tranquilo', 'Está muy cómodo, limpio y julien es muy amigable y atento. Recomendado', 'El lugar esta muy limpio y ordenado, el único problema es que tienes que caminar 10 minutos hasta la estación del tren', 'El lugar es limpio, con buena calefacción y luminoso. Realmente cómodo.\\nSe encuentra a unos 15 minutos del centro de París en tren. La estación está a unas seis cuadras del alojamiento.\\nJulien es muy amable.\\nRecomiendo el lugar.', 'A 40 minutos del centro en cercanías (RER), anfitrión muy atento. También cerca de Le Bourget.', 'Julien es un un gran chico, muy atentos, siempre está atento a que requieres, se comunica por el móvil, para saber que esté bien, te orienta para dònde y como irte, te busca opciones, es maravillosa persona, muy limpio, respetuoso y comunicativo, tiene muchos detalles con su huésped, la zona es popular, pero también conoces un Paris más real no sólo turístico, hay metro cerca que te lleva al centro, yo me la pase increíble y volvería, gracias Julien .', 'Un anfitrión muy cordial, recibiendo de muy buena manera y preocupandose de como me sentía en mi estancia en París.', 'Julien es un excelente anfitrión, es muy accesible y hace lo que sea para que te sientas como en casa. La ubicación del departamento esta algo retirada del centro de París pero el metro pasa a 3 cuadras y de igual manera es muy fácil llegar.'], ['Cumple con lo que dice la reseña, julien atento, e intenta comunicarse contigo.', 'Esta super cerca de la estación, a 5 min. Está línea te lleva al Sacré cœur. Julian es super amable, se esfuerza mucho porque la gente se sienta cómoda. Es una gran persona.', 'El anfitrión siempre está atento en todo momento. la habitación está ubicada a pocos metros de la línea 12 que te deja en el centro de París. totalmente recomendado.', 'Durante mi estancia Julien estuvo muy atento y amable. Me ayudo cuando tuve un problema con mi celular, fue muy servicial. El lugar está muy cercano a la estación del metro y me fue muy fácil usarlo, definitivamente lo recomiendo.', 'muy agradable la estancia! el cuarto muy cómodo y el anfitrión muy amable y servicial, 10/10', 'habitación amplia y cómoda. Julian es muy amable y dispuesto a ayudar', 'El anfitrión es una persona muy amable y alegre. trata de adaptarse a las necesidades de los huéspedes y es de cconfiar.\\nLa zona no es muy cómoda realmente y sobre todo porque está en la zona 3.', 'Perfecto, con una ubicación excelente para pasar tus dias en paris', 'Julien es una persona súper atenta y dispuesta ayudarte con todo lo que necesites. Me hospedé dos noches solamente, pero todo fue perfecto.', 'Es un buen sitio para hospedarse, super recomendado', 'Muy buen lugar, buena ubicación y está bien cuidado', 'El alojamiento está bien y es cómodo. Solo les recomiendo a los futuros huéspedes que si tienen problemas para conciliar el sueño, lleven tapones para los oídos. Las habitaciones dan a una calle transitada y hay bastante ruido', 'El departamento de Julien es tal y como se muestra en las fotos, muy limpio todo y agradable. Julien super atento, me envió incluso imagen de las estaciones del tren para que me ubicara mejor, quedo muy agradecida por su hospitalidad. Definitivamente lo recomiendo.', 'Un lugar cercano y accesible para conocer París.', 'Todo increíblemente bien llegaría las veces que fueran necesarias es el mejor AirBNB que he llegado', 'Simplemente un anfitrión de excelencia, me sorprendió con su amabilidad, los servicios en su alojamiento totalmente limpios y accesibles en todo momento.\\nJulien siempre preocupado por qué estemos a gusto y no necesitemos nada.\\nMe volvería a quedar en su alojamiento sin pensarlo, cuando regrese a París!!', 'Mi experiencia en el alojamiento de Julien fue increíble. Me quedé un mes completo y tuve la posibilidad de conocer una gran persona. Julien es muy servicial, siempre se preocupa por como estas. Realmente me hizo sentir como si estuviera en mi casa. Sin dudar volvería a su casa si tengo que volver a París y lo recomiendo con los ojos cerrados.', 'Excelente lugar. Muy buena atención de Julien, es amable y se preocupa de los huéspedes.', 'Todo perfecto, la desventaja es que esta un poco lejos de paris, pero en el (RER) está muy fácil de llagar', 'El departamento de Julien es muy agradable, lleno de detalles y muy limpio. El entorno urbano es un poco bullicioso en las noches y la estacion de trenes está a unas siete cuadras.\\nEs un lugar muy recomendable, a buen precio y con un excelente anfitrión.', 'es un gran anfitrión, todo limpio y un barrio muy tranquilo', 'Está muy cómodo, limpio y julien es muy amigable y atento. Recomendado', 'El lugar esta muy limpio y ordenado, el único problema es que tienes que caminar 10 minutos hasta la estación del tren', 'El lugar es limpio, con buena calefacción y luminoso. Realmente cómodo.\\nSe encuentra a unos 15 minutos del centro de París en tren. La estación está a unas seis cuadras del alojamiento.\\nJulien es muy amable.\\nRecomiendo el lugar.', 'A 40 minutos del centro en cercanías (RER), anfitrión muy atento. También cerca de Le Bourget.', 'Julien es un un gran chico, muy atentos, siempre está atento a que requieres, se comunica por el móvil, para saber que esté bien, te orienta para dònde y como irte, te busca opciones, es maravillosa persona, muy limpio, respetuoso y comunicativo, tiene muchos detalles con su huésped, la zona es popular, pero también conoces un Paris más real no sólo turístico, hay metro cerca que te lleva al centro, yo me la pase increíble y volvería, gracias Julien .', 'Un anfitrión muy cordial, recibiendo de muy buena manera y preocupandose de como me sentía en mi estancia en París.', 'Julien es un excelente anfitrión, es muy accesible y hace lo que sea para que te sientas como en casa. La ubicación del departamento esta algo retirada del centro de París pero el metro pasa a 3 cuadras y de igual manera es muy fácil llegar.'], ['Cumple con lo que dice la reseña, julien atento, e intenta comunicarse contigo.', 'Esta super cerca de la estación, a 5 min. Está línea te lleva al Sacré cœur. Julian es super amable, se esfuerza mucho porque la gente se sienta cómoda. Es una gran persona.', 'El anfitrión siempre está atento en todo momento. la habitación está ubicada a pocos metros de la línea 12 que te deja en el centro de París. totalmente recomendado.', 'Durante mi estancia Julien estuvo muy atento y amable. Me ayudo cuando tuve un problema con mi celular, fue muy servicial. El lugar está muy cercano a la estación del metro y me fue muy fácil usarlo, definitivamente lo recomiendo.', 'muy agradable la estancia! el cuarto muy cómodo y el anfitrión muy amable y servicial, 10/10', 'habitación amplia y cómoda. Julian es muy amable y dispuesto a ayudar', 'El anfitrión es una persona muy amable y alegre. trata de adaptarse a las necesidades de los huéspedes y es de cconfiar.\\nLa zona no es muy cómoda realmente y sobre todo porque está en la zona 3.', 'Perfecto, con una ubicación excelente para pasar tus dias en paris', 'Julien es una persona súper atenta y dispuesta ayudarte con todo lo que necesites. Me hospedé dos noches solamente, pero todo fue perfecto.', 'Es un buen sitio para hospedarse, super recomendado', 'Muy buen lugar, buena ubicación y está bien cuidado', 'El alojamiento está bien y es cómodo. Solo les recomiendo a los futuros huéspedes que si tienen problemas para conciliar el sueño, lleven tapones para los oídos. Las habitaciones dan a una calle transitada y hay bastante ruido', 'El departamento de Julien es tal y como se muestra en las fotos, muy limpio todo y agradable. Julien super atento, me envió incluso imagen de las estaciones del tren para que me ubicara mejor, quedo muy agradecida por su hospitalidad. Definitivamente lo recomiendo.', 'Un lugar cercano y accesible para conocer París.', 'Todo increíblemente bien llegaría las veces que fueran necesarias es el mejor AirBNB que he llegado', 'Simplemente un anfitrión de excelencia, me sorprendió con su amabilidad, los servicios en su alojamiento totalmente limpios y accesibles en todo momento.\\nJulien siempre preocupado por qué estemos a gusto y no necesitemos nada.\\nMe volvería a quedar en su alojamiento sin pensarlo, cuando regrese a París!!', 'Mi experiencia en el alojamiento de Julien fue increíble. Me quedé un mes completo y tuve la posibilidad de conocer una gran persona. Julien es muy servicial, siempre se preocupa por como estas. Realmente me hizo sentir como si estuviera en mi casa. Sin dudar volvería a su casa si tengo que volver a París y lo recomiendo con los ojos cerrados.', 'Excelente lugar. Muy buena atención de Julien, es amable y se preocupa de los huéspedes.', 'Todo perfecto, la desventaja es que esta un poco lejos de paris, pero en el (RER) está muy fácil de llagar', 'El departamento de Julien es muy agradable, lleno de detalles y muy limpio. El entorno urbano es un poco bullicioso en las noches y la estacion de trenes está a unas siete cuadras.\\nEs un lugar muy recomendable, a buen precio y con un excelente anfitrión.', 'es un gran anfitrión, todo limpio y un barrio muy tranquilo', 'Está muy cómodo, limpio y julien es muy amigable y atento. Recomendado', 'El lugar esta muy limpio y ordenado, el único problema es que tienes que caminar 10 minutos hasta la estación del tren', 'El lugar es limpio, con buena calefacción y luminoso. Realmente cómodo.\\nSe encuentra a unos 15 minutos del centro de París en tren. La estación está a unas seis cuadras del alojamiento.\\nJulien es muy amable.\\nRecomiendo el lugar.', 'A 40 minutos del centro en cercanías (RER), anfitrión muy atento. También cerca de Le Bourget.', 'Julien es un un gran chico, muy atentos, siempre está atento a que requieres, se comunica por el móvil, para saber que esté bien, te orienta para dònde y como irte, te busca opciones, es maravillosa persona, muy limpio, respetuoso y comunicativo, tiene muchos detalles con su huésped, la zona es popular, pero también conoces un Paris más real no sólo turístico, hay metro cerca que te lleva al centro, yo me la pase increíble y volvería, gracias Julien .', 'Un anfitrión muy cordial, recibiendo de muy buena manera y preocupandose de como me sentía en mi estancia en París.', 'Julien es un excelente anfitrión, es muy accesible y hace lo que sea para que te sientas como en casa. La ubicación del departamento esta algo retirada del centro de París pero el metro pasa a 3 cuadras y de igual manera es muy fácil llegar.'], ['Cumple con lo que dice la reseña, julien atento, e intenta comunicarse contigo.', 'Esta super cerca de la estación, a 5 min. Está línea te lleva al Sacré cœur. Julian es super amable, se esfuerza mucho porque la gente se sienta cómoda. Es una gran persona.', 'El anfitrión siempre está atento en todo momento. la habitación está ubicada a pocos metros de la línea 12 que te deja en el centro de París. totalmente recomendado.', 'Durante mi estancia Julien estuvo muy atento y amable. Me ayudo cuando tuve un problema con mi celular, fue muy servicial. El lugar está muy cercano a la estación del metro y me fue muy fácil usarlo, definitivamente lo recomiendo.', 'muy agradable la estancia! el cuarto muy cómodo y el anfitrión muy amable y servicial, 10/10', 'habitación amplia y cómoda. Julian es muy amable y dispuesto a ayudar', 'El anfitrión es una persona muy amable y alegre. trata de adaptarse a las necesidades de los huéspedes y es de cconfiar.\\nLa zona no es muy cómoda realmente y sobre todo porque está en la zona 3.', 'Perfecto, con una ubicación excelente para pasar tus dias en paris', 'Julien es una persona súper atenta y dispuesta ayudarte con todo lo que necesites. Me hospedé dos noches solamente, pero todo fue perfecto.', 'Es un buen sitio para hospedarse, super recomendado', 'Muy buen lugar, buena ubicación y está bien cuidado', 'El alojamiento está bien y es cómodo. Solo les recomiendo a los futuros huéspedes que si tienen problemas para conciliar el sueño, lleven tapones para los oídos. Las habitaciones dan a una calle transitada y hay bastante ruido', 'El departamento de Julien es tal y como se muestra en las fotos, muy limpio todo y agradable. Julien super atento, me envió incluso imagen de las estaciones del tren para que me ubicara mejor, quedo muy agradecida por su hospitalidad. Definitivamente lo recomiendo.', 'Un lugar cercano y accesible para conocer París.', 'Todo increíblemente bien llegaría las veces que fueran necesarias es el mejor AirBNB que he llegado', 'Simplemente un anfitrión de excelencia, me sorprendió con su amabilidad, los servicios en su alojamiento totalmente limpios y accesibles en todo momento.\\nJulien siempre preocupado por qué estemos a gusto y no necesitemos nada.\\nMe volvería a quedar en su alojamiento sin pensarlo, cuando regrese a París!!', 'Mi experiencia en el alojamiento de Julien fue increíble. Me quedé un mes completo y tuve la posibilidad de conocer una gran persona. Julien es muy servicial, siempre se preocupa por como estas. Realmente me hizo sentir como si estuviera en mi casa. Sin dudar volvería a su casa si tengo que volver a París y lo recomiendo con los ojos cerrados.', 'Excelente lugar. Muy buena atención de Julien, es amable y se preocupa de los huéspedes.', 'Todo perfecto, la desventaja es que esta un poco lejos de paris, pero en el (RER) está muy fácil de llagar', 'El departamento de Julien es muy agradable, lleno de detalles y muy limpio. El entorno urbano es un poco bullicioso en las noches y la estacion de trenes está a unas siete cuadras.\\nEs un lugar muy recomendable, a buen precio y con un excelente anfitrión.', 'es un gran anfitrión, todo limpio y un barrio muy tranquilo', 'Está muy cómodo, limpio y julien es muy amigable y atento. Recomendado', 'El lugar esta muy limpio y ordenado, el único problema es que tienes que caminar 10 minutos hasta la estación del tren', 'El lugar es limpio, con buena calefacción y luminoso. Realmente cómodo.\\nSe encuentra a unos 15 minutos del centro de París en tren. La estación está a unas seis cuadras del alojamiento.\\nJulien es muy amable.\\nRecomiendo el lugar.', 'A 40 minutos del centro en cercanías (RER), anfitrión muy atento. También cerca de Le Bourget.', 'Julien es un un gran chico, muy atentos, siempre está atento a que requieres, se comunica por el móvil, para saber que esté bien, te orienta para dònde y como irte, te busca opciones, es maravillosa persona, muy limpio, respetuoso y comunicativo, tiene muchos detalles con su huésped, la zona es popular, pero también conoces un Paris más real no sólo turístico, hay metro cerca que te lleva al centro, yo me la pase increíble y volvería, gracias Julien .', 'Un anfitrión muy cordial, recibiendo de muy buena manera y preocupandose de como me sentía en mi estancia en París.', 'Julien es un excelente anfitrión, es muy accesible y hace lo que sea para que te sientas como en casa. La ubicación del departamento esta algo retirada del centro de París pero el metro pasa a 3 cuadras y de igual manera es muy fácil llegar.'], ['Cumple con lo que dice la reseña, julien atento, e intenta comunicarse contigo.', 'Esta super cerca de la estación, a 5 min. Está línea te lleva al Sacré cœur. Julian es super amable, se esfuerza mucho porque la gente se sienta cómoda. Es una gran persona.', 'El anfitrión siempre está atento en todo momento. la habitación está ubicada a pocos metros de la línea 12 que te deja en el centro de París. totalmente recomendado.', 'Durante mi estancia Julien estuvo muy atento y amable. Me ayudo cuando tuve un problema con mi celular, fue muy servicial. El lugar está muy cercano a la estación del metro y me fue muy fácil usarlo, definitivamente lo recomiendo.', 'muy agradable la estancia! el cuarto muy cómodo y el anfitrión muy amable y servicial, 10/10', 'habitación amplia y cómoda. Julian es muy amable y dispuesto a ayudar', 'El anfitrión es una persona muy amable y alegre. trata de adaptarse a las necesidades de los huéspedes y es de cconfiar.\\nLa zona no es muy cómoda realmente y sobre todo porque está en la zona 3.', 'Perfecto, con una ubicación excelente para pasar tus dias en paris', 'Julien es una persona súper atenta y dispuesta ayudarte con todo lo que necesites. Me hospedé dos noches solamente, pero todo fue perfecto.', 'Es un buen sitio para hospedarse, super recomendado', 'Muy buen lugar, buena ubicación y está bien cuidado', 'El alojamiento está bien y es cómodo. Solo les recomiendo a los futuros huéspedes que si tienen problemas para conciliar el sueño, lleven tapones para los oídos. Las habitaciones dan a una calle transitada y hay bastante ruido', 'El departamento de Julien es tal y como se muestra en las fotos, muy limpio todo y agradable. Julien super atento, me envió incluso imagen de las estaciones del tren para que me ubicara mejor, quedo muy agradecida por su hospitalidad. Definitivamente lo recomiendo.', 'Un lugar cercano y accesible para conocer París.', 'Todo increíblemente bien llegaría las veces que fueran necesarias es el mejor AirBNB que he llegado', 'Simplemente un anfitrión de excelencia, me sorprendió con su amabilidad, los servicios en su alojamiento totalmente limpios y accesibles en todo momento.\\nJulien siempre preocupado por qué estemos a gusto y no necesitemos nada.\\nMe volvería a quedar en su alojamiento sin pensarlo, cuando regrese a París!!', 'Mi experiencia en el alojamiento de Julien fue increíble. Me quedé un mes completo y tuve la posibilidad de conocer una gran persona. Julien es muy servicial, siempre se preocupa por como estas. Realmente me hizo sentir como si estuviera en mi casa. Sin dudar volvería a su casa si tengo que volver a París y lo recomiendo con los ojos cerrados.', 'Excelente lugar. Muy buena atención de Julien, es amable y se preocupa de los huéspedes.', 'Todo perfecto, la desventaja es que esta un poco lejos de paris, pero en el (RER) está muy fácil de llagar', 'El departamento de Julien es muy agradable, lleno de detalles y muy limpio. El entorno urbano es un poco bullicioso en las noches y la estacion de trenes está a unas siete cuadras.\\nEs un lugar muy recomendable, a buen precio y con un excelente anfitrión.', 'es un gran anfitrión, todo limpio y un barrio muy tranquilo', 'Está muy cómodo, limpio y julien es muy amigable y atento. Recomendado', 'El lugar esta muy limpio y ordenado, el único problema es que tienes que caminar 10 minutos hasta la estación del tren', 'El lugar es limpio, con buena calefacción y luminoso. Realmente cómodo.\\nSe encuentra a unos 15 minutos del centro de París en tren. La estación está a unas seis cuadras del alojamiento.\\nJulien es muy amable.\\nRecomiendo el lugar.', 'A 40 minutos del centro en cercanías (RER), anfitrión muy atento. También cerca de Le Bourget.', 'Julien es un un gran chico, muy atentos, siempre está atento a que requieres, se comunica por el móvil, para saber que esté bien, te orienta para dònde y como irte, te busca opciones, es maravillosa persona, muy limpio, respetuoso y comunicativo, tiene muchos detalles con su huésped, la zona es popular, pero también conoces un Paris más real no sólo turístico, hay metro cerca que te lleva al centro, yo me la pase increíble y volvería, gracias Julien .', 'Un anfitrión muy cordial, recibiendo de muy buena manera y preocupandose de como me sentía en mi estancia en París.', 'Julien es un excelente anfitrión, es muy accesible y hace lo que sea para que te sientas como en casa. La ubicación del departamento esta algo retirada del centro de París pero el metro pasa a 3 cuadras y de igual manera es muy fácil llegar.'], ['Cumple con lo que dice la reseña, julien atento, e intenta comunicarse contigo.', 'Esta super cerca de la estación, a 5 min. Está línea te lleva al Sacré cœur. Julian es super amable, se esfuerza mucho porque la gente se sienta cómoda. Es una gran persona.', 'El anfitrión siempre está atento en todo momento. la habitación está ubicada a pocos metros de la línea 12 que te deja en el centro de París. totalmente recomendado.', 'Durante mi estancia Julien estuvo muy atento y amable. Me ayudo cuando tuve un problema con mi celular, fue muy servicial. El lugar está muy cercano a la estación del metro y me fue muy fácil usarlo, definitivamente lo recomiendo.', 'muy agradable la estancia! el cuarto muy cómodo y el anfitrión muy amable y servicial, 10/10', 'habitación amplia y cómoda. Julian es muy amable y dispuesto a ayudar', 'El anfitrión es una persona muy amable y alegre. trata de adaptarse a las necesidades de los huéspedes y es de cconfiar.\\nLa zona no es muy cómoda realmente y sobre todo porque está en la zona 3.', 'Perfecto, con una ubicación excelente para pasar tus dias en paris', 'Julien es una persona súper atenta y dispuesta ayudarte con todo lo que necesites. Me hospedé dos noches solamente, pero todo fue perfecto.', 'Es un buen sitio para hospedarse, super recomendado', 'Muy buen lugar, buena ubicación y está bien cuidado', 'El alojamiento está bien y es cómodo. Solo les recomiendo a los futuros huéspedes que si tienen problemas para conciliar el sueño, lleven tapones para los oídos. Las habitaciones dan a una calle transitada y hay bastante ruido', 'El departamento de Julien es tal y como se muestra en las fotos, muy limpio todo y agradable. Julien super atento, me envió incluso imagen de las estaciones del tren para que me ubicara mejor, quedo muy agradecida por su hospitalidad. Definitivamente lo recomiendo.', 'Un lugar cercano y accesible para conocer París.', 'Todo increíblemente bien llegaría las veces que fueran necesarias es el mejor AirBNB que he llegado', 'Simplemente un anfitrión de excelencia, me sorprendió con su amabilidad, los servicios en su alojamiento totalmente limpios y accesibles en todo momento.\\nJulien siempre preocupado por qué estemos a gusto y no necesitemos nada.\\nMe volvería a quedar en su alojamiento sin pensarlo, cuando regrese a París!!', 'Mi experiencia en el alojamiento de Julien fue increíble. Me quedé un mes completo y tuve la posibilidad de conocer una gran persona. Julien es muy servicial, siempre se preocupa por como estas. Realmente me hizo sentir como si estuviera en mi casa. Sin dudar volvería a su casa si tengo que volver a París y lo recomiendo con los ojos cerrados.', 'Excelente lugar. Muy buena atención de Julien, es amable y se preocupa de los huéspedes.', 'Todo perfecto, la desventaja es que esta un poco lejos de paris, pero en el (RER) está muy fácil de llagar', 'El departamento de Julien es muy agradable, lleno de detalles y muy limpio. El entorno urbano es un poco bullicioso en las noches y la estacion de trenes está a unas siete cuadras.\\nEs un lugar muy recomendable, a buen precio y con un excelente anfitrión.', 'es un gran anfitrión, todo limpio y un barrio muy tranquilo', 'Está muy cómodo, limpio y julien es muy amigable y atento. Recomendado', 'El lugar esta muy limpio y ordenado, el único problema es que tienes que caminar 10 minutos hasta la estación del tren', 'El lugar es limpio, con buena calefacción y luminoso. Realmente cómodo.\\nSe encuentra a unos 15 minutos del centro de París en tren. La estación está a unas seis cuadras del alojamiento.\\nJulien es muy amable.\\nRecomiendo el lugar.', 'A 40 minutos del centro en cercanías (RER), anfitrión muy atento. También cerca de Le Bourget.', 'Julien es un un gran chico, muy atentos, siempre está atento a que requieres, se comunica por el móvil, para saber que esté bien, te orienta para dònde y como irte, te busca opciones, es maravillosa persona, muy limpio, respetuoso y comunicativo, tiene muchos detalles con su huésped, la zona es popular, pero también conoces un Paris más real no sólo turístico, hay metro cerca que te lleva al centro, yo me la pase increíble y volvería, gracias Julien .', 'Un anfitrión muy cordial, recibiendo de muy buena manera y preocupandose de como me sentía en mi estancia en París.', 'Julien es un excelente anfitrión, es muy accesible y hace lo que sea para que te sientas como en casa. La ubicación del departamento esta algo retirada del centro de París pero el metro pasa a 3 cuadras y de igual manera es muy fácil llegar.'], ['Cumple con lo que dice la reseña, julien atento, e intenta comunicarse contigo.', 'Esta super cerca de la estación, a 5 min. Está línea te lleva al Sacré cœur. Julian es super amable, se esfuerza mucho porque la gente se sienta cómoda. Es una gran persona.', 'El anfitrión siempre está atento en todo momento. la habitación está ubicada a pocos metros de la línea 12 que te deja en el centro de París. totalmente recomendado.', 'Durante mi estancia Julien estuvo muy atento y amable. Me ayudo cuando tuve un problema con mi celular, fue muy servicial. El lugar está muy cercano a la estación del metro y me fue muy fácil usarlo, definitivamente lo recomiendo.', 'muy agradable la estancia! el cuarto muy cómodo y el anfitrión muy amable y servicial, 10/10', 'habitación amplia y cómoda. Julian es muy amable y dispuesto a ayudar', 'El anfitrión es una persona muy amable y alegre. trata de adaptarse a las necesidades de los huéspedes y es de cconfiar.\\nLa zona no es muy cómoda realmente y sobre todo porque está en la zona 3.', 'Perfecto, con una ubicación excelente para pasar tus dias en paris', 'Julien es una persona súper atenta y dispuesta ayudarte con todo lo que necesites. Me hospedé dos noches solamente, pero todo fue perfecto.', 'Es un buen sitio para hospedarse, super recomendado', 'Muy buen lugar, buena ubicación y está bien cuidado', 'El alojamiento está bien y es cómodo. Solo les recomiendo a los futuros huéspedes que si tienen problemas para conciliar el sueño, lleven tapones para los oídos. Las habitaciones dan a una calle transitada y hay bastante ruido', 'El departamento de Julien es tal y como se muestra en las fotos, muy limpio todo y agradable. Julien super atento, me envió incluso imagen de las estaciones del tren para que me ubicara mejor, quedo muy agradecida por su hospitalidad. Definitivamente lo recomiendo.', 'Un lugar cercano y accesible para conocer París.', 'Todo increíblemente bien llegaría las veces que fueran necesarias es el mejor AirBNB que he llegado', 'Simplemente un anfitrión de excelencia, me sorprendió con su amabilidad, los servicios en su alojamiento totalmente limpios y accesibles en todo momento.\\nJulien siempre preocupado por qué estemos a gusto y no necesitemos nada.\\nMe volvería a quedar en su alojamiento sin pensarlo, cuando regrese a París!!', 'Mi experiencia en el alojamiento de Julien fue increíble. Me quedé un mes completo y tuve la posibilidad de conocer una gran persona. Julien es muy servicial, siempre se preocupa por como estas. Realmente me hizo sentir como si estuviera en mi casa. Sin dudar volvería a su casa si tengo que volver a París y lo recomiendo con los ojos cerrados.', 'Excelente lugar. Muy buena atención de Julien, es amable y se preocupa de los huéspedes.', 'Todo perfecto, la desventaja es que esta un poco lejos de paris, pero en el (RER) está muy fácil de llagar', 'El departamento de Julien es muy agradable, lleno de detalles y muy limpio. El entorno urbano es un poco bullicioso en las noches y la estacion de trenes está a unas siete cuadras.\\nEs un lugar muy recomendable, a buen precio y con un excelente anfitrión.', 'es un gran anfitrión, todo limpio y un barrio muy tranquilo', 'Está muy cómodo, limpio y julien es muy amigable y atento. Recomendado', 'El lugar esta muy limpio y ordenado, el único problema es que tienes que caminar 10 minutos hasta la estación del tren', 'El lugar es limpio, con buena calefacción y luminoso. Realmente cómodo.\\nSe encuentra a unos 15 minutos del centro de París en tren. La estación está a unas seis cuadras del alojamiento.\\nJulien es muy amable.\\nRecomiendo el lugar.', 'A 40 minutos del centro en cercanías (RER), anfitrión muy atento. También cerca de Le Bourget.', 'Julien es un un gran chico, muy atentos, siempre está atento a que requieres, se comunica por el móvil, para saber que esté bien, te orienta para dònde y como irte, te busca opciones, es maravillosa persona, muy limpio, respetuoso y comunicativo, tiene muchos detalles con su huésped, la zona es popular, pero también conoces un Paris más real no sólo turístico, hay metro cerca que te lleva al centro, yo me la pase increíble y volvería, gracias Julien .', 'Un anfitrión muy cordial, recibiendo de muy buena manera y preocupandose de como me sentía en mi estancia en París.', 'Julien es un excelente anfitrión, es muy accesible y hace lo que sea para que te sientas como en casa. La ubicación del departamento esta algo retirada del centro de París pero el metro pasa a 3 cuadras y de igual manera es muy fácil llegar.'], ['Cumple con lo que dice la reseña, julien atento, e intenta comunicarse contigo.', 'Esta super cerca de la estación, a 5 min. Está línea te lleva al Sacré cœur. Julian es super amable, se esfuerza mucho porque la gente se sienta cómoda. Es una gran persona.', 'El anfitrión siempre está atento en todo momento. la habitación está ubicada a pocos metros de la línea 12 que te deja en el centro de París. totalmente recomendado.', 'Durante mi estancia Julien estuvo muy atento y amable. Me ayudo cuando tuve un problema con mi celular, fue muy servicial. El lugar está muy cercano a la estación del metro y me fue muy fácil usarlo, definitivamente lo recomiendo.', 'muy agradable la estancia! el cuarto muy cómodo y el anfitrión muy amable y servicial, 10/10', 'habitación amplia y cómoda. Julian es muy amable y dispuesto a ayudar', 'El anfitrión es una persona muy amable y alegre. trata de adaptarse a las necesidades de los huéspedes y es de cconfiar.\\nLa zona no es muy cómoda realmente y sobre todo porque está en la zona 3.', 'Perfecto, con una ubicación excelente para pasar tus dias en paris', 'Julien es una persona súper atenta y dispuesta ayudarte con todo lo que necesites. Me hospedé dos noches solamente, pero todo fue perfecto.', 'Es un buen sitio para hospedarse, super recomendado', 'Muy buen lugar, buena ubicación y está bien cuidado', 'El alojamiento está bien y es cómodo. Solo les recomiendo a los futuros huéspedes que si tienen problemas para conciliar el sueño, lleven tapones para los oídos. Las habitaciones dan a una calle transitada y hay bastante ruido', 'El departamento de Julien es tal y como se muestra en las fotos, muy limpio todo y agradable. Julien super atento, me envió incluso imagen de las estaciones del tren para que me ubicara mejor, quedo muy agradecida por su hospitalidad. Definitivamente lo recomiendo.', 'Un lugar cercano y accesible para conocer París.', 'Todo increíblemente bien llegaría las veces que fueran necesarias es el mejor AirBNB que he llegado', 'Simplemente un anfitrión de excelencia, me sorprendió con su amabilidad, los servicios en su alojamiento totalmente limpios y accesibles en todo momento.\\nJulien siempre preocupado por qué estemos a gusto y no necesitemos nada.\\nMe volvería a quedar en su alojamiento sin pensarlo, cuando regrese a París!!', 'Mi experiencia en el alojamiento de Julien fue increíble. Me quedé un mes completo y tuve la posibilidad de conocer una gran persona. Julien es muy servicial, siempre se preocupa por como estas. Realmente me hizo sentir como si estuviera en mi casa. Sin dudar volvería a su casa si tengo que volver a París y lo recomiendo con los ojos cerrados.', 'Excelente lugar. Muy buena atención de Julien, es amable y se preocupa de los huéspedes.', 'Todo perfecto, la desventaja es que esta un poco lejos de paris, pero en el (RER) está muy fácil de llagar', 'El departamento de Julien es muy agradable, lleno de detalles y muy limpio. El entorno urbano es un poco bullicioso en las noches y la estacion de trenes está a unas siete cuadras.\\nEs un lugar muy recomendable, a buen precio y con un excelente anfitrión.', 'es un gran anfitrión, todo limpio y un barrio muy tranquilo', 'Está muy cómodo, limpio y julien es muy amigable y atento. Recomendado', 'El lugar esta muy limpio y ordenado, el único problema es que tienes que caminar 10 minutos hasta la estación del tren', 'El lugar es limpio, con buena calefacción y luminoso. Realmente cómodo.\\nSe encuentra a unos 15 minutos del centro de París en tren. La estación está a unas seis cuadras del alojamiento.\\nJulien es muy amable.\\nRecomiendo el lugar.', 'A 40 minutos del centro en cercanías (RER), anfitrión muy atento. También cerca de Le Bourget.', 'Julien es un un gran chico, muy atentos, siempre está atento a que requieres, se comunica por el móvil, para saber que esté bien, te orienta para dònde y como irte, te busca opciones, es maravillosa persona, muy limpio, respetuoso y comunicativo, tiene muchos detalles con su huésped, la zona es popular, pero también conoces un Paris más real no sólo turístico, hay metro cerca que te lleva al centro, yo me la pase increíble y volvería, gracias Julien .', 'Un anfitrión muy cordial, recibiendo de muy buena manera y preocupandose de como me sentía en mi estancia en París.', 'Julien es un excelente anfitrión, es muy accesible y hace lo que sea para que te sientas como en casa. La ubicación del departamento esta algo retirada del centro de París pero el metro pasa a 3 cuadras y de igual manera es muy fácil llegar.'], ['Cumple con lo que dice la reseña, julien atento, e intenta comunicarse contigo.', 'Esta super cerca de la estación, a 5 min. Está línea te lleva al Sacré cœur. Julian es super amable, se esfuerza mucho porque la gente se sienta cómoda. Es una gran persona.', 'El anfitrión siempre está atento en todo momento. la habitación está ubicada a pocos metros de la línea 12 que te deja en el centro de París. totalmente recomendado.', 'Durante mi estancia Julien estuvo muy atento y amable. Me ayudo cuando tuve un problema con mi celular, fue muy servicial. El lugar está muy cercano a la estación del metro y me fue muy fácil usarlo, definitivamente lo recomiendo.', 'muy agradable la estancia! el cuarto muy cómodo y el anfitrión muy amable y servicial, 10/10', 'habitación amplia y cómoda. Julian es muy amable y dispuesto a ayudar', 'El anfitrión es una persona muy amable y alegre. trata de adaptarse a las necesidades de los huéspedes y es de cconfiar.\\nLa zona no es muy cómoda realmente y sobre todo porque está en la zona 3.', 'Perfecto, con una ubicación excelente para pasar tus dias en paris', 'Julien es una persona súper atenta y dispuesta ayudarte con todo lo que necesites. Me hospedé dos noches solamente, pero todo fue perfecto.', 'Es un buen sitio para hospedarse, super recomendado', 'Muy buen lugar, buena ubicación y está bien cuidado', 'El alojamiento está bien y es cómodo. Solo les recomiendo a los futuros huéspedes que si tienen problemas para conciliar el sueño, lleven tapones para los oídos. Las habitaciones dan a una calle transitada y hay bastante ruido', 'El departamento de Julien es tal y como se muestra en las fotos, muy limpio todo y agradable. Julien super atento, me envió incluso imagen de las estaciones del tren para que me ubicara mejor, quedo muy agradecida por su hospitalidad. Definitivamente lo recomiendo.', 'Un lugar cercano y accesible para conocer París.', 'Todo increíblemente bien llegaría las veces que fueran necesarias es el mejor AirBNB que he llegado', 'Simplemente un anfitrión de excelencia, me sorprendió con su amabilidad, los servicios en su alojamiento totalmente limpios y accesibles en todo momento.\\nJulien siempre preocupado por qué estemos a gusto y no necesitemos nada.\\nMe volvería a quedar en su alojamiento sin pensarlo, cuando regrese a París!!', 'Mi experiencia en el alojamiento de Julien fue increíble. Me quedé un mes completo y tuve la posibilidad de conocer una gran persona. Julien es muy servicial, siempre se preocupa por como estas. Realmente me hizo sentir como si estuviera en mi casa. Sin dudar volvería a su casa si tengo que volver a París y lo recomiendo con los ojos cerrados.', 'Excelente lugar. Muy buena atención de Julien, es amable y se preocupa de los huéspedes.', 'Todo perfecto, la desventaja es que esta un poco lejos de paris, pero en el (RER) está muy fácil de llagar', 'El departamento de Julien es muy agradable, lleno de detalles y muy limpio. El entorno urbano es un poco bullicioso en las noches y la estacion de trenes está a unas siete cuadras.\\nEs un lugar muy recomendable, a buen precio y con un excelente anfitrión.', 'es un gran anfitrión, todo limpio y un barrio muy tranquilo', 'Está muy cómodo, limpio y julien es muy amigable y atento. Recomendado', 'El lugar esta muy limpio y ordenado, el único problema es que tienes que caminar 10 minutos hasta la estación del tren', 'El lugar es limpio, con buena calefacción y luminoso. Realmente cómodo.\\nSe encuentra a unos 15 minutos del centro de París en tren. La estación está a unas seis cuadras del alojamiento.\\nJulien es muy amable.\\nRecomiendo el lugar.', 'A 40 minutos del centro en cercanías (RER), anfitrión muy atento. También cerca de Le Bourget.', 'Julien es un un gran chico, muy atentos, siempre está atento a que requieres, se comunica por el móvil, para saber que esté bien, te orienta para dònde y como irte, te busca opciones, es maravillosa persona, muy limpio, respetuoso y comunicativo, tiene muchos detalles con su huésped, la zona es popular, pero también conoces un Paris más real no sólo turístico, hay metro cerca que te lleva al centro, yo me la pase increíble y volvería, gracias Julien .', 'Un anfitrión muy cordial, recibiendo de muy buena manera y preocupandose de como me sentía en mi estancia en París.', 'Julien es un excelente anfitrión, es muy accesible y hace lo que sea para que te sientas como en casa. La ubicación del departamento esta algo retirada del centro de París pero el metro pasa a 3 cuadras y de igual manera es muy fácil llegar.'], ['Cumple con lo que dice la reseña, julien atento, e intenta comunicarse contigo.', 'Esta super cerca de la estación, a 5 min. Está línea te lleva al Sacré cœur. Julian es super amable, se esfuerza mucho porque la gente se sienta cómoda. Es una gran persona.', 'El anfitrión siempre está atento en todo momento. la habitación está ubicada a pocos metros de la línea 12 que te deja en el centro de París. totalmente recomendado.', 'Durante mi estancia Julien estuvo muy atento y amable. Me ayudo cuando tuve un problema con mi celular, fue muy servicial. El lugar está muy cercano a la estación del metro y me fue muy fácil usarlo, definitivamente lo recomiendo.', 'muy agradable la estancia! el cuarto muy cómodo y el anfitrión muy amable y servicial, 10/10', 'habitación amplia y cómoda. Julian es muy amable y dispuesto a ayudar', 'El anfitrión es una persona muy amable y alegre. trata de adaptarse a las necesidades de los huéspedes y es de cconfiar.\\nLa zona no es muy cómoda realmente y sobre todo porque está en la zona 3.', 'Perfecto, con una ubicación excelente para pasar tus dias en paris', 'Julien es una persona súper atenta y dispuesta ayudarte con todo lo que necesites. Me hospedé dos noches solamente, pero todo fue perfecto.', 'Es un buen sitio para hospedarse, super recomendado', 'Muy buen lugar, buena ubicación y está bien cuidado', 'El alojamiento está bien y es cómodo. Solo les recomiendo a los futuros huéspedes que si tienen problemas para conciliar el sueño, lleven tapones para los oídos. Las habitaciones dan a una calle transitada y hay bastante ruido', 'El departamento de Julien es tal y como se muestra en las fotos, muy limpio todo y agradable. Julien super atento, me envió incluso imagen de las estaciones del tren para que me ubicara mejor, quedo muy agradecida por su hospitalidad. Definitivamente lo recomiendo.', 'Un lugar cercano y accesible para conocer París.', 'Todo increíblemente bien llegaría las veces que fueran necesarias es el mejor AirBNB que he llegado', 'Simplemente un anfitrión de excelencia, me sorprendió con su amabilidad, los servicios en su alojamiento totalmente limpios y accesibles en todo momento.\\nJulien siempre preocupado por qué estemos a gusto y no necesitemos nada.\\nMe volvería a quedar en su alojamiento sin pensarlo, cuando regrese a París!!', 'Mi experiencia en el alojamiento de Julien fue increíble. Me quedé un mes completo y tuve la posibilidad de conocer una gran persona. Julien es muy servicial, siempre se preocupa por como estas. Realmente me hizo sentir como si estuviera en mi casa. Sin dudar volvería a su casa si tengo que volver a París y lo recomiendo con los ojos cerrados.', 'Excelente lugar. Muy buena atención de Julien, es amable y se preocupa de los huéspedes.', 'Todo perfecto, la desventaja es que esta un poco lejos de paris, pero en el (RER) está muy fácil de llagar', 'El departamento de Julien es muy agradable, lleno de detalles y muy limpio. El entorno urbano es un poco bullicioso en las noches y la estacion de trenes está a unas siete cuadras.\\nEs un lugar muy recomendable, a buen precio y con un excelente anfitrión.', 'es un gran anfitrión, todo limpio y un barrio muy tranquilo', 'Está muy cómodo, limpio y julien es muy amigable y atento. Recomendado', 'El lugar esta muy limpio y ordenado, el único problema es que tienes que caminar 10 minutos hasta la estación del tren', 'El lugar es limpio, con buena calefacción y luminoso. Realmente cómodo.\\nSe encuentra a unos 15 minutos del centro de París en tren. La estación está a unas seis cuadras del alojamiento.\\nJulien es muy amable.\\nRecomiendo el lugar.', 'A 40 minutos del centro en cercanías (RER), anfitrión muy atento. También cerca de Le Bourget.', 'Julien es un un gran chico, muy atentos, siempre está atento a que requieres, se comunica por el móvil, para saber que esté bien, te orienta para dònde y como irte, te busca opciones, es maravillosa persona, muy limpio, respetuoso y comunicativo, tiene muchos detalles con su huésped, la zona es popular, pero también conoces un Paris más real no sólo turístico, hay metro cerca que te lleva al centro, yo me la pase increíble y volvería, gracias Julien .', 'Un anfitrión muy cordial, recibiendo de muy buena manera y preocupandose de como me sentía en mi estancia en París.', 'Julien es un excelente anfitrión, es muy accesible y hace lo que sea para que te sientas como en casa. La ubicación del departamento esta algo retirada del centro de París pero el metro pasa a 3 cuadras y de igual manera es muy fácil llegar.'], ['Cumple con lo que dice la reseña, julien atento, e intenta comunicarse contigo.', 'Esta super cerca de la estación, a 5 min. Está línea te lleva al Sacré cœur. Julian es super amable, se esfuerza mucho porque la gente se sienta cómoda. Es una gran persona.', 'El anfitrión siempre está atento en todo momento. la habitación está ubicada a pocos metros de la línea 12 que te deja en el centro de París. totalmente recomendado.', 'Durante mi estancia Julien estuvo muy atento y amable. Me ayudo cuando tuve un problema con mi celular, fue muy servicial. El lugar está muy cercano a la estación del metro y me fue muy fácil usarlo, definitivamente lo recomiendo.', 'muy agradable la estancia! el cuarto muy cómodo y el anfitrión muy amable y servicial, 10/10', 'habitación amplia y cómoda. Julian es muy amable y dispuesto a ayudar', 'El anfitrión es una persona muy amable y alegre. trata de adaptarse a las necesidades de los huéspedes y es de cconfiar.\\nLa zona no es muy cómoda realmente y sobre todo porque está en la zona 3.', 'Perfecto, con una ubicación excelente para pasar tus dias en paris', 'Julien es una persona súper atenta y dispuesta ayudarte con todo lo que necesites. Me hospedé dos noches solamente, pero todo fue perfecto.', 'Es un buen sitio para hospedarse, super recomendado', 'Muy buen lugar, buena ubicación y está bien cuidado', 'El alojamiento está bien y es cómodo. Solo les recomiendo a los futuros huéspedes que si tienen problemas para conciliar el sueño, lleven tapones para los oídos. Las habitaciones dan a una calle transitada y hay bastante ruido', 'El departamento de Julien es tal y como se muestra en las fotos, muy limpio todo y agradable. Julien super atento, me envió incluso imagen de las estaciones del tren para que me ubicara mejor, quedo muy agradecida por su hospitalidad. Definitivamente lo recomiendo.', 'Un lugar cercano y accesible para conocer París.', 'Todo increíblemente bien llegaría las veces que fueran necesarias es el mejor AirBNB que he llegado', 'Simplemente un anfitrión de excelencia, me sorprendió con su amabilidad, los servicios en su alojamiento totalmente limpios y accesibles en todo momento.\\nJulien siempre preocupado por qué estemos a gusto y no necesitemos nada.\\nMe volvería a quedar en su alojamiento sin pensarlo, cuando regrese a París!!', 'Mi experiencia en el alojamiento de Julien fue increíble. Me quedé un mes completo y tuve la posibilidad de conocer una gran persona. Julien es muy servicial, siempre se preocupa por como estas. Realmente me hizo sentir como si estuviera en mi casa. Sin dudar volvería a su casa si tengo que volver a París y lo recomiendo con los ojos cerrados.', 'Excelente lugar. Muy buena atención de Julien, es amable y se preocupa de los huéspedes.', 'Todo perfecto, la desventaja es que esta un poco lejos de paris, pero en el (RER) está muy fácil de llagar', 'El departamento de Julien es muy agradable, lleno de detalles y muy limpio. El entorno urbano es un poco bullicioso en las noches y la estacion de trenes está a unas siete cuadras.\\nEs un lugar muy recomendable, a buen precio y con un excelente anfitrión.', 'es un gran anfitrión, todo limpio y un barrio muy tranquilo', 'Está muy cómodo, limpio y julien es muy amigable y atento. Recomendado', 'El lugar esta muy limpio y ordenado, el único problema es que tienes que caminar 10 minutos hasta la estación del tren', 'El lugar es limpio, con buena calefacción y luminoso. Realmente cómodo.\\nSe encuentra a unos 15 minutos del centro de París en tren. La estación está a unas seis cuadras del alojamiento.\\nJulien es muy amable.\\nRecomiendo el lugar.', 'A 40 minutos del centro en cercanías (RER), anfitrión muy atento. También cerca de Le Bourget.', 'Julien es un un gran chico, muy atentos, siempre está atento a que requieres, se comunica por el móvil, para saber que esté bien, te orienta para dònde y como irte, te busca opciones, es maravillosa persona, muy limpio, respetuoso y comunicativo, tiene muchos detalles con su huésped, la zona es popular, pero también conoces un Paris más real no sólo turístico, hay metro cerca que te lleva al centro, yo me la pase increíble y volvería, gracias Julien .', 'Un anfitrión muy cordial, recibiendo de muy buena manera y preocupandose de como me sentía en mi estancia en París.', 'Julien es un excelente anfitrión, es muy accesible y hace lo que sea para que te sientas como en casa. La ubicación del departamento esta algo retirada del centro de París pero el metro pasa a 3 cuadras y de igual manera es muy fácil llegar.'], ['Cumple con lo que dice la reseña, julien atento, e intenta comunicarse contigo.', 'Esta super cerca de la estación, a 5 min. Está línea te lleva al Sacré cœur. Julian es super amable, se esfuerza mucho porque la gente se sienta cómoda. Es una gran persona.', 'El anfitrión siempre está atento en todo momento. la habitación está ubicada a pocos metros de la línea 12 que te deja en el centro de París. totalmente recomendado.', 'Durante mi estancia Julien estuvo muy atento y amable. Me ayudo cuando tuve un problema con mi celular, fue muy servicial. El lugar está muy cercano a la estación del metro y me fue muy fácil usarlo, definitivamente lo recomiendo.', 'muy agradable la estancia! el cuarto muy cómodo y el anfitrión muy amable y servicial, 10/10', 'habitación amplia y cómoda. Julian es muy amable y dispuesto a ayudar', 'El anfitrión es una persona muy amable y alegre. trata de adaptarse a las necesidades de los huéspedes y es de cconfiar.\\nLa zona no es muy cómoda realmente y sobre todo porque está en la zona 3.', 'Perfecto, con una ubicación excelente para pasar tus dias en paris', 'Julien es una persona súper atenta y dispuesta ayudarte con todo lo que necesites. Me hospedé dos noches solamente, pero todo fue perfecto.', 'Es un buen sitio para hospedarse, super recomendado', 'Muy buen lugar, buena ubicación y está bien cuidado', 'El alojamiento está bien y es cómodo. Solo les recomiendo a los futuros huéspedes que si tienen problemas para conciliar el sueño, lleven tapones para los oídos. Las habitaciones dan a una calle transitada y hay bastante ruido', 'El departamento de Julien es tal y como se muestra en las fotos, muy limpio todo y agradable. Julien super atento, me envió incluso imagen de las estaciones del tren para que me ubicara mejor, quedo muy agradecida por su hospitalidad. Definitivamente lo recomiendo.', 'Un lugar cercano y accesible para conocer París.', 'Todo increíblemente bien llegaría las veces que fueran necesarias es el mejor AirBNB que he llegado', 'Simplemente un anfitrión de excelencia, me sorprendió con su amabilidad, los servicios en su alojamiento totalmente limpios y accesibles en todo momento.\\nJulien siempre preocupado por qué estemos a gusto y no necesitemos nada.\\nMe volvería a quedar en su alojamiento sin pensarlo, cuando regrese a París!!', 'Mi experiencia en el alojamiento de Julien fue increíble. Me quedé un mes completo y tuve la posibilidad de conocer una gran persona. Julien es muy servicial, siempre se preocupa por como estas. Realmente me hizo sentir como si estuviera en mi casa. Sin dudar volvería a su casa si tengo que volver a París y lo recomiendo con los ojos cerrados.', 'Excelente lugar. Muy buena atención de Julien, es amable y se preocupa de los huéspedes.', 'Todo perfecto, la desventaja es que esta un poco lejos de paris, pero en el (RER) está muy fácil de llagar', 'El departamento de Julien es muy agradable, lleno de detalles y muy limpio. El entorno urbano es un poco bullicioso en las noches y la estacion de trenes está a unas siete cuadras.\\nEs un lugar muy recomendable, a buen precio y con un excelente anfitrión.', 'es un gran anfitrión, todo limpio y un barrio muy tranquilo', 'Está muy cómodo, limpio y julien es muy amigable y atento. Recomendado', 'El lugar esta muy limpio y ordenado, el único problema es que tienes que caminar 10 minutos hasta la estación del tren', 'El lugar es limpio, con buena calefacción y luminoso. Realmente cómodo.\\nSe encuentra a unos 15 minutos del centro de París en tren. La estación está a unas seis cuadras del alojamiento.\\nJulien es muy amable.\\nRecomiendo el lugar.', 'A 40 minutos del centro en cercanías (RER), anfitrión muy atento. También cerca de Le Bourget.', 'Julien es un un gran chico, muy atentos, siempre está atento a que requieres, se comunica por el móvil, para saber que esté bien, te orienta para dònde y como irte, te busca opciones, es maravillosa persona, muy limpio, respetuoso y comunicativo, tiene muchos detalles con su huésped, la zona es popular, pero también conoces un Paris más real no sólo turístico, hay metro cerca que te lleva al centro, yo me la pase increíble y volvería, gracias Julien .', 'Un anfitrión muy cordial, recibiendo de muy buena manera y preocupandose de como me sentía en mi estancia en París.', 'Julien es un excelente anfitrión, es muy accesible y hace lo que sea para que te sientas como en casa. La ubicación del departamento esta algo retirada del centro de París pero el metro pasa a 3 cuadras y de igual manera es muy fácil llegar.'], ['Cumple con lo que dice la reseña, julien atento, e intenta comunicarse contigo.', 'Esta super cerca de la estación, a 5 min. Está línea te lleva al Sacré cœur. Julian es super amable, se esfuerza mucho porque la gente se sienta cómoda. Es una gran persona.', 'El anfitrión siempre está atento en todo momento. la habitación está ubicada a pocos metros de la línea 12 que te deja en el centro de París. totalmente recomendado.', 'Durante mi estancia Julien estuvo muy atento y amable. Me ayudo cuando tuve un problema con mi celular, fue muy servicial. El lugar está muy cercano a la estación del metro y me fue muy fácil usarlo, definitivamente lo recomiendo.', 'muy agradable la estancia! el cuarto muy cómodo y el anfitrión muy amable y servicial, 10/10', 'habitación amplia y cómoda. Julian es muy amable y dispuesto a ayudar', 'El anfitrión es una persona muy amable y alegre. trata de adaptarse a las necesidades de los huéspedes y es de cconfiar.\\nLa zona no es muy cómoda realmente y sobre todo porque está en la zona 3.', 'Perfecto, con una ubicación excelente para pasar tus dias en paris', 'Julien es una persona súper atenta y dispuesta ayudarte con todo lo que necesites. Me hospedé dos noches solamente, pero todo fue perfecto.', 'Es un buen sitio para hospedarse, super recomendado', 'Muy buen lugar, buena ubicación y está bien cuidado', 'El alojamiento está bien y es cómodo. Solo les recomiendo a los futuros huéspedes que si tienen problemas para conciliar el sueño, lleven tapones para los oídos. Las habitaciones dan a una calle transitada y hay bastante ruido', 'El departamento de Julien es tal y como se muestra en las fotos, muy limpio todo y agradable. Julien super atento, me envió incluso imagen de las estaciones del tren para que me ubicara mejor, quedo muy agradecida por su hospitalidad. Definitivamente lo recomiendo.', 'Un lugar cercano y accesible para conocer París.', 'Todo increíblemente bien llegaría las veces que fueran necesarias es el mejor AirBNB que he llegado', 'Simplemente un anfitrión de excelencia, me sorprendió con su amabilidad, los servicios en su alojamiento totalmente limpios y accesibles en todo momento.\\nJulien siempre preocupado por qué estemos a gusto y no necesitemos nada.\\nMe volvería a quedar en su alojamiento sin pensarlo, cuando regrese a París!!', 'Mi experiencia en el alojamiento de Julien fue increíble. Me quedé un mes completo y tuve la posibilidad de conocer una gran persona. Julien es muy servicial, siempre se preocupa por como estas. Realmente me hizo sentir como si estuviera en mi casa. Sin dudar volvería a su casa si tengo que volver a París y lo recomiendo con los ojos cerrados.', 'Excelente lugar. Muy buena atención de Julien, es amable y se preocupa de los huéspedes.', 'Todo perfecto, la desventaja es que esta un poco lejos de paris, pero en el (RER) está muy fácil de llagar', 'El departamento de Julien es muy agradable, lleno de detalles y muy limpio. El entorno urbano es un poco bullicioso en las noches y la estacion de trenes está a unas siete cuadras.\\nEs un lugar muy recomendable, a buen precio y con un excelente anfitrión.', 'es un gran anfitrión, todo limpio y un barrio muy tranquilo', 'Está muy cómodo, limpio y julien es muy amigable y atento. Recomendado', 'El lugar esta muy limpio y ordenado, el único problema es que tienes que caminar 10 minutos hasta la estación del tren', 'El lugar es limpio, con buena calefacción y luminoso. Realmente cómodo.\\nSe encuentra a unos 15 minutos del centro de París en tren. La estación está a unas seis cuadras del alojamiento.\\nJulien es muy amable.\\nRecomiendo el lugar.', 'A 40 minutos del centro en cercanías (RER), anfitrión muy atento. También cerca de Le Bourget.', 'Julien es un un gran chico, muy atentos, siempre está atento a que requieres, se comunica por el móvil, para saber que esté bien, te orienta para dònde y como irte, te busca opciones, es maravillosa persona, muy limpio, respetuoso y comunicativo, tiene muchos detalles con su huésped, la zona es popular, pero también conoces un Paris más real no sólo turístico, hay metro cerca que te lleva al centro, yo me la pase increíble y volvería, gracias Julien .', 'Un anfitrión muy cordial, recibiendo de muy buena manera y preocupandose de como me sentía en mi estancia en París.', 'Julien es un excelente anfitrión, es muy accesible y hace lo que sea para que te sientas como en casa. La ubicación del departamento esta algo retirada del centro de París pero el metro pasa a 3 cuadras y de igual manera es muy fácil llegar.'], ['Cumple con lo que dice la reseña, julien atento, e intenta comunicarse contigo.', 'Esta super cerca de la estación, a 5 min. Está línea te lleva al Sacré cœur. Julian es super amable, se esfuerza mucho porque la gente se sienta cómoda. Es una gran persona.', 'El anfitrión siempre está atento en todo momento. la habitación está ubicada a pocos metros de la línea 12 que te deja en el centro de París. totalmente recomendado.', 'Durante mi estancia Julien estuvo muy atento y amable. Me ayudo cuando tuve un problema con mi celular, fue muy servicial. El lugar está muy cercano a la estación del metro y me fue muy fácil usarlo, definitivamente lo recomiendo.', 'muy agradable la estancia! el cuarto muy cómodo y el anfitrión muy amable y servicial, 10/10', 'habitación amplia y cómoda. Julian es muy amable y dispuesto a ayudar', 'El anfitrión es una persona muy amable y alegre. trata de adaptarse a las necesidades de los huéspedes y es de cconfiar.\\nLa zona no es muy cómoda realmente y sobre todo porque está en la zona 3.', 'Perfecto, con una ubicación excelente para pasar tus dias en paris', 'Julien es una persona súper atenta y dispuesta ayudarte con todo lo que necesites. Me hospedé dos noches solamente, pero todo fue perfecto.', 'Es un buen sitio para hospedarse, super recomendado', 'Muy buen lugar, buena ubicación y está bien cuidado', 'El alojamiento está bien y es cómodo. Solo les recomiendo a los futuros huéspedes que si tienen problemas para conciliar el sueño, lleven tapones para los oídos. Las habitaciones dan a una calle transitada y hay bastante ruido', 'El departamento de Julien es tal y como se muestra en las fotos, muy limpio todo y agradable. Julien super atento, me envió incluso imagen de las estaciones del tren para que me ubicara mejor, quedo muy agradecida por su hospitalidad. Definitivamente lo recomiendo.', 'Un lugar cercano y accesible para conocer París.', 'Todo increíblemente bien llegaría las veces que fueran necesarias es el mejor AirBNB que he llegado', 'Simplemente un anfitrión de excelencia, me sorprendió con su amabilidad, los servicios en su alojamiento totalmente limpios y accesibles en todo momento.\\nJulien siempre preocupado por qué estemos a gusto y no necesitemos nada.\\nMe volvería a quedar en su alojamiento sin pensarlo, cuando regrese a París!!', 'Mi experiencia en el alojamiento de Julien fue increíble. Me quedé un mes completo y tuve la posibilidad de conocer una gran persona. Julien es muy servicial, siempre se preocupa por como estas. Realmente me hizo sentir como si estuviera en mi casa. Sin dudar volvería a su casa si tengo que volver a París y lo recomiendo con los ojos cerrados.', 'Excelente lugar. Muy buena atención de Julien, es amable y se preocupa de los huéspedes.', 'Todo perfecto, la desventaja es que esta un poco lejos de paris, pero en el (RER) está muy fácil de llagar', 'El departamento de Julien es muy agradable, lleno de detalles y muy limpio. El entorno urbano es un poco bullicioso en las noches y la estacion de trenes está a unas siete cuadras.\\nEs un lugar muy recomendable, a buen precio y con un excelente anfitrión.', 'es un gran anfitrión, todo limpio y un barrio muy tranquilo', 'Está muy cómodo, limpio y julien es muy amigable y atento. Recomendado', 'El lugar esta muy limpio y ordenado, el único problema es que tienes que caminar 10 minutos hasta la estación del tren', 'El lugar es limpio, con buena calefacción y luminoso. Realmente cómodo.\\nSe encuentra a unos 15 minutos del centro de París en tren. La estación está a unas seis cuadras del alojamiento.\\nJulien es muy amable.\\nRecomiendo el lugar.', 'A 40 minutos del centro en cercanías (RER), anfitrión muy atento. También cerca de Le Bourget.', 'Julien es un un gran chico, muy atentos, siempre está atento a que requieres, se comunica por el móvil, para saber que esté bien, te orienta para dònde y como irte, te busca opciones, es maravillosa persona, muy limpio, respetuoso y comunicativo, tiene muchos detalles con su huésped, la zona es popular, pero también conoces un Paris más real no sólo turístico, hay metro cerca que te lleva al centro, yo me la pase increíble y volvería, gracias Julien .', 'Un anfitrión muy cordial, recibiendo de muy buena manera y preocupandose de como me sentía en mi estancia en París.', 'Julien es un excelente anfitrión, es muy accesible y hace lo que sea para que te sientas como en casa. La ubicación del departamento esta algo retirada del centro de París pero el metro pasa a 3 cuadras y de igual manera es muy fácil llegar.'], ['Cumple con lo que dice la reseña, julien atento, e intenta comunicarse contigo.', 'Esta super cerca de la estación, a 5 min. Está línea te lleva al Sacré cœur. Julian es super amable, se esfuerza mucho porque la gente se sienta cómoda. Es una gran persona.', 'El anfitrión siempre está atento en todo momento. la habitación está ubicada a pocos metros de la línea 12 que te deja en el centro de París. totalmente recomendado.', 'Durante mi estancia Julien estuvo muy atento y amable. Me ayudo cuando tuve un problema con mi celular, fue muy servicial. El lugar está muy cercano a la estación del metro y me fue muy fácil usarlo, definitivamente lo recomiendo.', 'muy agradable la estancia! el cuarto muy cómodo y el anfitrión muy amable y servicial, 10/10', 'habitación amplia y cómoda. Julian es muy amable y dispuesto a ayudar', 'El anfitrión es una persona muy amable y alegre. trata de adaptarse a las necesidades de los huéspedes y es de cconfiar.\\nLa zona no es muy cómoda realmente y sobre todo porque está en la zona 3.', 'Perfecto, con una ubicación excelente para pasar tus dias en paris', 'Julien es una persona súper atenta y dispuesta ayudarte con todo lo que necesites. Me hospedé dos noches solamente, pero todo fue perfecto.', 'Es un buen sitio para hospedarse, super recomendado', 'Muy buen lugar, buena ubicación y está bien cuidado', 'El alojamiento está bien y es cómodo. Solo les recomiendo a los futuros huéspedes que si tienen problemas para conciliar el sueño, lleven tapones para los oídos. Las habitaciones dan a una calle transitada y hay bastante ruido', 'El departamento de Julien es tal y como se muestra en las fotos, muy limpio todo y agradable. Julien super atento, me envió incluso imagen de las estaciones del tren para que me ubicara mejor, quedo muy agradecida por su hospitalidad. Definitivamente lo recomiendo.', 'Un lugar cercano y accesible para conocer París.', 'Todo increíblemente bien llegaría las veces que fueran necesarias es el mejor AirBNB que he llegado', 'Simplemente un anfitrión de excelencia, me sorprendió con su amabilidad, los servicios en su alojamiento totalmente limpios y accesibles en todo momento.\\nJulien siempre preocupado por qué estemos a gusto y no necesitemos nada.\\nMe volvería a quedar en su alojamiento sin pensarlo, cuando regrese a París!!', 'Mi experiencia en el alojamiento de Julien fue increíble. Me quedé un mes completo y tuve la posibilidad de conocer una gran persona. Julien es muy servicial, siempre se preocupa por como estas. Realmente me hizo sentir como si estuviera en mi casa. Sin dudar volvería a su casa si tengo que volver a París y lo recomiendo con los ojos cerrados.', 'Excelente lugar. Muy buena atención de Julien, es amable y se preocupa de los huéspedes.', 'Todo perfecto, la desventaja es que esta un poco lejos de paris, pero en el (RER) está muy fácil de llagar', 'El departamento de Julien es muy agradable, lleno de detalles y muy limpio. El entorno urbano es un poco bullicioso en las noches y la estacion de trenes está a unas siete cuadras.\\nEs un lugar muy recomendable, a buen precio y con un excelente anfitrión.', 'es un gran anfitrión, todo limpio y un barrio muy tranquilo', 'Está muy cómodo, limpio y julien es muy amigable y atento. Recomendado', 'El lugar esta muy limpio y ordenado, el único problema es que tienes que caminar 10 minutos hasta la estación del tren', 'El lugar es limpio, con buena calefacción y luminoso. Realmente cómodo.\\nSe encuentra a unos 15 minutos del centro de París en tren. La estación está a unas seis cuadras del alojamiento.\\nJulien es muy amable.\\nRecomiendo el lugar.', 'A 40 minutos del centro en cercanías (RER), anfitrión muy atento. También cerca de Le Bourget.', 'Julien es un un gran chico, muy atentos, siempre está atento a que requieres, se comunica por el móvil, para saber que esté bien, te orienta para dònde y como irte, te busca opciones, es maravillosa persona, muy limpio, respetuoso y comunicativo, tiene muchos detalles con su huésped, la zona es popular, pero también conoces un Paris más real no sólo turístico, hay metro cerca que te lleva al centro, yo me la pase increíble y volvería, gracias Julien .', 'Un anfitrión muy cordial, recibiendo de muy buena manera y preocupandose de como me sentía en mi estancia en París.', 'Julien es un excelente anfitrión, es muy accesible y hace lo que sea para que te sientas como en casa. La ubicación del departamento esta algo retirada del centro de París pero el metro pasa a 3 cuadras y de igual manera es muy fácil llegar.'], ['Cumple con lo que dice la reseña, julien atento, e intenta comunicarse contigo.', 'Esta super cerca de la estación, a 5 min. Está línea te lleva al Sacré cœur. Julian es super amable, se esfuerza mucho porque la gente se sienta cómoda. Es una gran persona.', 'El anfitrión siempre está atento en todo momento. la habitación está ubicada a pocos metros de la línea 12 que te deja en el centro de París. totalmente recomendado.', 'Durante mi estancia Julien estuvo muy atento y amable. Me ayudo cuando tuve un problema con mi celular, fue muy servicial. El lugar está muy cercano a la estación del metro y me fue muy fácil usarlo, definitivamente lo recomiendo.', 'muy agradable la estancia! el cuarto muy cómodo y el anfitrión muy amable y servicial, 10/10', 'habitación amplia y cómoda. Julian es muy amable y dispuesto a ayudar', 'El anfitrión es una persona muy amable y alegre. trata de adaptarse a las necesidades de los huéspedes y es de cconfiar.\\nLa zona no es muy cómoda realmente y sobre todo porque está en la zona 3.', 'Perfecto, con una ubicación excelente para pasar tus dias en paris', 'Julien es una persona súper atenta y dispuesta ayudarte con todo lo que necesites. Me hospedé dos noches solamente, pero todo fue perfecto.', 'Es un buen sitio para hospedarse, super recomendado', 'Muy buen lugar, buena ubicación y está bien cuidado', 'El alojamiento está bien y es cómodo. Solo les recomiendo a los futuros huéspedes que si tienen problemas para conciliar el sueño, lleven tapones para los oídos. Las habitaciones dan a una calle transitada y hay bastante ruido', 'El departamento de Julien es tal y como se muestra en las fotos, muy limpio todo y agradable. Julien super atento, me envió incluso imagen de las estaciones del tren para que me ubicara mejor, quedo muy agradecida por su hospitalidad. Definitivamente lo recomiendo.', 'Un lugar cercano y accesible para conocer París.', 'Todo increíblemente bien llegaría las veces que fueran necesarias es el mejor AirBNB que he llegado', 'Simplemente un anfitrión de excelencia, me sorprendió con su amabilidad, los servicios en su alojamiento totalmente limpios y accesibles en todo momento.\\nJulien siempre preocupado por qué estemos a gusto y no necesitemos nada.\\nMe volvería a quedar en su alojamiento sin pensarlo, cuando regrese a París!!', 'Mi experiencia en el alojamiento de Julien fue increíble. Me quedé un mes completo y tuve la posibilidad de conocer una gran persona. Julien es muy servicial, siempre se preocupa por como estas. Realmente me hizo sentir como si estuviera en mi casa. Sin dudar volvería a su casa si tengo que volver a París y lo recomiendo con los ojos cerrados.', 'Excelente lugar. Muy buena atención de Julien, es amable y se preocupa de los huéspedes.', 'Todo perfecto, la desventaja es que esta un poco lejos de paris, pero en el (RER) está muy fácil de llagar', 'El departamento de Julien es muy agradable, lleno de detalles y muy limpio. El entorno urbano es un poco bullicioso en las noches y la estacion de trenes está a unas siete cuadras.\\nEs un lugar muy recomendable, a buen precio y con un excelente anfitrión.', 'es un gran anfitrión, todo limpio y un barrio muy tranquilo', 'Está muy cómodo, limpio y julien es muy amigable y atento. Recomendado', 'El lugar esta muy limpio y ordenado, el único problema es que tienes que caminar 10 minutos hasta la estación del tren', 'El lugar es limpio, con buena calefacción y luminoso. Realmente cómodo.\\nSe encuentra a unos 15 minutos del centro de París en tren. La estación está a unas seis cuadras del alojamiento.\\nJulien es muy amable.\\nRecomiendo el lugar.', 'A 40 minutos del centro en cercanías (RER), anfitrión muy atento. También cerca de Le Bourget.', 'Julien es un un gran chico, muy atentos, siempre está atento a que requieres, se comunica por el móvil, para saber que esté bien, te orienta para dònde y como irte, te busca opciones, es maravillosa persona, muy limpio, respetuoso y comunicativo, tiene muchos detalles con su huésped, la zona es popular, pero también conoces un Paris más real no sólo turístico, hay metro cerca que te lleva al centro, yo me la pase increíble y volvería, gracias Julien .', 'Un anfitrión muy cordial, recibiendo de muy buena manera y preocupandose de como me sentía en mi estancia en París.', 'Julien es un excelente anfitrión, es muy accesible y hace lo que sea para que te sientas como en casa. La ubicación del departamento esta algo retirada del centro de París pero el metro pasa a 3 cuadras y de igual manera es muy fácil llegar.'], ['Cumple con lo que dice la reseña, julien atento, e intenta comunicarse contigo.', 'Esta super cerca de la estación, a 5 min. Está línea te lleva al Sacré cœur. Julian es super amable, se esfuerza mucho porque la gente se sienta cómoda. Es una gran persona.', 'El anfitrión siempre está atento en todo momento. la habitación está ubicada a pocos metros de la línea 12 que te deja en el centro de París. totalmente recomendado.', 'Durante mi estancia Julien estuvo muy atento y amable. Me ayudo cuando tuve un problema con mi celular, fue muy servicial. El lugar está muy cercano a la estación del metro y me fue muy fácil usarlo, definitivamente lo recomiendo.', 'muy agradable la estancia! el cuarto muy cómodo y el anfitrión muy amable y servicial, 10/10', 'habitación amplia y cómoda. Julian es muy amable y dispuesto a ayudar', 'El anfitrión es una persona muy amable y alegre. trata de adaptarse a las necesidades de los huéspedes y es de cconfiar.\\nLa zona no es muy cómoda realmente y sobre todo porque está en la zona 3.', 'Perfecto, con una ubicación excelente para pasar tus dias en paris', 'Julien es una persona súper atenta y dispuesta ayudarte con todo lo que necesites. Me hospedé dos noches solamente, pero todo fue perfecto.', 'Es un buen sitio para hospedarse, super recomendado', 'Muy buen lugar, buena ubicación y está bien cuidado', 'El alojamiento está bien y es cómodo. Solo les recomiendo a los futuros huéspedes que si tienen problemas para conciliar el sueño, lleven tapones para los oídos. Las habitaciones dan a una calle transitada y hay bastante ruido', 'El departamento de Julien es tal y como se muestra en las fotos, muy limpio todo y agradable. Julien super atento, me envió incluso imagen de las estaciones del tren para que me ubicara mejor, quedo muy agradecida por su hospitalidad. Definitivamente lo recomiendo.', 'Un lugar cercano y accesible para conocer París.', 'Todo increíblemente bien llegaría las veces que fueran necesarias es el mejor AirBNB que he llegado', 'Simplemente un anfitrión de excelencia, me sorprendió con su amabilidad, los servicios en su alojamiento totalmente limpios y accesibles en todo momento.\\nJulien siempre preocupado por qué estemos a gusto y no necesitemos nada.\\nMe volvería a quedar en su alojamiento sin pensarlo, cuando regrese a París!!', 'Mi experiencia en el alojamiento de Julien fue increíble. Me quedé un mes completo y tuve la posibilidad de conocer una gran persona. Julien es muy servicial, siempre se preocupa por como estas. Realmente me hizo sentir como si estuviera en mi casa. Sin dudar volvería a su casa si tengo que volver a París y lo recomiendo con los ojos cerrados.', 'Excelente lugar. Muy buena atención de Julien, es amable y se preocupa de los huéspedes.', 'Todo perfecto, la desventaja es que esta un poco lejos de paris, pero en el (RER) está muy fácil de llagar', 'El departamento de Julien es muy agradable, lleno de detalles y muy limpio. El entorno urbano es un poco bullicioso en las noches y la estacion de trenes está a unas siete cuadras.\\nEs un lugar muy recomendable, a buen precio y con un excelente anfitrión.', 'es un gran anfitrión, todo limpio y un barrio muy tranquilo', 'Está muy cómodo, limpio y julien es muy amigable y atento. Recomendado', 'El lugar esta muy limpio y ordenado, el único problema es que tienes que caminar 10 minutos hasta la estación del tren', 'El lugar es limpio, con buena calefacción y luminoso. Realmente cómodo.\\nSe encuentra a unos 15 minutos del centro de París en tren. La estación está a unas seis cuadras del alojamiento.\\nJulien es muy amable.\\nRecomiendo el lugar.', 'A 40 minutos del centro en cercanías (RER), anfitrión muy atento. También cerca de Le Bourget.', 'Julien es un un gran chico, muy atentos, siempre está atento a que requieres, se comunica por el móvil, para saber que esté bien, te orienta para dònde y como irte, te busca opciones, es maravillosa persona, muy limpio, respetuoso y comunicativo, tiene muchos detalles con su huésped, la zona es popular, pero también conoces un Paris más real no sólo turístico, hay metro cerca que te lleva al centro, yo me la pase increíble y volvería, gracias Julien .', 'Un anfitrión muy cordial, recibiendo de muy buena manera y preocupandose de como me sentía en mi estancia en París.', 'Julien es un excelente anfitrión, es muy accesible y hace lo que sea para que te sientas como en casa. La ubicación del departamento esta algo retirada del centro de París pero el metro pasa a 3 cuadras y de igual manera es muy fácil llegar.']]   \n",
       "\n",
       "  que_suerte aircover                     idver      superanfitrion  \\\n",
       "0       ['']   ['si']  ['identidad verificada']                  []   \n",
       "1       ['']   ['si']  ['identidad verificada']  ['superanfitrión']   \n",
       "\n",
       "  Promotor_abnb name_anfitiron fecha_registro zona_de_trabajo  \\\n",
       "0            []      ['guoxi']       ['2022']          ['si']   \n",
       "1            []     ['julien']       ['2017']          ['si']   \n",
       "\n",
       "  acceso_sin_hr_restriccion                          cancelacion_gratis  \\\n",
       "0                        []  ['cancelación gratuita antes del 20 mar.']   \n",
       "1                        []      ['cancelación gratuita por 48 horas.']   \n",
       "\n",
       "  dscto_mensual dscto_semanal tarifa_service tarifa_cleaning  \\\n",
       "0            []            []           [43]            [24]   \n",
       "1            []            []           [48]              []   \n",
       "\n",
       "  precio_noche_mes_week precio_total precio_original q_resenas puntaje_place  \\\n",
       "0              ['S/93']    ['S/345']              []      [22]        [4.86]   \n",
       "1             ['S/113']    ['S/386']              []     [208]        [4.84]   \n",
       "\n",
       "                                                                       idiomas  \\\n",
       "0                                            [['中文 (简体)', ' english', ' 한국어']]   \n",
       "1  [['العربية', ' english', ' français', ' polski', ' português', ' español']]   \n",
       "\n",
       "  resposne_rate             response_time  \\\n",
       "0      ['100%']  ['en menos de una hora']   \n",
       "1      ['100%']  ['en menos de una hora']   \n",
       "\n",
       "                                                                                                                                                                                                                                                              servicios_solos  \\\n",
       "0  ['cocina', 'wifi', 'zona de trabajo', 'tina', 'patio trasero', 'se permite dejar el equipaje', 'secadora de pelo', 'refrigerador', 'no disponible: detector de monóxido de carbono\\ndetector de monóxido de carbono', 'no disponible: detector de humo\\ndetector de humo']   \n",
       "1                                         ['wifi', 'zona de trabajo', 'secadora de pelo', 'refrigerador', 'microondas', 'estacionamiento de pago fuera de las instalaciones', 'servicios imprescindibles', 'detector de humo', 'detector de monóxido de carbono', 'cafetera']   \n",
       "\n",
       "  bano_servicios dormitorio_lavadero entretenimiento familia  \\\n",
       "0             []                  []              []      []   \n",
       "1             []                  []              []      []   \n",
       "\n",
       "  calefaccion_refrigeracion seguridad_hogar internet_oficina  \\\n",
       "0                        []              []               []   \n",
       "1                        []              []               []   \n",
       "\n",
       "  utensilios_vajilla estacionamiento_instalaciones ubicacion_servicios  \\\n",
       "0                 []                            []                  []   \n",
       "1                 []                            []                  []   \n",
       "\n",
       "  exterior_servicios servicios_servicios no_incluidos  \\\n",
       "0                 []                  []           []   \n",
       "1                 []                  []           []   \n",
       "\n",
       "                                                                                                                                                                                                                                                                                                                                                                       reglas_casa  \\\n",
       "0  ['quién puede quedarse en el alojamiento\\n1 huésped como máximo\\nno se admiten mascotas', 'qué está permitido\\nel horario de check-in es de las 14:00 a las 22:00\\nla salida es antes de las 11:00\\nestá prohibido hacer fiestas o eventos\\nprohibido fumar', 'el horario de check-in es de las 14:00 a las 22:00', 'la salida es antes de las 11:00', '1 huésped como máximo']   \n",
       "1  ['quién puede quedarse en el alojamiento\\n1 huésped como máximo\\nno se admiten mascotas', 'qué está permitido\\nel horario de check-in es de las 12:00 a las 21:00\\nla salida es antes de las 12:00\\nestá prohibido hacer fiestas o eventos\\nprohibido fumar', 'el horario de check-in es de las 12:00 a las 21:00', 'la salida es antes de las 12:00', '1 huésped como máximo']   \n",
       "\n",
       "                                                                                                                                                                                                                                                                                                                                                                                                                                                                                                                                                 seguridad_y_propiedad  \\\n",
       "0  ['consideraciones de seguridad\\nno apto para niños ni bebés', 'dispositivos de seguridad\\nno hay alarma de humo\\nno se requiere detector de monóxido de carbono\\nel anfitrión informó que no es necesario en este alojamiento. por ejemplo, porque todos los electrodomésticos son eléctricos y no utilizan gas, aceite, queroseno o madera.', 'información de la propiedad\\nhay espacios compartidos\\nno se puede estacionar en el alojamiento', 'el horario de check-in es de las 14:00 a las 22:00', 'la salida es antes de las 11:00', '1 huésped como máximo']   \n",
       "1                                                                                                                                                   ['consideraciones de seguridad\\nno apto para niños ni bebés', 'dispositivos de seguridad\\ndetector de monóxido de carbono instalado\\ndetector de humo instalado', 'información de la propiedad\\npuede haber ruido\\nlimitaciones en los servicios\\n“no se puede cocinar después de las 22: 00 ”', 'el horario de check-in es de las 12:00 a las 21:00', 'la salida es antes de las 12:00', '1 huésped como máximo']   \n",
       "\n",
       "                                                                                                                                                                                                                                                                                               politica_cancelacion  \n",
       "0                             ['20 mar.\\n13:00\\nreembolso total: recibirás el 100 % de lo que pagaste', '12 abr.\\n14:00\\nreembolso parcial: recibirás el 50 % del monto de todas las noches. no se te reembolsará la tarifa por servicio.', '19 abr.\\n14:00\\n(check-in)\\nsin reembolso', 'política de cancelación']  \n",
       "1  ['48 horas\\ndespués de hacer la reservación\\nreembolso total: recibirás el 100 % de lo que pagaste', '12 abr.\\n12:00\\nreembolso parcial: recibirás el 50 % del monto de todas las noches. no se te reembolsará la tarifa por servicio.', '19 abr.\\n12:00\\n(check-in)\\nsin reembolso', 'política de cancelación']  "
      ]
     },
     "execution_count": 82,
     "metadata": {},
     "output_type": "execute_result"
    }
   ],
   "source": [
    "import pandas as pd\n",
    "pd.set_option('display.max_colwidth', None)\n",
    "pd.set_option('display.max_columns', None)\n",
    "df1 = pd.read_csv(\"abnb_SSS_scrapper.csv\")\n",
    "df1\n",
    "#df1[[\"titulo\"]]\n",
    "### PAREC QUE SIIIIIIUUUUUUUUU"
   ]
  },
  {
   "cell_type": "code",
   "execution_count": null,
   "metadata": {},
   "outputs": [],
   "source": [
    "### verificado no sirve"
   ]
  },
  {
   "cell_type": "code",
   "execution_count": 21,
   "metadata": {},
   "outputs": [],
   "source": [
    "########################################uiasuihaiohihasfoiaf\n",
    "\n",
    "\n",
    "def get_todo_de_c_abnb():   \n",
    "    import datetime\n",
    "    import csv\n",
    "\n",
    "    ### Este es el bloque dond se sencuentra tiulo, precio, camas rate etc\n",
    "    try: \n",
    "        bloques = driver.find_elements(By.XPATH, \"//div[@class='g1qv1ctd cb4nyux dir dir-ltr']\")\n",
    "        bloques = bloques[4:6]\n",
    "        time.sleep(0.5)\n",
    "\n",
    "        ### Este es e bloque dodne se enecuntra HALLAGOS o la IMAGEN de cada abnb esa cosa. Ahi haremos click\n",
    "        ### para poder entrar a cada ABNB y sacar toda la info posible\n",
    "        bloques_hallazgo = driver.find_elements(By.XPATH, \"//div[@class='c14dgvke dir dir-ltr']\")\n",
    "        \n",
    "        bloques_hallazgo = bloques_hallazgo[4:6]\n",
    "        time.sleep(0.5)\n",
    "        \n",
    "\n",
    "        for x in bloques_hallazgo:   \n",
    "            \n",
    "            import datetime\n",
    "            import csv\n",
    "\n",
    "        \n",
    "            #### declaramos las listas en las que se va a hacer el APPEND\n",
    "            #### ---------------------------------------------------------------------------------------------\n",
    "            \n",
    "            global titulo_abnb\n",
    "\n",
    "            global huespedes\n",
    "            global banos\n",
    "            global verificados \n",
    "            global habitacion \n",
    "            global cama \n",
    "\n",
    "            global limpieza_rate\n",
    "            global comunicacion_rate \n",
    "            global llegada_rate\n",
    "            global fiabilidad_rate \n",
    "            global ubicacion_rate \n",
    "            global precio_rate\n",
    "\n",
    "            global reviews_lista\n",
    "\n",
    "            global que_suerte\n",
    "\n",
    "            global aircover \n",
    "            \n",
    "            \n",
    "            titulo_abnb = []\n",
    "            huespedes = []\n",
    "            banos = []\n",
    "            verificados = []\n",
    "            habitacion = []\n",
    "            cama = []\n",
    "            limpieza_rate = []\n",
    "            comunicacion_rate = []\n",
    "            llegada_rate = []\n",
    "            fiabilidad_rate = []\n",
    "            ubicacion_rate = []\n",
    "            precio_rate = []\n",
    "            reviews_lista=[]\n",
    "            que_suerte = []\n",
    "            aircover = []\n",
    "            \n",
    "\n",
    "\n",
    "            #### ---------------------------------------------------------------------------------------------\n",
    "            \n",
    "            \n",
    "            time.sleep(2.6)\n",
    "            x.click()\n",
    "            time.sleep(1.8)\n",
    "\n",
    "            print(driver.current_url)            \n",
    "            time.sleep(0.6)\n",
    "\n",
    "            driver.switch_to.window(driver.window_handles[1])\n",
    "            time.sleep(2.2)\n",
    "            \n",
    "            print(driver.current_url)    \n",
    "            \n",
    "            time.sleep(2.5)\n",
    "\n",
    "            try:\n",
    "                cerrar_pop_up = driver.find_element(By.XPATH, \"//div[@class='_1piuevz']\")\n",
    "                cerrar_pop_up.click()\n",
    "                time.sleep(0.8)\n",
    "\n",
    "            except:\n",
    "                pass\n",
    "            \n",
    "            ## entonces para cada uno corremos las definicioes que scrapean las cosas de los ABNBs\n",
    "            ######## ================================================================================= ###########\n",
    "            get_importantes_abnb()\n",
    "            time.sleep(0.8)\n",
    "\n",
    "            \n",
    "            \n",
    "    \n",
    "            date = datetime.date.today()\n",
    "            \n",
    "            data_ttl =     [date, titulo_abnb,huespedes, banos , verificados ,habitacion , cama , limpieza_rate , \n",
    "            comunicacion_rate , llegada_rate , fiabilidad_rate , ubicacion_rate , precio_rate , reviews_lista, \n",
    "            que_suerte , aircover]\n",
    "            \n",
    "            \n",
    "            ### NTES DE AHCERLO REVISA SI ES SOBREESCRITO O RECIEN NUEVO\n",
    "            with open('abnb_SSS_scrapper.csv', 'a+', newline='', encoding='UTF8') as f:\n",
    "                writer = csv.writer(f)\n",
    "                writer.writerow(data_ttl)\n",
    "            \n",
    "                time.sleep(6.8)\n",
    "            \n",
    "            ## regresamos a la pagina donde están todas las opciones de abnbs que tenemos\n",
    "            driver.close()\n",
    "            time.sleep(2.3)\n",
    "            driver.switch_to.window(driver.window_handles[0])\n",
    "\n",
    "    except:\n",
    "        pass"
   ]
  },
  {
   "cell_type": "code",
   "execution_count": 22,
   "metadata": {
    "scrolled": true
   },
   "outputs": [
    {
     "name": "stdout",
     "output_type": "stream",
     "text": [
      "https://www.airbnb.com.pe/s/Paris/homes?tab_id=home_tab&refinement_paths%5B%5D=%2Fhomes&flexible_trip_lengths%5B%5D=one_week&price_filter_input_type=0&price_filter_num_nights=5&query=Par%C3%ADs%2C%20Francia&place_id=ChIJD7fiBh9u5kcRYJSMaMOCCwQ&date_picker_type=calendar&checkin=2023-04-19&checkout=2023-04-22&adults=1&source=structured_search_input_header&search_type=autocomplete_click\n",
      "https://www.airbnb.com.pe/rooms/775895954593336404?adults=1&check_in=2023-04-19&check_out=2023-04-22&federated_search_id=6d64629f-67ae-42e3-a6a1-72be18e675b4&source_impression_id=p3_1677970827_wvh7cideaAyuxl4m\n"
     ]
    }
   ],
   "source": [
    "get_todo_de_c_abnb()"
   ]
  },
  {
   "cell_type": "code",
   "execution_count": 20,
   "metadata": {},
   "outputs": [],
   "source": [
    " driver.switch_to.window(driver.window_handles[0])"
   ]
  },
  {
   "cell_type": "code",
   "execution_count": 21,
   "metadata": {},
   "outputs": [
    {
     "data": {
      "text/plain": [
       "['4.8']"
      ]
     },
     "execution_count": 21,
     "metadata": {},
     "output_type": "execute_result"
    }
   ],
   "source": [
    "get_importantes_abnb()\n",
    "limpieza_rate"
   ]
  },
  {
   "cell_type": "code",
   "execution_count": 26,
   "metadata": {},
   "outputs": [],
   "source": [
    "import datetime\n",
    "import csv\n",
    "\n",
    "date = datetime.date.today()\n",
    "data_ttl =     [date, titulo_abnb,huespedes, banos , verificados ,habitacion , cama , limpieza_rate , \n",
    "comunicacion_rate , llegada_rate , fiabilidad_rate , ubicacion_rate , precio_rate , reviews_lista, \n",
    "que_suerte , aircover]\n",
    "\n",
    "\n",
    "### NTES DE AHCERLO REVISA SI ES SOBREESCRITO O RECIEN NUEVO\n",
    "with open('abnb_SSS_scrapper.csv', 'a+', newline='', encoding='UTF8') as f:\n",
    "    writer = csv.writer(f)\n",
    "    writer.writerow(data_ttl)"
   ]
  },
  {
   "cell_type": "code",
   "execution_count": 83,
   "metadata": {},
   "outputs": [],
   "source": [
    "titulo_abnb = []\n",
    "\n",
    "huespedes = []\n",
    "banos = []\n",
    "verificados = [] #### cro que este lo botamos\n",
    "habitacion = []\n",
    "cama = []\n",
    "\n",
    "limpieza_rate = []\n",
    "comunicacion_rate = []\n",
    "llegada_rate = []\n",
    "fiabilidad_rate = []\n",
    "ubicacion_rate = []\n",
    "precio_rate = []\n",
    "\n",
    "reviews_lista=[]\n",
    "\n",
    "que_suerte = []\n",
    "\n",
    "aircover = []\n",
    "    \n",
    "\n",
    "def get_importantes_abnb():\n",
    "    \n",
    "    bloque_basicos = driver.find_element(By.XPATH, \"//ol[@class='lgx66tx dir dir-ltr']\")\n",
    "    bloque_basicos = bloque_basicos.find_elements(By.XPATH, \".//li[@class='l7n4lsf dir dir-ltr']\")\n",
    "    time.sleep(0.6)\n",
    "    \n",
    "    \"\"\"global titulo_abnb\n",
    "\n",
    "    global huespedes\n",
    "    global banos\n",
    "    global verificados \n",
    "    global habitacion \n",
    "    global cama \n",
    "\n",
    "    global limpieza_rate\n",
    "    global comunicacion_rate \n",
    "    global llegada_rate\n",
    "    global fiabilidad_rate \n",
    "    global ubicacion_rate \n",
    "    global precio_rate\n",
    "\n",
    "    global reviews_lista\n",
    "\n",
    "    global que_suerte\n",
    "\n",
    "    global aircover \"\"\"\n",
    "    time.sleep(1)\n",
    "\n",
    "    try:\n",
    "        \n",
    "        huespedes_1 = bloque_basicos[0].text\n",
    "        huespedes.append(huespedes_1)\n",
    "\n",
    "        habitacion_1 = bloque_basicos[1].text\n",
    "        habitacion.append(habitacion_1)\n",
    "\n",
    "        cama_1 = bloque_basicos[2].text\n",
    "        cama.append(cama_1)\n",
    "\n",
    "        banos_1 = bloque_basicos[3].text\n",
    "        banos.append(banos_1)\n",
    "        \n",
    "        time.sleep(1.6)\n",
    "        \n",
    "    except:\n",
    "        pass\n",
    "\n",
    "    try:\n",
    "        \n",
    "        verificado = driver.find_element(By.XPATH, \"//div[@class='l1dfad8f dir dir-ltr']\")\n",
    "        verificado = verificado.text\n",
    "        verificados.append(verificado)\n",
    "        time.sleep(1.6)\n",
    "\n",
    "    except:\n",
    "        pass\n",
    "\n",
    "    ## titulo\n",
    "    try:\n",
    "        bloques_title = driver.find_element(By.XPATH, \"//h2[@class='_14i3z6h']\")\n",
    "        texto_title = bloques_title.text.lower()\n",
    "        titulo_abnb.append(texto_title)\n",
    "        time.sleep(1.6)\n",
    "    except:\n",
    "        pass\n",
    "\n",
    "\n",
    "    ## sacnado rates\n",
    "    try:\n",
    "        rates_limpieza_eso = driver.find_element(By.XPATH, \"//div[@class='ciubx2o dir dir-ltr']\")       \n",
    "        rates_limpieza_eso = rates_limpieza_eso.find_elements(By.XPATH, \".//span[@class='_4oybiu']\") \n",
    "\n",
    "        try:\n",
    "            limpieza_rate.append(rates_limpieza_eso[0].text)\n",
    "            fiabilidad_rate.append(rates_limpieza_eso[1].text)\n",
    "            comunicacion_rate.append(rates_limpieza_eso[2].text)\n",
    "            ubicacion_rate.append(rates_limpieza_eso[3].text)\n",
    "            llegada_rate.append(rates_limpieza_eso[4].text)\n",
    "            precio_rate.append(rates_limpieza_eso[5].text)\n",
    "            time.sleep(1.6)\n",
    "\n",
    "        except:\n",
    "            pass\n",
    "    except:\n",
    "        pass\n",
    "\n",
    "\n",
    "    ##  sacando las reviews\n",
    "    try:\n",
    "        \n",
    "        boton_revs = driver.find_element(By.XPATH, \"//button[@data-testid='pdp-show-all-reviews-button']\")\n",
    "        boton_revs.click()\n",
    "\n",
    "        bloque_pop = driver.find_element(By.XPATH, \"//div[@class='_14vzertx']\")\n",
    "\n",
    "         ## scrolleamos para que carguen todas resenas\n",
    "        scroll = 0\n",
    "\n",
    "        while scroll < 3:\n",
    "            time.sleep(0.7)\n",
    "            popup_reviews = driver.find_elements(By.CSS_SELECTOR, 'div[role=dialog] div[data-review-id]')\n",
    "            driver.execute_script('arguments[0].scrollIntoView({block: \"center\", behavior: \"smooth\"});', popup_reviews[-1])\n",
    "            time.sleep(0.7)\n",
    "            scroll+=1\n",
    "\n",
    "\n",
    "        bloque_revs = driver.find_element(By.XPATH, \"//div[@class='_lao3nn']\")    \n",
    "        bloque_revs = bloque_revs.find_elements(By.XPATH, \"//div[@class='r1are2x1 dir dir-ltr']\") \n",
    "\n",
    "        ## ya que hay coemntarios del ANFITRION, tneemos q evitarlos por lo tanto coegmeos el mini boloque (donde se\n",
    "        ## encuentra los comentarios y de vez en cuando la respsta del anfitrion <3), y dentro del minibloque\n",
    "        ## escogemos solo el primer coment [1], que sería el del usuario que alquiló ese abnb\n",
    "\n",
    "        lista_revs = []\n",
    "\n",
    "        for u in bloque_revs:\n",
    "            revs_usuarios = u.find_element(By.XPATH, \".//span[@class='ll4r2nl dir dir-ltr'][1]\")\n",
    "            time.sleep(0.7)\n",
    "            texto = revs_usuarios.text\n",
    "            lista_revs.append(texto)\n",
    "            reviews_lista.append(lista_revs)\n",
    "            time.sleep(0.6)\n",
    "        \n",
    "        \n",
    "        boton_cerrar = driver.find_element(By.XPATH, \"//div[@class='_pa35zs']\")\n",
    "        boton_cerrar = boton_cerrar.find_element(By.XPATH, \".//button[@class='l1j9v1wn czcfm7x dir dir-ltr']\")\n",
    "        boton_cerrar.click()\n",
    "        \n",
    "    except:\n",
    "        pass\n",
    "\n",
    "    ## vemos si \"EL ALOJAMIENTO SUELE ESTAR RESERVADO\"\n",
    "    try:\n",
    "        suerte = driver.find_element(By.XPATH, \"//h2[@class='_mtn6h9x']\")\n",
    "        suerte_text = suerte.text\n",
    "\n",
    "        que_suerte.append(suerte_text)\n",
    "        time.sleep(0.6)\n",
    "    except:\n",
    "        pass\n",
    "\n",
    "    ## Caso tenga AIRCOVER\n",
    "    try:\n",
    "        aircover_tiene = driver.find_element(By.XPATH, \"//img[@class='l1li2ovm dir dir-ltr']\")\n",
    "        aircover.append(\"si\")\n",
    "        time.sleep(0.6)\n",
    "    except:\n",
    "        pass"
   ]
  },
  {
   "cell_type": "code",
   "execution_count": 85,
   "metadata": {},
   "outputs": [],
   "source": [
    "get_importantes_abnb()"
   ]
  },
  {
   "cell_type": "code",
   "execution_count": 84,
   "metadata": {},
   "outputs": [],
   "source": [
    " driver.switch_to.window(driver.window_handles[1])"
   ]
  },
  {
   "cell_type": "code",
   "execution_count": 86,
   "metadata": {},
   "outputs": [
    {
     "data": {
      "text/plain": [
       "[]"
      ]
     },
     "execution_count": 86,
     "metadata": {},
     "output_type": "execute_result"
    }
   ],
   "source": [
    "verificados"
   ]
  },
  {
   "cell_type": "code",
   "execution_count": 93,
   "metadata": {},
   "outputs": [
    {
     "data": {
      "text/plain": [
       "['habitación privada en vivienda rentada - anfitrión: suqin']"
      ]
     },
     "execution_count": 93,
     "metadata": {},
     "output_type": "execute_result"
    }
   ],
   "source": [
    "    titulo_abnb\n",
    "    \n",
    "    #huespedes \n",
    "   # banos\n",
    "    #verificados \n",
    "    #habitacion \n",
    "#cama \n",
    "    \n",
    "    #limpieza_rate \n",
    "    #comunicacion_rate \n",
    "    #llegada_rate\n",
    "    #fiabilidad_rate \n",
    "    #ubicacion_rate \n",
    "    #precio_rate \n",
    "    \n",
    "    #reviews_lista\n",
    "    \n",
    "    #que_suerte\n",
    "   # \n",
    "    #aircover "
   ]
  },
  {
   "cell_type": "markdown",
   "metadata": {},
   "source": [
    "# te falt ahacer ersotototoottoto\n",
    "\n",
    "identidad verif  /\n",
    "promotor   /\n",
    "idiomas ladra /\n",
    "cancelacion /\n",
    "Zonas de trabajos esas (3) webndas /\n",
    "Cuando se registro el anfitrion  /\n",
    "Costos HORMIGA  /\n",
    "Servicios  //\n",
    "LO QUE DEBES SBAER  \n",
    "nombre del perro /\n",
    "Dscto x estadia mensual /"
   ]
  },
  {
   "cell_type": "code",
   "execution_count": 59,
   "metadata": {},
   "outputs": [],
   "source": [
    "driver.close()"
   ]
  },
  {
   "cell_type": "code",
   "execution_count": 60,
   "metadata": {},
   "outputs": [],
   "source": [
    "import requests\n",
    "from bs4 import BeautifulSoup\n",
    "import time\n",
    "\n",
    "\n",
    "#url2 = \"https://www.airbnb.com.pe/rooms/38619376?adults=1&check_in=2023-04-08&check_out=2023-05-12&federated_search_id=577580e6-f39e-41a2-843d-0bafb9d566c4&source_impression_id=p3_1677295501_IWlq95rF2GWC6%2FzP\"\n",
    "url2 = \"https://www.airbnb.com.pe/rooms/28713559?adults=1&check_in=2023-03-10&check_out=2023-03-18&federated_search_id=12409202-a6d8-4454-8d96-4de230b55ad7&source_impression_id=p3_1677383531_HYUq2EgrS3FrMov8\"\n",
    "r = requests.get(url2)\n",
    "\n",
    "r.status_code\n",
    "\n",
    "s = BeautifulSoup(r.text,'lxml')\n",
    "\n",
    "\n",
    "from selenium import webdriver\n",
    "from selenium.webdriver import Keys\n",
    "from selenium.webdriver.support.ui import Select\n",
    "from selenium.webdriver.common.by import By"
   ]
  },
  {
   "cell_type": "code",
   "execution_count": 61,
   "metadata": {},
   "outputs": [
    {
     "name": "stderr",
     "output_type": "stream",
     "text": [
      "<ipython-input-61-1e3b6eee0013>:4: DeprecationWarning: executable_path has been deprecated, please pass in a Service object\n",
      "  driver = webdriver.Chrome(executable_path=r\"F:\\\\Chrome driver\\\\chromedriver.exe\", options = options)\n"
     ]
    }
   ],
   "source": [
    "options = webdriver.ChromeOptions()\n",
    "options.add_argument(\"--incognito\")\n",
    "\n",
    "driver = webdriver.Chrome(executable_path=r\"F:\\\\Chrome driver\\\\chromedriver.exe\", options = options)\n",
    "\n",
    "driver.get(url2)"
   ]
  },
  {
   "cell_type": "code",
   "execution_count": 72,
   "metadata": {},
   "outputs": [],
   "source": [
    "idver = []\n",
    "superanfitrion = []\n",
    "Promotor_abnb = []\n",
    "\n",
    "def get_things_del_anfi():\n",
    "    try:\n",
    "        ## Buscmas que es el huevas si es anfition, identidad verificada o si es promotor de abnb\n",
    "        ## La vaina es que hay varios con esa clase (gracias airbnb programmers hsdlagranputa) y pueden ir de 0 a 4 webds con la misma clase\n",
    "        ## entre ellos anfitrion, promotor, id_verificad, reseñas y quizá por ahi haya todavia alguna webda mas, ya se jode quien se lo chante\n",
    "        ## entonces iniciamos un bucle para hacer un match entre los textos extraidos de cada \"elemento\" (solo sirven ENG y ESP)\n",
    "        raa = driver.find_elements(By.XPATH, \"//span[@class='l1dfad8f dir dir-ltr']\")\n",
    "\n",
    "        textos_identidad = [\"identidad\",\"verified\"]\n",
    "        super_huevon = [\"superanfitrión\", \"superhost\"]\n",
    "        airbnb_promotor = [\"airbnb.org\", \"promotor\"]\n",
    "\n",
    "        ## hacemos un match de cada \"raa\" que serían las vainas esas idver,super,promotor para ver si esos sapos feos\n",
    "        for r in raa:\n",
    "            r = (r.text).lower()    \n",
    "\n",
    "            if any(ext in r for ext in textos_identidad):\n",
    "                idver.append(r)\n",
    "                time.sleep(0.4)\n",
    "\n",
    "            elif any(ext in r for ext in super_huevon):\n",
    "                superanfitrion.append(r)\n",
    "                time.sleep(0.4)\n",
    "\n",
    "            elif any(ext in r for ext in airbnb_promotor):\n",
    "                Promotor_abnb.append(r) \n",
    "                time.sleep(0.4)\n",
    "\n",
    "            else:\n",
    "                pass\n",
    "    except:\n",
    "        pass"
   ]
  },
  {
   "cell_type": "code",
   "execution_count": 64,
   "metadata": {},
   "outputs": [],
   "source": [
    "get_things_del_anfi()"
   ]
  },
  {
   "cell_type": "code",
   "execution_count": 67,
   "metadata": {},
   "outputs": [
    {
     "data": {
      "text/plain": [
       "['identidad verificada']"
      ]
     },
     "execution_count": 67,
     "metadata": {},
     "output_type": "execute_result"
    }
   ],
   "source": [
    "idver\n",
    "#superanfitrion \n",
    "#Promotor_abnb"
   ]
  },
  {
   "cell_type": "code",
   "execution_count": 73,
   "metadata": {},
   "outputs": [],
   "source": [
    "name_anfitiron = []\n",
    "fecha_registro = []\n",
    "\n",
    "def get_name_del_anfi():\n",
    "    try:\n",
    "        ## Buscmas que idioma ladra roof\n",
    "        ## Como hay varios con esa clase, entonce sbuscamos el bloque y leugo dentro del bloque buscamos la clase.\n",
    "\n",
    "        time.sleep(0.3)\n",
    "\n",
    "        block = driver.find_element(By.XPATH, \"//div[@class='tehcqxo dir dir-ltr']\")\n",
    "        name = block.find_element(By.XPATH, \".//h2[@class='hnwb2pb dir dir-ltr']\")\n",
    "        fecha_re = block.find_element(By.XPATH, \".//li[@class='l7n4lsf dir dir-ltr']\")\n",
    "\n",
    "        time.sleep(0.4)\n",
    "\n",
    "        time.sleep(0.6)\n",
    "\n",
    "        fecha_re = fecha_re.text\n",
    "        fecha_re = fecha_re.lower()\n",
    "\n",
    "        name = name.text\n",
    "        name = name.lower()\n",
    "\n",
    "        ##Split texto para que quede solo el name  \"Anfitrion: Jorge\"\n",
    "        time.sleep(0.3)\n",
    "        nemu = name.split(\":\")\n",
    "        nemu = nemu[1]   ### Nos quedamos solo con el name de la vaina spltieada\n",
    "        nemu = nemu[1:]  ### Quitamos el primer space\n",
    "        time.sleep(0.3)\n",
    "        name_anfitiron.append(nemu)\n",
    "\n",
    "        ## Split texto de fehca inscripcion para que solo quede el año\n",
    "        time.sleep(0.3)\n",
    "        fecha_re = fecha_re.split(\" \")\n",
    "        fecha_registro.append(fecha_re[-1])\n",
    "        time.sleep(0.3)\n",
    "\n",
    "    except:\n",
    "        pass"
   ]
  },
  {
   "cell_type": "code",
   "execution_count": 69,
   "metadata": {},
   "outputs": [],
   "source": [
    "get_name_del_anfi()"
   ]
  },
  {
   "cell_type": "code",
   "execution_count": 72,
   "metadata": {},
   "outputs": [
    {
     "data": {
      "text/plain": [
       "['2018']"
      ]
     },
     "execution_count": 72,
     "metadata": {},
     "output_type": "execute_result"
    }
   ],
   "source": [
    "name_anfitiron \n",
    "fecha_registro "
   ]
  },
  {
   "cell_type": "code",
   "execution_count": 94,
   "metadata": {},
   "outputs": [],
   "source": [
    "zona_de_trabajo = []\n",
    "acceso_sin_hr_restriccion = []\n",
    "cancelacion_gratis = []\n",
    "\n",
    "def get_cosas_abnb():\n",
    "    try:\n",
    "        ## Buscmas que idioma ladra roof\n",
    "        ## Como hay varios con esa clase, entonce sbuscamos el bloque y leugo dentro del bloque buscamos la clase.\n",
    "\n",
    "        bloques_minis = driver.find_elements(By.XPATH, \"//div[@class='_1qsawv5']\")\n",
    "        time.sleep(0.6)\n",
    "\n",
    "        zonas = [\"zona\",\"workspace\"]\n",
    "        accessso = [\"acceso\", \"check-in\"]\n",
    "        gratuita_cance = [\"gratuita\", \"cancellation\"]\n",
    "\n",
    "        for b in bloques_minis:\n",
    "            b = b.text\n",
    "            b = b.lower()\n",
    "\n",
    "            time.sleep(0.4)\n",
    "\n",
    "            if any(ext in b for ext in zonas):\n",
    "                si = \"si\"\n",
    "                zona_de_trabajo.append(si)\n",
    "                time.sleep(0.4)\n",
    "\n",
    "            elif any(ext in b for ext in accessso):\n",
    "                si = \"si\"\n",
    "                acceso_sin_hr_restriccion.append(si)\n",
    "                time.sleep(0.4)\n",
    "\n",
    "            elif any(ext in b for ext in gratuita_cance):\n",
    "                ### Aca ya tienes que hacer data cleaning o ver pa que te serviria\n",
    "                cancelacion_gratis.append(b)\n",
    "\n",
    "                time.sleep(0.5)\n",
    "\n",
    "            else:\n",
    "                pass\n",
    "\n",
    "    except:\n",
    "        pass"
   ]
  },
  {
   "cell_type": "code",
   "execution_count": 98,
   "metadata": {},
   "outputs": [
    {
     "data": {
      "text/plain": [
       "['cancelación gratuita por 48 horas.']"
      ]
     },
     "execution_count": 98,
     "metadata": {},
     "output_type": "execute_result"
    }
   ],
   "source": [
    "cancelacion_gratis"
   ]
  },
  {
   "cell_type": "code",
   "execution_count": 95,
   "metadata": {},
   "outputs": [],
   "source": [
    "get_cosas_abnb()"
   ]
  },
  {
   "cell_type": "code",
   "execution_count": 75,
   "metadata": {},
   "outputs": [],
   "source": [
    "dscto_mensual = []\n",
    "dscto_semanal = []\n",
    "tarifa_service = []\n",
    "tarifa_cleaning = []\n",
    "\n",
    "precio_noche_mes_week = []\n",
    "precio_total = []\n",
    "precio_original = []\n",
    "\n",
    "q_resenas = []\n",
    "puntaje_place = []\n",
    "\n",
    "def get_prices_dscts_abnb():\n",
    "    try:    \n",
    "\n",
    "        ### Primero encontramos el precio x mes noche dia:\n",
    "        bloque_precio_night = driver.find_elements(By.XPATH, \"//span[@class='_14y1gc']\")\n",
    "        bloque_precio_night = bloque_precio_night[1].find_element(By.XPATH, \".//span[@class='a8jt5op dir dir-ltr']\")\n",
    "        texto = bloque_precio_night.text\n",
    "\n",
    "        try:\n",
    "            z = texto.split()\n",
    "            z_0 = z[0]\n",
    "            precio_noche_mes_week.append(z_0)\n",
    "\n",
    "            if len(z) > 4:\n",
    "                z_original = z[-1]\n",
    "                precio_original.append(z_original)\n",
    "\n",
    "            else:\n",
    "                pass\n",
    "\n",
    "        except:\n",
    "            precio_noche_mes_week.append(texto)\n",
    "\n",
    "\n",
    "        ### Encontramos el precio total       \n",
    "        bloque_precio_completo = driver.find_elements(By.XPATH, \".//span[@class='_j1kt73']\")\n",
    "        texto_p_c = bloque_precio_completo[1].text\n",
    "\n",
    "        try:\n",
    "            z = texto_p_c.split()\n",
    "            z = z[0]\n",
    "            precio_total.append(z)\n",
    "        except:\n",
    "            precio_total.append(texto_p_c)\n",
    "\n",
    "        ### ------------------------------------------------------------------------------------------------------------------\n",
    "\n",
    "\n",
    "        ### A buscar la cantidad de reseñas y rate que tiene\n",
    "        bloque_precio_night = driver.find_element(By.XPATH, \"//span[@class='_1y9gwt75']\")\n",
    "\n",
    "        puntaje = bloque_precio_night.find_element(By.XPATH, \".//span[@class='_12si43g']\")\n",
    "        putnaje_texto = puntaje.text\n",
    "        p_t = putnaje_texto.split()\n",
    "        p_t = float(p_t[0])\n",
    "\n",
    "        q_de_resenas = bloque_precio_night.find_element(By.XPATH, \".//span[@class='_1jlwy4xq']\")\n",
    "        q_resenas_texto = q_de_resenas.text\n",
    "        q_r_t = q_resenas_texto.split()\n",
    "        q_r_t = int(q_r_t[0])\n",
    "\n",
    "        puntaje_place.append(p_t)\n",
    "        q_resenas.append(q_r_t)\n",
    "    except:\n",
    "        pass\n",
    "\n",
    "        # --------------------------------------------------------------------------------------------\n",
    "    try:\n",
    "        ## En el bloque grande vamo a buscar los dsctos y tarifas\n",
    "        bloque_grande = driver.find_elements(By.XPATH, \"//div[@class='_1fpuhdl']\")\n",
    "\n",
    "        time.sleep(0.4)\n",
    "\n",
    "        limpia = [\"limpieza\",\"cleaning\"]\n",
    "        servicio = [\"servicio\", \"service\"]\n",
    "        dscto = [\"descuento\", \"discount\"]\n",
    "\n",
    "        coma=[\",\",\"S\",\"$\",\"U\",\"-\",\"/\"]\n",
    "\n",
    "        for bloque in bloque_grande:\n",
    "            bloques_minis = bloque.find_elements(By.XPATH, \".//div[@class='_m6lwl6']\")\n",
    "            bloques_minis_dscto = bloque.find_elements(By.XPATH, \".//span[@class='_18x3iiu']\")\n",
    "\n",
    "            time.sleep(0.4)\n",
    "\n",
    "            for b,c in zip(bloques_minis,bloques_minis_dscto):\n",
    "                be = b.text\n",
    "                be = be.lower()       ### be es del blqoue limpieza,service, s ehace mas facil con ese bloque:minis xq no hay \"/n\"\n",
    "\n",
    "                time.sleep(0.4)\n",
    "\n",
    "                ce = c.text         #### ce es del bloque de DESCUENTO xq los otros dos no son iguales a este\n",
    "                ce = ce.lower()\n",
    "\n",
    "                time.sleep(0.4)\n",
    "\n",
    "                if any(ext in be for ext in servicio):\n",
    "                    si = bloque.find_element(By.XPATH, \".//span[@class='_1k4xcdh']\")\n",
    "                    si = si.text\n",
    "\n",
    "                    time.sleep(0.4)\n",
    "\n",
    "                    res=[j for i,j in enumerate(si) if j not in coma]\n",
    "                    price = \"\".join(res)\n",
    "                    price = int(price)\n",
    "\n",
    "                    tarifa_service.append(price)\n",
    "\n",
    "                    time.sleep(0.5)\n",
    "\n",
    "                elif any(ext in be for ext in limpia):\n",
    "                    si = bloque.find_element(By.XPATH, \".//span[@class='_1k4xcdh']\")\n",
    "                    si = si.text\n",
    "\n",
    "                    time.sleep(0.4)\n",
    "\n",
    "                    res=[j for i,j in enumerate(si) if j not in coma]\n",
    "                    price = \"\".join(res)\n",
    "                    price = int(price)\n",
    "\n",
    "                    time.sleep(0.4)\n",
    "\n",
    "                    tarifa_cleaning.append(price)\n",
    "\n",
    "                    time.sleep(0.3)\n",
    "\n",
    "                ## ya que hay descuentos semanasl, mensuales ttenemos que dividirlos en dos columnas diferentes\n",
    "                ## primero \"fitlramos\" si el webelement texto tiene la palabra DESCUENTO, y leugo sacamos si es sem o mens\n",
    "                elif any(ext in ce for ext in dscto):\n",
    "                    dscto_mes = [\"monthly\", \"mensual\"]\n",
    "                    dscto_sem = [\"weekly\", \"semanal\"]\n",
    "\n",
    "                    if any(ext in ce for ext in dscto_mes):\n",
    "\n",
    "                        si = bloque.find_element(By.XPATH, \".//span[@class='_1rc8xn5']\")\n",
    "                        si = si.text\n",
    "\n",
    "                        time.sleep(0.4)\n",
    "                        ### ya que tiene simbolo de $ S/. etc y negativos (-) etc, tneemos que hace run cleaning previo para eso p\n",
    "                        ### \n",
    "                        res=[j for i,j in enumerate(si) if j not in coma]\n",
    "                        price = \"\".join(res)\n",
    "                        price = int(price)\n",
    "\n",
    "                        dscto_mensual.append(price)\n",
    "\n",
    "                        time.sleep(0.5)\n",
    "\n",
    "                    elif any(ext in ce for ext in dscto_sem):\n",
    "\n",
    "                        si = bloque.find_element(By.XPATH, \".//span[@class='_1rc8xn5']\")\n",
    "                        si = si.text\n",
    "\n",
    "                        time.sleep(0.4)\n",
    "                        ### ya que tiene simbolo de $ S/. etc y negativos (-) etc, tneemos que hace run cleaning previo para eso p\n",
    "                        ### \n",
    "                        res=[j for i,j in enumerate(si) if j not in coma]\n",
    "                        price = \"\".join(res)\n",
    "                        price = int(price)\n",
    "\n",
    "                        dscto_semanal.append(price)\n",
    "\n",
    "                        time.sleep(0.5)\n",
    "\n",
    "                    else:\n",
    "                        pass\n",
    "\n",
    "                else:\n",
    "                    pass\n",
    "\n",
    "    except:\n",
    "        pass"
   ]
  },
  {
   "cell_type": "code",
   "execution_count": 118,
   "metadata": {},
   "outputs": [],
   "source": [
    "get_prices_dscts_abnb()"
   ]
  },
  {
   "cell_type": "code",
   "execution_count": 128,
   "metadata": {},
   "outputs": [
    {
     "data": {
      "text/plain": [
       "[4.66]"
      ]
     },
     "execution_count": 128,
     "metadata": {},
     "output_type": "execute_result"
    }
   ],
   "source": [
    "dscto_mensual\n",
    "dscto_semanal\n",
    "#tarifa_service\n",
    "#tarifa_cleaning\n",
    "\n",
    "#precio_noche_mes_week\n",
    "#precio_total\n",
    "#precio_original\n",
    "\n",
    "q_resenas\n",
    "puntaje_place"
   ]
  },
  {
   "cell_type": "code",
   "execution_count": null,
   "metadata": {},
   "outputs": [],
   "source": []
  },
  {
   "cell_type": "code",
   "execution_count": 76,
   "metadata": {},
   "outputs": [],
   "source": [
    "idiomas = []\n",
    "resposne_rate = []\n",
    "response_time = []\n",
    "\n",
    "def communication_anfit():\n",
    "    try:\n",
    "        ## Buscmas que idioma ladra roof, el indice de rpsta y el tiempo de rspsta\n",
    "        ## Como hay varios con esas 3 clases, entonce sbuscamos el bloque y leugo dentro del bloque buscamos las pre-clases \n",
    "        ## que serviran para hacer un match de subitulo con el contendio I.E: \"Tiempo de respuesta: en menos de una hora\".\n",
    "        ## con ese match hecho entonces buscamos la clase donde se encuentra el contenido par aextraerlo, solo si se encuentra ese match.\n",
    "\n",
    "        bloque = driver.find_element(By.XPATH, \"//div[@data-section-id='HOST_PROFILE_DEFAULT']\")\n",
    "        raa = bloque.find_elements(By.XPATH, \".//li[@class='f19phm7j dir dir-ltr']\")\n",
    "\n",
    "        lenguaje = [\"idiomas\",\"languages\"]\n",
    "        response_rate = [\"índice\", \"rate\"]\n",
    "        resp_time = [\"time\", \"tiempo\"]\n",
    "\n",
    "        time.sleep(1.3)\n",
    "\n",
    "        ## hacemos un match de cada \"raa\"\n",
    "        for r in raa:\n",
    "            re = (r.text).lower()    \n",
    "\n",
    "            if any(ext in re for ext in lenguaje):\n",
    "                ## caso exista el match entonces dentro de ese RAA que sería \"r\" se busca el contendio\n",
    "                languages = r.find_element(By.XPATH, \".//span[@class='ll4r2nl dir dir-ltr']\")\n",
    "                languages = languages.text\n",
    "                languages = languages.lower()\n",
    "                time.sleep(0.6)\n",
    "\n",
    "                coma = [\",\"]\n",
    "                ## Ya que algunos solo hablan un idioma tenemos que bsucar una forma de ahcer el append sin splitear:    \n",
    "                if any(ext in languages for ext in coma):\n",
    "                ##spliteamos los idiomas si se peude para tenerlo en una lista y simplificar el proceso de Data Explor o creacion d Algorit\n",
    "                    l = languages.split(\",\")\n",
    "                    idiomas.append(l)\n",
    "                    time.sleep(0.6)\n",
    "                else:\n",
    "                    idiomas.append(languages)\n",
    "                    time.sleep(0.6)\n",
    "\n",
    "            elif any(ext in re for ext in response_rate):\n",
    "                languages = r.find_element(By.XPATH, \".//span[@class='ll4r2nl dir dir-ltr']\")\n",
    "                languages = languages.text\n",
    "                languages = languages.lower()\n",
    "                resposne_rate.append(languages)\n",
    "                time.sleep(0.6)\n",
    "\n",
    "            elif any(ext in re for ext in resp_time):\n",
    "                languages = r.find_element(By.XPATH, \".//span[@class='ll4r2nl dir dir-ltr']\")\n",
    "                languages = languages.text\n",
    "                languages = languages.lower()\n",
    "                response_time.append(languages)\n",
    "                time.sleep(0.6)\n",
    "\n",
    "            else:\n",
    "                pass\n",
    "\n",
    "    except:\n",
    "        pass"
   ]
  },
  {
   "cell_type": "code",
   "execution_count": 91,
   "metadata": {},
   "outputs": [],
   "source": [
    "driver.switch_to.window(driver.window_handles[2])"
   ]
  },
  {
   "cell_type": "code",
   "execution_count": 92,
   "metadata": {},
   "outputs": [],
   "source": [
    "communication_anfit()"
   ]
  },
  {
   "cell_type": "code",
   "execution_count": 95,
   "metadata": {},
   "outputs": [
    {
     "data": {
      "text/plain": [
       "[['english', ' français', ' português', ' español'],\n",
       " ['中文 (简体)', ' english', ' français']]"
      ]
     },
     "execution_count": 95,
     "metadata": {},
     "output_type": "execute_result"
    }
   ],
   "source": [
    "idiomas\n",
    "#resposne_rate\n",
    "#response_time "
   ]
  },
  {
   "cell_type": "code",
   "execution_count": 77,
   "metadata": {},
   "outputs": [],
   "source": [
    "servicios_solos = []\n",
    "\n",
    "bano_servicios = []\n",
    "dormitorio_lavadero = []\n",
    "entretenimiento = []\n",
    "\n",
    "familia = []\n",
    "calefaccion_refrigeracion = []\n",
    "seguridad_hogar = []\n",
    "\n",
    "internet_oficina = []\n",
    "utensilios_vajilla = []\n",
    "estacionamiento_instalaciones = []\n",
    "\n",
    "ubicacion_servicios = []\n",
    "exterior_servicios = []\n",
    "servicios_servicios = []\n",
    "\n",
    "\n",
    "\n",
    "no_incluidos = []\n",
    "\n",
    "def get_servicios_abnb():\n",
    "    try:\n",
    "        ## Buscmas que idioma ladra roof, el indice de rpsta y el tiempo de rspsta\n",
    "        ## Como hay varios con esas 3 clases, entonce sbuscamos el bloque y leugo dentro del bloque buscamos las pre-clases \n",
    "        ## que serviran para hacer un match de subitulo con el contendio I.E: \"Tiempo de respuesta: en menos de una hora\".\n",
    "        ## con ese match hecho entonces buscamos la clase donde se encuentra el contenido par aextraerlo, solo si se encuentra ese match.\n",
    "\n",
    "        boton_services = driver.find_element(By.XPATH, \"//button[@class='l1j9v1wn b65jmrv v7aged4 dir dir-ltr'][1]\")\n",
    "        boton_services.click()\n",
    "\n",
    "        time.sleep(1.1)\n",
    "        #me posiciono en el pop up\n",
    "        bloque_pop = driver.find_element(By.XPATH, \"//div[@class='_1seuw5go']\")\n",
    "        ## COJO LOS H3 PARA PODER AHCE RUN BUCLE PA CADA UNO\n",
    "        ## cada h3 es un tipo_servicio que se brinda\n",
    "        ## y en cada tipo_servicio se da varios elementos IE cocina: Cocina, paltos, ollas, cubeirtos, extractor\n",
    "        los_h3 = bloque_pop.find_elements(By.XPATH, \".//h3\")\n",
    "\n",
    "        ## Ahora necesitamos de donde sacar los servicios que incluye cada tipo:\n",
    "        division = bloque_pop.find_elements(By.XPATH, \".//div[@class='_11jhslp']\")\n",
    "\n",
    "        time.sleep(0.6)\n",
    "\n",
    "        ### las listas par ahacer los matches:\n",
    "        bano_servicios_matc = [\"baño\", \"bathroom\"]\n",
    "        dormitorio_lavadero_matc = [\"dormitorio\", \"bedroom\"]\n",
    "        entretenimiento_matc = [\"entretenimiento\",\"entertainment\"]\n",
    "\n",
    "        familia_matc = [\"familia\",\"family\"]\n",
    "        calefaccion_refrigeracion_matc = [\"calefacción\",\"heating\"]\n",
    "        seguridad_hogar_matc = [\"seguridad\", \"safety\"]\n",
    "\n",
    "        internet_oficina_matc = [\"internet\"]\n",
    "        utensilios_vajilla_matc = [\"kitchen\",\"vajilla\"]\n",
    "        estacionamiento_instalaciones_matc = [\"estacionamiento\",\"parking\"]\n",
    "\n",
    "        ubicacion_servicios_matc = [\"ubicación\",\"location\"]\n",
    "        exterior_servicios_matc = [\"exterior\",\"outdoor\"]\n",
    "        servicios_servicios_matc = [\"servicios\",\"services\"]\n",
    "\n",
    "        no_incluidos_matc = [\"incluido\",\"included\"]\n",
    "\n",
    "        time.sleep(0.3)\n",
    "        ### las listas par ahacer los matches DONE\n",
    "\n",
    "\n",
    "        ## hacemos un for con los h3 y la division para hacer el match y segun eso sacar los servicios\n",
    "        for h3_, divi in zip(los_h3,division):\n",
    "\n",
    "            ## para hacer el match scamaos el texto\n",
    "            h3_tipo_servicio = h3_.text.lower()\n",
    "\n",
    "            ## dentro de la division buscamos los elementos (servicioss)\n",
    "            servicio = divi.find_elements(By.XPATH, \".//div[@class='_gfomxi']\")\n",
    "\n",
    "            time.sleep(0.6)\n",
    "\n",
    "    ## hacemos un match -----------------------------------------------------------------------------------------------\n",
    "            if any(ext in h3_tipo_servicio for ext in bano_servicios_matc):\n",
    "                ## caso exista el match entonces sacamos LOS TEXTOS de servicio y lo mandamos a la lista\n",
    "                for servi in servicio:\n",
    "                    texto = servi.text.lower()           \n",
    "                    bano_servicios.append(texto)\n",
    "                    time.sleep(0.6)\n",
    "\n",
    "            elif any(ext in h3_tipo_servicio for ext in dormitorio_lavadero_matc):\n",
    "\n",
    "                for servi in servicio:\n",
    "                    texto = servi.text.lower()           \n",
    "                    dormitorio_lavadero.append(texto)\n",
    "                    time.sleep(0.6)\n",
    "    # --------------------------------------------------------------------------------------------\n",
    "            elif any(ext in h3_tipo_servicio for ext in entretenimiento_matc):\n",
    "\n",
    "                for servi in servicio:\n",
    "                    texto = servi.text.lower()           \n",
    "                    entretenimiento.append(texto)     \n",
    "                    time.sleep(0.6)\n",
    "\n",
    "            elif any(ext in h3_tipo_servicio for ext in familia_matc):\n",
    "\n",
    "                for servi in servicio:\n",
    "                    texto = servi.text.lower()           \n",
    "                    familia.append(texto)\n",
    "                    time.sleep(0.6)\n",
    "\n",
    "            elif any(ext in h3_tipo_servicio for ext in calefaccion_refrigeracion_matc):\n",
    "\n",
    "                for servi in servicio:\n",
    "                    texto = servi.text.lower()           \n",
    "                    calefaccion_refrigeracion.append(texto)\n",
    "                    time.sleep(0.6)\n",
    "     # --------------------------------------------------------------------------------------------           \n",
    "            elif any(ext in h3_tipo_servicio for ext in seguridad_hogar_matc):\n",
    "\n",
    "                for servi in servicio:\n",
    "                    texto = servi.text.lower()           \n",
    "                    seguridad_hogar.append(texto)\n",
    "                    time.sleep(0.6)\n",
    "\n",
    "            elif any(ext in h3_tipo_servicio for ext in internet_oficina_matc):\n",
    "\n",
    "                for servi in servicio:\n",
    "                    texto = servi.text.lower()           \n",
    "                    internet_oficina.append(texto)\n",
    "                    time.sleep(0.6)\n",
    "\n",
    "            elif any(ext in h3_tipo_servicio for ext in utensilios_vajilla_matc):\n",
    "\n",
    "                for servi in servicio:\n",
    "                    texto = servi.text.lower()           \n",
    "                    utensilios_vajilla.append(texto)\n",
    "                    time.sleep(0.6)\n",
    "     # --------------------------------------------------------------------------------------------           \n",
    "    ## \n",
    "            elif any(ext in h3_tipo_servicio for ext in estacionamiento_instalaciones_matc):\n",
    "\n",
    "                for servi in servicio:\n",
    "                    texto = servi.text.lower()           \n",
    "                    estacionamiento_instalaciones.append(texto)\n",
    "                    time.sleep(0.6)\n",
    "\n",
    "            elif any(ext in h3_tipo_servicio for ext in ubicacion_servicios_matc):\n",
    "\n",
    "                for servi in servicio:\n",
    "                    texto = servi.text.lower()           \n",
    "                    ubicacion_servicios.append(texto)\n",
    "                    time.sleep(0.6)\n",
    "\n",
    "            elif any(ext in h3_tipo_servicio for ext in exterior_servicios_matc):\n",
    "\n",
    "                for servi in servicio:\n",
    "                    texto = servi.text.lower()           \n",
    "                    exterior_servicios.append(texto)\n",
    "                    time.sleep(0.6)\n",
    "\n",
    "            elif any(ext in h3_tipo_servicio for ext in servicios_servicios_matc):\n",
    "\n",
    "                for servi in servicio:\n",
    "                    texto = servi.text.lower()           \n",
    "                    servicios_servicios.append(texto)\n",
    "                    time.sleep(0.6)\n",
    "\n",
    "            elif any(ext in h3_tipo_servicio for ext in no_incluidos_matc):\n",
    "\n",
    "                for servi in servicio:\n",
    "                    texto = servi.text.lower()           \n",
    "                    no_incluidos.append(texto)\n",
    "                    time.sleep(0.6)        \n",
    "\n",
    "            else:\n",
    "                pass\n",
    "            \n",
    "        bloq_cerrar = driver.find_element(By.XPATH, \"//div[@class='_11f1y59w']\")\n",
    "        boton_close = bloq_cerrar.find_element(By.XPATH, \".//span[@class='i1h5tsj6 dir dir-ltr']\")\n",
    "        time.sleep(0.6)\n",
    "        boton_close.click()\n",
    "\n",
    "    except:\n",
    "\n",
    "        bloque_servicios = driver.find_element(By.XPATH, \"//div[@class='_1byskwn']\")\n",
    "        raa = bloque_servicios.find_elements(By.XPATH, \".//div[@class='iikjzje i10xc1ab dir dir-ltr']\")\n",
    "\n",
    "        time.sleep(0.6)\n",
    "\n",
    "        for x in raa:\n",
    "            texto = x.text\n",
    "            texto = texto.lower()     \n",
    "            servicios_solos.append(texto)\n",
    "\n",
    "            time.sleep(0.8)        \n"
   ]
  },
  {
   "cell_type": "code",
   "execution_count": 160,
   "metadata": {},
   "outputs": [],
   "source": [
    "get_servicios_abnb()"
   ]
  },
  {
   "cell_type": "code",
   "execution_count": 163,
   "metadata": {},
   "outputs": [
    {
     "data": {
      "text/plain": [
       "['secadora de pelo', 'agua caliente']"
      ]
     },
     "execution_count": 163,
     "metadata": {},
     "output_type": "execute_result"
    }
   ],
   "source": [
    "servicios_solos \n",
    "\n",
    "bano_servicios \n",
    "#dormitorio_lavadero \n",
    "#entretenimiento \n",
    "#familia \n",
    "#calefaccion_refrigeracion\n",
    "#seguridad_hogar\n",
    "\n",
    "#internet_oficina \n",
    "#utensilios_vajilla \n",
    "#estacionamiento_instalaciones\n",
    "\n",
    "#ubicacion_servicios \n",
    "#exterior_servicios \n",
    "#servicios_servicios\n",
    "\n",
    "#no_incluidos"
   ]
  },
  {
   "cell_type": "code",
   "execution_count": 78,
   "metadata": {},
   "outputs": [],
   "source": [
    "reglas_casa = []\n",
    "seguridad_y_propiedad = []\n",
    "politica_cancelacion = []\n",
    "\n",
    "def politicas_abnb():\n",
    "    try:\n",
    "        ## Buscmas que es el huevas si es anfition, identidad verificada o si es promotor de abnb\n",
    "        ## La vaina es que hay varios con esa clase (gracias airbnb programmers hsdlagranputa) y pueden ir de 0 a 4 webds con la misma clase\n",
    "        ## entre ellos anfitrion, promotor, id_verificad, reseñas y quizá por ahi haya todavia alguna webda mas, ya se jode quien se lo chante\n",
    "        ## entonces iniciamos un bucle para hacer un match entre los textos extraidos de cada \"elemento\" (solo sirven ENG y ESP)\n",
    "        bloque_grande = driver.find_element(By.XPATH, \"//div[@data-section-id='POLICIES_DEFAULT']\")\n",
    "        buttons = bloque_grande.find_elements(By.XPATH, \".//span[@class='cn5lml1 dir dir-ltr']\")\n",
    "        time.sleep(0.3)\n",
    "\n",
    "\n",
    "        buton_reglas = buttons[0]\n",
    "        buton_seguridad = buttons[1]\n",
    "        buton_politc = buttons[2]\n",
    "        time.sleep(0.3)\n",
    "\n",
    "                         ##--------------------------------------------------------------------------------\n",
    "\n",
    "        ##primer boton\n",
    "        buton_reglas.click()\n",
    "\n",
    "        time.sleep(1)\n",
    "\n",
    "        ## Para el priemr popup\n",
    "        bloque = driver.find_element(By.XPATH, \"//div[@class='_17itzz4']\")\n",
    "        bloque_peque = bloque.find_elements(By.XPATH, \".//div[@class='ce5nonf dir dir-ltr']\")\n",
    "\n",
    "        for elemento in bloque_peque:\n",
    "            texto = elemento.text.lower()\n",
    "            reglas_casa.append(texto) \n",
    "\n",
    "        salir = driver.find_element(By.XPATH, \"//div[@class='_pa35zs']\")\n",
    "        salir.click()\n",
    "        time.sleep(0.6)\n",
    "\n",
    "                 ##--------------------------------------------------------------------------------\n",
    "\n",
    "        ## sgundo boton\n",
    "\n",
    "        buton_seguridad.click()\n",
    "\n",
    "        time.sleep(1)\n",
    "\n",
    "        ## Para el segundo  popup\n",
    "        bloque = driver.find_element(By.XPATH, \"//div[@class='_17itzz4']\")\n",
    "        bloque_peque = bloque.find_elements(By.XPATH, \".//div[@class='ce5nonf dir dir-ltr']\")\n",
    "\n",
    "        for elemento in bloque_peque:\n",
    "            texto = elemento.text.lower()\n",
    "            seguridad_y_propiedad.append(texto)\n",
    "\n",
    "        salir = driver.find_element(By.XPATH, \"//div[@class='_pa35zs']\")\n",
    "        salir.click()\n",
    "        time.sleep(0.6)\n",
    "\n",
    "\n",
    "                ##--------------------------------------------------------------------------------\n",
    "\n",
    "        ## tercer boton\n",
    "        buton_politc.click()\n",
    "\n",
    "        time.sleep(1.5)\n",
    "\n",
    "        ## Para el tercer popup\n",
    "\n",
    "        bloque_peque = driver.find_elements(By.XPATH, \"//div[@class='_dj903s']\")\n",
    "\n",
    "\n",
    "        for elemento in bloque_peque:\n",
    "\n",
    "            texto = elemento.text.lower()\n",
    "\n",
    "            politica_cancelacion.append(texto)\n",
    "            time.sleep(1)\n",
    "\n",
    "        salir = driver.find_element(By.XPATH, \"//div[@class='_pa35zs']\")\n",
    "        salir.click()\n",
    "        time.sleep(0.6)\n",
    "\n",
    "    except:\n",
    "        raa = driver.find_element(By.XPATH, \"//div[@class='c1e17v3g dir dir-ltr']\")\n",
    "        divs = raa.find_elements(By.XPATH, \".//div[@class='is50c2g dir dir-ltr']\")\n",
    "        time.sleep(0.3)\n",
    "\n",
    "        for div in divs:\n",
    "            texto = div.text.lower()\n",
    "            reglas_casa.append(texto)\n",
    "            time.sleep(0.7)\n",
    "\n",
    "            ## -----------------------------------------------------------------------------\n",
    "\n",
    "        raa_2 = driver.find_element(By.XPATH, \"//div[@class='c1e17v3g dir dir-ltr'][1]\")\n",
    "        divs_2 = raa_2.find_elements(By.XPATH, \".//div[@class='is50c2g dir dir-ltr']\")\n",
    "        time.sleep(0.3)\n",
    "\n",
    "        for div in divs_2:\n",
    "            texto = div.text.lower()\n",
    "            seguridad_y_propiedad.append(texto)\n",
    "            time.sleep(0.7)\n",
    "\n",
    "            ## -----------------------------------------------------------------------------\n",
    "\n",
    "        raa_3 = driver.find_element(By.XPATH, \"//div[@class='bs4u5d4 v6231dh dir dir-ltr'][3]\")\n",
    "        divs_3 = raa_3.find_elements(By.XPATH, \".//div[@class='h4lj7td dir dir-ltr']\")\n",
    "        time.sleep(0.3)\n",
    "\n",
    "        for div in divs_3:\n",
    "            texto = div.text.lower()\n",
    "            politica_cancelacion.append(texto)\n",
    "            time.sleep(0.7)"
   ]
  },
  {
   "cell_type": "code",
   "execution_count": 165,
   "metadata": {},
   "outputs": [],
   "source": [
    "politicas_abnb()"
   ]
  },
  {
   "cell_type": "code",
   "execution_count": 168,
   "metadata": {},
   "outputs": [
    {
     "data": {
      "text/plain": [
       "['dispositivos de seguridad\\nalarma de monóxido de carbono no informada\\nel anfitrión no indicó que la propiedad contara con alarma de monóxido de carbono. te sugerimos que lleves un detector portátil en el viaje.\\ndetector de humo no informado\\nel anfitrión no indicó que hubiera un detector de humo en la propiedad. te sugerimos que lleves un detector portátil en el viaje.',\n",
       " 'información de la propiedad\\nhay armas en la propiedad',\n",
       " 'el horario de check-in es de las 17:00 a las 22:00',\n",
       " 'la salida es antes de las 11:00',\n",
       " '2 huéspedes como máximo']"
      ]
     },
     "execution_count": 168,
     "metadata": {},
     "output_type": "execute_result"
    }
   ],
   "source": [
    "politica_cancelacion \n",
    "#reglas_casa\n",
    "seguridad_y_propiedad "
   ]
  },
  {
   "cell_type": "code",
   "execution_count": 169,
   "metadata": {},
   "outputs": [
    {
     "ename": "NameError",
     "evalue": "name 'titulo_abnb' is not defined",
     "output_type": "error",
     "traceback": [
      "\u001b[1;31m---------------------------------------------------------------------------\u001b[0m",
      "\u001b[1;31mNameError\u001b[0m                                 Traceback (most recent call last)",
      "\u001b[1;32m<ipython-input-169-799cbc618094>\u001b[0m in \u001b[0;36m<module>\u001b[1;34m\u001b[0m\n\u001b[0;32m     17\u001b[0m           'politica_cancelacion']\n\u001b[0;32m     18\u001b[0m \u001b[1;33m\u001b[0m\u001b[0m\n\u001b[1;32m---> 19\u001b[1;33m data =     [titulo_abnb,huespedes, banos , verificados ,habitacion , cama , limpieza_rate , \n\u001b[0m\u001b[0;32m     20\u001b[0m \u001b[0mcomunicacion_rate\u001b[0m \u001b[1;33m,\u001b[0m \u001b[0mllegada_rate\u001b[0m \u001b[1;33m,\u001b[0m \u001b[0mfiabilidad_rate\u001b[0m \u001b[1;33m,\u001b[0m \u001b[0mubicacion_rate\u001b[0m \u001b[1;33m,\u001b[0m \u001b[0mprecio_rate\u001b[0m \u001b[1;33m,\u001b[0m \u001b[0mreviews_lista\u001b[0m\u001b[1;33m,\u001b[0m\u001b[1;33m\u001b[0m\u001b[1;33m\u001b[0m\u001b[0m\n\u001b[0;32m     21\u001b[0m \u001b[0mque_suerte\u001b[0m \u001b[1;33m,\u001b[0m \u001b[0maircover\u001b[0m \u001b[1;33m,\u001b[0m \u001b[0midver\u001b[0m \u001b[1;33m,\u001b[0m \u001b[0msuperanfitrion\u001b[0m \u001b[1;33m,\u001b[0m \u001b[0mPromotor_abnb\u001b[0m \u001b[1;33m,\u001b[0m \u001b[0mname_anfitiron\u001b[0m \u001b[1;33m,\u001b[0m\u001b[1;33m\u001b[0m\u001b[1;33m\u001b[0m\u001b[0m\n",
      "\u001b[1;31mNameError\u001b[0m: name 'titulo_abnb' is not defined"
     ]
    }
   ],
   "source": [
    "\n",
    "import datetime\n",
    "\n",
    "today = datetime.date.today()\n",
    "\n",
    "## Guardamos en un DF, puedes crear uno antes con un HEADER como el declarado abajo.\n",
    "import csv     \n",
    "\n",
    "header = ['date','titulo', 'huespedes','banos','verificado','habitaciones','camas','limpieza_rate','comunicacion_rate',\n",
    "          'llegada_rate','fiabilidad_rate','ubicacion_rate','precio_rate','reviews_lista','que_suerte','aircover','idver',\n",
    "          'superanfitrion','Promotor_abnb','name_anfitiron','fecha_registro',\n",
    "          'zona_de_trabajo','acceso_sin_hr_restriccion','cancelacion_gratis','dscto_mensual',\n",
    "          'dscto_semanal','tarifa_service','tarifa_cleaning','precio_noche_mes_week','precio_total',\n",
    "          'precio_original','q_resenas','puntaje_place','idiomas','resposne_rate','response_time',\n",
    "          'servicios_solos','bano_servicios','dormitorio_lavadero','entretenimiento','familia',\"calefaccion_refrigeracion\"\n",
    "          'seguridad_hogar','internet_oficina','utensilios_vajilla','estacionamiento_instalaciones','ubicacion_servicios',\n",
    "          'exterior_servicios','servicios_servicios','no_incluidos','reglas_casa','seguridad_y_propiedad',\n",
    "          'politica_cancelacion']\n",
    "\n",
    "data =     [date, titulo_abnb,huespedes, banos , verificados ,habitacion , cama , limpieza_rate , \n",
    "comunicacion_rate , llegada_rate , fiabilidad_rate , ubicacion_rate , precio_rate , reviews_lista, \n",
    "que_suerte , aircover , idver , superanfitrion , Promotor_abnb , name_anfitiron , \n",
    "fecha_registro , zona_de_trabajo ,acceso_sin_hr_restriccion , cancelacion_gratis ,dscto_mensual ,\n",
    "dscto_semanal , tarifa_service ,tarifa_cleaning , precio_noche_mes_week , precio_total ,\n",
    "precio_original , q_resenas , puntaje_place , idiomas , resposne_rate , response_time ,            \n",
    "servicios_solos , bano_servicios , dormitorio_lavadero , entretenimiento , familia , calefaccion_refrigeracion ,\n",
    "seguridad_hogar , internet_oficina , utensilios_vajilla , estacionamiento_instalaciones , ubicacion_servicios ,\n",
    "exterior_servicios , servicios_servicios , no_incluidos , reglas_casa , seguridad_y_propiedad ,\n",
    "politica_cancelacion ]\n",
    "\n",
    "with open('abnb.csv', 'a+', newline='', encoding='UTF8') as f:\n",
    "    writer = csv.writer(f)\n",
    "    writer.writerow(data)\n"
   ]
  },
  {
   "cell_type": "code",
   "execution_count": 170,
   "metadata": {},
   "outputs": [],
   "source": [
    "import pandas as pd\n",
    "daf = pd.read_csv(\"abnb.csv\")"
   ]
  },
  {
   "cell_type": "markdown",
   "metadata": {},
   "source": [
    "# Creo que una vez creas la lista, si no hay records, aparece como NULL cuando haces el append al DF, haz la prueba con justo este de arriba"
   ]
  },
  {
   "cell_type": "code",
   "execution_count": 97,
   "metadata": {},
   "outputs": [
    {
     "data": {
      "text/html": [
       "<div>\n",
       "<style scoped>\n",
       "    .dataframe tbody tr th:only-of-type {\n",
       "        vertical-align: middle;\n",
       "    }\n",
       "\n",
       "    .dataframe tbody tr th {\n",
       "        vertical-align: top;\n",
       "    }\n",
       "\n",
       "    .dataframe thead th {\n",
       "        text-align: right;\n",
       "    }\n",
       "</style>\n",
       "<table border=\"1\" class=\"dataframe\">\n",
       "  <thead>\n",
       "    <tr style=\"text-align: right;\">\n",
       "      <th></th>\n",
       "      <th>['promotor de airbnb.org']</th>\n",
       "      <th>['superanfitrión']</th>\n",
       "      <th>['identidad verificada']</th>\n",
       "      <th>2023-02-25</th>\n",
       "    </tr>\n",
       "  </thead>\n",
       "  <tbody>\n",
       "    <tr>\n",
       "      <th>0</th>\n",
       "      <td>['promotor de airbnb.org']</td>\n",
       "      <td>['superanfitrión']</td>\n",
       "      <td>['identidad verificada']</td>\n",
       "      <td>2023-02-25</td>\n",
       "    </tr>\n",
       "    <tr>\n",
       "      <th>1</th>\n",
       "      <td>[]</td>\n",
       "      <td>[]</td>\n",
       "      <td>['identidad verificada']</td>\n",
       "      <td>2023-02-25</td>\n",
       "    </tr>\n",
       "  </tbody>\n",
       "</table>\n",
       "</div>"
      ],
      "text/plain": [
       "   ['promotor de airbnb.org']  ['superanfitrión']  ['identidad verificada']  \\\n",
       "0  ['promotor de airbnb.org']  ['superanfitrión']  ['identidad verificada']   \n",
       "1                          []                  []  ['identidad verificada']   \n",
       "\n",
       "   2023-02-25  \n",
       "0  2023-02-25  \n",
       "1  2023-02-25  "
      ]
     },
     "execution_count": 97,
     "metadata": {},
     "output_type": "execute_result"
    }
   ],
   "source": [
    "daf"
   ]
  },
  {
   "cell_type": "code",
   "execution_count": 68,
   "metadata": {},
   "outputs": [],
   "source": [
    "url2 = \"https://www.airbnb.com.pe/rooms/38619376?adults=1&check_in=2023-04-08&check_out=2023-05-12&federated_search_id=577580e6-f39e-41a2-843d-0bafb9d566c4&source_impression_id=p3_1677295501_IWlq95rF2GWC6%2FzP\""
   ]
  },
  {
   "cell_type": "code",
   "execution_count": 54,
   "metadata": {},
   "outputs": [],
   "source": []
  },
  {
   "cell_type": "code",
   "execution_count": 55,
   "metadata": {},
   "outputs": [
    {
     "data": {
      "text/plain": [
       "['3 mar.\\n17:00\\nreembolso parcial: recibirás el 50 % del monto de todas las noches. no se te reembolsará la tarifa por servicio.',\n",
       " '10 mar.\\n17:00\\n(check-in)\\nsin reembolso']"
      ]
     },
     "execution_count": 55,
     "metadata": {},
     "output_type": "execute_result"
    }
   ],
   "source": [
    "politica_cancelacion"
   ]
  },
  {
   "cell_type": "code",
   "execution_count": 56,
   "metadata": {},
   "outputs": [
    {
     "data": {
      "text/plain": [
       "['quién puede quedarse en el alojamiento\\n2 huéspedes como máximo\\nno se admiten mascotas',\n",
       " 'qué está permitido\\nel horario de check-in es de las 17:00 a las 22:00\\nla salida es antes de las 11:00\\nacceso sin restricción de horario con caja de seguridad con llaves\\nestá prohibido hacer fiestas o eventos\\nprohibido fumar']"
      ]
     },
     "execution_count": 56,
     "metadata": {},
     "output_type": "execute_result"
    }
   ],
   "source": [
    "reglas_casa"
   ]
  },
  {
   "cell_type": "code",
   "execution_count": 57,
   "metadata": {},
   "outputs": [
    {
     "data": {
      "text/plain": [
       "['dispositivos de seguridad\\nalarma de monóxido de carbono no informada\\nel anfitrión no indicó que la propiedad contara con alarma de monóxido de carbono. te sugerimos que lleves un detector portátil en el viaje.\\ndetector de humo no informado\\nel anfitrión no indicó que hubiera un detector de humo en la propiedad. te sugerimos que lleves un detector portátil en el viaje.',\n",
       " 'información de la propiedad\\nhay armas en la propiedad']"
      ]
     },
     "execution_count": 57,
     "metadata": {},
     "output_type": "execute_result"
    }
   ],
   "source": [
    "seguridad_y_propiedad"
   ]
  },
  {
   "cell_type": "code",
   "execution_count": 58,
   "metadata": {},
   "outputs": [],
   "source": [
    "driver.close()"
   ]
  },
  {
   "cell_type": "code",
   "execution_count": null,
   "metadata": {},
   "outputs": [],
   "source": []
  },
  {
   "cell_type": "code",
   "execution_count": 6,
   "metadata": {},
   "outputs": [],
   "source": [
    "header = ['date','titulo', 'huespedes','banos','verificado','habitaciones','camas','limpieza_rate','comunicacion_rate',\n",
    "          'llegada_rate','fiabilidad_rate','ubicacion_rate','precio_rate','reviews_lista','que_suerte','aircover','idver',\n",
    "          'superanfitrion','Promotor_abnb','name_anfitiron','fecha_registro',\n",
    "          'zona_de_trabajo','acceso_sin_hr_restriccion','cancelacion_gratis','dscto_mensual',\n",
    "          'dscto_semanal','tarifa_service','tarifa_cleaning','precio_noche_mes_week','precio_total',\n",
    "          'precio_original','q_resenas','puntaje_place','idiomas','resposne_rate','response_time',\n",
    "          'servicios_solos','bano_servicios','dormitorio_lavadero','entretenimiento','familia',\"calefaccion_refrigeracion\"\n",
    "          'seguridad_hogar','internet_oficina','utensilios_vajilla','estacionamiento_instalaciones','ubicacion_servicios',\n",
    "          'exterior_servicios','servicios_servicios','no_incluidos','reglas_casa','seguridad_y_propiedad',\n",
    "          'politica_cancelacion']\n",
    "\n",
    "data =     [\"titulo_abnb\",\"huespedes\", \"banos\" , \"verificados\" ,\"habitacion\" , \"cama\" , \"limpieza_rate\" , \n",
    "\"comunicacion_rate\" , \"llegada_rate\" , \"fiabilidad_rate\" , \"ubicacion_rate\" , \"precio_rate\" , \"reviews_lista\", \n",
    "\"que_suerte\" , \"aircover\" , \"idver\" , \"superanfitrion\" , \"Promotor_abnb\" , \"name_anfitiron\" , \n",
    "\"fecha_registro\" , \"zona_de_trabajo\" ,\"acceso_sin_hr_restriccion\" , \"cancelacion_gratis\" ,\"dscto_mensual\" ,\n",
    "\"dscto_semanal\" , \"tarifa_service\" ,\"tarifa_cleaning\" , \"precio_noche_mes_week\" , \"precio_total\" ,\n",
    "\"precio_original\" , \"q_resenas\" , \"puntaje_place\" , \"idiomas\" , \"resposne_rate\" , \"response_time\" ,            \n",
    "\"servicios_solos\" , \"bano_servicios\" , \"dormitorio_lavadero\" , \"entretenimiento\" , \"familia\" , \"calefaccion_refrigeracion\" ,\n",
    "\"seguridad_hogar\" , \"internet_oficina\" , \"utensilios_vajilla\" , \"estacionamiento_instalaciones\" , \"ubicacion_servicios\" ,\n",
    "\"exterior_servicios\" , \"servicios_servicios\" , \"no_incluidos\" , \"reglas_casa\" , \"seguridad_y_propiedad\" ,\n",
    "\"politica_cancelacion\" ]"
   ]
  },
  {
   "cell_type": "code",
   "execution_count": 7,
   "metadata": {},
   "outputs": [
    {
     "data": {
      "text/plain": [
       "52"
      ]
     },
     "execution_count": 7,
     "metadata": {},
     "output_type": "execute_result"
    }
   ],
   "source": [
    "len(header)"
   ]
  },
  {
   "cell_type": "code",
   "execution_count": 9,
   "metadata": {},
   "outputs": [
    {
     "data": {
      "text/plain": [
       "52"
      ]
     },
     "execution_count": 9,
     "metadata": {},
     "output_type": "execute_result"
    }
   ],
   "source": [
    "len(data)"
   ]
  },
  {
   "cell_type": "code",
   "execution_count": 34,
   "metadata": {},
   "outputs": [],
   "source": [
    "bloque_precio_completo = driver.find_elements(By.XPATH, \"//span[@class='_14y1gc']\")\n",
    "bloque_precio_completo = bloque_precio_completo[1].find_elements(By.XPATH, \".//span[@class='a8jt5op dir dir-ltr']\")"
   ]
  },
  {
   "cell_type": "code",
   "execution_count": 36,
   "metadata": {},
   "outputs": [],
   "source": [
    "z = bloque_precio_completo[0].text"
   ]
  },
  {
   "cell_type": "code",
   "execution_count": 43,
   "metadata": {},
   "outputs": [],
   "source": [
    "bloque_precio_completo = driver.find_elements(By.XPATH, \".//span[@class='_j1kt73']\")\n",
    "texto_p_c = bloque_precio_completo[1].text"
   ]
  },
  {
   "cell_type": "code",
   "execution_count": 44,
   "metadata": {},
   "outputs": [
    {
     "data": {
      "text/plain": [
       "'S/714'"
      ]
     },
     "execution_count": 44,
     "metadata": {},
     "output_type": "execute_result"
    }
   ],
   "source": [
    "bloque_precio_completo[1].text\n"
   ]
  },
  {
   "cell_type": "code",
   "execution_count": 31,
   "metadata": {},
   "outputs": [
    {
     "data": {
      "text/plain": [
       "'S/4,159'"
      ]
     },
     "execution_count": 31,
     "metadata": {},
     "output_type": "execute_result"
    }
   ],
   "source": [
    "bloque_precio_completo[1].text"
   ]
  },
  {
   "cell_type": "code",
   "execution_count": 38,
   "metadata": {},
   "outputs": [
    {
     "data": {
      "text/plain": [
       "['S/3,192', 'por', 'mes,', 'precio', 'original', 'S/4,560']"
      ]
     },
     "execution_count": 38,
     "metadata": {},
     "output_type": "execute_result"
    }
   ],
   "source": [
    "z.split()"
   ]
  },
  {
   "cell_type": "code",
   "execution_count": 53,
   "metadata": {},
   "outputs": [],
   "source": [
    "    bloque_precio_night = driver.find_element(By.XPATH, \"//span[@class='_1y9gwt75']\")\n",
    "    \n",
    "    puntaje = bloque_precio_night.find_element(By.XPATH, \".//span[@class='_12si43g']\")\n",
    "    putnaje_texto = puntaje.text\n",
    "    p_t = putnaje_texto.split()\n",
    "    p_t = float(p_t[0])\n",
    "    \n",
    "    q_de_resenas = bloque_precio_night.find_element(By.XPATH, \".//span[@class='_1jlwy4xq']\")\n",
    "    q_resenas_texto = q_de_resenas.text\n",
    "    q_r_t = q_resenas_texto.split()\n",
    "    q_r_t = int(q_r_t[0])"
   ]
  },
  {
   "cell_type": "code",
   "execution_count": 54,
   "metadata": {},
   "outputs": [
    {
     "data": {
      "text/plain": [
       "4.24"
      ]
     },
     "execution_count": 54,
     "metadata": {},
     "output_type": "execute_result"
    }
   ],
   "source": [
    "p_t"
   ]
  },
  {
   "cell_type": "code",
   "execution_count": 56,
   "metadata": {},
   "outputs": [],
   "source": [
    "bloques = driver.find_elements(By.XPATH, \"//div[@class='g1qv1ctd cb4nyux dir dir-ltr']\")"
   ]
  },
  {
   "cell_type": "code",
   "execution_count": 57,
   "metadata": {},
   "outputs": [
    {
     "data": {
      "text/plain": [
       "[]"
      ]
     },
     "execution_count": 57,
     "metadata": {},
     "output_type": "execute_result"
    }
   ],
   "source": [
    "bloques"
   ]
  },
  {
   "cell_type": "code",
   "execution_count": 3,
   "metadata": {},
   "outputs": [],
   "source": [
    "    bloques_title = driver.find_element(By.XPATH, \"//h2[@class='_14i3z6h']\")\n",
    "    texto = bloques_title.text.lower()"
   ]
  },
  {
   "cell_type": "code",
   "execution_count": 4,
   "metadata": {},
   "outputs": [
    {
     "data": {
      "text/plain": [
       "'habitación privada en vivienda rentada - anfitrión: gomes de oliveira'"
      ]
     },
     "execution_count": 4,
     "metadata": {},
     "output_type": "execute_result"
    }
   ],
   "source": [
    "texto"
   ]
  },
  {
   "cell_type": "code",
   "execution_count": 210,
   "metadata": {},
   "outputs": [],
   "source": [
    "bloque_basicos = driver.find_element(By.XPATH, \"//ol[@class='lgx66tx dir dir-ltr']\")\n",
    "bloque_basicos = bloque_basicos.find_elements(By.XPATH, \"//li[@class='l7n4lsf dir dir-ltr']\")"
   ]
  },
  {
   "cell_type": "code",
   "execution_count": 212,
   "metadata": {},
   "outputs": [
    {
     "data": {
      "text/plain": [
       "''"
      ]
     },
     "execution_count": 212,
     "metadata": {},
     "output_type": "execute_result"
    }
   ],
   "source": [
    "bloque_basicos[0].text"
   ]
  },
  {
   "cell_type": "code",
   "execution_count": null,
   "metadata": {},
   "outputs": [],
   "source": [
    "header = ['date','titulo', 'huespedes','banos','verificado','habitaciones','camas','limpieza_rate','comunicacion_rate',\n",
    "          'llegada_rate','fiabilidad_rate','ubicacion_rate','precio_rate','reviews_lista','que_suerte','aircover','idver',\n",
    "          'superanfitrion','Promotor_abnb','name_anfitiron','fecha_registro',\n",
    "          'zona_de_trabajo','acceso_sin_hr_restriccion','cancelacion_gratis','dscto_mensual',\n",
    "          'dscto_semanal','tarifa_service','tarifa_cleaning','precio_noche_mes_week','precio_total',\n",
    "          'precio_original','q_resenas','puntaje_place','idiomas','resposne_rate','response_time',\n",
    "          'servicios_solos','bano_servicios','dormitorio_lavadero','entretenimiento','familia',\"calefaccion_refrigeracion\"\n",
    "          'seguridad_hogar','internet_oficina','utensilios_vajilla','estacionamiento_instalaciones','ubicacion_servicios',\n",
    "          'exterior_servicios','servicios_servicios','no_incluidos','reglas_casa','seguridad_y_propiedad',\n",
    "          'politica_cancelacion']\n",
    "\n",
    "data =     [date, titulo_abnb,huespedes, banos , verificados ,habitacion , cama , limpieza_rate , \n",
    "comunicacion_rate , llegada_rate , fiabilidad_rate , ubicacion_rate , precio_rate , reviews_lista, \n",
    "que_suerte , aircover , idver , superanfitrion , Promotor_abnb , name_anfitiron , \n",
    "fecha_registro , zona_de_trabajo ,acceso_sin_hr_restriccion , cancelacion_gratis ,dscto_mensual ,\n",
    "dscto_semanal , tarifa_service ,tarifa_cleaning , precio_noche_mes_week , precio_total ,\n",
    "precio_original , q_resenas , puntaje_place , idiomas , resposne_rate , response_time ,            \n",
    "servicios_solos , bano_servicios , dormitorio_lavadero , entretenimiento , familia , calefaccion_refrigeracion ,\n",
    "seguridad_hogar , internet_oficina , utensilios_vajilla , estacionamiento_instalaciones , ubicacion_servicios ,\n",
    "exterior_servicios , servicios_servicios , no_incluidos , reglas_casa , seguridad_y_propiedad ,\n",
    "politica_cancelacion ]"
   ]
  },
  {
   "cell_type": "code",
   "execution_count": 70,
   "metadata": {},
   "outputs": [],
   "source": [
    "header = ['date','titulo', 'huespedes','banos','verificado','habitaciones','camas','limpieza_rate','comunicacion_rate',\n",
    "          'llegada_rate','fiabilidad_rate','ubicacion_rate','precio_rate','reviews_lista','que_suerte','aircover','idver',\n",
    "          'superanfitrion','Promotor_abnb','name_anfitiron','fecha_registro',\n",
    "          'zona_de_trabajo','acceso_sin_hr_restriccion','cancelacion_gratis','dscto_mensual',\n",
    "          'dscto_semanal','tarifa_service','tarifa_cleaning','precio_noche_mes_week','precio_total',\n",
    "          'precio_original','q_resenas','puntaje_place','idiomas','resposne_rate','response_time',\n",
    "          'servicios_solos','bano_servicios','dormitorio_lavadero','entretenimiento','familia',\"calefaccion_refrigeracion\",\n",
    "          'seguridad_hogar','internet_oficina','utensilios_vajilla','estacionamiento_instalaciones','ubicacion_servicios',\n",
    "          'exterior_servicios','servicios_servicios','no_incluidos','reglas_casa','seguridad_y_propiedad',\n",
    "          'politica_cancelacion']"
   ]
  },
  {
   "cell_type": "code",
   "execution_count": 71,
   "metadata": {},
   "outputs": [
    {
     "data": {
      "text/plain": [
       "52"
      ]
     },
     "execution_count": 71,
     "metadata": {},
     "output_type": "execute_result"
    }
   ],
   "source": [
    "len(header)"
   ]
  },
  {
   "cell_type": "code",
   "execution_count": 84,
   "metadata": {},
   "outputs": [],
   "source": [
    "driver.close()"
   ]
  },
  {
   "cell_type": "code",
   "execution_count": 72,
   "metadata": {},
   "outputs": [],
   "source": [
    "sa = [\"date\", \"titulo_abnb\",\"huespedes\", \"banos\" , \"verificados\" ,\"habitacion\" , \"cama\" , \"limpieza_rate\" , \n",
    "            \"comunicacion_rate\" , \n",
    "      \"llegada_rate\" , \"fiabilidad_rate\" , \"ubicacion_rate\" , \"precio_rate\" , \"reviews_lista\", \n",
    "            \"que_suerte\" , \"aircover\" , \"idver\" , \n",
    "      \"superanfitrion\" , \"Promotor_abnb\" , \"name_anfitiron\" ], \n",
    "            \"fecha_registro\" , \"zona_de_trabajo\" ,\"acceso_sin_hr_restriccion\" , \"cancelacion_gratis\" ,\"dscto_mensual\" ,\n",
    "            \"dscto_semanal\" , \"tarifa_service\" ,\"tarifa_cleaning\" , \"precio_noche_mes_week\" , \"precio_total\" ,\n",
    "            \"precio_original\" , \"q_resenas\" , \"puntaje_place\" , \"idiomas\" , \"resposne_rate\" , \"response_time\" ,            \n",
    "            \"servicios_solos\" , \"bano_servicios\" , \"dormitorio_lavadero\" , \"entretenimiento\" , \"familia\" , \"calefaccion_refrigeracion\" ,\n",
    "            \"seguridad_hogar\" , \"internet_oficina\" , \"utensilios_vajilla\" , \"estacionamiento_instalaciones\" , \"ubicacion_servicios\" ,\n",
    "            \"exterior_servicios\" , \"servicios_servicios\" , \"no_incluidos\" , \"reglas_casa\" , \"seguridad_y_propiedad\" ,\n",
    "            \"politica_cancelacion\" ]"
   ]
  },
  {
   "cell_type": "code",
   "execution_count": 90,
   "metadata": {},
   "outputs": [
    {
     "data": {
      "text/plain": [
       "19"
      ]
     },
     "execution_count": 90,
     "metadata": {},
     "output_type": "execute_result"
    }
   ],
   "source": [
    "sa = [\"resposne_rate\" , \"response_time\" ,            \n",
    "            \"servicios_solos\" , \"bano_servicios\" ,\n",
    "      \"dormitorio_lavadero\" , \"entretenimiento\" , \n",
    "      \"familia\" , \"calefaccion_refrigeracion\" ,\n",
    "            \"seguridad_hogar\" , \"internet_oficina\" ,\n",
    "      \"utensilios_vajilla\" , \"estacionamiento_instalaciones\" ,\n",
    "      \"ubicacion_servicios\" ,    \"exterior_servicios\" ,\n",
    "      \"servicios_servicios\" , \"no_incluidos\" , \n",
    "      \"reglas_casa\" , \"seguridad_y_propiedad\" ,\n",
    "            \"politica_cancelacion\" ]\n",
    "len(sa)"
   ]
  },
  {
   "cell_type": "code",
   "execution_count": 92,
   "metadata": {},
   "outputs": [
    {
     "data": {
      "text/plain": [
       "19"
      ]
     },
     "execution_count": 92,
     "metadata": {},
     "output_type": "execute_result"
    }
   ],
   "source": [
    "header = ['resposne_rate','response_time',\n",
    "          'servicios_solos','bano_servicios',\n",
    "          'dormitorio_lavadero','entretenimiento',\n",
    "          'familia','calefaccion_refrigeracion',\n",
    "          'seguridad_hogar','internet_oficina',\n",
    "          'utensilios_vajilla','estacionamiento_instalaciones',\n",
    "          'ubicacion_servicios',    'exterior_servicios',\n",
    "          'servicios_servicios','no_incluidos',\n",
    "          'reglas_casa','seguridad_y_propiedad',\n",
    "          'politica_cancelacion']\n",
    "len(header)"
   ]
  },
  {
   "cell_type": "code",
   "execution_count": null,
   "metadata": {},
   "outputs": [],
   "source": []
  }
 ],
 "metadata": {
  "kernelspec": {
   "display_name": "Python 3",
   "language": "python",
   "name": "python3"
  },
  "language_info": {
   "codemirror_mode": {
    "name": "ipython",
    "version": 3
   },
   "file_extension": ".py",
   "mimetype": "text/x-python",
   "name": "python",
   "nbconvert_exporter": "python",
   "pygments_lexer": "ipython3",
   "version": "3.8.3"
  }
 },
 "nbformat": 4,
 "nbformat_minor": 4
}
